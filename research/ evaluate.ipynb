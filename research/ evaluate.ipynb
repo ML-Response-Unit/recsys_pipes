{
 "cells": [
  {
   "cell_type": "code",
   "execution_count": 1,
   "metadata": {},
   "outputs": [],
   "source": [
    "import sys\n",
    "# sys.path.append('../utils/item_based.py')\n",
    "sys.path.append('../utils/')\n",
    "# from ... import utils\n",
    "# import utils\n",
    "from item_based import get_item_based_reccomendation\n",
    "import pandas as pd\n",
    "import numpy as np\n",
    "import sklearn"
   ]
  },
  {
   "cell_type": "code",
   "execution_count": 2,
   "metadata": {},
   "outputs": [],
   "source": [
    "preds = np.load('../data/catboost_preds.npy')"
   ]
  },
  {
   "cell_type": "code",
   "execution_count": 3,
   "metadata": {},
   "outputs": [],
   "source": [
    "labels = np.zeros(preds.shape)    "
   ]
  },
  {
   "cell_type": "code",
   "execution_count": 4,
   "metadata": {},
   "outputs": [],
   "source": [
    "actions = pd.read_csv(\"../data/said_to_actions_processed.csv\")"
   ]
  },
  {
   "cell_type": "code",
   "execution_count": 5,
   "metadata": {},
   "outputs": [],
   "source": [
    "from sklearn.metrics import top_k_accuracy_score\n",
    "labels_all = []\n",
    "preds_all = []\n",
    "for user_id in actions.user_id.unique():\n",
    "\n",
    "    user_actions = actions.loc[np.where((actions['interaction'] != 0.0) & (actions['user_id'] == user_id))]\n",
    "    cars = user_actions.car_id.values\n",
    "    labels = np.zeros(preds[user_id].shape)\n",
    "    for p in range(len(preds[user_id])):\n",
    "        proba = preds[user_id][p]\n",
    "        # if p in cars:\n",
    "        #     labels[p] =0\n",
    "        # elif preds[user_id][p] > 0.5:\n",
    "        labels[p] = preds[user_id][p]\n",
    "            \n",
    "    # labels_top = pd.DataFrame(labels, columns=['probs']).sort_values(by='probs', ascending=False).index[:5].values\n",
    "    preds_item = get_item_based_reccomendation(user_actions, datasets_path = '../data', test=True)[1:]\n",
    "    labels_all.append(labels)\n",
    "    preds_all.append(preds_item )"
   ]
  },
  {
   "cell_type": "code",
   "execution_count": 6,
   "metadata": {},
   "outputs": [
    {
     "data": {
      "text/plain": [
       "0.7970275287476786"
      ]
     },
     "execution_count": 6,
     "metadata": {},
     "output_type": "execute_result"
    }
   ],
   "source": [
    "from sklearn.metrics._ranking import ndcg_score\n",
    "from sklearn.metrics._classification import f1_score\n",
    "ndcg_score(labels_all, preds_all)"
   ]
  },
  {
   "cell_type": "code",
   "execution_count": 7,
   "metadata": {},
   "outputs": [],
   "source": [
    "from collaborative import collaborative_reccomendation"
   ]
  },
  {
   "cell_type": "code",
   "execution_count": 10,
   "metadata": {},
   "outputs": [],
   "source": [
    "labels_all = []\n",
    "preds_all = []\n",
    "for user_id in actions.user_id.unique():\n",
    "    if user_id > 50:\n",
    "        break   \n",
    "    user_actions = actions.loc[np.where((actions['interaction'] != 0.0) & (actions['user_id'] == user_id))]\n",
    "    cars = user_actions.car_id.values\n",
    "    labels = np.zeros(preds[user_id].shape)\n",
    "    for p in range(len(preds[user_id])):\n",
    "        proba = preds[user_id][p]\n",
    "        # if p in cars:     \n",
    "        #     labels[p] =0\n",
    "        # elif preds[user_id][p] > 0.5:\n",
    "        labels[p] = preds[user_id][p]\n",
    "            \n",
    "    # labels_top = pd.DataFrame(labels, columns=['probs']).sort_values(by='probs', ascending=False).index[:5].values\n",
    "    preds_item = collaborative_reccomendation([user_actions], top_k=0)\n",
    "    labels_all.append(labels)\n",
    "    preds_all.append(preds_item)"
   ]
  },
  {
   "cell_type": "code",
   "execution_count": null,
   "metadata": {},
   "outputs": [],
   "source": [
    "from sklearn.metrics._ranking import ndcg_score\n",
    "from sklearn.metrics._classification import f1_score\n",
    "ndcg_score(labels_all, preds_all)"
   ]
  },
  {
   "cell_type": "code",
   "execution_count": null,
   "metadata": {},
   "outputs": [],
   "source": []
  }
 ],
 "metadata": {
  "kernelspec": {
   "display_name": "rec",
   "language": "python",
   "name": "python3"
  },
  "language_info": {
   "codemirror_mode": {
    "name": "ipython",
    "version": 3
   },
   "file_extension": ".py",
   "mimetype": "text/x-python",
   "name": "python",
   "nbconvert_exporter": "python",
   "pygments_lexer": "ipython3",
   "version": "3.11.2"
  },
  "orig_nbformat": 4
 },
 "nbformat": 4,
 "nbformat_minor": 2
}
