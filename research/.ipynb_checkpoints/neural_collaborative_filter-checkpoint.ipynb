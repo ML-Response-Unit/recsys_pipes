{
  "cells": [
    {
      "cell_type": "code",
      "execution_count": 26,
      "metadata": {
        "id": "H3Jb4yyHP6vY"
      },
      "outputs": [],
      "source": [
        "# hide\n",
        "import datetime\n",
        "import os\n",
        "\n",
        "import lightfm\n",
        "import numpy as np\n",
        "import pandas as pd\n",
        "import tensorflow as tf\n",
        "from lightfm import LightFM\n",
        "from lightfm.datasets import fetch_movielens\n",
        "from scipy import sparse\n",
        "from sklearn.model_selection import train_test_split"
      ]
    },
    {
      "cell_type": "code",
      "execution_count": 50,
      "metadata": {
        "colab": {
          "base_uri": "https://localhost:8080/"
        },
        "id": "pnNgAmisP6vZ",
        "outputId": "216bbac2-b224-4937-b0dd-e28a66d69531"
      },
      "outputs": [
        {
          "name": "stdout",
          "output_type": "stream",
          "text": [
            "Tensorflow version: 2.12.0\n",
            "LightFM version: 1.17\n",
            "Pandas version: 1.5.3\n",
            "Numpy version: 1.22.4\n"
          ]
        }
      ],
      "source": [
        "# hide\n",
        "print(f\"Tensorflow version: {tf.__version__}\")\n",
        "print(f\"LightFM version: {lightfm.__version__}\")\n",
        "print(f\"Pandas version: {pd.__version__}\")\n",
        "print(f\"Numpy version: {np.__version__}\")"
      ]
    },
    {
      "cell_type": "code",
      "execution_count": 51,
      "metadata": {
        "id": "ISPrsdiIP6vZ"
      },
      "outputs": [],
      "source": [
        "# hide\n",
        "TOP_K = 5\n",
        "N_EPOCHS = 10"
      ]
    },
    {
      "cell_type": "code",
      "execution_count": 52,
      "metadata": {
        "id": "4SKYfpfNP6va"
      },
      "outputs": [],
      "source": [
        "from typing import List\n",
        "\n",
        "\n",
        "def wide_to_long(wide: np.array, possible_ratings: List[int]) -> np.array:\n",
        "    \"\"\"Go from wide table to long.\n",
        "    :param wide: wide array with user-item interactions\n",
        "    :param possible_ratings: list of possible ratings that we may have.\"\"\"\n",
        "\n",
        "    def _get_ratings(arr: np.array, rating: int) -> np.array:\n",
        "        \"\"\"Generate long array for the rating provided\n",
        "        :param arr: wide array with user-item interactions\n",
        "        :param rating: the rating that we are interested\"\"\"\n",
        "        idx = np.where(arr == rating)\n",
        "        return np.vstack(\n",
        "            (idx[0], idx[1], np.ones(idx[0].size, dtype=\"int8\") * rating)\n",
        "        ).T\n",
        "\n",
        "    long_arrays = []\n",
        "    for r in possible_ratings:\n",
        "        long_arrays.append(_get_ratings(wide, r))\n",
        "\n",
        "    return np.vstack(long_arrays)"
      ]
    },
    {
      "cell_type": "code",
      "execution_count": 58,
      "metadata": {
        "id": "YWZbhiX5XEgc"
      },
      "outputs": [],
      "source": [
        "dataset = pd.read_csv('dataset.csv')\n",
        "X, y = dataset.drop(columns=[\"interaction\"]), dataset.interaction\n",
        "X_train, X_test, y_train, y_test = train_test_split(X, y, \n",
        "                                                    test_size=0.33, \n",
        "                                                    random_state=42\n",
        "                                                    )\n",
        "df_train = X_train.join(y_train).astype(int)\n",
        "df_test = X_test.join(y_test).astype(int)"
      ]
    },
    {
      "cell_type": "code",
      "execution_count": 19,
      "metadata": {
        "id": "QK6sihqNXtAj"
      },
      "outputs": [],
      "source": [
        "from sklearn.model_selection import train_test_split"
      ]
    },
    {
      "cell_type": "code",
      "execution_count": 59,
      "metadata": {
        "colab": {
          "base_uri": "https://localhost:8080/"
        },
        "id": "YVOw_1dTTZ3v",
        "outputId": "a9c55652-60db-49f8-b121-88d0e4ae7011"
      },
      "outputs": [
        {
          "data": {
            "text/plain": [
              "109"
            ]
          },
          "execution_count": 59,
          "metadata": {},
          "output_type": "execute_result"
        }
      ],
      "source": [
        "len(df_train.item_id.unique())"
      ]
    },
    {
      "cell_type": "code",
      "execution_count": 60,
      "metadata": {
        "colab": {
          "base_uri": "https://localhost:8080/",
          "height": 224
        },
        "id": "aHjqmTsGP6vb",
        "outputId": "50944c82-74fc-4b24-82c2-3765bd40d924"
      },
      "outputs": [
        {
          "name": "stdout",
          "output_type": "stream",
          "text": [
            "Only positive interactions:\n"
          ]
        },
        {
          "data": {
            "text/html": [
              "\n",
              "  <div id=\"df-f93e0b19-c286-449e-8203-c9cc57900425\">\n",
              "    <div class=\"colab-df-container\">\n",
              "      <div>\n",
              "<style scoped>\n",
              "    .dataframe tbody tr th:only-of-type {\n",
              "        vertical-align: middle;\n",
              "    }\n",
              "\n",
              "    .dataframe tbody tr th {\n",
              "        vertical-align: top;\n",
              "    }\n",
              "\n",
              "    .dataframe thead th {\n",
              "        text-align: right;\n",
              "    }\n",
              "</style>\n",
              "<table border=\"1\" class=\"dataframe\">\n",
              "  <thead>\n",
              "    <tr style=\"text-align: right;\">\n",
              "      <th></th>\n",
              "      <th>user_id</th>\n",
              "      <th>item_id</th>\n",
              "      <th>interaction</th>\n",
              "    </tr>\n",
              "  </thead>\n",
              "  <tbody>\n",
              "    <tr>\n",
              "      <th>613</th>\n",
              "      <td>13</td>\n",
              "      <td>9</td>\n",
              "      <td>1</td>\n",
              "    </tr>\n",
              "    <tr>\n",
              "      <th>6255</th>\n",
              "      <td>30</td>\n",
              "      <td>318</td>\n",
              "      <td>1</td>\n",
              "    </tr>\n",
              "    <tr>\n",
              "      <th>8127</th>\n",
              "      <td>27</td>\n",
              "      <td>402</td>\n",
              "      <td>1</td>\n",
              "    </tr>\n",
              "    <tr>\n",
              "      <th>3027</th>\n",
              "      <td>27</td>\n",
              "      <td>99</td>\n",
              "      <td>1</td>\n",
              "    </tr>\n",
              "    <tr>\n",
              "      <th>2653</th>\n",
              "      <td>28</td>\n",
              "      <td>85</td>\n",
              "      <td>1</td>\n",
              "    </tr>\n",
              "  </tbody>\n",
              "</table>\n",
              "</div>\n",
              "      <button class=\"colab-df-convert\" onclick=\"convertToInteractive('df-f93e0b19-c286-449e-8203-c9cc57900425')\"\n",
              "              title=\"Convert this dataframe to an interactive table.\"\n",
              "              style=\"display:none;\">\n",
              "        \n",
              "  <svg xmlns=\"http://www.w3.org/2000/svg\" height=\"24px\"viewBox=\"0 0 24 24\"\n",
              "       width=\"24px\">\n",
              "    <path d=\"M0 0h24v24H0V0z\" fill=\"none\"/>\n",
              "    <path d=\"M18.56 5.44l.94 2.06.94-2.06 2.06-.94-2.06-.94-.94-2.06-.94 2.06-2.06.94zm-11 1L8.5 8.5l.94-2.06 2.06-.94-2.06-.94L8.5 2.5l-.94 2.06-2.06.94zm10 10l.94 2.06.94-2.06 2.06-.94-2.06-.94-.94-2.06-.94 2.06-2.06.94z\"/><path d=\"M17.41 7.96l-1.37-1.37c-.4-.4-.92-.59-1.43-.59-.52 0-1.04.2-1.43.59L10.3 9.45l-7.72 7.72c-.78.78-.78 2.05 0 2.83L4 21.41c.39.39.9.59 1.41.59.51 0 1.02-.2 1.41-.59l7.78-7.78 2.81-2.81c.8-.78.8-2.07 0-2.86zM5.41 20L4 18.59l7.72-7.72 1.47 1.35L5.41 20z\"/>\n",
              "  </svg>\n",
              "      </button>\n",
              "      \n",
              "  <style>\n",
              "    .colab-df-container {\n",
              "      display:flex;\n",
              "      flex-wrap:wrap;\n",
              "      gap: 12px;\n",
              "    }\n",
              "\n",
              "    .colab-df-convert {\n",
              "      background-color: #E8F0FE;\n",
              "      border: none;\n",
              "      border-radius: 50%;\n",
              "      cursor: pointer;\n",
              "      display: none;\n",
              "      fill: #1967D2;\n",
              "      height: 32px;\n",
              "      padding: 0 0 0 0;\n",
              "      width: 32px;\n",
              "    }\n",
              "\n",
              "    .colab-df-convert:hover {\n",
              "      background-color: #E2EBFA;\n",
              "      box-shadow: 0px 1px 2px rgba(60, 64, 67, 0.3), 0px 1px 3px 1px rgba(60, 64, 67, 0.15);\n",
              "      fill: #174EA6;\n",
              "    }\n",
              "\n",
              "    [theme=dark] .colab-df-convert {\n",
              "      background-color: #3B4455;\n",
              "      fill: #D2E3FC;\n",
              "    }\n",
              "\n",
              "    [theme=dark] .colab-df-convert:hover {\n",
              "      background-color: #434B5C;\n",
              "      box-shadow: 0px 1px 3px 1px rgba(0, 0, 0, 0.15);\n",
              "      filter: drop-shadow(0px 1px 2px rgba(0, 0, 0, 0.3));\n",
              "      fill: #FFFFFF;\n",
              "    }\n",
              "  </style>\n",
              "\n",
              "      <script>\n",
              "        const buttonEl =\n",
              "          document.querySelector('#df-f93e0b19-c286-449e-8203-c9cc57900425 button.colab-df-convert');\n",
              "        buttonEl.style.display =\n",
              "          google.colab.kernel.accessAllowed ? 'block' : 'none';\n",
              "\n",
              "        async function convertToInteractive(key) {\n",
              "          const element = document.querySelector('#df-f93e0b19-c286-449e-8203-c9cc57900425');\n",
              "          const dataTable =\n",
              "            await google.colab.kernel.invokeFunction('convertToInteractive',\n",
              "                                                     [key], {});\n",
              "          if (!dataTable) return;\n",
              "\n",
              "          const docLinkHtml = 'Like what you see? Visit the ' +\n",
              "            '<a target=\"_blank\" href=https://colab.research.google.com/notebooks/data_table.ipynb>data table notebook</a>'\n",
              "            + ' to learn more about interactive tables.';\n",
              "          element.innerHTML = '';\n",
              "          dataTable['output_type'] = 'display_data';\n",
              "          await google.colab.output.renderOutput(dataTable, element);\n",
              "          const docLink = document.createElement('div');\n",
              "          docLink.innerHTML = docLinkHtml;\n",
              "          element.appendChild(docLink);\n",
              "        }\n",
              "      </script>\n",
              "    </div>\n",
              "  </div>\n",
              "  "
            ],
            "text/plain": [
              "      user_id  item_id  interaction\n",
              "613        13        9            1\n",
              "6255       30      318            1\n",
              "8127       27      402            1\n",
              "3027       27       99            1\n",
              "2653       28       85            1"
            ]
          },
          "execution_count": 60,
          "metadata": {},
          "output_type": "execute_result"
        }
      ],
      "source": [
        "# hide_input\n",
        "print(\"Only positive interactions:\")\n",
        "df_train[df_train[\"interaction\"] > 0].head()"
      ]
    },
    {
      "cell_type": "markdown",
      "metadata": {
        "id": "KCS59m8dP6vb"
      },
      "source": [
        "# The model (Neural Collaborative Filtering)\n",
        "\n",
        "<center><img src=\"https://raw.githubusercontent.com/murilo-cunha/inteligencia-superficial/master/images/2020-09-11-neural_collaborative_filter/ncf_all_with_alpha.png\" width=\"70%\" url=\"https://developers.google.com/machine-learning/recommendation/collaborative/basics\" description=\"Fonte: https://developers.google.com/machine-learning/recommendation/collaborative/basics\" /> </center>"
      ]
    },
    {
      "cell_type": "code",
      "execution_count": 61,
      "metadata": {
        "id": "hFiUND_JP6vc"
      },
      "outputs": [],
      "source": [
        "import tensorflow.keras as keras\n",
        "from tensorflow.keras.layers import (\n",
        "    Concatenate,\n",
        "    Dense,\n",
        "    Embedding,\n",
        "    Flatten,\n",
        "    Input,\n",
        "    Multiply,\n",
        ")\n",
        "from tensorflow.keras.models import Model\n",
        "from tensorflow.keras.regularizers import l2\n",
        "\n",
        "\n",
        "def create_ncf(\n",
        "    number_of_users: int,\n",
        "    number_of_items: int,\n",
        "    latent_dim_mf: int = 4,\n",
        "    latent_dim_mlp: int = 32,\n",
        "    reg_mf: int = 0,\n",
        "    reg_mlp: int = 0.01,\n",
        "    dense_layers: List[int] = [8, 4],\n",
        "    reg_layers: List[int] = [0.01, 0.01],\n",
        "    activation_dense: str = \"relu\",\n",
        ") -> keras.Model:\n",
        "\n",
        "    # input layer\n",
        "    user = Input(shape=(), dtype=\"int32\", name=\"user_id\")\n",
        "    item = Input(shape=(), dtype=\"int32\", name=\"item_id\")\n",
        "\n",
        "    # embedding layers\n",
        "    mf_user_embedding = Embedding(\n",
        "        input_dim=number_of_users,\n",
        "        output_dim=latent_dim_mf,\n",
        "        name=\"mf_user_embedding\",\n",
        "        embeddings_initializer=\"RandomNormal\",\n",
        "        embeddings_regularizer=l2(reg_mf),\n",
        "        input_length=1,\n",
        "    )\n",
        "    mf_item_embedding = Embedding(\n",
        "        input_dim=number_of_items,\n",
        "        output_dim=latent_dim_mf,\n",
        "        name=\"mf_item_embedding\",\n",
        "        embeddings_initializer=\"RandomNormal\",\n",
        "        embeddings_regularizer=l2(reg_mf),\n",
        "        input_length=1,\n",
        "    )\n",
        "\n",
        "    mlp_user_embedding = Embedding(\n",
        "        input_dim=number_of_users,\n",
        "        output_dim=latent_dim_mlp,\n",
        "        name=\"mlp_user_embedding\",\n",
        "        embeddings_initializer=\"RandomNormal\",\n",
        "        embeddings_regularizer=l2(reg_mlp),\n",
        "        input_length=1,\n",
        "    )\n",
        "    mlp_item_embedding = Embedding(\n",
        "        input_dim=number_of_items,\n",
        "        output_dim=latent_dim_mlp,\n",
        "        name=\"mlp_item_embedding\",\n",
        "        embeddings_initializer=\"RandomNormal\",\n",
        "        embeddings_regularizer=l2(reg_mlp),\n",
        "        input_length=1,\n",
        "    )\n",
        "\n",
        "    # MF vector\n",
        "    mf_user_latent = Flatten()(mf_user_embedding(user))\n",
        "    mf_item_latent = Flatten()(mf_item_embedding(item))\n",
        "    mf_cat_latent = Multiply()([mf_user_latent, mf_item_latent])\n",
        "\n",
        "    # MLP vector\n",
        "    mlp_user_latent = Flatten()(mlp_user_embedding(user))\n",
        "    mlp_item_latent = Flatten()(mlp_item_embedding(item))\n",
        "    mlp_cat_latent = Concatenate()([mlp_user_latent, mlp_item_latent])\n",
        "\n",
        "    mlp_vector = mlp_cat_latent\n",
        "\n",
        "    # build dense layers for model\n",
        "    for i in range(len(dense_layers)):\n",
        "        layer = Dense(\n",
        "            dense_layers[i],\n",
        "            activity_regularizer=l2(reg_layers[i]),\n",
        "            activation=activation_dense,\n",
        "            name=\"layer%d\" % i,\n",
        "        )\n",
        "        mlp_vector = layer(mlp_vector)\n",
        "\n",
        "    predict_layer = Concatenate()([mf_cat_latent, mlp_vector])\n",
        "\n",
        "    result = Dense(\n",
        "        1, activation=\"sigmoid\", kernel_initializer=\"lecun_uniform\", name=\"interaction\"\n",
        "    )\n",
        "\n",
        "    output = result(predict_layer)\n",
        "\n",
        "    model = Model(\n",
        "        inputs=[user, item],\n",
        "        outputs=[output],\n",
        "    )\n",
        "\n",
        "    return model"
      ]
    },
    {
      "cell_type": "code",
      "execution_count": 62,
      "metadata": {
        "colab": {
          "base_uri": "https://localhost:8080/"
        },
        "id": "D4LL9mn_P6vc",
        "outputId": "462f7b66-69dd-4489-bb51-c0dd6f57491b"
      },
      "outputs": [
        {
          "name": "stdout",
          "output_type": "stream",
          "text": [
            "Model: \"neural_collaborative_filtering\"\n",
            "__________________________________________________________________________________________________\n",
            " Layer (type)                   Output Shape         Param #     Connected to                     \n",
            "==================================================================================================\n",
            " user_id (InputLayer)           [(None,)]            0           []                               \n",
            "                                                                                                  \n",
            " item_id (InputLayer)           [(None,)]            0           []                               \n",
            "                                                                                                  \n",
            " mlp_user_embedding (Embedding)  (None, 32)          30176       ['user_id[0][0]']                \n",
            "                                                                                                  \n",
            " mlp_item_embedding (Embedding)  (None, 32)          53824       ['item_id[0][0]']                \n",
            "                                                                                                  \n",
            " flatten_6 (Flatten)            (None, 32)           0           ['mlp_user_embedding[0][0]']     \n",
            "                                                                                                  \n",
            " flatten_7 (Flatten)            (None, 32)           0           ['mlp_item_embedding[0][0]']     \n",
            "                                                                                                  \n",
            " mf_user_embedding (Embedding)  (None, 4)            3772        ['user_id[0][0]']                \n",
            "                                                                                                  \n",
            " mf_item_embedding (Embedding)  (None, 4)            6728        ['item_id[0][0]']                \n",
            "                                                                                                  \n",
            " concatenate_2 (Concatenate)    (None, 64)           0           ['flatten_6[0][0]',              \n",
            "                                                                  'flatten_7[0][0]']              \n",
            "                                                                                                  \n",
            " flatten_4 (Flatten)            (None, 4)            0           ['mf_user_embedding[0][0]']      \n",
            "                                                                                                  \n",
            " flatten_5 (Flatten)            (None, 4)            0           ['mf_item_embedding[0][0]']      \n",
            "                                                                                                  \n",
            " layer0 (Dense)                 (None, 8)            520         ['concatenate_2[0][0]']          \n",
            "                                                                                                  \n",
            " multiply_1 (Multiply)          (None, 4)            0           ['flatten_4[0][0]',              \n",
            "                                                                  'flatten_5[0][0]']              \n",
            "                                                                                                  \n",
            " layer1 (Dense)                 (None, 4)            36          ['layer0[0][0]']                 \n",
            "                                                                                                  \n",
            " concatenate_3 (Concatenate)    (None, 8)            0           ['multiply_1[0][0]',             \n",
            "                                                                  'layer1[0][0]']                 \n",
            "                                                                                                  \n",
            " interaction (Dense)            (None, 1)            9           ['concatenate_3[0][0]']          \n",
            "                                                                                                  \n",
            "==================================================================================================\n",
            "Total params: 95,065\n",
            "Trainable params: 95,065\n",
            "Non-trainable params: 0\n",
            "__________________________________________________________________________________________________\n"
          ]
        }
      ],
      "source": [
        "# collapse\n",
        "from tensorflow.keras.optimizers import Adam\n",
        "\n",
        "n_users, n_items = data[\"train\"].shape\n",
        "ncf_model = create_ncf(n_users, n_items)\n",
        "\n",
        "ncf_model.compile(\n",
        "    optimizer=Adam(),\n",
        "    loss=\"binary_crossentropy\",\n",
        "    metrics=[\n",
        "        tf.keras.metrics.TruePositives(name=\"tp\"),\n",
        "        tf.keras.metrics.FalsePositives(name=\"fp\"),\n",
        "        tf.keras.metrics.TrueNegatives(name=\"tn\"),\n",
        "        tf.keras.metrics.FalseNegatives(name=\"fn\"),\n",
        "        tf.keras.metrics.BinaryAccuracy(name=\"accuracy\"),\n",
        "        tf.keras.metrics.Precision(name=\"precision\"),\n",
        "        tf.keras.metrics.Recall(name=\"recall\"),\n",
        "        tf.keras.metrics.AUC(name=\"auc\"),\n",
        "    ],\n",
        ")\n",
        "ncf_model._name = \"neural_collaborative_filtering\"\n",
        "ncf_model.summary()"
      ]
    },
    {
      "cell_type": "code",
      "execution_count": 63,
      "metadata": {
        "id": "NjtNBQLYP6vd"
      },
      "outputs": [],
      "source": [
        "def make_tf_dataset(\n",
        "    df: pd.DataFrame,\n",
        "    targets: List[str],\n",
        "    val_split: float = 0.1,\n",
        "    batch_size: int = 512,\n",
        "    seed=42,\n",
        "):\n",
        "    \"\"\"Make TensorFlow dataset from Pandas DataFrame.\n",
        "    :param df: input DataFrame - only contains features and target(s)\n",
        "    :param targets: list of columns names corresponding to targets\n",
        "    :param val_split: fraction of the data that should be used for validation\n",
        "    :param batch_size: batch size for training\n",
        "    :param seed: random seed for shuffling data - `None` won't shuffle the data\"\"\"\n",
        "\n",
        "    n_val = round(df.shape[0] * val_split)\n",
        "    if seed:\n",
        "        # shuffle all the rows\n",
        "        x = df.sample(frac=1, random_state=seed).to_dict(\"series\")\n",
        "    else:\n",
        "        x = df.to_dict(\"series\")\n",
        "    y = dict()\n",
        "    for t in targets:\n",
        "        y[t] = x.pop(t)\n",
        "    ds = tf.data.Dataset.from_tensor_slices((x, y))\n",
        "\n",
        "    ds_val = ds.take(n_val).batch(batch_size)\n",
        "    ds_train = ds.skip(n_val).batch(batch_size)\n",
        "    return ds_train, ds_val"
      ]
    },
    {
      "cell_type": "code",
      "execution_count": 64,
      "metadata": {
        "id": "Y1327xoJP6vd"
      },
      "outputs": [],
      "source": [
        "# create train and validation datasets\n",
        "ds_train, ds_val = make_tf_dataset(df_train, [\"interaction\"])"
      ]
    },
    {
      "cell_type": "code",
      "execution_count": 65,
      "metadata": {
        "colab": {
          "base_uri": "https://localhost:8080/"
        },
        "id": "kURIR7DfP6vd",
        "outputId": "42b3a8c5-dd73-43a9-c767-d29f1372fd06"
      },
      "outputs": [
        {
          "name": "stdout",
          "output_type": "stream",
          "text": [
            "Epoch 1/10\n",
            "10/10 [==============================] - 3s 90ms/step - loss: 2.5220 - tp: 74.0000 - fp: 677.0000 - tn: 3890.0000 - fn: 288.0000 - accuracy: 0.8042 - precision: 0.0985 - recall: 0.2044 - auc: 0.5160 - val_loss: 2.1980 - val_tp: 0.0000e+00 - val_fp: 1.0000 - val_tn: 506.0000 - val_fn: 41.0000 - val_accuracy: 0.9234 - val_precision: 0.0000e+00 - val_recall: 0.0000e+00 - val_auc: 0.5430\n",
            "Epoch 2/10\n",
            "10/10 [==============================] - 0s 26ms/step - loss: 1.9943 - tp: 0.0000e+00 - fp: 5.0000 - tn: 4562.0000 - fn: 362.0000 - accuracy: 0.9255 - precision: 0.0000e+00 - recall: 0.0000e+00 - auc: 0.5245 - val_loss: 1.7525 - val_tp: 0.0000e+00 - val_fp: 0.0000e+00 - val_tn: 507.0000 - val_fn: 41.0000 - val_accuracy: 0.9252 - val_precision: 0.0000e+00 - val_recall: 0.0000e+00 - val_auc: 0.5837\n",
            "Epoch 3/10\n",
            "10/10 [==============================] - 0s 23ms/step - loss: 1.6028 - tp: 0.0000e+00 - fp: 0.0000e+00 - tn: 4567.0000 - fn: 362.0000 - accuracy: 0.9266 - precision: 0.0000e+00 - recall: 0.0000e+00 - auc: 0.5516 - val_loss: 1.4256 - val_tp: 0.0000e+00 - val_fp: 0.0000e+00 - val_tn: 507.0000 - val_fn: 41.0000 - val_accuracy: 0.9252 - val_precision: 0.0000e+00 - val_recall: 0.0000e+00 - val_auc: 0.5852\n",
            "Epoch 4/10\n",
            "10/10 [==============================] - 0s 25ms/step - loss: 1.3162 - tp: 0.0000e+00 - fp: 0.0000e+00 - tn: 4567.0000 - fn: 362.0000 - accuracy: 0.9266 - precision: 0.0000e+00 - recall: 0.0000e+00 - auc: 0.5786 - val_loss: 1.1872 - val_tp: 0.0000e+00 - val_fp: 0.0000e+00 - val_tn: 507.0000 - val_fn: 41.0000 - val_accuracy: 0.9252 - val_precision: 0.0000e+00 - val_recall: 0.0000e+00 - val_auc: 0.6147\n",
            "Epoch 5/10\n",
            "10/10 [==============================] - 0s 21ms/step - loss: 1.1065 - tp: 0.0000e+00 - fp: 0.0000e+00 - tn: 4567.0000 - fn: 362.0000 - accuracy: 0.9266 - precision: 0.0000e+00 - recall: 0.0000e+00 - auc: 0.6264 - val_loss: 1.0119 - val_tp: 0.0000e+00 - val_fp: 0.0000e+00 - val_tn: 507.0000 - val_fn: 41.0000 - val_accuracy: 0.9252 - val_precision: 0.0000e+00 - val_recall: 0.0000e+00 - val_auc: 0.6384\n",
            "Epoch 6/10\n",
            "10/10 [==============================] - 0s 23ms/step - loss: 0.9513 - tp: 0.0000e+00 - fp: 0.0000e+00 - tn: 4567.0000 - fn: 362.0000 - accuracy: 0.9266 - precision: 0.0000e+00 - recall: 0.0000e+00 - auc: 0.6647 - val_loss: 0.8809 - val_tp: 0.0000e+00 - val_fp: 0.0000e+00 - val_tn: 507.0000 - val_fn: 41.0000 - val_accuracy: 0.9252 - val_precision: 0.0000e+00 - val_recall: 0.0000e+00 - val_auc: 0.6601\n",
            "Epoch 7/10\n",
            "10/10 [==============================] - 0s 21ms/step - loss: 0.8339 - tp: 0.0000e+00 - fp: 0.0000e+00 - tn: 4567.0000 - fn: 362.0000 - accuracy: 0.9266 - precision: 0.0000e+00 - recall: 0.0000e+00 - auc: 0.7025 - val_loss: 0.7800 - val_tp: 0.0000e+00 - val_fp: 0.0000e+00 - val_tn: 507.0000 - val_fn: 41.0000 - val_accuracy: 0.9252 - val_precision: 0.0000e+00 - val_recall: 0.0000e+00 - val_auc: 0.7017\n",
            "Epoch 8/10\n",
            "10/10 [==============================] - 0s 40ms/step - loss: 0.7421 - tp: 0.0000e+00 - fp: 0.0000e+00 - tn: 4567.0000 - fn: 362.0000 - accuracy: 0.9266 - precision: 0.0000e+00 - recall: 0.0000e+00 - auc: 0.7353 - val_loss: 0.6998 - val_tp: 0.0000e+00 - val_fp: 0.0000e+00 - val_tn: 507.0000 - val_fn: 41.0000 - val_accuracy: 0.9252 - val_precision: 0.0000e+00 - val_recall: 0.0000e+00 - val_auc: 0.7338\n",
            "Epoch 9/10\n",
            "10/10 [==============================] - 0s 50ms/step - loss: 0.6681 - tp: 0.0000e+00 - fp: 0.0000e+00 - tn: 4567.0000 - fn: 362.0000 - accuracy: 0.9266 - precision: 0.0000e+00 - recall: 0.0000e+00 - auc: 0.7622 - val_loss: 0.6342 - val_tp: 0.0000e+00 - val_fp: 0.0000e+00 - val_tn: 507.0000 - val_fn: 41.0000 - val_accuracy: 0.9252 - val_precision: 0.0000e+00 - val_recall: 0.0000e+00 - val_auc: 0.7528\n",
            "Epoch 10/10\n",
            "10/10 [==============================] - 1s 63ms/step - loss: 0.6069 - tp: 0.0000e+00 - fp: 0.0000e+00 - tn: 4567.0000 - fn: 362.0000 - accuracy: 0.9266 - precision: 0.0000e+00 - recall: 0.0000e+00 - auc: 0.7842 - val_loss: 0.5796 - val_tp: 0.0000e+00 - val_fp: 0.0000e+00 - val_tn: 507.0000 - val_fn: 41.0000 - val_accuracy: 0.9252 - val_precision: 0.0000e+00 - val_recall: 0.0000e+00 - val_auc: 0.7649\n",
            "CPU times: user 5.51 s, sys: 103 ms, total: 5.61 s\n",
            "Wall time: 6.96 s\n"
          ]
        }
      ],
      "source": [
        "%%time\n",
        "# define logs and callbacks\n",
        "logdir = os.path.join(\"logs\", datetime.datetime.now().strftime(\"%Y%m%d-%H%M%S\"))\n",
        "tensorboard_callback = tf.keras.callbacks.TensorBoard(logdir, histogram_freq=1)\n",
        "early_stopping_callback = tf.keras.callbacks.EarlyStopping(\n",
        "    monitor=\"val_loss\", patience=0\n",
        ")\n",
        "\n",
        "train_hist = ncf_model.fit(\n",
        "    ds_train,\n",
        "    validation_data=ds_val,\n",
        "    epochs=N_EPOCHS,\n",
        "    callbacks=[tensorboard_callback, early_stopping_callback],\n",
        "    verbose=1,\n",
        ")"
      ]
    },
    {
      "cell_type": "code",
      "execution_count": 67,
      "metadata": {
        "id": "2J0GE-nyP6vd"
      },
      "outputs": [],
      "source": [
        "# long_test = wide_to_long(data[\"train\"], unique_ratings)\n",
        "# df_test = pd.DataFrame(long_test, columns=[\"user_id\", \"item_id\", \"interaction\"])\n",
        "ds_test, _ = make_tf_dataset(df_test, [\"interaction\"], val_split=0, seed=None)"
      ]
    },
    {
      "cell_type": "code",
      "execution_count": 68,
      "metadata": {
        "colab": {
          "base_uri": "https://localhost:8080/"
        },
        "id": "hT9c5IcBP6vd",
        "outputId": "c959f2ed-1dd5-4441-a824-469362b1149b"
      },
      "outputs": [
        {
          "name": "stdout",
          "output_type": "stream",
          "text": [
            "6/6 [==============================] - 0s 4ms/step\n",
            "CPU times: user 53.3 ms, sys: 4.04 ms, total: 57.4 ms\n",
            "Wall time: 57.7 ms\n"
          ]
        }
      ],
      "source": [
        "%%time\n",
        "ncf_predictions = ncf_model.predict(ds_test)\n",
        "df_test[\"ncf_predictions\"] = ncf_predictions"
      ]
    },
    {
      "cell_type": "code",
      "execution_count": 69,
      "metadata": {
        "colab": {
          "base_uri": "https://localhost:8080/",
          "height": 206
        },
        "id": "gdB5xciHP6ve",
        "outputId": "88b7c492-a06b-4066-b995-ec69d2aea07f"
      },
      "outputs": [
        {
          "data": {
            "text/html": [
              "\n",
              "  <div id=\"df-039f1bc6-ec8e-4401-8309-b36d105c2c4a\">\n",
              "    <div class=\"colab-df-container\">\n",
              "      <div>\n",
              "<style scoped>\n",
              "    .dataframe tbody tr th:only-of-type {\n",
              "        vertical-align: middle;\n",
              "    }\n",
              "\n",
              "    .dataframe tbody tr th {\n",
              "        vertical-align: top;\n",
              "    }\n",
              "\n",
              "    .dataframe thead th {\n",
              "        text-align: right;\n",
              "    }\n",
              "</style>\n",
              "<table border=\"1\" class=\"dataframe\">\n",
              "  <thead>\n",
              "    <tr style=\"text-align: right;\">\n",
              "      <th></th>\n",
              "      <th>user_id</th>\n",
              "      <th>item_id</th>\n",
              "      <th>interaction</th>\n",
              "      <th>ncf_predictions</th>\n",
              "    </tr>\n",
              "  </thead>\n",
              "  <tbody>\n",
              "    <tr>\n",
              "      <th>4332</th>\n",
              "      <td>57</td>\n",
              "      <td>202</td>\n",
              "      <td>0</td>\n",
              "      <td>0.326148</td>\n",
              "    </tr>\n",
              "    <tr>\n",
              "      <th>5696</th>\n",
              "      <td>71</td>\n",
              "      <td>284</td>\n",
              "      <td>0</td>\n",
              "      <td>0.323948</td>\n",
              "    </tr>\n",
              "    <tr>\n",
              "      <th>3611</th>\n",
              "      <td>11</td>\n",
              "      <td>143</td>\n",
              "      <td>0</td>\n",
              "      <td>0.316193</td>\n",
              "    </tr>\n",
              "    <tr>\n",
              "      <th>6868</th>\n",
              "      <td>43</td>\n",
              "      <td>347</td>\n",
              "      <td>0</td>\n",
              "      <td>0.339022</td>\n",
              "    </tr>\n",
              "    <tr>\n",
              "      <th>5165</th>\n",
              "      <td>65</td>\n",
              "      <td>255</td>\n",
              "      <td>0</td>\n",
              "      <td>0.335409</td>\n",
              "    </tr>\n",
              "  </tbody>\n",
              "</table>\n",
              "</div>\n",
              "      <button class=\"colab-df-convert\" onclick=\"convertToInteractive('df-039f1bc6-ec8e-4401-8309-b36d105c2c4a')\"\n",
              "              title=\"Convert this dataframe to an interactive table.\"\n",
              "              style=\"display:none;\">\n",
              "        \n",
              "  <svg xmlns=\"http://www.w3.org/2000/svg\" height=\"24px\"viewBox=\"0 0 24 24\"\n",
              "       width=\"24px\">\n",
              "    <path d=\"M0 0h24v24H0V0z\" fill=\"none\"/>\n",
              "    <path d=\"M18.56 5.44l.94 2.06.94-2.06 2.06-.94-2.06-.94-.94-2.06-.94 2.06-2.06.94zm-11 1L8.5 8.5l.94-2.06 2.06-.94-2.06-.94L8.5 2.5l-.94 2.06-2.06.94zm10 10l.94 2.06.94-2.06 2.06-.94-2.06-.94-.94-2.06-.94 2.06-2.06.94z\"/><path d=\"M17.41 7.96l-1.37-1.37c-.4-.4-.92-.59-1.43-.59-.52 0-1.04.2-1.43.59L10.3 9.45l-7.72 7.72c-.78.78-.78 2.05 0 2.83L4 21.41c.39.39.9.59 1.41.59.51 0 1.02-.2 1.41-.59l7.78-7.78 2.81-2.81c.8-.78.8-2.07 0-2.86zM5.41 20L4 18.59l7.72-7.72 1.47 1.35L5.41 20z\"/>\n",
              "  </svg>\n",
              "      </button>\n",
              "      \n",
              "  <style>\n",
              "    .colab-df-container {\n",
              "      display:flex;\n",
              "      flex-wrap:wrap;\n",
              "      gap: 12px;\n",
              "    }\n",
              "\n",
              "    .colab-df-convert {\n",
              "      background-color: #E8F0FE;\n",
              "      border: none;\n",
              "      border-radius: 50%;\n",
              "      cursor: pointer;\n",
              "      display: none;\n",
              "      fill: #1967D2;\n",
              "      height: 32px;\n",
              "      padding: 0 0 0 0;\n",
              "      width: 32px;\n",
              "    }\n",
              "\n",
              "    .colab-df-convert:hover {\n",
              "      background-color: #E2EBFA;\n",
              "      box-shadow: 0px 1px 2px rgba(60, 64, 67, 0.3), 0px 1px 3px 1px rgba(60, 64, 67, 0.15);\n",
              "      fill: #174EA6;\n",
              "    }\n",
              "\n",
              "    [theme=dark] .colab-df-convert {\n",
              "      background-color: #3B4455;\n",
              "      fill: #D2E3FC;\n",
              "    }\n",
              "\n",
              "    [theme=dark] .colab-df-convert:hover {\n",
              "      background-color: #434B5C;\n",
              "      box-shadow: 0px 1px 3px 1px rgba(0, 0, 0, 0.15);\n",
              "      filter: drop-shadow(0px 1px 2px rgba(0, 0, 0, 0.3));\n",
              "      fill: #FFFFFF;\n",
              "    }\n",
              "  </style>\n",
              "\n",
              "      <script>\n",
              "        const buttonEl =\n",
              "          document.querySelector('#df-039f1bc6-ec8e-4401-8309-b36d105c2c4a button.colab-df-convert');\n",
              "        buttonEl.style.display =\n",
              "          google.colab.kernel.accessAllowed ? 'block' : 'none';\n",
              "\n",
              "        async function convertToInteractive(key) {\n",
              "          const element = document.querySelector('#df-039f1bc6-ec8e-4401-8309-b36d105c2c4a');\n",
              "          const dataTable =\n",
              "            await google.colab.kernel.invokeFunction('convertToInteractive',\n",
              "                                                     [key], {});\n",
              "          if (!dataTable) return;\n",
              "\n",
              "          const docLinkHtml = 'Like what you see? Visit the ' +\n",
              "            '<a target=\"_blank\" href=https://colab.research.google.com/notebooks/data_table.ipynb>data table notebook</a>'\n",
              "            + ' to learn more about interactive tables.';\n",
              "          element.innerHTML = '';\n",
              "          dataTable['output_type'] = 'display_data';\n",
              "          await google.colab.output.renderOutput(dataTable, element);\n",
              "          const docLink = document.createElement('div');\n",
              "          docLink.innerHTML = docLinkHtml;\n",
              "          element.appendChild(docLink);\n",
              "        }\n",
              "      </script>\n",
              "    </div>\n",
              "  </div>\n",
              "  "
            ],
            "text/plain": [
              "      user_id  item_id  interaction  ncf_predictions\n",
              "4332       57      202            0         0.326148\n",
              "5696       71      284            0         0.323948\n",
              "3611       11      143            0         0.316193\n",
              "6868       43      347            0         0.339022\n",
              "5165       65      255            0         0.335409"
            ]
          },
          "execution_count": 69,
          "metadata": {},
          "output_type": "execute_result"
        }
      ],
      "source": [
        "# hide_input\n",
        "df_test.head()"
      ]
    },
    {
      "cell_type": "code",
      "execution_count": 70,
      "metadata": {
        "id": "7IJiPhrqP6ve"
      },
      "outputs": [],
      "source": [
        "# hide\n",
        "# sanity checks\n",
        "# stop execution if low standard deviation (all recommendations are the same)\n",
        "std = df_test.describe().loc[\"std\", \"ncf_predictions\"]\n",
        "if std < 0.01:\n",
        "    raise ValueError(\"Model predictions have standard deviation of less than 1e-2.\")"
      ]
    },
    {
      "cell_type": "code",
      "execution_count": 71,
      "metadata": {
        "colab": {
          "base_uri": "https://localhost:8080/"
        },
        "id": "tZOwhG2gP6ve",
        "outputId": "fb3dbcea-b85c-4ff3-bf98-c0b957b3d848"
      },
      "outputs": [
        {
          "name": "stdout",
          "output_type": "stream",
          "text": [
            "Neural collaborative filtering predictions\n",
            "[[0.33595034 0.33798942        nan        nan]\n",
            " [       nan        nan 0.33383664        nan]\n",
            " [       nan        nan        nan 0.35074568]\n",
            " [       nan        nan        nan 0.34153646]\n",
            " [       nan 0.3360399         nan        nan]\n",
            " [       nan 0.32989767        nan 0.33652166]\n",
            " [       nan        nan 0.3322635  0.34178746]\n",
            " [       nan        nan 0.32652438        nan]\n",
            " [0.33181915        nan        nan 0.3418683 ]\n",
            " [       nan 0.3389582         nan        nan]]\n"
          ]
        }
      ],
      "source": [
        "# collapse\n",
        "data[\"ncf_predictions\"] = df_test.pivot(\n",
        "    index=\"user_id\", columns=\"item_id\", values=\"ncf_predictions\"\n",
        ").values\n",
        "print(\"Neural collaborative filtering predictions\")\n",
        "print(data[\"ncf_predictions\"][:10, :4])"
      ]
    },
    {
      "cell_type": "code",
      "execution_count": 73,
      "metadata": {
        "colab": {
          "base_uri": "https://localhost:8080/"
        },
        "id": "-DWk8Gag2Lix",
        "outputId": "375ac1df-d12d-4e1f-bd6d-db80889464cf"
      },
      "outputs": [
        {
          "data": {
            "text/plain": [
              "array([[0, 0, 0, ..., 0, 0, 0],\n",
              "       [0, 0, 0, ..., 0, 0, 0],\n",
              "       [0, 0, 0, ..., 0, 0, 0],\n",
              "       ...,\n",
              "       [0, 0, 0, ..., 0, 0, 0],\n",
              "       [0, 0, 0, ..., 0, 0, 0],\n",
              "       [0, 0, 0, ..., 0, 0, 0]], dtype=int8)"
            ]
          },
          "execution_count": 73,
          "metadata": {},
          "output_type": "execute_result"
        }
      ],
      "source": [
        "data[\"test\"]"
      ]
    },
    {
      "cell_type": "code",
      "execution_count": 77,
      "metadata": {
        "colab": {
          "base_uri": "https://localhost:8080/"
        },
        "id": "kFJUIKyo2YXN",
        "outputId": "e1dce824-eb9f-41d7-c35e-868d0f152700"
      },
      "outputs": [
        {
          "data": {
            "text/plain": [
              "(2698,)"
            ]
          },
          "execution_count": 77,
          "metadata": {},
          "output_type": "execute_result"
        }
      ],
      "source": [
        "df_test[\"interaction\"].shape"
      ]
    },
    {
      "cell_type": "code",
      "execution_count": 79,
      "metadata": {
        "colab": {
          "base_uri": "https://localhost:8080/"
        },
        "id": "4xdInLoQP6ve",
        "outputId": "9210f813-e606-4eba-cd89-e227c9b1e2c9"
      },
      "outputs": [
        {
          "name": "stdout",
          "output_type": "stream",
          "text": [
            "At K = 5, we have a precision of 0.20000 and a recall of 0.00592\n"
          ]
        }
      ],
      "source": [
        "precision_ncf = tf.keras.metrics.Precision(top_k=TOP_K)\n",
        "recall_ncf = tf.keras.metrics.Recall(top_k=TOP_K)\n",
        "\n",
        "precision_ncf.update_state(df_test[\"interaction\"], df_test[\"ncf_predictions\"])\n",
        "recall_ncf.update_state(df_test[\"interaction\"], df_test[\"ncf_predictions\"])\n",
        "print(\n",
        "    f\"At K = {TOP_K}, we have a precision of {precision_ncf.result().numpy():.5f}\",\n",
        "    f\"and a recall of {recall_ncf.result().numpy():.5f}\",\n",
        ")"
      ]
    }
  ],
  "metadata": {
    "colab": {
      "provenance": []
    },
    "kernelspec": {
      "display_name": "Python 3",
      "language": "python",
      "name": "python3"
    },
    "language_info": {
      "codemirror_mode": {
        "name": "ipython",
        "version": 3
      },
      "file_extension": ".py",
      "mimetype": "text/x-python",
      "name": "python",
      "nbconvert_exporter": "python",
      "pygments_lexer": "ipython3",
      "version": "3.8.10"
    }
  },
  "nbformat": 4,
  "nbformat_minor": 0
}
