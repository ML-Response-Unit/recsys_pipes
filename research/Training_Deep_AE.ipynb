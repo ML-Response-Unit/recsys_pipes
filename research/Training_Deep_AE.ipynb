{
  "cells": [
    {
      "cell_type": "code",
      "execution_count": 1,
      "metadata": {
        "colab": {},
        "colab_type": "code",
        "id": "6VLw_wzeAqa9"
      },
      "outputs": [],
      "source": [
        "import torch\n",
        "import torchvision\n",
        "import pandas as pd\n",
        "import numpy as np\n",
        "from tqdm import tqdm\n",
        "import torch.nn as nn\n",
        "import torch.optim as optim\n",
        "from torch.autograd import Variable\n",
        "from torch.utils.data import Dataset, DataLoader\n",
        "from torchvision import transforms, utils\n",
        "import matplotlib.pyplot as plt\n",
        "import matplotlib.pyplot as pyplot\n",
        "from livelossplot import PlotLosses\n",
        "# from loss import MSEloss_with_Mask\n",
        "# from model import AutoEncoder\n",
        "# from TestDataset import TestDataset\n",
        "# from TrainDataset import TrainDataset"
      ]
    },
    {
      "cell_type": "code",
      "execution_count": 3,
      "metadata": {},
      "outputs": [],
      "source": [
        "from sklearn.model_selection import train_test_split\n",
        "\n",
        "data = pd.read_csv(\"../data/dataset.csv\") * 10\n",
        "data = pd.pivot_table(data, index=\"user_id\", columns=\"car_id\", values=\"interaction\").reset_index().rename_axis(None, axis=1)\n",
        "data = data.rename(columns={\"user_id\":\"userId\"})\n",
        "\n",
        "train_data, test_data = data.iloc[:60], data.iloc[60:]\n",
        "train_data.to_csv(\"pivot_train.csv\", index=False)\n",
        "test_data.to_csv(\"pivot_test.csv\", index=False)"
      ]
    },
    {
      "cell_type": "code",
      "execution_count": 68,
      "metadata": {},
      "outputs": [],
      "source": [
        "class TrainDataset(Dataset):\n",
        "    def __init__(self, train_file, transform=None):\n",
        "        self.data = pd.read_csv(train_file)\n",
        "        self.data = self.data.iloc[:,1:]\n",
        "        self.transform = transform\n",
        "        \n",
        "        if transform is not None:\n",
        "            self.data = self.transform(np.array(self.data))\n",
        "        \n",
        "    def __len__(self):\n",
        "        return len(self.data[0])\n",
        "    \n",
        "    def __getitem__(self, ind):\n",
        "        user_vector = self.data.data[0][ind]\n",
        "        \n",
        "        return user_vector\n",
        "\n",
        "\n",
        "class TestDataset(Dataset):\n",
        "    def __init__(self, test_file, transform=None):\n",
        "        self.data = pd.read_csv(test_file)\n",
        "        self.data = self.data.iloc[:,1:]\n",
        "        self.transform = transform\n",
        "        \n",
        "        if transform is not None:\n",
        "            self.data = self.transform(np.array(self.data))\n",
        "        \n",
        "    def __len__(self):\n",
        "        return len(self.data[0])\n",
        "    \n",
        "    def __getitem__(self, ind):\n",
        "        user_vector = self.data.data[0][ind]\n",
        "        \n",
        "        return user_vector"
      ]
    },
    {
      "cell_type": "code",
      "execution_count": 4,
      "metadata": {
        "colab": {},
        "colab_type": "code",
        "id": "wVhNWiG8JZvr"
      },
      "outputs": [],
      "source": [
        "transformations = transforms.Compose([transforms.ToTensor()])\n",
        "train_dat = TrainDataset('train.csv', transformations)"
      ]
    },
    {
      "cell_type": "code",
      "execution_count": 5,
      "metadata": {
        "colab": {
          "base_uri": "https://localhost:8080/",
          "height": 51
        },
        "colab_type": "code",
        "id": "_4dX-G1bJkrb",
        "outputId": "975a7d5e-8ee6-489b-bb24-4e5db39d1d97"
      },
      "outputs": [
        {
          "name": "stdout",
          "output_type": "stream",
          "text": [
            "Training Length:  60\n",
            "6th User Ratings:  tensor([ 0.,  0.,  0.,  0.,  0.,  0.,  0.,  0.,  0.,  0.,  0.,  0.,  0.,  0.,\n",
            "         0.,  0.,  0.,  0.,  0.,  0., 10.,  0.,  0.,  0.,  0.,  0.,  0.,  0.,\n",
            "         0., 10.,  0.,  0.,  0.,  0.,  0.,  0.,  0.,  0.,  0.,  0.,  0.,  0.,\n",
            "         0.,  0.,  0.,  0.,  0.,  0.,  0.,  0.,  0., 10.,  0.,  0., 10.,  0.,\n",
            "         0.,  0.,  0.,  0.,  0.,  0.,  0.,  0.,  0.,  0.,  0.,  0.,  0.,  0.,\n",
            "         0.,  0., 10.,  0.,  0.,  0.,  0.,  0.,  0.,  0.,  0.,  0.,  0.,  0.,\n",
            "         0.,  0.,  0.,  0.,  0.,  0.,  0.,  0.,  0.,  0.,  0.,  0.,  0.,  0.,\n",
            "         0.,  0.,  0.,  0.,  0.,  0.,  0.,  0.,  0.,  0.,  0.],\n",
            "       dtype=torch.float64)\n"
          ]
        }
      ],
      "source": [
        "print(\"Training Length: \", train_dat.__len__())\n",
        "print(\"6th User Ratings: \", train_dat.__getitem__(7))"
      ]
    },
    {
      "cell_type": "code",
      "execution_count": 6,
      "metadata": {},
      "outputs": [
        {
          "data": {
            "text/plain": [
              "tensor([ 0.,  0.,  0.,  0.,  0.,  0.,  0.,  0.,  0.,  0.,  0.,  0.,  0.,  0.,\n",
              "         0.,  0.,  0.,  0.,  0.,  0.,  0.,  0.,  0.,  0.,  0.,  0., 10.,  0.,\n",
              "         0.,  0.,  0., 10.,  0., 10.,  0.,  0., 10.,  0.,  0.,  0.,  0.,  0.,\n",
              "         0.,  0.,  0.,  0., 10., 10.,  0.,  0.,  0.,  0.,  0., 10.,  0.,  0.,\n",
              "         0.,  0.,  0.,  0.,  0.,  0.,  0.,  0.,  0.,  0.,  0.,  0.,  0.,  0.,\n",
              "         0.,  0.,  0.,  0.,  0.,  0.,  0.,  0.,  0.,  0., 10.,  0.,  0.,  0.,\n",
              "         0.,  0.,  0.,  0.,  0.,  0.,  0., 10.,  0.,  0.,  0.,  0.,  0.,  0.,\n",
              "         0.,  0.,  0.,  0.,  0.,  0.,  0.,  0.,  0.,  0.,  0.],\n",
              "       dtype=torch.float64)"
            ]
          },
          "execution_count": 6,
          "metadata": {},
          "output_type": "execute_result"
        }
      ],
      "source": [
        "train_dat[1]"
      ]
    },
    {
      "cell_type": "code",
      "execution_count": 7,
      "metadata": {
        "colab": {},
        "colab_type": "code",
        "id": "SpHPV7sLKSK5"
      },
      "outputs": [],
      "source": [
        "test_dat = TestDataset('test.csv', transformations)"
      ]
    },
    {
      "cell_type": "code",
      "execution_count": 8,
      "metadata": {
        "colab": {
          "base_uri": "https://localhost:8080/",
          "height": 51
        },
        "colab_type": "code",
        "id": "XEWIGA4fKlaK",
        "outputId": "e65195e4-36ff-4483-e384-a506d5ba0b7c"
      },
      "outputs": [
        {
          "name": "stdout",
          "output_type": "stream",
          "text": [
            "Testing Length:  15\n",
            "6th User Ratings:  tensor([ 0.,  0.,  0.,  0.,  0.,  0.,  0.,  0.,  0.,  0.,  0.,  0.,  0.,  0.,\n",
            "         0.,  0.,  0.,  0.,  0.,  0.,  0.,  0.,  0.,  0.,  0.,  0.,  0., 10.,\n",
            "         0., 10.,  0., 10.,  0.,  0.,  0.,  0.,  0.,  0.,  0.,  0.,  0.,  0.,\n",
            "         0.,  0.,  0.,  0.,  0.,  0.,  0.,  0.,  0.,  0.,  0.,  0.,  0.,  0.,\n",
            "         0.,  0.,  0.,  0.,  0.,  0.,  0.,  0., 10.,  0., 10.,  0.,  0.,  0.,\n",
            "         0.,  0.,  0.,  0.,  0.,  0.,  0.,  0.,  0.,  0.,  0.,  0.,  0.,  0.,\n",
            "         0.,  0.,  0.,  0.,  0.,  0.,  0.,  0.,  0.,  0.,  0.,  0.,  0.,  0.,\n",
            "         0.,  0.,  0.,  0.,  0.,  0.,  0.,  0., 10.,  0.,  0.],\n",
            "       dtype=torch.float64)\n"
          ]
        }
      ],
      "source": [
        "print(\"Testing Length: \", test_dat.__len__())\n",
        "print(\"6th User Ratings: \", test_dat.__getitem__(4))"
      ]
    },
    {
      "cell_type": "markdown",
      "metadata": {
        "colab_type": "text",
        "id": "QLy46VQzMlhG"
      },
      "source": [
        "## Dataloader"
      ]
    },
    {
      "cell_type": "code",
      "execution_count": 9,
      "metadata": {
        "colab": {},
        "colab_type": "code",
        "id": "H6JjuurPKy56"
      },
      "outputs": [],
      "source": [
        "train_dl = DataLoader(dataset=train_dat, batch_size = 128, shuffle=True, num_workers = 1)"
      ]
    },
    {
      "cell_type": "code",
      "execution_count": 10,
      "metadata": {
        "colab": {},
        "colab_type": "code",
        "id": "RVpG9OuHMsa6"
      },
      "outputs": [],
      "source": [
        "test_dl = DataLoader(dataset=test_dat, batch_size=128, shuffle=True, num_workers=1)"
      ]
    },
    {
      "cell_type": "code",
      "execution_count": 11,
      "metadata": {
        "colab": {
          "base_uri": "https://localhost:8080/",
          "height": 34
        },
        "colab_type": "code",
        "id": "6WhXvSEeMuH4",
        "outputId": "4d2058c7-ecb4-4dd4-efa3-09376706cd80"
      },
      "outputs": [
        {
          "name": "stdout",
          "output_type": "stream",
          "text": [
            "cuda:0\n"
          ]
        }
      ],
      "source": [
        "# Checking for availability of GPU\n",
        "\n",
        "use_cuda = torch.cuda.is_available()\n",
        "device = torch.device(\"cuda:0\" if use_cuda else \"cpu\")\n",
        "print(device)"
      ]
    },
    {
      "cell_type": "markdown",
      "metadata": {
        "colab_type": "text",
        "id": "CFU2Obd5UuTF"
      },
      "source": [
        "## Training the Model"
      ]
    },
    {
      "cell_type": "code",
      "execution_count": 12,
      "metadata": {},
      "outputs": [
        {
          "data": {
            "text/plain": [
              "(75, 110)"
            ]
          },
          "execution_count": 12,
          "metadata": {},
          "output_type": "execute_result"
        }
      ],
      "source": [
        "data.shape"
      ]
    },
    {
      "cell_type": "markdown",
      "metadata": {
        "colab_type": "text",
        "id": "vRdekXMJU5i_"
      },
      "source": [
        "### Loss and Optimizer"
      ]
    },
    {
      "cell_type": "code",
      "execution_count": 16,
      "metadata": {
        "colab": {},
        "colab_type": "code",
        "id": "J2TTqBscU47D"
      },
      "outputs": [],
      "source": [
        "# Loss Function\n",
        "class MSEloss_with_Mask(nn.Module):\n",
        "  def __init__(self):\n",
        "    super(MSEloss_with_Mask,self).__init__()\n",
        "\n",
        "  def forward(self,inputs, targets):\n",
        "    # Masking into a vector of 1's and 0's.\n",
        "    mask = (targets!=0)\n",
        "    mask = mask.float()\n",
        "\n",
        "    # Actual number of ratings.\n",
        "    # Take max to avoid division by zero while calculating loss.\n",
        "    other = torch.Tensor([1.0])\n",
        "    other = other.cuda()\n",
        "    number_ratings = torch.max(torch.sum(mask),other)\n",
        "    error = torch.sum(torch.mul(mask,torch.mul((targets-inputs),(targets-inputs))))\n",
        "    loss = error.div(number_ratings)\n",
        "    return loss[0]\n",
        "  \n",
        "criterion = MSEloss_with_Mask()\n",
        "criterion = criterion.cuda()"
      ]
    },
    {
      "cell_type": "markdown",
      "metadata": {
        "colab_type": "text",
        "id": "5POnWp4pU0z4"
      },
      "source": [
        "### Model"
      ]
    },
    {
      "cell_type": "code",
      "execution_count": null,
      "metadata": {},
      "outputs": [],
      "source": [
        "import torch\n",
        "import torch.nn as nn\n",
        "import torch.nn.functional as F\n",
        "import torch.nn.init as init\n",
        "\n",
        "\n",
        "def activation(input, type):\n",
        "  \n",
        "    if type.lower()=='selu':\n",
        "        return F.selu(input)\n",
        "    elif type.lower()=='elu':\n",
        "        return F.elu(input)\n",
        "    elif type.lower()=='relu':\n",
        "        return F.relu(input)\n",
        "    elif type.lower()=='relu6':\n",
        "        return F.relu6(input)\n",
        "    elif type.lower()=='lrelu':\n",
        "        return F.leaky_relu(input)\n",
        "    elif type.lower()=='tanh':\n",
        "        return F.tanh(input)\n",
        "    elif type.lower()=='sigmoid':\n",
        "        return F.sigmoid(input)\n",
        "    elif type.lower()=='swish':\n",
        "        return F.sigmoid(input)*input\n",
        "    elif type.lower()=='identity':\n",
        "        return input\n",
        "    else:\n",
        "        raise ValueError(\"Unknown non-Linearity Type\")\n",
        "\n",
        "\n",
        "class AutoEncoder(nn.Module):\n",
        "\n",
        "    def __init__(self, layer_sizes, nl_type='selu', is_constrained=True, dp_drop_prob=0.0, last_layer_activations=True):\n",
        "        \"\"\"\n",
        "        layer_sizes = size of each layer in the autoencoder model\n",
        "        For example: [10000, 1024, 512] will result in:\n",
        "            - encoder 2 layers: 10000x1024 and 1024x512. Representation layer (z) will be 512\n",
        "            - decoder 2 layers: 512x1024 and 1024x10000.\n",
        "        \n",
        "        nl_type = non-Linearity type (default: 'selu).\n",
        "        is_constrained = If true then the weights of encoder and decoder are tied.\n",
        "        dp_drop_prob = Dropout probability.\n",
        "        last_layer_activations = Whether to apply activation on last decoder layer.\n",
        "        \"\"\"\n",
        "\n",
        "        super(AutoEncoder, self).__init__()\n",
        "\n",
        "        self.layer_sizes = layer_sizes\n",
        "        self.nl_type = nl_type\n",
        "        self.is_constrained = is_constrained\n",
        "        self.dp_drop_prob = dp_drop_prob\n",
        "        self.last_layer_activations = last_layer_activations\n",
        "\n",
        "        if dp_drop_prob>0:\n",
        "            self.drop = nn.Dropout(dp_drop_prob)\n",
        "\n",
        "        self._last = len(layer_sizes) - 2\n",
        "\n",
        "        # Initaialize Weights\n",
        "        self.encoder_weights = nn.ParameterList( [nn.Parameter(torch.rand(layer_sizes[i+1], layer_sizes[i])) for i in range(len(layer_sizes) - 1)  ] )\n",
        "\n",
        "        # \"Xavier Initialization\" ( Understanding the Difficulty in training deep feed forward neural networks - by Glorot, X. & Bengio, Y. )\n",
        "        # ( Values are sampled from uniform distribution )\n",
        "        for weights in self.encoder_weights:\n",
        "            init.xavier_uniform_(weights)\n",
        "\n",
        "        # Encoder Bias\n",
        "        self.encoder_bias = nn.ParameterList( [nn.Parameter(torch.zeros(layer_sizes[i+1])) for i in range(len(layer_sizes) - 1) ] )\n",
        "\n",
        "        reverse_layer_sizes = list(reversed(layer_sizes)) \n",
        "        # reversed returns iterator\n",
        "\n",
        "\n",
        "        # Decoder Weights\n",
        "        if is_constrained == False:\n",
        "            self.decoder_weights = nn.ParameterList( [nn.Parameter(torch.rand(reverse_layer_sizes[i+1], reverse_layer_sizes[i])) for i in range(len(reverse_layer_sizes) - 1) ] )\n",
        "\n",
        "            for weights in self.decoder_weights:\n",
        "                init.xavier_uniform_(weights)\n",
        "\n",
        "        self.decoder_bias = nn.ParameterList( [nn.Parameter(torch.zeros(reverse_layer_sizes[i+1])) for i in range(len(reverse_layer_sizes) - 1) ] )\n",
        "\n",
        "\n",
        "\n",
        "    def encode(self,x):\n",
        "        for i,w in enumerate(self.encoder_weights):\n",
        "            x = F.linear(input=x, weight = w, bias = self.encoder_bias[i] )\n",
        "            x = activation(input=x, type=self.nl_type)\n",
        "\n",
        "        # Apply Dropout on the last layer\n",
        "        if self.dp_drop_prob > 0:\n",
        "            x = self.drop(x)\n",
        "\n",
        "        return x\n",
        "\n",
        "\n",
        "    def decode(self,x):\n",
        "        if self.is_constrained == True:\n",
        "            # Weights are tied\n",
        "            for i,w in zip(range(len(self.encoder_weights)),list(reversed(self.encoder_weights))):\n",
        "                x = F.linear(input=x, weight=w.t(), bias = self.decoder_bias[i] )\n",
        "                x = activation(input=x, type=self.nl_type if i != self._last or self.last_layer_activations else 'identity')\n",
        "\n",
        "        else:\n",
        "\n",
        "            for i,w in enumerate(self.decoder_weights):\n",
        "                x = F.linear(input=x, weight = w, bias = self.decoder_weights[i])\n",
        "                x = activation(input=x, type=self.nl_type if i != self._last or self.last_layer_activations else 'identity')\n",
        "\n",
        "        return x\n",
        "\n",
        "    def forward(self,x):\n",
        "        # Forward Pass\n",
        "        return self.decode(self.encode(x))\n",
        "\n"
      ]
    },
    {
      "cell_type": "code",
      "execution_count": 13,
      "metadata": {
        "colab": {},
        "colab_type": "code",
        "id": "wuWfH8uJM3q6"
      },
      "outputs": [],
      "source": [
        "layer_sizes = [109, 512, 512, 1024]"
      ]
    },
    {
      "cell_type": "code",
      "execution_count": 14,
      "metadata": {
        "colab": {},
        "colab_type": "code",
        "id": "yQ0yrC6xUgt5"
      },
      "outputs": [],
      "source": [
        "model = AutoEncoder(layer_sizes=layer_sizes, nl_type='selu', is_constrained=True, dp_drop_prob=0.0, last_layer_activations=False)"
      ]
    },
    {
      "cell_type": "code",
      "execution_count": 15,
      "metadata": {
        "colab": {},
        "colab_type": "code",
        "id": "Rr_Fnnx1UnB6"
      },
      "outputs": [],
      "source": [
        "model = model.cuda()"
      ]
    },
    {
      "cell_type": "code",
      "execution_count": 17,
      "metadata": {
        "colab": {},
        "colab_type": "code",
        "id": "PbwPphAzUp2I"
      },
      "outputs": [],
      "source": [
        "# Optimizer\n",
        "\n",
        "# optimizer = optim.SGD(model.parameters(), lr=0.01, weight_decay= 1e-6, momentum = 0.9, nesterov = True)\n",
        "optimizer = optim.Adam(model.parameters(), lr=0.001)"
      ]
    },
    {
      "cell_type": "markdown",
      "metadata": {
        "colab_type": "text",
        "id": "0fCHMZCtVR1i"
      },
      "source": [
        "### Fitting the Model"
      ]
    },
    {
      "cell_type": "code",
      "execution_count": 18,
      "metadata": {
        "colab": {},
        "colab_type": "code",
        "id": "Msy_9GiWCKhr"
      },
      "outputs": [],
      "source": [
        "# hl1_tr_loss = []\n",
        "# hl2_val_loss = []"
      ]
    },
    {
      "cell_type": "code",
      "execution_count": 19,
      "metadata": {
        "colab": {},
        "colab_type": "code",
        "id": "jglVF6-0GF4e"
      },
      "outputs": [],
      "source": [
        "hl1_tr_loss = []\n",
        "hl2_val_loss = []"
      ]
    },
    {
      "cell_type": "code",
      "execution_count": 20,
      "metadata": {
        "colab": {},
        "colab_type": "code",
        "id": "q-MMP7GDVKnY"
      },
      "outputs": [],
      "source": [
        "def train(model, criterion, optimizer, train_dl, test_dl, num_epochs=40):\n",
        "  # We will run for 40 epochs\n",
        "  liveloss = PlotLosses()\n",
        "  for epoch in range(num_epochs):\n",
        "    train_loss, valid_loss = [], []\n",
        "    logs = {}\n",
        "    prefix = ''\n",
        "\n",
        "    # Training Part\n",
        "    model.train()\n",
        "    for i, data in enumerate(train_dl, 0):\n",
        "      # Get the inputs\n",
        "      inputs = labels = data\n",
        "      inputs = inputs.cuda()\n",
        "      labels = labels.cuda()\n",
        "\n",
        "      inputs = inputs.float()\n",
        "      labels = labels.float()\n",
        "\n",
        "      # zero the parameter gradients\n",
        "      optimizer.zero_grad()\n",
        "\n",
        "      # forward + backward + optimize\n",
        "      outputs = model(inputs)\n",
        "      outputs = outputs.cuda()\n",
        "      loss = criterion(outputs,labels)\n",
        "      loss.backward()\n",
        "      optimizer.step()\n",
        "\n",
        "      ## -> Iterative Dense Output Re-feeding <- ##\n",
        "      \n",
        "      # Add a \"for\" loop to iterate as much you want\n",
        "      \n",
        "      # Zero the gradiants\n",
        "      optimizer.zero_grad()\n",
        "      \n",
        "      # Important -> detach() the output, to avoid unecessary construction of \n",
        "      # the computational graph\n",
        "      outputs = model(outputs.detach())\n",
        "      outputs = outputs.cuda()\n",
        "      loss = criterion(outputs, labels)\n",
        "      loss.backward()\n",
        "      optimizer.step()\n",
        "\n",
        "      train_loss.append(loss.item())\n",
        "      logs[prefix + 'MMSE loss'] = loss.item()\n",
        "\n",
        "    for i, data in enumerate(test_dl, 0):\n",
        "      model.eval()\n",
        "      inputs = labels = data\n",
        "      inputs = inputs.cuda()\n",
        "      labels = labels.cuda()\n",
        "\n",
        "      inputs = inputs.float()\n",
        "      labels = labels.float()\n",
        "\n",
        "      outputs = model(inputs)\n",
        "      outputs = outputs.cuda()\n",
        "      loss = criterion(outputs, labels)\n",
        "\n",
        "      valid_loss.append(loss.item())\n",
        "      prefix = 'val_'\n",
        "      logs[prefix + 'MMSE loss'] = loss.item()\n",
        "\n",
        "    hl1_tr_loss.append(np.mean(train_loss))\n",
        "    hl2_val_loss.append(np.mean(valid_loss))\n",
        "    liveloss.update(logs)\n",
        "    liveloss.draw()\n",
        "    print (\"Epoch:\", epoch+1, \" Training Loss: \", np.mean(train_loss), \" Valid Loss: \", np.mean(valid_loss))\n",
        "    if epoch == num_epochs -1:\n",
        "      return outputs"
      ]
    },
    {
      "cell_type": "code",
      "execution_count": 21,
      "metadata": {
        "colab": {
          "base_uri": "https://localhost:8080/",
          "height": 390
        },
        "colab_type": "code",
        "id": "xXcdegFsuu_V",
        "outputId": "997b51cd-ded5-4aca-c4e3-aafdbd484596"
      },
      "outputs": [
        {
          "data": {
            "image/png": "[encoded data removed]",
            "text/plain": [
              "<Figure size 1200x800 with 2 Axes>"
            ]
          },
          "metadata": {},
          "output_type": "display_data"
        },
        {
          "name": "stdout",
          "output_type": "stream",
          "text": [
            "MMSE loss\n",
            "\ttraining         \t (min:    0.000, max:   23.143, cur:    0.179)\n",
            "\tvalidation       \t (min:    2.315, max:   10.249, cur:    2.360)\n",
            "Epoch: 500  Training Loss:  0.17907322943210602  Valid Loss:  2.3595192432403564\n"
          ]
        }
      ],
      "source": [
        "out = train(model, criterion, optimizer, train_dl, test_dl, 500)"
      ]
    },
    {
      "cell_type": "code",
      "execution_count": 65,
      "metadata": {
        "colab": {
          "base_uri": "https://localhost:8080/",
          "height": 153
        },
        "colab_type": "code",
        "id": "0Nv9myz2G2Fc",
        "outputId": "2cff91cd-58dc-4d7b-a4f9-e47f768e05eb"
      },
      "outputs": [
        {
          "data": {
            "text/plain": [
              "array([ True,  True,  True,  True,  True,  True,  True,  True,  True,\n",
              "        True,  True,  True,  True,  True,  True,  True,  True,  True,\n",
              "        True,  True,  True,  True,  True,  True,  True,  True,  True,\n",
              "       False,  True, False,  True,  True,  True,  True,  True,  True,\n",
              "        True,  True,  True,  True,  True,  True,  True,  True,  True,\n",
              "        True,  True, False,  True,  True,  True,  True,  True,  True,\n",
              "        True,  True,  True, False, False,  True,  True,  True,  True,\n",
              "        True,  True,  True,  True,  True,  True,  True,  True, False,\n",
              "        True,  True,  True,  True,  True,  True,  True,  True, False,\n",
              "        True,  True,  True,  True,  True,  True,  True,  True,  True,\n",
              "        True,  True,  True, False,  True, False,  True,  True, False,\n",
              "        True,  True,  True,  True,  True,  True,  True, False,  True,\n",
              "        True])"
            ]
          },
          "execution_count": 65,
          "metadata": {},
          "output_type": "execute_result"
        }
      ],
      "source": [
        "# Input Batch\n",
        "\n",
        "z = next(iter(test_dl))[0].to(\"cuda\").float()\n",
        "z.cpu().numpy() == ((model(z)).cpu().detach().numpy() >= 9).astype(float) "
      ]
    },
    {
      "cell_type": "code",
      "execution_count": 66,
      "metadata": {},
      "outputs": [
        {
          "data": {
            "text/plain": [
              "tensor([ 0.,  0.,  0.,  0.,  0.,  0.,  0.,  0.,  0.,  0.,  0.,  0.,  0.,  0.,\n",
              "         0.,  0.,  0.,  0.,  0.,  0.,  0.,  0.,  0.,  0.,  0.,  0.,  0., 10.,\n",
              "         0., 10.,  0.,  0.,  0.,  0.,  0.,  0.,  0.,  0.,  0.,  0.,  0.,  0.,\n",
              "         0.,  0.,  0.,  0.,  0., 10.,  0.,  0.,  0.,  0.,  0.,  0.,  0.,  0.,\n",
              "         0., 10.,  0.,  0.,  0.,  0.,  0.,  0.,  0.,  0.,  0.,  0.,  0.,  0.,\n",
              "         0., 10.,  0.,  0.,  0.,  0.,  0.,  0.,  0.,  0., 10.,  0.,  0.,  0.,\n",
              "         0.,  0.,  0.,  0.,  0.,  0.,  0.,  0.,  0., 10.,  0., 10.,  0.,  0.,\n",
              "        10.,  0.,  0.,  0.,  0.,  0.,  0.,  0., 10.,  0.,  0.],\n",
              "       device='cuda:0')"
            ]
          },
          "execution_count": 66,
          "metadata": {},
          "output_type": "execute_result"
        }
      ],
      "source": [
        "z"
      ]
    },
    {
      "cell_type": "code",
      "execution_count": 67,
      "metadata": {},
      "outputs": [
        {
          "data": {
            "text/plain": [
              "array([ 7.85239506,  5.17222738,  6.3916502 ,  6.70705175,  3.5593729 ,\n",
              "        0.52439594,  7.63678551,  7.48742771,  6.78976059,  5.08225822,\n",
              "        6.82552576,  7.68274355,  2.88463712, -1.74849248,  4.52408695,\n",
              "        6.66521072,  6.72446251,  4.89926004, -0.09960707,  3.74326682,\n",
              "        4.34500265,  7.21940136,  5.32671356, -2.39688587,  3.54506087,\n",
              "        5.66265297,  4.90743494,  9.57855034,  4.43837452,  9.53781414,\n",
              "        2.00961018,  7.90638351,  4.78725004,  1.27264643,  4.1887722 ,\n",
              "       -2.26262188,  0.78258091,  1.16904223,  5.00756073,  2.36498523,\n",
              "        5.74067974,  5.51710033,  5.70836449,  3.32745934,  5.5396204 ,\n",
              "        0.74858582, -2.66448426,  9.04667854,  6.63082743, -2.10149527,\n",
              "        3.52934051,  3.52583289,  2.33575249,  7.735888  ,  5.73219967,\n",
              "        5.96551132,  3.41897011,  4.46976566,  9.01334286,  1.68445945,\n",
              "        4.45898962,  3.12096453,  5.9159708 , -0.26287699,  4.60258436,\n",
              "        2.66124392, -1.13206434,  3.3098731 ,  5.52183867,  4.97782469,\n",
              "       -1.93249285,  9.44141865,  7.16531324,  6.60478497,  5.96117163,\n",
              "        3.42260957, -0.20515585,  5.16547441,  8.62633228,  4.04654694,\n",
              "       10.81594849, -0.2849941 ,  4.45070362,  4.93043423,  4.06883478,\n",
              "        3.53037047,  6.598104  ,  5.86187267,  2.25757074,  6.12697268,\n",
              "        3.30703568,  6.9459157 ,  4.36502123,  9.13942337,  5.35017586,\n",
              "        3.40423346,  6.16041136,  2.42788672,  5.29135227,  1.75057817,\n",
              "        0.53254783,  5.42507029,  4.46452904,  1.24254835,  7.92111778,\n",
              "        0.94359803,  9.72113323,  4.71147633,  6.88150549])"
            ]
          },
          "execution_count": 67,
          "metadata": {},
          "output_type": "execute_result"
        }
      ],
      "source": [
        "(model(z).cpu().detach().numpy()).astype(float) "
      ]
    },
    {
      "cell_type": "code",
      "execution_count": 39,
      "metadata": {
        "colab": {
          "base_uri": "https://localhost:8080/",
          "height": 153
        },
        "colab_type": "code",
        "id": "PTTWKPUtaMsG",
        "outputId": "1debe24c-8336-43b2-ca56-db719201e58c"
      },
      "outputs": [
        {
          "data": {
            "text/plain": [
              "array([10.,  0.,  0.,  0.,  0.,  0., 10., 10.,  0.,  0.,  0., 10.,  0.,\n",
              "        0.,  0.,  0.,  0.,  0.,  0.,  0.,  0.,  0.,  0.,  0.,  0.,  0.,\n",
              "        0.,  0.,  0.,  0.,  0.,  0.,  0.,  0.,  0.,  0.,  0.,  0.,  0.,\n",
              "        0.,  0.,  0.,  0.,  0.,  0.,  0.,  0.,  0.,  0.,  0.,  0.,  0.,\n",
              "        0.,  0.,  0.,  0.,  0.,  0.,  0.,  0.,  0.,  0.,  0.,  0.,  0.,\n",
              "        0.,  0.,  0.,  0., 10.,  0.,  0., 10.,  0.,  0.,  0.,  0.,  0.,\n",
              "        0.,  0.,  0.,  0.,  0.,  0., 10.,  0.,  0.,  0.,  0.,  0.,  0.,\n",
              "        0.,  0.,  0.,  0.,  0.,  0.,  0.,  0.,  0.,  0.,  0.,  0.,  0.,\n",
              "        0.,  0., 10.,  0.,  0.])"
            ]
          },
          "execution_count": 39,
          "metadata": {},
          "output_type": "execute_result"
        }
      ],
      "source": [
        "# Output of a batch after training\n",
        "(model(z).cpu().detach().numpy() >= 9).astype(float) * 10"
      ]
    },
    {
      "cell_type": "markdown",
      "metadata": {
        "colab_type": "text",
        "id": "Vmd03RosHC7s"
      },
      "source": [
        "So, we can conclude that the **output is Dense**, whereas the **input given to the model is sparse**. Thus we have succeeded in developing state-of-the-art technique in order to predict user ratings."
      ]
    }
  ],
  "metadata": {
    "accelerator": "GPU",
    "colab": {
      "name": "Training Deep AE.ipynb",
      "provenance": [],
      "toc_visible": true,
      "version": "0.3.2"
    },
    "kernelspec": {
      "display_name": "Python 3",
      "name": "python3"
    },
    "language_info": {
      "codemirror_mode": {
        "name": "ipython",
        "version": 3
      },
      "file_extension": ".py",
      "mimetype": "text/x-python",
      "name": "python",
      "nbconvert_exporter": "python",
      "pygments_lexer": "ipython3",
      "version": "3.10.11"
    }
  },
  "nbformat": 4,
  "nbformat_minor": 0
}
