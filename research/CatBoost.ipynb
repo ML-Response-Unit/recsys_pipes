{
  "cells": [
    {
      "cell_type": "code",
      "execution_count": 38,
      "metadata": {
        "id": "L4UuB7tjqk9r"
      },
      "outputs": [],
      "source": [
        "import pandas as pd\n",
        "import numpy as np\n",
        "import plotly.express as px\n",
        "import pandas as pd\n",
        "from sklearn.metrics.pairwise import cosine_similarity\n",
        "from sklearn.neighbors import NearestNeighbors\n",
        "from sklearn.preprocessing import StandardScaler, LabelEncoder\n",
        "from sklearn.cluster import Birch\n",
        "from catboost import CatBoostRegressor\n",
        "from catboost import CatBoostClassifier\n",
        "from catboost import Pool\n",
        "from sklearn.metrics import accuracy_score"
      ]
    },
    {
      "cell_type": "code",
      "execution_count": 39,
      "metadata": {
        "id": "lZ823Do5qk9s"
      },
      "outputs": [],
      "source": [
        "user_data = pd.read_csv(\"../data/customers.csv\").dropna()\n",
        "actions_data = pd.read_csv(\"../data/dataset.csv\").dropna().astype(int)\n",
        "cars_data = pd.read_csv(\"../data/cars_about.csv\").dropna()"
      ]
    },
    {
      "cell_type": "markdown",
      "metadata": {
        "id": "v1Ku97BEqk9t"
      },
      "source": [
        "## Preprocess user data"
      ]
    },
    {
      "cell_type": "code",
      "execution_count": 40,
      "metadata": {
        "colab": {
          "base_uri": "https://localhost:8080/",
          "height": 411
        },
        "id": "7Xb1ZmGbqk9t",
        "outputId": "96a11988-af17-42ed-c278-765c59ef8684"
      },
      "outputs": [
        {
          "data": {
            "text/html": [
              "<div>\n",
              "<style scoped>\n",
              "    .dataframe tbody tr th:only-of-type {\n",
              "        vertical-align: middle;\n",
              "    }\n",
              "\n",
              "    .dataframe tbody tr th {\n",
              "        vertical-align: top;\n",
              "    }\n",
              "\n",
              "    .dataframe thead th {\n",
              "        text-align: right;\n",
              "    }\n",
              "</style>\n",
              "<table border=\"1\" class=\"dataframe\">\n",
              "  <thead>\n",
              "    <tr style=\"text-align: right;\">\n",
              "      <th></th>\n",
              "      <th>customer_id</th>\n",
              "      <th>gender</th>\n",
              "      <th>married</th>\n",
              "      <th>age</th>\n",
              "      <th>graduated</th>\n",
              "      <th>profession</th>\n",
              "      <th>familySize</th>\n",
              "    </tr>\n",
              "  </thead>\n",
              "  <tbody>\n",
              "    <tr>\n",
              "      <th>0</th>\n",
              "      <td>45</td>\n",
              "      <td>Male</td>\n",
              "      <td>No</td>\n",
              "      <td>22</td>\n",
              "      <td>No</td>\n",
              "      <td>Healthcare</td>\n",
              "      <td>4.0</td>\n",
              "    </tr>\n",
              "    <tr>\n",
              "      <th>1</th>\n",
              "      <td>817</td>\n",
              "      <td>Female</td>\n",
              "      <td>Yes</td>\n",
              "      <td>38</td>\n",
              "      <td>Yes</td>\n",
              "      <td>Engineer</td>\n",
              "      <td>3.0</td>\n",
              "    </tr>\n",
              "    <tr>\n",
              "      <th>2</th>\n",
              "      <td>495</td>\n",
              "      <td>Female</td>\n",
              "      <td>Yes</td>\n",
              "      <td>67</td>\n",
              "      <td>Yes</td>\n",
              "      <td>Engineer</td>\n",
              "      <td>1.0</td>\n",
              "    </tr>\n",
              "    <tr>\n",
              "      <th>3</th>\n",
              "      <td>36</td>\n",
              "      <td>Male</td>\n",
              "      <td>Yes</td>\n",
              "      <td>67</td>\n",
              "      <td>Yes</td>\n",
              "      <td>Lawyer</td>\n",
              "      <td>2.0</td>\n",
              "    </tr>\n",
              "    <tr>\n",
              "      <th>4</th>\n",
              "      <td>76</td>\n",
              "      <td>Female</td>\n",
              "      <td>Yes</td>\n",
              "      <td>40</td>\n",
              "      <td>Yes</td>\n",
              "      <td>Entertainment</td>\n",
              "      <td>6.0</td>\n",
              "    </tr>\n",
              "    <tr>\n",
              "      <th>...</th>\n",
              "      <td>...</td>\n",
              "      <td>...</td>\n",
              "      <td>...</td>\n",
              "      <td>...</td>\n",
              "      <td>...</td>\n",
              "      <td>...</td>\n",
              "      <td>...</td>\n",
              "    </tr>\n",
              "    <tr>\n",
              "      <th>315</th>\n",
              "      <td>353</td>\n",
              "      <td>Male</td>\n",
              "      <td>Yes</td>\n",
              "      <td>74</td>\n",
              "      <td>Yes</td>\n",
              "      <td>Lawyer</td>\n",
              "      <td>2.0</td>\n",
              "    </tr>\n",
              "    <tr>\n",
              "      <th>316</th>\n",
              "      <td>411</td>\n",
              "      <td>Female</td>\n",
              "      <td>No</td>\n",
              "      <td>30</td>\n",
              "      <td>No</td>\n",
              "      <td>Homemaker</td>\n",
              "      <td>4.0</td>\n",
              "    </tr>\n",
              "    <tr>\n",
              "      <th>317</th>\n",
              "      <td>297</td>\n",
              "      <td>Female</td>\n",
              "      <td>No</td>\n",
              "      <td>37</td>\n",
              "      <td>Yes</td>\n",
              "      <td>Artist</td>\n",
              "      <td>2.0</td>\n",
              "    </tr>\n",
              "    <tr>\n",
              "      <th>318</th>\n",
              "      <td>186</td>\n",
              "      <td>Female</td>\n",
              "      <td>No</td>\n",
              "      <td>22</td>\n",
              "      <td>No</td>\n",
              "      <td>Marketing</td>\n",
              "      <td>1.0</td>\n",
              "    </tr>\n",
              "    <tr>\n",
              "      <th>319</th>\n",
              "      <td>359</td>\n",
              "      <td>Male</td>\n",
              "      <td>No</td>\n",
              "      <td>19</td>\n",
              "      <td>No</td>\n",
              "      <td>Healthcare</td>\n",
              "      <td>4.0</td>\n",
              "    </tr>\n",
              "  </tbody>\n",
              "</table>\n",
              "<p>296 rows × 7 columns</p>\n",
              "</div>"
            ],
            "text/plain": [
              "     customer_id  gender married  age graduated     profession  familySize\n",
              "0             45    Male      No   22        No     Healthcare         4.0\n",
              "1            817  Female     Yes   38       Yes       Engineer         3.0\n",
              "2            495  Female     Yes   67       Yes       Engineer         1.0\n",
              "3             36    Male     Yes   67       Yes         Lawyer         2.0\n",
              "4             76  Female     Yes   40       Yes  Entertainment         6.0\n",
              "..           ...     ...     ...  ...       ...            ...         ...\n",
              "315          353    Male     Yes   74       Yes         Lawyer         2.0\n",
              "316          411  Female      No   30        No      Homemaker         4.0\n",
              "317          297  Female      No   37       Yes         Artist         2.0\n",
              "318          186  Female      No   22        No      Marketing         1.0\n",
              "319          359    Male      No   19        No     Healthcare         4.0\n",
              "\n",
              "[296 rows x 7 columns]"
            ]
          },
          "execution_count": 40,
          "metadata": {},
          "output_type": "execute_result"
        }
      ],
      "source": [
        "user_data"
      ]
    },
    {
      "cell_type": "code",
      "execution_count": 41,
      "metadata": {
        "colab": {
          "base_uri": "https://localhost:8080/",
          "height": 411
        },
        "id": "wNa4_AMTqk9t",
        "outputId": "df0f9de1-196a-4d4a-f174-d2a6fe55bfc2"
      },
      "outputs": [
        {
          "data": {
            "text/html": [
              "<div>\n",
              "<style scoped>\n",
              "    .dataframe tbody tr th:only-of-type {\n",
              "        vertical-align: middle;\n",
              "    }\n",
              "\n",
              "    .dataframe tbody tr th {\n",
              "        vertical-align: top;\n",
              "    }\n",
              "\n",
              "    .dataframe thead th {\n",
              "        text-align: right;\n",
              "    }\n",
              "</style>\n",
              "<table border=\"1\" class=\"dataframe\">\n",
              "  <thead>\n",
              "    <tr style=\"text-align: right;\">\n",
              "      <th></th>\n",
              "      <th>customer_id</th>\n",
              "      <th>gender</th>\n",
              "      <th>married</th>\n",
              "      <th>age</th>\n",
              "      <th>graduated</th>\n",
              "      <th>profession</th>\n",
              "      <th>familySize</th>\n",
              "    </tr>\n",
              "  </thead>\n",
              "  <tbody>\n",
              "    <tr>\n",
              "      <th>0</th>\n",
              "      <td>45</td>\n",
              "      <td>1</td>\n",
              "      <td>0</td>\n",
              "      <td>22</td>\n",
              "      <td>0</td>\n",
              "      <td>5</td>\n",
              "      <td>4.0</td>\n",
              "    </tr>\n",
              "    <tr>\n",
              "      <th>1</th>\n",
              "      <td>817</td>\n",
              "      <td>0</td>\n",
              "      <td>1</td>\n",
              "      <td>38</td>\n",
              "      <td>1</td>\n",
              "      <td>2</td>\n",
              "      <td>3.0</td>\n",
              "    </tr>\n",
              "    <tr>\n",
              "      <th>2</th>\n",
              "      <td>495</td>\n",
              "      <td>0</td>\n",
              "      <td>1</td>\n",
              "      <td>67</td>\n",
              "      <td>1</td>\n",
              "      <td>2</td>\n",
              "      <td>1.0</td>\n",
              "    </tr>\n",
              "    <tr>\n",
              "      <th>3</th>\n",
              "      <td>36</td>\n",
              "      <td>1</td>\n",
              "      <td>1</td>\n",
              "      <td>67</td>\n",
              "      <td>1</td>\n",
              "      <td>7</td>\n",
              "      <td>2.0</td>\n",
              "    </tr>\n",
              "    <tr>\n",
              "      <th>4</th>\n",
              "      <td>76</td>\n",
              "      <td>0</td>\n",
              "      <td>1</td>\n",
              "      <td>40</td>\n",
              "      <td>1</td>\n",
              "      <td>3</td>\n",
              "      <td>6.0</td>\n",
              "    </tr>\n",
              "    <tr>\n",
              "      <th>...</th>\n",
              "      <td>...</td>\n",
              "      <td>...</td>\n",
              "      <td>...</td>\n",
              "      <td>...</td>\n",
              "      <td>...</td>\n",
              "      <td>...</td>\n",
              "      <td>...</td>\n",
              "    </tr>\n",
              "    <tr>\n",
              "      <th>315</th>\n",
              "      <td>353</td>\n",
              "      <td>1</td>\n",
              "      <td>1</td>\n",
              "      <td>74</td>\n",
              "      <td>1</td>\n",
              "      <td>7</td>\n",
              "      <td>2.0</td>\n",
              "    </tr>\n",
              "    <tr>\n",
              "      <th>316</th>\n",
              "      <td>411</td>\n",
              "      <td>0</td>\n",
              "      <td>0</td>\n",
              "      <td>30</td>\n",
              "      <td>0</td>\n",
              "      <td>6</td>\n",
              "      <td>4.0</td>\n",
              "    </tr>\n",
              "    <tr>\n",
              "      <th>317</th>\n",
              "      <td>297</td>\n",
              "      <td>0</td>\n",
              "      <td>0</td>\n",
              "      <td>37</td>\n",
              "      <td>1</td>\n",
              "      <td>0</td>\n",
              "      <td>2.0</td>\n",
              "    </tr>\n",
              "    <tr>\n",
              "      <th>318</th>\n",
              "      <td>186</td>\n",
              "      <td>0</td>\n",
              "      <td>0</td>\n",
              "      <td>22</td>\n",
              "      <td>0</td>\n",
              "      <td>8</td>\n",
              "      <td>1.0</td>\n",
              "    </tr>\n",
              "    <tr>\n",
              "      <th>319</th>\n",
              "      <td>359</td>\n",
              "      <td>1</td>\n",
              "      <td>0</td>\n",
              "      <td>19</td>\n",
              "      <td>0</td>\n",
              "      <td>5</td>\n",
              "      <td>4.0</td>\n",
              "    </tr>\n",
              "  </tbody>\n",
              "</table>\n",
              "<p>296 rows × 7 columns</p>\n",
              "</div>"
            ],
            "text/plain": [
              "     customer_id  gender  married  age  graduated  profession  familySize\n",
              "0             45       1        0   22          0           5         4.0\n",
              "1            817       0        1   38          1           2         3.0\n",
              "2            495       0        1   67          1           2         1.0\n",
              "3             36       1        1   67          1           7         2.0\n",
              "4             76       0        1   40          1           3         6.0\n",
              "..           ...     ...      ...  ...        ...         ...         ...\n",
              "315          353       1        1   74          1           7         2.0\n",
              "316          411       0        0   30          0           6         4.0\n",
              "317          297       0        0   37          1           0         2.0\n",
              "318          186       0        0   22          0           8         1.0\n",
              "319          359       1        0   19          0           5         4.0\n",
              "\n",
              "[296 rows x 7 columns]"
            ]
          },
          "execution_count": 41,
          "metadata": {},
          "output_type": "execute_result"
        }
      ],
      "source": [
        "# Identify the categorical columns\n",
        "cat_cols = ['gender', 'married', 'graduated', 'profession']\n",
        "\n",
        "# Convert the categorical columns to numerical using Label Encoding\n",
        "for col in cat_cols:\n",
        "    le = LabelEncoder()\n",
        "    user_data[col] = le.fit_transform(user_data[col])\n",
        "\n",
        "user_data"
      ]
    },
    {
      "cell_type": "markdown",
      "metadata": {
        "id": "F__qKD8qqk9u"
      },
      "source": [
        "## Preprocess cars data"
      ]
    },
    {
      "cell_type": "code",
      "execution_count": 42,
      "metadata": {
        "colab": {
          "base_uri": "https://localhost:8080/",
          "height": 411
        },
        "id": "j69K9Ao-qk9u",
        "outputId": "a138ed4a-b574-4d7e-858b-4037094f2de6"
      },
      "outputs": [
        {
          "data": {
            "text/html": [
              "<div>\n",
              "<style scoped>\n",
              "    .dataframe tbody tr th:only-of-type {\n",
              "        vertical-align: middle;\n",
              "    }\n",
              "\n",
              "    .dataframe tbody tr th {\n",
              "        vertical-align: top;\n",
              "    }\n",
              "\n",
              "    .dataframe thead th {\n",
              "        text-align: right;\n",
              "    }\n",
              "</style>\n",
              "<table border=\"1\" class=\"dataframe\">\n",
              "  <thead>\n",
              "    <tr style=\"text-align: right;\">\n",
              "      <th></th>\n",
              "      <th>used_label</th>\n",
              "      <th>price</th>\n",
              "      <th>exteriorColor</th>\n",
              "      <th>interiorColor</th>\n",
              "      <th>drivetrain</th>\n",
              "      <th>minMPG</th>\n",
              "      <th>maxMPG</th>\n",
              "      <th>fuelType</th>\n",
              "      <th>transmission</th>\n",
              "      <th>mileage</th>\n",
              "      <th>brand</th>\n",
              "    </tr>\n",
              "  </thead>\n",
              "  <tbody>\n",
              "    <tr>\n",
              "      <th>0</th>\n",
              "      <td>1</td>\n",
              "      <td>39</td>\n",
              "      <td>139</td>\n",
              "      <td>11</td>\n",
              "      <td>4</td>\n",
              "      <td>19.0</td>\n",
              "      <td>27.0</td>\n",
              "      <td>3</td>\n",
              "      <td>20</td>\n",
              "      <td>29403.0</td>\n",
              "      <td>28</td>\n",
              "    </tr>\n",
              "    <tr>\n",
              "      <th>1</th>\n",
              "      <td>1</td>\n",
              "      <td>49</td>\n",
              "      <td>145</td>\n",
              "      <td>11</td>\n",
              "      <td>3</td>\n",
              "      <td>19.0</td>\n",
              "      <td>24.0</td>\n",
              "      <td>3</td>\n",
              "      <td>2</td>\n",
              "      <td>32929.0</td>\n",
              "      <td>10</td>\n",
              "    </tr>\n",
              "    <tr>\n",
              "      <th>2</th>\n",
              "      <td>1</td>\n",
              "      <td>41</td>\n",
              "      <td>62</td>\n",
              "      <td>11</td>\n",
              "      <td>3</td>\n",
              "      <td>15.0</td>\n",
              "      <td>21.0</td>\n",
              "      <td>3</td>\n",
              "      <td>20</td>\n",
              "      <td>23173.0</td>\n",
              "      <td>25</td>\n",
              "    </tr>\n",
              "    <tr>\n",
              "      <th>3</th>\n",
              "      <td>1</td>\n",
              "      <td>28</td>\n",
              "      <td>66</td>\n",
              "      <td>83</td>\n",
              "      <td>4</td>\n",
              "      <td>29.0</td>\n",
              "      <td>35.0</td>\n",
              "      <td>3</td>\n",
              "      <td>28</td>\n",
              "      <td>10598.0</td>\n",
              "      <td>13</td>\n",
              "    </tr>\n",
              "    <tr>\n",
              "      <th>4</th>\n",
              "      <td>1</td>\n",
              "      <td>49</td>\n",
              "      <td>53</td>\n",
              "      <td>10</td>\n",
              "      <td>4</td>\n",
              "      <td>20.0</td>\n",
              "      <td>27.0</td>\n",
              "      <td>3</td>\n",
              "      <td>20</td>\n",
              "      <td>28137.0</td>\n",
              "      <td>19</td>\n",
              "    </tr>\n",
              "    <tr>\n",
              "      <th>...</th>\n",
              "      <td>...</td>\n",
              "      <td>...</td>\n",
              "      <td>...</td>\n",
              "      <td>...</td>\n",
              "      <td>...</td>\n",
              "      <td>...</td>\n",
              "      <td>...</td>\n",
              "      <td>...</td>\n",
              "      <td>...</td>\n",
              "      <td>...</td>\n",
              "      <td>...</td>\n",
              "    </tr>\n",
              "    <tr>\n",
              "      <th>399</th>\n",
              "      <td>1</td>\n",
              "      <td>33</td>\n",
              "      <td>46</td>\n",
              "      <td>11</td>\n",
              "      <td>3</td>\n",
              "      <td>18.0</td>\n",
              "      <td>25.0</td>\n",
              "      <td>3</td>\n",
              "      <td>20</td>\n",
              "      <td>43807.0</td>\n",
              "      <td>16</td>\n",
              "    </tr>\n",
              "    <tr>\n",
              "      <th>400</th>\n",
              "      <td>0</td>\n",
              "      <td>30</td>\n",
              "      <td>163</td>\n",
              "      <td>57</td>\n",
              "      <td>2</td>\n",
              "      <td>34.0</td>\n",
              "      <td>30.0</td>\n",
              "      <td>5</td>\n",
              "      <td>28</td>\n",
              "      <td>41944.0</td>\n",
              "      <td>28</td>\n",
              "    </tr>\n",
              "    <tr>\n",
              "      <th>401</th>\n",
              "      <td>1</td>\n",
              "      <td>35</td>\n",
              "      <td>11</td>\n",
              "      <td>11</td>\n",
              "      <td>2</td>\n",
              "      <td>22.0</td>\n",
              "      <td>29.0</td>\n",
              "      <td>3</td>\n",
              "      <td>24</td>\n",
              "      <td>49386.0</td>\n",
              "      <td>5</td>\n",
              "    </tr>\n",
              "    <tr>\n",
              "      <th>402</th>\n",
              "      <td>1</td>\n",
              "      <td>35</td>\n",
              "      <td>168</td>\n",
              "      <td>49</td>\n",
              "      <td>3</td>\n",
              "      <td>16.0</td>\n",
              "      <td>22.0</td>\n",
              "      <td>3</td>\n",
              "      <td>9</td>\n",
              "      <td>115795.0</td>\n",
              "      <td>6</td>\n",
              "    </tr>\n",
              "    <tr>\n",
              "      <th>403</th>\n",
              "      <td>1</td>\n",
              "      <td>9</td>\n",
              "      <td>68</td>\n",
              "      <td>11</td>\n",
              "      <td>4</td>\n",
              "      <td>23.0</td>\n",
              "      <td>28.0</td>\n",
              "      <td>3</td>\n",
              "      <td>26</td>\n",
              "      <td>47786.0</td>\n",
              "      <td>17</td>\n",
              "    </tr>\n",
              "  </tbody>\n",
              "</table>\n",
              "<p>404 rows × 11 columns</p>\n",
              "</div>"
            ],
            "text/plain": [
              "     used_label  price  exteriorColor  interiorColor  drivetrain  minMPG  \\\n",
              "0             1     39            139             11           4    19.0   \n",
              "1             1     49            145             11           3    19.0   \n",
              "2             1     41             62             11           3    15.0   \n",
              "3             1     28             66             83           4    29.0   \n",
              "4             1     49             53             10           4    20.0   \n",
              "..          ...    ...            ...            ...         ...     ...   \n",
              "399           1     33             46             11           3    18.0   \n",
              "400           0     30            163             57           2    34.0   \n",
              "401           1     35             11             11           2    22.0   \n",
              "402           1     35            168             49           3    16.0   \n",
              "403           1      9             68             11           4    23.0   \n",
              "\n",
              "     maxMPG  fuelType  transmission   mileage  brand  \n",
              "0      27.0         3            20   29403.0     28  \n",
              "1      24.0         3             2   32929.0     10  \n",
              "2      21.0         3            20   23173.0     25  \n",
              "3      35.0         3            28   10598.0     13  \n",
              "4      27.0         3            20   28137.0     19  \n",
              "..      ...       ...           ...       ...    ...  \n",
              "399    25.0         3            20   43807.0     16  \n",
              "400    30.0         5            28   41944.0     28  \n",
              "401    29.0         3            24   49386.0      5  \n",
              "402    22.0         3             9  115795.0      6  \n",
              "403    28.0         3            26   47786.0     17  \n",
              "\n",
              "[404 rows x 11 columns]"
            ]
          },
          "execution_count": 42,
          "metadata": {},
          "output_type": "execute_result"
        }
      ],
      "source": [
        "cars_data = pd.read_csv(\"../data/cars_about.csv\").dropna()\n",
        "\n",
        "cars_data[\"brand\"] = cars_data.car_model.apply(lambda a: a.split()[0])\n",
        "cars_data = cars_data.drop(columns=[\"car_model\", \"engine\", \"car_id\"])\n",
        "cars_data[\"price\"] = cars_data['price'].apply(lambda a: int(a[1:]))\n",
        "\n",
        "cars_data['used_label'] = cars_data[\"used_label\"].apply(lambda a: 1 if a==\"Used\" else 0)\n",
        "# Identify the categorical columns\n",
        "car_cat_cols = ['exteriorColor', 'interiorColor', 'drivetrain', 'fuelType', 'transmission', 'brand']\n",
        "\n",
        "# Convert the categorical columns to numerical using Label Encoding\n",
        "for col in car_cat_cols:\n",
        "    le = LabelEncoder()\n",
        "    cars_data[col] = le.fit_transform(cars_data[col])\n",
        "\n",
        "cars_data"
      ]
    },
    {
      "cell_type": "markdown",
      "metadata": {
        "id": "XRLlXnNCqk9u"
      },
      "source": [
        "## Preprocess actions data"
      ]
    },
    {
      "cell_type": "code",
      "execution_count": 43,
      "metadata": {
        "id": "azsUuGf4qk9v"
      },
      "outputs": [],
      "source": [
        "actions_data = actions_data.rename(columns = {\"item_id\":\"car_id\"})"
      ]
    },
    {
      "cell_type": "code",
      "execution_count": 44,
      "metadata": {
        "id": "9ZqqWCMSqk9v"
      },
      "outputs": [],
      "source": [
        "actions_pivot_table = pd.pivot_table(actions_data.sort_values(by=\"car_id\"), values='interaction', index='user_id', columns='car_id').fillna(0)"
      ]
    },
    {
      "cell_type": "code",
      "execution_count": 45,
      "metadata": {
        "colab": {
          "base_uri": "https://localhost:8080/"
        },
        "id": "MfH4sr0Kqk9v",
        "outputId": "cf678dee-8de0-410b-89a5-5058b3f04eff"
      },
      "outputs": [
        {
          "data": {
            "text/plain": [
              "109"
            ]
          },
          "execution_count": 45,
          "metadata": {},
          "output_type": "execute_result"
        }
      ],
      "source": [
        "actions_data.car_id.nunique()"
      ]
    },
    {
      "cell_type": "code",
      "execution_count": 46,
      "metadata": {
        "colab": {
          "base_uri": "https://localhost:8080/",
          "height": 542
        },
        "id": "qIYwi42Iqk9v",
        "outputId": "a698765d-7faa-4485-989b-91efb365bf7d"
      },
      "outputs": [
        {
          "data": {
            "application/vnd.plotly.v1+json": {
              "config": {
                "plotlyServerURL": "https://plot.ly"
              },
              "data": [
                {
                  "coloraxis": "coloraxis",
                  "hovertemplate": "car_id: %{x}<br>user_id: %{y}<br>color: %{z}<extra></extra>",
                  "name": "0",
                  "type": "heatmap",
                  "x": [
                    0,
                    2,
                    3,
                    4,
                    5,
                    6,
                    7,
                    8,
                    9,
                    10,
                    11,
                    12,
                    13,
                    15,
                    17,
                    18,
                    19,
                    20,
                    21,
                    22,
                    23,
                    28,
                    33,
                    35,
                    40,
                    45,
                    50,
                    59,
                    62,
                    64,
                    69,
                    74,
                    75,
                    78,
                    82,
                    85,
                    89,
                    91,
                    97,
                    98,
                    99,
                    102,
                    115,
                    120,
                    123,
                    130,
                    132,
                    135,
                    143,
                    146,
                    147,
                    151,
                    153,
                    170,
                    179,
                    187,
                    201,
                    202,
                    211,
                    212,
                    220,
                    221,
                    230,
                    232,
                    245,
                    246,
                    247,
                    249,
                    255,
                    259,
                    263,
                    266,
                    272,
                    273,
                    280,
                    284,
                    285,
                    293,
                    307,
                    308,
                    309,
                    312,
                    317,
                    318,
                    319,
                    327,
                    329,
                    333,
                    336,
                    338,
                    341,
                    347,
                    352,
                    355,
                    358,
                    363,
                    364,
                    365,
                    366,
                    370,
                    373,
                    376,
                    380,
                    382,
                    387,
                    389,
                    395,
                    397,
                    402
                  ],
                  "xaxis": "x",
                  "y": [
                    0,
                    1,
                    2,
                    3,
                    4,
                    5,
                    6,
                    7,
                    8,
                    9,
                    10,
                    11,
                    12,
                    13,
                    14,
                    15,
                    16,
                    17,
                    18,
                    19,
                    20,
                    21,
                    22,
                    23,
                    24,
                    25,
                    26,
                    27,
                    28,
                    29,
                    30,
                    31,
                    32,
                    33,
                    34,
                    35,
                    36,
                    37,
                    38,
                    39,
                    40,
                    41,
                    42,
                    43,
                    44,
                    45,
                    46,
                    47,
                    48,
                    49,
                    50,
                    51,
                    52,
                    53,
                    54,
                    55,
                    56,
                    57,
                    58,
                    59,
                    60,
                    61,
                    62,
                    63,
                    64,
                    65,
                    66,
                    67,
                    68,
                    69,
                    70,
                    71,
                    72,
                    73,
                    74
                  ],
                  "yaxis": "y",
                  "z": [
                    [
                      1,
                      0,
                      0,
                      0,
                      1,
                      0,
                      1,
                      0,
                      1,
                      1,
                      0,
                      0,
                      0,
                      0,
                      0,
                      0,
                      0,
                      0,
                      0,
                      0,
                      0,
                      0,
                      0,
                      0,
                      0,
                      0,
                      0,
                      1,
                      0,
                      0,
                      0,
                      0,
                      0,
                      0,
                      0,
                      0,
                      0,
                      0,
                      0,
                      0,
                      0,
                      0,
                      1,
                      0,
                      0,
                      0,
                      0,
                      0,
                      0,
                      0,
                      0,
                      0,
                      0,
                      0,
                      0,
                      0,
                      0,
                      0,
                      1,
                      0,
                      0,
                      0,
                      0,
                      0,
                      0,
                      0,
                      0,
                      0,
                      0,
                      0,
                      0,
                      0,
                      0,
                      0,
                      0,
                      0,
                      0,
                      0,
                      0,
                      0,
                      0,
                      0,
                      0,
                      1,
                      0,
                      0,
                      0,
                      0,
                      0,
                      0,
                      0,
                      0,
                      0,
                      0,
                      0,
                      0,
                      0,
                      0,
                      0,
                      0,
                      0,
                      0,
                      0,
                      0,
                      0,
                      0,
                      0,
                      0,
                      1
                    ],
                    [
                      0,
                      0,
                      0,
                      0,
                      0,
                      0,
                      0,
                      0,
                      0,
                      0,
                      0,
                      0,
                      0,
                      0,
                      0,
                      0,
                      0,
                      0,
                      0,
                      0,
                      0,
                      0,
                      0,
                      0,
                      0,
                      0,
                      1,
                      0,
                      0,
                      0,
                      0,
                      1,
                      0,
                      1,
                      0,
                      0,
                      1,
                      0,
                      0,
                      0,
                      0,
                      0,
                      0,
                      0,
                      0,
                      0,
                      1,
                      1,
                      0,
                      0,
                      0,
                      0,
                      0,
                      1,
                      0,
                      0,
                      0,
                      0,
                      0,
                      0,
                      0,
                      0,
                      0,
                      0,
                      0,
                      0,
                      0,
                      0,
                      0,
                      0,
                      0,
                      0,
                      0,
                      0,
                      0,
                      0,
                      0,
                      0,
                      0,
                      0,
                      1,
                      0,
                      0,
                      0,
                      0,
                      0,
                      0,
                      0,
                      0,
                      0,
                      0,
                      1,
                      0,
                      0,
                      0,
                      0,
                      0,
                      0,
                      0,
                      0,
                      0,
                      0,
                      0,
                      0,
                      0,
                      0,
                      0,
                      0,
                      0
                    ],
                    [
                      0,
                      0,
                      0,
                      0,
                      1,
                      0,
                      0,
                      1,
                      1,
                      0,
                      0,
                      1,
                      0,
                      0,
                      0,
                      0,
                      1,
                      1,
                      0,
                      0,
                      0,
                      0,
                      0,
                      0,
                      1,
                      0,
                      0,
                      0,
                      0,
                      0,
                      0,
                      0,
                      0,
                      0,
                      0,
                      0,
                      0,
                      1,
                      0,
                      0,
                      0,
                      0,
                      0,
                      0,
                      0,
                      0,
                      0,
                      0,
                      0,
                      0,
                      0,
                      0,
                      0,
                      0,
                      0,
                      0,
                      1,
                      0,
                      0,
                      0,
                      0,
                      0,
                      1,
                      0,
                      0,
                      0,
                      0,
                      0,
                      0,
                      0,
                      0,
                      0,
                      0,
                      0,
                      0,
                      0,
                      0,
                      0,
                      0,
                      0,
                      0,
                      0,
                      0,
                      1,
                      0,
                      0,
                      0,
                      0,
                      0,
                      0,
                      0,
                      0,
                      0,
                      0,
                      0,
                      0,
                      0,
                      0,
                      0,
                      0,
                      0,
                      0,
                      0,
                      0,
                      1,
                      0,
                      1,
                      0,
                      0
                    ],
                    [
                      0,
                      0,
                      0,
                      0,
                      0,
                      0,
                      0,
                      0,
                      0,
                      0,
                      0,
                      0,
                      0,
                      0,
                      0,
                      0,
                      0,
                      0,
                      0,
                      0,
                      0,
                      0,
                      0,
                      0,
                      0,
                      0,
                      0,
                      0,
                      0,
                      1,
                      0,
                      0,
                      0,
                      0,
                      0,
                      0,
                      0,
                      0,
                      0,
                      0,
                      1,
                      0,
                      0,
                      0,
                      0,
                      0,
                      0,
                      0,
                      0,
                      0,
                      0,
                      0,
                      0,
                      0,
                      0,
                      0,
                      0,
                      0,
                      0,
                      0,
                      0,
                      0,
                      0,
                      0,
                      0,
                      0,
                      0,
                      0,
                      0,
                      1,
                      0,
                      0,
                      0,
                      1,
                      0,
                      0,
                      0,
                      0,
                      0,
                      0,
                      0,
                      0,
                      0,
                      0,
                      0,
                      0,
                      0,
                      0,
                      0,
                      0,
                      0,
                      0,
                      0,
                      0,
                      0,
                      0,
                      0,
                      0,
                      0,
                      0,
                      0,
                      0,
                      0,
                      0,
                      1,
                      0,
                      0,
                      0,
                      0
                    ],
                    [
                      0,
                      0,
                      0,
                      0,
                      0,
                      0,
                      0,
                      0,
                      0,
                      0,
                      0,
                      0,
                      0,
                      0,
                      0,
                      0,
                      0,
                      0,
                      0,
                      0,
                      0,
                      0,
                      0,
                      0,
                      0,
                      0,
                      0,
                      0,
                      0,
                      0,
                      0,
                      0,
                      0,
                      0,
                      0,
                      0,
                      0,
                      0,
                      0,
                      0,
                      0,
                      0,
                      0,
                      0,
                      0,
                      0,
                      0,
                      1,
                      0,
                      0,
                      0,
                      0,
                      0,
                      0,
                      0,
                      0,
                      0,
                      0,
                      1,
                      1,
                      0,
                      0,
                      0,
                      0,
                      1,
                      0,
                      0,
                      0,
                      1,
                      0,
                      0,
                      0,
                      0,
                      0,
                      0,
                      0,
                      0,
                      0,
                      0,
                      0,
                      0,
                      0,
                      0,
                      0,
                      0,
                      0,
                      0,
                      0,
                      0,
                      0,
                      0,
                      1,
                      0,
                      0,
                      0,
                      0,
                      0,
                      0,
                      0,
                      0,
                      0,
                      0,
                      0,
                      0,
                      0,
                      0,
                      1,
                      0,
                      0
                    ],
                    [
                      0,
                      0,
                      0,
                      0,
                      0,
                      0,
                      0,
                      0,
                      0,
                      0,
                      0,
                      0,
                      0,
                      0,
                      0,
                      0,
                      0,
                      0,
                      0,
                      0,
                      0,
                      0,
                      0,
                      0,
                      0,
                      0,
                      0,
                      0,
                      0,
                      1,
                      0,
                      0,
                      1,
                      0,
                      0,
                      0,
                      0,
                      0,
                      0,
                      0,
                      0,
                      0,
                      0,
                      0,
                      0,
                      0,
                      0,
                      1,
                      0,
                      0,
                      0,
                      0,
                      0,
                      0,
                      0,
                      0,
                      0,
                      0,
                      1,
                      0,
                      0,
                      0,
                      0,
                      0,
                      0,
                      0,
                      0,
                      0,
                      0,
                      0,
                      0,
                      0,
                      0,
                      0,
                      0,
                      0,
                      0,
                      0,
                      0,
                      0,
                      0,
                      0,
                      0,
                      0,
                      0,
                      0,
                      0,
                      0,
                      0,
                      0,
                      0,
                      0,
                      0,
                      0,
                      0,
                      0,
                      0,
                      0,
                      0,
                      0,
                      0,
                      0,
                      0,
                      0,
                      1,
                      0,
                      1,
                      0,
                      0
                    ],
                    [
                      0,
                      0,
                      0,
                      0,
                      0,
                      0,
                      0,
                      0,
                      0,
                      0,
                      0,
                      0,
                      0,
                      0,
                      0,
                      0,
                      0,
                      0,
                      0,
                      0,
                      0,
                      0,
                      0,
                      0,
                      0,
                      1,
                      0,
                      0,
                      0,
                      0,
                      0,
                      1,
                      0,
                      0,
                      0,
                      0,
                      0,
                      0,
                      0,
                      0,
                      0,
                      0,
                      0,
                      0,
                      0,
                      0,
                      0,
                      0,
                      0,
                      0,
                      0,
                      0,
                      0,
                      0,
                      1,
                      0,
                      0,
                      0,
                      0,
                      0,
                      0,
                      0,
                      1,
                      0,
                      0,
                      0,
                      0,
                      0,
                      0,
                      0,
                      0,
                      0,
                      1,
                      0,
                      0,
                      0,
                      0,
                      0,
                      0,
                      0,
                      1,
                      0,
                      0,
                      0,
                      0,
                      0,
                      0,
                      0,
                      0,
                      0,
                      0,
                      1,
                      0,
                      0,
                      0,
                      0,
                      0,
                      0,
                      0,
                      0,
                      0,
                      0,
                      0,
                      0,
                      0,
                      0,
                      1,
                      0,
                      0
                    ],
                    [
                      0,
                      0,
                      0,
                      0,
                      0,
                      0,
                      0,
                      0,
                      0,
                      0,
                      0,
                      0,
                      0,
                      0,
                      0,
                      0,
                      0,
                      0,
                      0,
                      0,
                      1,
                      0,
                      0,
                      0,
                      0,
                      0,
                      0,
                      0,
                      0,
                      1,
                      0,
                      0,
                      0,
                      0,
                      0,
                      0,
                      0,
                      0,
                      0,
                      0,
                      0,
                      0,
                      0,
                      0,
                      0,
                      0,
                      0,
                      0,
                      0,
                      0,
                      0,
                      1,
                      0,
                      0,
                      1,
                      0,
                      0,
                      0,
                      0,
                      0,
                      0,
                      0,
                      0,
                      0,
                      0,
                      0,
                      0,
                      0,
                      0,
                      0,
                      0,
                      0,
                      1,
                      0,
                      0,
                      0,
                      0,
                      0,
                      0,
                      0,
                      0,
                      0,
                      0,
                      0,
                      0,
                      0,
                      0,
                      0,
                      0,
                      0,
                      0,
                      0,
                      0,
                      0,
                      0,
                      0,
                      0,
                      0,
                      0,
                      0,
                      0,
                      0,
                      0,
                      0,
                      0,
                      0,
                      0,
                      0,
                      0
                    ],
                    [
                      0,
                      0,
                      0,
                      0,
                      0,
                      0,
                      0,
                      0,
                      0,
                      0,
                      0,
                      0,
                      0,
                      0,
                      0,
                      0,
                      0,
                      0,
                      0,
                      0,
                      0,
                      0,
                      0,
                      0,
                      0,
                      0,
                      0,
                      0,
                      0,
                      1,
                      0,
                      0,
                      0,
                      0,
                      0,
                      0,
                      0,
                      0,
                      0,
                      0,
                      0,
                      0,
                      0,
                      0,
                      0,
                      0,
                      0,
                      0,
                      0,
                      0,
                      0,
                      0,
                      0,
                      0,
                      1,
                      0,
                      0,
                      0,
                      0,
                      0,
                      0,
                      0,
                      0,
                      0,
                      0,
                      0,
                      0,
                      0,
                      0,
                      1,
                      0,
                      1,
                      0,
                      0,
                      0,
                      0,
                      0,
                      1,
                      0,
                      0,
                      0,
                      0,
                      0,
                      0,
                      0,
                      0,
                      0,
                      0,
                      0,
                      0,
                      0,
                      0,
                      0,
                      0,
                      0,
                      0,
                      0,
                      0,
                      0,
                      0,
                      0,
                      0,
                      1,
                      0,
                      0,
                      0,
                      0,
                      0,
                      0
                    ],
                    [
                      0,
                      0,
                      0,
                      0,
                      0,
                      0,
                      0,
                      0,
                      0,
                      0,
                      0,
                      0,
                      0,
                      0,
                      0,
                      0,
                      0,
                      0,
                      0,
                      0,
                      0,
                      0,
                      0,
                      0,
                      0,
                      0,
                      0,
                      0,
                      0,
                      0,
                      0,
                      1,
                      0,
                      0,
                      0,
                      0,
                      0,
                      0,
                      0,
                      0,
                      0,
                      0,
                      0,
                      0,
                      0,
                      0,
                      0,
                      0,
                      0,
                      0,
                      0,
                      0,
                      0,
                      0,
                      0,
                      0,
                      0,
                      0,
                      0,
                      0,
                      0,
                      0,
                      0,
                      0,
                      0,
                      0,
                      0,
                      0,
                      0,
                      1,
                      0,
                      1,
                      1,
                      0,
                      0,
                      0,
                      0,
                      0,
                      0,
                      0,
                      0,
                      0,
                      0,
                      0,
                      0,
                      0,
                      0,
                      0,
                      0,
                      0,
                      0,
                      0,
                      0,
                      0,
                      0,
                      0,
                      1,
                      0,
                      0,
                      0,
                      0,
                      0,
                      0,
                      0,
                      0,
                      0,
                      1,
                      0,
                      0
                    ],
                    [
                      0,
                      0,
                      0,
                      0,
                      0,
                      0,
                      0,
                      0,
                      0,
                      0,
                      0,
                      0,
                      0,
                      0,
                      0,
                      0,
                      0,
                      0,
                      0,
                      0,
                      0,
                      0,
                      0,
                      0,
                      0,
                      0,
                      0,
                      1,
                      0,
                      0,
                      0,
                      0,
                      0,
                      0,
                      0,
                      0,
                      0,
                      0,
                      0,
                      0,
                      0,
                      0,
                      0,
                      0,
                      0,
                      0,
                      0,
                      1,
                      0,
                      0,
                      0,
                      0,
                      0,
                      0,
                      0,
                      0,
                      0,
                      0,
                      1,
                      0,
                      0,
                      0,
                      0,
                      0,
                      0,
                      0,
                      0,
                      0,
                      0,
                      0,
                      0,
                      1,
                      0,
                      1,
                      0,
                      0,
                      0,
                      0,
                      0,
                      0,
                      0,
                      0,
                      0,
                      0,
                      0,
                      0,
                      1,
                      0,
                      0,
                      0,
                      0,
                      0,
                      0,
                      0,
                      0,
                      0,
                      1,
                      0,
                      0,
                      0,
                      0,
                      0,
                      0,
                      0,
                      0,
                      0,
                      1,
                      0,
                      0
                    ],
                    [
                      0,
                      0,
                      0,
                      0,
                      0,
                      0,
                      0,
                      0,
                      0,
                      0,
                      0,
                      0,
                      0,
                      0,
                      0,
                      0,
                      0,
                      0,
                      0,
                      0,
                      0,
                      0,
                      0,
                      0,
                      0,
                      0,
                      0,
                      0,
                      0,
                      0,
                      0,
                      0,
                      0,
                      0,
                      0,
                      0,
                      0,
                      0,
                      0,
                      0,
                      1,
                      0,
                      0,
                      0,
                      0,
                      0,
                      0,
                      0,
                      0,
                      0,
                      0,
                      0,
                      0,
                      0,
                      0,
                      0,
                      0,
                      0,
                      0,
                      0,
                      0,
                      0,
                      0,
                      0,
                      0,
                      0,
                      0,
                      0,
                      0,
                      0,
                      0,
                      0,
                      1,
                      0,
                      0,
                      0,
                      0,
                      0,
                      0,
                      0,
                      0,
                      0,
                      0,
                      1,
                      1,
                      0,
                      0,
                      0,
                      0,
                      0,
                      0,
                      0,
                      0,
                      0,
                      0,
                      0,
                      1,
                      0,
                      0,
                      0,
                      0,
                      0,
                      0,
                      0,
                      1,
                      0,
                      0,
                      0,
                      0
                    ],
                    [
                      1,
                      1,
                      0,
                      1,
                      0,
                      0,
                      1,
                      0,
                      1,
                      0,
                      0,
                      1,
                      0,
                      0,
                      1,
                      1,
                      0,
                      0,
                      0,
                      0,
                      0,
                      0,
                      0,
                      0,
                      0,
                      0,
                      0,
                      0,
                      0,
                      0,
                      0,
                      0,
                      0,
                      0,
                      0,
                      0,
                      0,
                      0,
                      0,
                      0,
                      0,
                      0,
                      0,
                      0,
                      0,
                      0,
                      0,
                      0,
                      0,
                      0,
                      0,
                      0,
                      0,
                      0,
                      0,
                      0,
                      0,
                      0,
                      1,
                      0,
                      0,
                      0,
                      0,
                      0,
                      0,
                      0,
                      0,
                      0,
                      0,
                      0,
                      0,
                      0,
                      1,
                      0,
                      1,
                      0,
                      0,
                      0,
                      0,
                      0,
                      0,
                      0,
                      0,
                      0,
                      0,
                      0,
                      0,
                      0,
                      0,
                      0,
                      0,
                      0,
                      0,
                      0,
                      0,
                      0,
                      0,
                      0,
                      0,
                      0,
                      0,
                      0,
                      0,
                      0,
                      0,
                      0,
                      0,
                      0,
                      0
                    ],
                    [
                      1,
                      0,
                      0,
                      0,
                      1,
                      0,
                      1,
                      1,
                      1,
                      0,
                      1,
                      1,
                      0,
                      0,
                      0,
                      0,
                      0,
                      0,
                      0,
                      0,
                      1,
                      0,
                      0,
                      0,
                      0,
                      0,
                      0,
                      0,
                      0,
                      0,
                      0,
                      0,
                      0,
                      0,
                      0,
                      0,
                      0,
                      0,
                      0,
                      0,
                      1,
                      0,
                      0,
                      0,
                      0,
                      0,
                      0,
                      0,
                      0,
                      0,
                      0,
                      0,
                      0,
                      0,
                      1,
                      0,
                      0,
                      0,
                      0,
                      0,
                      0,
                      0,
                      0,
                      0,
                      0,
                      0,
                      0,
                      0,
                      0,
                      1,
                      0,
                      0,
                      0,
                      0,
                      0,
                      0,
                      0,
                      0,
                      0,
                      0,
                      1,
                      0,
                      0,
                      0,
                      1,
                      0,
                      0,
                      0,
                      0,
                      0,
                      0,
                      1,
                      0,
                      1,
                      0,
                      0,
                      0,
                      0,
                      0,
                      0,
                      0,
                      0,
                      0,
                      0,
                      0,
                      0,
                      1,
                      0,
                      0
                    ],
                    [
                      0,
                      0,
                      0,
                      0,
                      0,
                      0,
                      0,
                      0,
                      0,
                      0,
                      0,
                      1,
                      0,
                      0,
                      0,
                      0,
                      0,
                      0,
                      0,
                      0,
                      0,
                      0,
                      0,
                      0,
                      0,
                      0,
                      0,
                      0,
                      0,
                      0,
                      0,
                      0,
                      0,
                      0,
                      0,
                      0,
                      0,
                      0,
                      0,
                      0,
                      0,
                      0,
                      0,
                      1,
                      0,
                      0,
                      0,
                      0,
                      0,
                      0,
                      0,
                      0,
                      0,
                      1,
                      0,
                      0,
                      0,
                      0,
                      0,
                      0,
                      0,
                      1,
                      0,
                      0,
                      0,
                      0,
                      0,
                      0,
                      0,
                      0,
                      0,
                      0,
                      1,
                      0,
                      0,
                      0,
                      0,
                      0,
                      0,
                      1,
                      0,
                      0,
                      0,
                      0,
                      0,
                      0,
                      0,
                      0,
                      0,
                      0,
                      0,
                      1,
                      0,
                      1,
                      0,
                      0,
                      1,
                      0,
                      0,
                      0,
                      0,
                      0,
                      0,
                      0,
                      0,
                      0,
                      1,
                      0,
                      0
                    ],
                    [
                      0,
                      0,
                      0,
                      0,
                      0,
                      0,
                      0,
                      0,
                      0,
                      0,
                      0,
                      0,
                      0,
                      0,
                      0,
                      0,
                      0,
                      0,
                      0,
                      0,
                      0,
                      0,
                      0,
                      0,
                      0,
                      1,
                      0,
                      0,
                      0,
                      0,
                      0,
                      1,
                      0,
                      0,
                      0,
                      0,
                      0,
                      0,
                      0,
                      0,
                      1,
                      0,
                      0,
                      0,
                      0,
                      0,
                      0,
                      0,
                      0,
                      0,
                      1,
                      0,
                      0,
                      0,
                      0,
                      0,
                      0,
                      0,
                      0,
                      0,
                      0,
                      0,
                      0,
                      0,
                      0,
                      0,
                      0,
                      0,
                      0,
                      0,
                      0,
                      0,
                      1,
                      0,
                      0,
                      0,
                      0,
                      0,
                      0,
                      0,
                      0,
                      0,
                      0,
                      0,
                      0,
                      0,
                      0,
                      0,
                      0,
                      0,
                      0,
                      0,
                      0,
                      0,
                      0,
                      0,
                      0,
                      0,
                      0,
                      0,
                      0,
                      0,
                      0,
                      0,
                      0,
                      0,
                      0,
                      1,
                      0
                    ],
                    [
                      0,
                      0,
                      0,
                      0,
                      0,
                      0,
                      0,
                      0,
                      0,
                      0,
                      0,
                      0,
                      0,
                      0,
                      0,
                      0,
                      0,
                      0,
                      0,
                      0,
                      0,
                      0,
                      0,
                      0,
                      0,
                      0,
                      0,
                      1,
                      0,
                      0,
                      0,
                      0,
                      0,
                      0,
                      0,
                      0,
                      0,
                      0,
                      0,
                      0,
                      0,
                      0,
                      0,
                      0,
                      0,
                      0,
                      0,
                      1,
                      0,
                      0,
                      0,
                      0,
                      0,
                      0,
                      0,
                      0,
                      0,
                      0,
                      0,
                      0,
                      0,
                      0,
                      0,
                      0,
                      0,
                      0,
                      0,
                      0,
                      0,
                      0,
                      0,
                      1,
                      1,
                      0,
                      0,
                      1,
                      0,
                      0,
                      0,
                      0,
                      0,
                      0,
                      0,
                      0,
                      0,
                      0,
                      0,
                      0,
                      0,
                      0,
                      0,
                      0,
                      0,
                      0,
                      0,
                      0,
                      0,
                      0,
                      0,
                      0,
                      0,
                      0,
                      0,
                      0,
                      0,
                      0,
                      1,
                      0,
                      0
                    ],
                    [
                      1,
                      0,
                      0,
                      0,
                      0,
                      0,
                      1,
                      1,
                      1,
                      1,
                      0,
                      1,
                      0,
                      0,
                      0,
                      0,
                      0,
                      0,
                      0,
                      0,
                      0,
                      0,
                      1,
                      0,
                      0,
                      0,
                      0,
                      0,
                      0,
                      0,
                      0,
                      0,
                      0,
                      0,
                      0,
                      0,
                      0,
                      0,
                      1,
                      0,
                      0,
                      0,
                      0,
                      0,
                      0,
                      0,
                      0,
                      0,
                      0,
                      0,
                      0,
                      0,
                      0,
                      1,
                      0,
                      0,
                      0,
                      0,
                      0,
                      0,
                      0,
                      0,
                      0,
                      0,
                      0,
                      0,
                      0,
                      0,
                      0,
                      0,
                      0,
                      0,
                      0,
                      1,
                      0,
                      0,
                      0,
                      0,
                      0,
                      0,
                      0,
                      0,
                      0,
                      0,
                      0,
                      0,
                      0,
                      0,
                      0,
                      0,
                      0,
                      0,
                      0,
                      0,
                      0,
                      0,
                      0,
                      0,
                      0,
                      0,
                      0,
                      0,
                      0,
                      0,
                      0,
                      0,
                      0,
                      0,
                      0
                    ],
                    [
                      0,
                      0,
                      0,
                      1,
                      1,
                      0,
                      1,
                      1,
                      0,
                      1,
                      0,
                      0,
                      0,
                      0,
                      0,
                      0,
                      0,
                      0,
                      0,
                      0,
                      0,
                      0,
                      0,
                      0,
                      0,
                      0,
                      0,
                      0,
                      0,
                      1,
                      0,
                      0,
                      0,
                      0,
                      0,
                      0,
                      0,
                      0,
                      0,
                      0,
                      0,
                      0,
                      0,
                      0,
                      0,
                      0,
                      0,
                      0,
                      0,
                      0,
                      0,
                      0,
                      0,
                      0,
                      0,
                      0,
                      0,
                      0,
                      0,
                      0,
                      0,
                      0,
                      0,
                      0,
                      0,
                      0,
                      0,
                      0,
                      0,
                      0,
                      0,
                      0,
                      0,
                      0,
                      0,
                      0,
                      0,
                      0,
                      0,
                      0,
                      0,
                      0,
                      0,
                      0,
                      0,
                      0,
                      0,
                      0,
                      0,
                      0,
                      0,
                      0,
                      0,
                      0,
                      0,
                      0,
                      0,
                      0,
                      0,
                      0,
                      0,
                      0,
                      0,
                      0,
                      0,
                      0,
                      0,
                      0,
                      0
                    ],
                    [
                      0,
                      0,
                      0,
                      0,
                      0,
                      0,
                      0,
                      0,
                      0,
                      0,
                      0,
                      0,
                      0,
                      0,
                      0,
                      0,
                      0,
                      0,
                      0,
                      0,
                      0,
                      0,
                      0,
                      0,
                      0,
                      0,
                      0,
                      0,
                      0,
                      0,
                      0,
                      0,
                      0,
                      0,
                      0,
                      0,
                      0,
                      0,
                      0,
                      0,
                      0,
                      0,
                      0,
                      0,
                      0,
                      0,
                      0,
                      0,
                      0,
                      0,
                      0,
                      0,
                      0,
                      0,
                      0,
                      0,
                      0,
                      0,
                      0,
                      0,
                      0,
                      0,
                      0,
                      0,
                      0,
                      0,
                      0,
                      0,
                      0,
                      0,
                      0,
                      0,
                      1,
                      0,
                      0,
                      0,
                      0,
                      0,
                      0,
                      0,
                      1,
                      0,
                      0,
                      1,
                      0,
                      0,
                      1,
                      0,
                      0,
                      0,
                      0,
                      0,
                      0,
                      1,
                      0,
                      0,
                      0,
                      0,
                      0,
                      0,
                      0,
                      0,
                      0,
                      0,
                      0,
                      0,
                      0,
                      0,
                      0
                    ],
                    [
                      0,
                      0,
                      0,
                      0,
                      0,
                      0,
                      0,
                      0,
                      0,
                      0,
                      0,
                      0,
                      0,
                      0,
                      0,
                      0,
                      0,
                      0,
                      0,
                      0,
                      0,
                      0,
                      0,
                      0,
                      0,
                      0,
                      0,
                      0,
                      1,
                      0,
                      0,
                      0,
                      0,
                      0,
                      0,
                      0,
                      0,
                      0,
                      0,
                      0,
                      0,
                      0,
                      0,
                      0,
                      0,
                      0,
                      0,
                      0,
                      0,
                      0,
                      0,
                      0,
                      0,
                      0,
                      0,
                      0,
                      0,
                      0,
                      0,
                      0,
                      0,
                      0,
                      0,
                      0,
                      0,
                      0,
                      0,
                      0,
                      0,
                      0,
                      0,
                      0,
                      0,
                      0,
                      0,
                      0,
                      0,
                      0,
                      0,
                      0,
                      0,
                      0,
                      0,
                      0,
                      0,
                      0,
                      0,
                      0,
                      0,
                      0,
                      0,
                      0,
                      0,
                      1,
                      0,
                      0,
                      0,
                      0,
                      0,
                      0,
                      0,
                      0,
                      0,
                      0,
                      0,
                      0,
                      0,
                      0,
                      0
                    ],
                    [
                      1,
                      0,
                      0,
                      0,
                      0,
                      0,
                      1,
                      1,
                      1,
                      0,
                      0,
                      1,
                      0,
                      0,
                      0,
                      0,
                      1,
                      0,
                      0,
                      0,
                      0,
                      0,
                      0,
                      0,
                      0,
                      0,
                      0,
                      0,
                      0,
                      1,
                      0,
                      0,
                      0,
                      0,
                      0,
                      0,
                      0,
                      0,
                      0,
                      0,
                      0,
                      0,
                      0,
                      0,
                      0,
                      0,
                      0,
                      0,
                      0,
                      0,
                      0,
                      0,
                      1,
                      0,
                      0,
                      0,
                      0,
                      0,
                      0,
                      0,
                      0,
                      0,
                      0,
                      0,
                      0,
                      0,
                      0,
                      0,
                      0,
                      0,
                      0,
                      1,
                      0,
                      0,
                      0,
                      0,
                      0,
                      0,
                      0,
                      0,
                      0,
                      0,
                      0,
                      0,
                      0,
                      0,
                      0,
                      0,
                      0,
                      0,
                      0,
                      0,
                      0,
                      0,
                      0,
                      0,
                      0,
                      0,
                      0,
                      0,
                      0,
                      0,
                      0,
                      0,
                      0,
                      0,
                      0,
                      0,
                      0
                    ],
                    [
                      0,
                      0,
                      0,
                      0,
                      0,
                      0,
                      0,
                      0,
                      0,
                      0,
                      0,
                      0,
                      0,
                      0,
                      0,
                      0,
                      0,
                      0,
                      0,
                      0,
                      0,
                      0,
                      0,
                      0,
                      0,
                      0,
                      0,
                      0,
                      0,
                      0,
                      0,
                      0,
                      0,
                      0,
                      0,
                      0,
                      0,
                      0,
                      0,
                      0,
                      1,
                      0,
                      0,
                      0,
                      0,
                      0,
                      0,
                      1,
                      0,
                      0,
                      0,
                      0,
                      0,
                      0,
                      0,
                      0,
                      0,
                      0,
                      1,
                      0,
                      0,
                      0,
                      0,
                      0,
                      0,
                      0,
                      0,
                      0,
                      0,
                      1,
                      0,
                      0,
                      0,
                      0,
                      0,
                      0,
                      0,
                      0,
                      0,
                      0,
                      0,
                      0,
                      0,
                      1,
                      0,
                      0,
                      1,
                      0,
                      0,
                      0,
                      0,
                      0,
                      0,
                      1,
                      0,
                      0,
                      0,
                      0,
                      0,
                      0,
                      0,
                      0,
                      0,
                      0,
                      1,
                      0,
                      0,
                      0,
                      1
                    ],
                    [
                      0,
                      0,
                      0,
                      0,
                      0,
                      0,
                      0,
                      0,
                      0,
                      0,
                      0,
                      0,
                      0,
                      0,
                      0,
                      0,
                      0,
                      0,
                      0,
                      0,
                      0,
                      0,
                      0,
                      0,
                      0,
                      1,
                      0,
                      0,
                      0,
                      1,
                      0,
                      0,
                      0,
                      0,
                      0,
                      0,
                      0,
                      0,
                      0,
                      0,
                      0,
                      0,
                      0,
                      0,
                      0,
                      0,
                      0,
                      1,
                      0,
                      0,
                      0,
                      0,
                      0,
                      0,
                      0,
                      0,
                      0,
                      0,
                      1,
                      0,
                      0,
                      0,
                      0,
                      0,
                      0,
                      0,
                      0,
                      0,
                      0,
                      0,
                      0,
                      1,
                      0,
                      1,
                      0,
                      0,
                      0,
                      0,
                      0,
                      0,
                      0,
                      0,
                      0,
                      0,
                      0,
                      0,
                      0,
                      0,
                      0,
                      0,
                      0,
                      1,
                      0,
                      0,
                      0,
                      0,
                      0,
                      0,
                      0,
                      0,
                      0,
                      0,
                      0,
                      0,
                      0,
                      0,
                      0,
                      0,
                      0
                    ],
                    [
                      0,
                      0,
                      0,
                      0,
                      1,
                      1,
                      1,
                      1,
                      1,
                      1,
                      1,
                      1,
                      0,
                      0,
                      0,
                      0,
                      0,
                      1,
                      0,
                      0,
                      1,
                      0,
                      0,
                      0,
                      0,
                      0,
                      0,
                      0,
                      0,
                      0,
                      0,
                      0,
                      0,
                      0,
                      0,
                      0,
                      0,
                      0,
                      0,
                      0,
                      0,
                      0,
                      0,
                      0,
                      0,
                      0,
                      0,
                      0,
                      0,
                      0,
                      0,
                      0,
                      0,
                      0,
                      0,
                      0,
                      0,
                      0,
                      0,
                      0,
                      0,
                      0,
                      0,
                      0,
                      0,
                      0,
                      0,
                      0,
                      0,
                      0,
                      0,
                      0,
                      0,
                      1,
                      0,
                      0,
                      0,
                      0,
                      0,
                      0,
                      0,
                      0,
                      0,
                      0,
                      0,
                      0,
                      0,
                      0,
                      0,
                      0,
                      0,
                      0,
                      0,
                      0,
                      0,
                      0,
                      0,
                      0,
                      0,
                      0,
                      0,
                      0,
                      0,
                      0,
                      0,
                      0,
                      0,
                      0,
                      0
                    ],
                    [
                      0,
                      0,
                      0,
                      0,
                      0,
                      0,
                      0,
                      0,
                      0,
                      0,
                      0,
                      0,
                      0,
                      0,
                      0,
                      0,
                      0,
                      0,
                      0,
                      0,
                      0,
                      0,
                      0,
                      0,
                      0,
                      0,
                      0,
                      1,
                      0,
                      1,
                      0,
                      0,
                      0,
                      0,
                      0,
                      0,
                      0,
                      0,
                      0,
                      0,
                      1,
                      0,
                      0,
                      0,
                      0,
                      0,
                      0,
                      0,
                      0,
                      0,
                      0,
                      0,
                      0,
                      1,
                      0,
                      0,
                      0,
                      0,
                      0,
                      0,
                      0,
                      0,
                      0,
                      0,
                      0,
                      0,
                      0,
                      0,
                      0,
                      0,
                      0,
                      0,
                      0,
                      0,
                      0,
                      0,
                      0,
                      0,
                      0,
                      0,
                      0,
                      0,
                      0,
                      0,
                      0,
                      0,
                      0,
                      0,
                      0,
                      0,
                      0,
                      0,
                      0,
                      0,
                      0,
                      0,
                      0,
                      0,
                      0,
                      0,
                      0,
                      0,
                      1,
                      0,
                      0,
                      0,
                      0,
                      0,
                      0
                    ],
                    [
                      0,
                      0,
                      0,
                      0,
                      1,
                      1,
                      1,
                      1,
                      0,
                      1,
                      1,
                      1,
                      0,
                      0,
                      0,
                      0,
                      0,
                      0,
                      0,
                      0,
                      0,
                      0,
                      0,
                      0,
                      0,
                      0,
                      0,
                      0,
                      0,
                      0,
                      0,
                      0,
                      1,
                      0,
                      0,
                      0,
                      0,
                      0,
                      0,
                      0,
                      0,
                      0,
                      0,
                      0,
                      0,
                      0,
                      0,
                      1,
                      0,
                      0,
                      0,
                      0,
                      1,
                      0,
                      0,
                      0,
                      0,
                      0,
                      0,
                      0,
                      0,
                      0,
                      0,
                      0,
                      0,
                      0,
                      0,
                      0,
                      0,
                      0,
                      0,
                      0,
                      0,
                      1,
                      0,
                      0,
                      0,
                      0,
                      0,
                      0,
                      0,
                      0,
                      0,
                      0,
                      0,
                      0,
                      1,
                      0,
                      0,
                      0,
                      0,
                      0,
                      0,
                      0,
                      0,
                      0,
                      0,
                      0,
                      0,
                      0,
                      0,
                      0,
                      0,
                      0,
                      0,
                      0,
                      0,
                      0,
                      0
                    ],
                    [
                      0,
                      0,
                      0,
                      0,
                      0,
                      0,
                      0,
                      0,
                      0,
                      0,
                      0,
                      0,
                      0,
                      0,
                      0,
                      0,
                      0,
                      0,
                      0,
                      0,
                      0,
                      1,
                      0,
                      0,
                      0,
                      0,
                      0,
                      1,
                      0,
                      0,
                      0,
                      1,
                      0,
                      0,
                      0,
                      0,
                      0,
                      0,
                      0,
                      0,
                      1,
                      0,
                      0,
                      0,
                      0,
                      0,
                      0,
                      0,
                      0,
                      0,
                      0,
                      0,
                      0,
                      0,
                      0,
                      0,
                      0,
                      0,
                      0,
                      0,
                      0,
                      0,
                      0,
                      0,
                      0,
                      0,
                      0,
                      0,
                      0,
                      0,
                      0,
                      0,
                      0,
                      0,
                      0,
                      0,
                      0,
                      0,
                      0,
                      0,
                      0,
                      0,
                      0,
                      0,
                      0,
                      0,
                      0,
                      0,
                      0,
                      0,
                      0,
                      0,
                      0,
                      0,
                      0,
                      0,
                      0,
                      0,
                      0,
                      0,
                      0,
                      0,
                      0,
                      0,
                      1,
                      0,
                      0,
                      0,
                      1
                    ],
                    [
                      0,
                      0,
                      0,
                      0,
                      0,
                      0,
                      0,
                      0,
                      0,
                      0,
                      0,
                      0,
                      0,
                      0,
                      0,
                      0,
                      0,
                      0,
                      0,
                      0,
                      0,
                      0,
                      0,
                      1,
                      0,
                      0,
                      0,
                      0,
                      0,
                      0,
                      0,
                      0,
                      0,
                      0,
                      0,
                      1,
                      0,
                      0,
                      0,
                      0,
                      0,
                      0,
                      0,
                      0,
                      0,
                      0,
                      0,
                      0,
                      0,
                      1,
                      0,
                      0,
                      0,
                      0,
                      1,
                      0,
                      0,
                      0,
                      0,
                      0,
                      0,
                      0,
                      1,
                      1,
                      0,
                      0,
                      0,
                      0,
                      0,
                      1,
                      0,
                      0,
                      1,
                      1,
                      0,
                      0,
                      0,
                      0,
                      0,
                      0,
                      1,
                      1,
                      0,
                      0,
                      0,
                      0,
                      0,
                      0,
                      0,
                      0,
                      1,
                      0,
                      0,
                      0,
                      0,
                      0,
                      0,
                      0,
                      0,
                      1,
                      0,
                      0,
                      0,
                      0,
                      0,
                      0,
                      0,
                      0,
                      0
                    ],
                    [
                      0,
                      0,
                      0,
                      0,
                      0,
                      0,
                      0,
                      0,
                      0,
                      0,
                      0,
                      1,
                      0,
                      0,
                      0,
                      0,
                      0,
                      0,
                      0,
                      0,
                      0,
                      0,
                      0,
                      0,
                      0,
                      0,
                      0,
                      0,
                      0,
                      0,
                      0,
                      0,
                      0,
                      0,
                      0,
                      0,
                      0,
                      0,
                      0,
                      0,
                      0,
                      0,
                      0,
                      0,
                      0,
                      0,
                      0,
                      0,
                      0,
                      0,
                      0,
                      0,
                      0,
                      0,
                      0,
                      0,
                      0,
                      0,
                      1,
                      0,
                      0,
                      0,
                      1,
                      0,
                      0,
                      0,
                      0,
                      0,
                      0,
                      0,
                      0,
                      1,
                      0,
                      0,
                      0,
                      0,
                      0,
                      0,
                      0,
                      0,
                      0,
                      0,
                      0,
                      0,
                      0,
                      0,
                      0,
                      0,
                      0,
                      0,
                      0,
                      0,
                      0,
                      0,
                      0,
                      0,
                      0,
                      0,
                      0,
                      0,
                      0,
                      0,
                      0,
                      0,
                      0,
                      0,
                      0,
                      0,
                      0
                    ],
                    [
                      0,
                      0,
                      0,
                      0,
                      0,
                      0,
                      0,
                      0,
                      0,
                      0,
                      0,
                      0,
                      0,
                      0,
                      0,
                      0,
                      0,
                      0,
                      0,
                      0,
                      0,
                      0,
                      0,
                      0,
                      0,
                      0,
                      0,
                      0,
                      0,
                      1,
                      0,
                      0,
                      0,
                      0,
                      0,
                      0,
                      0,
                      0,
                      0,
                      0,
                      0,
                      0,
                      0,
                      0,
                      0,
                      0,
                      0,
                      1,
                      0,
                      0,
                      0,
                      0,
                      0,
                      0,
                      0,
                      0,
                      0,
                      0,
                      0,
                      0,
                      0,
                      0,
                      0,
                      0,
                      0,
                      0,
                      0,
                      0,
                      0,
                      1,
                      0,
                      0,
                      0,
                      1,
                      0,
                      0,
                      0,
                      0,
                      0,
                      0,
                      0,
                      0,
                      0,
                      1,
                      0,
                      0,
                      0,
                      0,
                      0,
                      0,
                      0,
                      0,
                      0,
                      0,
                      0,
                      0,
                      0,
                      0,
                      0,
                      0,
                      0,
                      0,
                      0,
                      0,
                      0,
                      0,
                      0,
                      0,
                      0
                    ],
                    [
                      0,
                      0,
                      0,
                      0,
                      0,
                      0,
                      0,
                      0,
                      0,
                      0,
                      0,
                      0,
                      0,
                      0,
                      0,
                      0,
                      0,
                      0,
                      0,
                      0,
                      0,
                      0,
                      0,
                      0,
                      0,
                      0,
                      0,
                      1,
                      0,
                      0,
                      0,
                      1,
                      0,
                      0,
                      0,
                      0,
                      0,
                      0,
                      0,
                      0,
                      1,
                      0,
                      0,
                      0,
                      0,
                      0,
                      0,
                      0,
                      0,
                      0,
                      0,
                      0,
                      0,
                      0,
                      0,
                      0,
                      0,
                      0,
                      0,
                      0,
                      0,
                      0,
                      0,
                      0,
                      0,
                      0,
                      0,
                      0,
                      0,
                      0,
                      0,
                      0,
                      1,
                      0,
                      0,
                      0,
                      0,
                      0,
                      0,
                      0,
                      1,
                      0,
                      0,
                      0,
                      0,
                      0,
                      1,
                      0,
                      0,
                      0,
                      0,
                      0,
                      0,
                      0,
                      0,
                      0,
                      1,
                      0,
                      0,
                      0,
                      0,
                      0,
                      0,
                      0,
                      0,
                      0,
                      0,
                      0,
                      0
                    ],
                    [
                      0,
                      0,
                      0,
                      0,
                      0,
                      0,
                      0,
                      0,
                      0,
                      0,
                      0,
                      1,
                      0,
                      0,
                      0,
                      1,
                      0,
                      0,
                      0,
                      0,
                      0,
                      0,
                      0,
                      0,
                      0,
                      0,
                      0,
                      0,
                      0,
                      0,
                      0,
                      0,
                      0,
                      0,
                      0,
                      0,
                      0,
                      0,
                      0,
                      0,
                      0,
                      0,
                      0,
                      0,
                      0,
                      0,
                      0,
                      0,
                      0,
                      0,
                      0,
                      0,
                      0,
                      1,
                      0,
                      0,
                      0,
                      0,
                      0,
                      0,
                      0,
                      0,
                      0,
                      0,
                      0,
                      0,
                      0,
                      0,
                      0,
                      0,
                      0,
                      0,
                      1,
                      1,
                      0,
                      0,
                      0,
                      0,
                      0,
                      0,
                      0,
                      0,
                      0,
                      0,
                      0,
                      0,
                      0,
                      0,
                      0,
                      0,
                      0,
                      0,
                      0,
                      1,
                      0,
                      0,
                      0,
                      0,
                      0,
                      0,
                      0,
                      0,
                      0,
                      0,
                      0,
                      0,
                      1,
                      0,
                      0
                    ],
                    [
                      1,
                      1,
                      0,
                      0,
                      0,
                      0,
                      1,
                      1,
                      1,
                      0,
                      1,
                      1,
                      0,
                      0,
                      1,
                      0,
                      0,
                      1,
                      0,
                      0,
                      1,
                      0,
                      0,
                      0,
                      0,
                      0,
                      0,
                      0,
                      0,
                      0,
                      0,
                      0,
                      0,
                      0,
                      0,
                      0,
                      0,
                      0,
                      0,
                      1,
                      0,
                      0,
                      0,
                      0,
                      0,
                      0,
                      0,
                      0,
                      0,
                      0,
                      0,
                      0,
                      0,
                      0,
                      0,
                      0,
                      0,
                      0,
                      0,
                      0,
                      1,
                      0,
                      0,
                      0,
                      0,
                      0,
                      0,
                      0,
                      0,
                      0,
                      0,
                      0,
                      1,
                      0,
                      0,
                      0,
                      0,
                      0,
                      0,
                      0,
                      0,
                      0,
                      0,
                      0,
                      0,
                      0,
                      1,
                      0,
                      1,
                      0,
                      0,
                      0,
                      0,
                      0,
                      0,
                      0,
                      0,
                      0,
                      0,
                      0,
                      0,
                      0,
                      0,
                      0,
                      0,
                      0,
                      0,
                      0,
                      0
                    ],
                    [
                      0,
                      1,
                      0,
                      1,
                      0,
                      0,
                      1,
                      1,
                      1,
                      0,
                      0,
                      1,
                      0,
                      0,
                      0,
                      0,
                      0,
                      0,
                      0,
                      0,
                      1,
                      0,
                      0,
                      0,
                      0,
                      0,
                      0,
                      0,
                      0,
                      1,
                      0,
                      1,
                      0,
                      0,
                      0,
                      0,
                      0,
                      0,
                      0,
                      0,
                      1,
                      0,
                      0,
                      0,
                      0,
                      0,
                      0,
                      0,
                      0,
                      0,
                      0,
                      0,
                      0,
                      0,
                      0,
                      0,
                      0,
                      0,
                      0,
                      0,
                      0,
                      0,
                      0,
                      0,
                      0,
                      0,
                      0,
                      0,
                      0,
                      0,
                      0,
                      0,
                      1,
                      0,
                      0,
                      0,
                      0,
                      0,
                      0,
                      0,
                      0,
                      0,
                      0,
                      0,
                      0,
                      0,
                      0,
                      0,
                      0,
                      0,
                      0,
                      1,
                      0,
                      0,
                      0,
                      0,
                      0,
                      0,
                      0,
                      0,
                      0,
                      0,
                      1,
                      0,
                      0,
                      0,
                      0,
                      0,
                      0
                    ],
                    [
                      0,
                      0,
                      0,
                      0,
                      0,
                      0,
                      0,
                      0,
                      0,
                      0,
                      0,
                      0,
                      0,
                      0,
                      0,
                      0,
                      0,
                      0,
                      0,
                      0,
                      0,
                      0,
                      0,
                      0,
                      0,
                      0,
                      0,
                      1,
                      0,
                      0,
                      0,
                      1,
                      0,
                      0,
                      0,
                      0,
                      0,
                      0,
                      0,
                      0,
                      0,
                      0,
                      0,
                      0,
                      0,
                      0,
                      0,
                      0,
                      0,
                      0,
                      0,
                      0,
                      0,
                      0,
                      1,
                      0,
                      0,
                      0,
                      1,
                      0,
                      0,
                      0,
                      0,
                      0,
                      0,
                      0,
                      0,
                      0,
                      0,
                      1,
                      0,
                      0,
                      0,
                      0,
                      0,
                      0,
                      0,
                      0,
                      0,
                      0,
                      0,
                      0,
                      0,
                      1,
                      0,
                      0,
                      0,
                      0,
                      0,
                      0,
                      0,
                      0,
                      0,
                      0,
                      0,
                      0,
                      0,
                      0,
                      0,
                      0,
                      0,
                      0,
                      0,
                      0,
                      0,
                      0,
                      0,
                      0,
                      0
                    ],
                    [
                      0,
                      0,
                      0,
                      0,
                      0,
                      0,
                      0,
                      0,
                      0,
                      0,
                      0,
                      1,
                      0,
                      0,
                      0,
                      0,
                      0,
                      0,
                      0,
                      0,
                      0,
                      0,
                      0,
                      0,
                      0,
                      1,
                      0,
                      0,
                      0,
                      0,
                      0,
                      0,
                      0,
                      0,
                      0,
                      0,
                      0,
                      0,
                      0,
                      0,
                      1,
                      0,
                      0,
                      0,
                      0,
                      0,
                      0,
                      0,
                      0,
                      0,
                      0,
                      0,
                      0,
                      0,
                      0,
                      0,
                      0,
                      0,
                      0,
                      0,
                      0,
                      0,
                      0,
                      0,
                      0,
                      0,
                      0,
                      0,
                      0,
                      1,
                      0,
                      0,
                      0,
                      0,
                      0,
                      0,
                      0,
                      0,
                      0,
                      0,
                      0,
                      0,
                      0,
                      0,
                      0,
                      0,
                      1,
                      0,
                      0,
                      0,
                      0,
                      0,
                      0,
                      0,
                      0,
                      0,
                      1,
                      0,
                      0,
                      0,
                      0,
                      0,
                      0,
                      0,
                      1,
                      0,
                      0,
                      0,
                      0
                    ],
                    [
                      0,
                      0,
                      0,
                      0,
                      0,
                      0,
                      0,
                      0,
                      0,
                      0,
                      0,
                      1,
                      0,
                      0,
                      0,
                      0,
                      0,
                      0,
                      0,
                      0,
                      0,
                      0,
                      0,
                      0,
                      0,
                      1,
                      0,
                      0,
                      0,
                      0,
                      0,
                      1,
                      0,
                      0,
                      0,
                      0,
                      0,
                      0,
                      0,
                      0,
                      0,
                      0,
                      0,
                      0,
                      0,
                      0,
                      0,
                      0,
                      0,
                      0,
                      0,
                      0,
                      0,
                      0,
                      0,
                      0,
                      0,
                      0,
                      0,
                      0,
                      0,
                      0,
                      0,
                      0,
                      0,
                      0,
                      0,
                      0,
                      0,
                      0,
                      0,
                      1,
                      0,
                      0,
                      0,
                      0,
                      0,
                      0,
                      0,
                      0,
                      0,
                      0,
                      0,
                      1,
                      0,
                      0,
                      0,
                      0,
                      0,
                      0,
                      0,
                      1,
                      0,
                      0,
                      0,
                      0,
                      0,
                      0,
                      0,
                      0,
                      0,
                      0,
                      0,
                      0,
                      0,
                      0,
                      0,
                      0,
                      0
                    ],
                    [
                      0,
                      0,
                      0,
                      0,
                      0,
                      0,
                      0,
                      0,
                      0,
                      0,
                      0,
                      0,
                      0,
                      0,
                      0,
                      0,
                      0,
                      0,
                      0,
                      1,
                      0,
                      0,
                      0,
                      0,
                      0,
                      0,
                      0,
                      0,
                      0,
                      0,
                      0,
                      0,
                      0,
                      0,
                      0,
                      0,
                      0,
                      0,
                      0,
                      0,
                      0,
                      0,
                      0,
                      0,
                      0,
                      0,
                      0,
                      0,
                      0,
                      0,
                      0,
                      0,
                      0,
                      0,
                      0,
                      0,
                      0,
                      0,
                      0,
                      0,
                      0,
                      1,
                      0,
                      0,
                      0,
                      0,
                      0,
                      1,
                      0,
                      0,
                      0,
                      0,
                      0,
                      0,
                      0,
                      0,
                      0,
                      0,
                      1,
                      0,
                      1,
                      0,
                      0,
                      1,
                      0,
                      0,
                      0,
                      0,
                      0,
                      0,
                      0,
                      0,
                      0,
                      0,
                      0,
                      0,
                      0,
                      1,
                      0,
                      0,
                      0,
                      0,
                      1,
                      0,
                      0,
                      0,
                      0,
                      0,
                      0
                    ],
                    [
                      0,
                      0,
                      0,
                      0,
                      0,
                      0,
                      0,
                      0,
                      0,
                      0,
                      0,
                      1,
                      0,
                      0,
                      0,
                      0,
                      0,
                      0,
                      0,
                      0,
                      0,
                      0,
                      0,
                      0,
                      0,
                      0,
                      0,
                      0,
                      0,
                      0,
                      0,
                      0,
                      0,
                      0,
                      0,
                      0,
                      0,
                      0,
                      0,
                      0,
                      0,
                      0,
                      0,
                      0,
                      0,
                      0,
                      0,
                      0,
                      0,
                      0,
                      0,
                      0,
                      0,
                      0,
                      1,
                      0,
                      0,
                      0,
                      1,
                      0,
                      0,
                      0,
                      0,
                      0,
                      0,
                      0,
                      0,
                      0,
                      0,
                      0,
                      0,
                      0,
                      0,
                      0,
                      0,
                      0,
                      0,
                      0,
                      0,
                      0,
                      0,
                      0,
                      0,
                      0,
                      0,
                      0,
                      0,
                      0,
                      0,
                      0,
                      0,
                      0,
                      0,
                      0,
                      0,
                      0,
                      0,
                      0,
                      0,
                      0,
                      0,
                      0,
                      0,
                      0,
                      0,
                      0,
                      0,
                      0,
                      0
                    ],
                    [
                      0,
                      0,
                      0,
                      0,
                      0,
                      0,
                      0,
                      0,
                      0,
                      0,
                      0,
                      0,
                      0,
                      0,
                      0,
                      0,
                      0,
                      0,
                      0,
                      0,
                      0,
                      0,
                      0,
                      0,
                      0,
                      1,
                      0,
                      0,
                      0,
                      0,
                      0,
                      1,
                      0,
                      0,
                      0,
                      0,
                      0,
                      0,
                      0,
                      0,
                      0,
                      0,
                      0,
                      0,
                      0,
                      0,
                      0,
                      0,
                      0,
                      0,
                      0,
                      0,
                      0,
                      0,
                      0,
                      0,
                      0,
                      0,
                      0,
                      0,
                      0,
                      0,
                      0,
                      0,
                      0,
                      0,
                      0,
                      0,
                      0,
                      0,
                      0,
                      0,
                      0,
                      0,
                      0,
                      0,
                      0,
                      0,
                      0,
                      0,
                      1,
                      0,
                      0,
                      0,
                      0,
                      0,
                      0,
                      0,
                      0,
                      0,
                      0,
                      0,
                      0,
                      0,
                      0,
                      0,
                      0,
                      0,
                      0,
                      0,
                      0,
                      0,
                      0,
                      0,
                      0,
                      0,
                      0,
                      0,
                      0
                    ],
                    [
                      0,
                      0,
                      0,
                      0,
                      0,
                      0,
                      1,
                      1,
                      1,
                      0,
                      1,
                      1,
                      1,
                      0,
                      0,
                      0,
                      0,
                      0,
                      0,
                      0,
                      0,
                      0,
                      0,
                      0,
                      0,
                      0,
                      0,
                      0,
                      0,
                      0,
                      0,
                      0,
                      0,
                      0,
                      0,
                      0,
                      0,
                      0,
                      0,
                      0,
                      1,
                      0,
                      0,
                      0,
                      0,
                      0,
                      0,
                      1,
                      0,
                      0,
                      0,
                      0,
                      0,
                      0,
                      0,
                      0,
                      0,
                      0,
                      0,
                      0,
                      0,
                      0,
                      0,
                      0,
                      0,
                      1,
                      0,
                      0,
                      0,
                      0,
                      0,
                      0,
                      0,
                      0,
                      0,
                      0,
                      0,
                      0,
                      0,
                      0,
                      0,
                      0,
                      0,
                      0,
                      0,
                      0,
                      0,
                      0,
                      0,
                      0,
                      0,
                      0,
                      0,
                      0,
                      0,
                      0,
                      0,
                      0,
                      0,
                      0,
                      0,
                      0,
                      0,
                      0,
                      0,
                      0,
                      0,
                      0,
                      0
                    ],
                    [
                      0,
                      0,
                      0,
                      0,
                      0,
                      0,
                      0,
                      0,
                      0,
                      0,
                      0,
                      1,
                      0,
                      0,
                      0,
                      0,
                      0,
                      0,
                      0,
                      0,
                      0,
                      0,
                      0,
                      0,
                      0,
                      0,
                      0,
                      1,
                      0,
                      0,
                      0,
                      0,
                      0,
                      0,
                      0,
                      0,
                      0,
                      0,
                      0,
                      0,
                      1,
                      0,
                      0,
                      0,
                      0,
                      0,
                      0,
                      0,
                      1,
                      0,
                      0,
                      0,
                      0,
                      0,
                      0,
                      1,
                      0,
                      0,
                      0,
                      0,
                      0,
                      0,
                      0,
                      0,
                      0,
                      0,
                      0,
                      0,
                      0,
                      0,
                      0,
                      0,
                      1,
                      0,
                      0,
                      0,
                      0,
                      0,
                      0,
                      0,
                      0,
                      0,
                      0,
                      0,
                      0,
                      0,
                      0,
                      0,
                      0,
                      0,
                      0,
                      0,
                      0,
                      1,
                      0,
                      0,
                      0,
                      0,
                      0,
                      0,
                      0,
                      0,
                      0,
                      0,
                      0,
                      0,
                      0,
                      0,
                      0
                    ],
                    [
                      0,
                      0,
                      0,
                      0,
                      0,
                      0,
                      0,
                      0,
                      0,
                      0,
                      0,
                      1,
                      0,
                      0,
                      0,
                      0,
                      0,
                      0,
                      0,
                      0,
                      0,
                      0,
                      0,
                      0,
                      0,
                      0,
                      0,
                      0,
                      0,
                      1,
                      0,
                      0,
                      0,
                      0,
                      0,
                      0,
                      0,
                      0,
                      0,
                      0,
                      0,
                      0,
                      0,
                      0,
                      0,
                      0,
                      0,
                      0,
                      0,
                      0,
                      0,
                      0,
                      0,
                      0,
                      0,
                      0,
                      0,
                      0,
                      1,
                      0,
                      0,
                      0,
                      1,
                      0,
                      0,
                      0,
                      0,
                      0,
                      0,
                      0,
                      0,
                      0,
                      1,
                      0,
                      0,
                      0,
                      0,
                      0,
                      0,
                      0,
                      0,
                      0,
                      0,
                      0,
                      0,
                      0,
                      1,
                      0,
                      0,
                      0,
                      0,
                      0,
                      0,
                      1,
                      0,
                      0,
                      0,
                      0,
                      0,
                      0,
                      0,
                      0,
                      0,
                      0,
                      0,
                      0,
                      0,
                      0,
                      0
                    ],
                    [
                      0,
                      0,
                      0,
                      0,
                      1,
                      0,
                      1,
                      1,
                      1,
                      0,
                      0,
                      1,
                      0,
                      0,
                      0,
                      0,
                      0,
                      0,
                      0,
                      0,
                      0,
                      0,
                      0,
                      0,
                      0,
                      0,
                      0,
                      0,
                      0,
                      0,
                      0,
                      0,
                      0,
                      0,
                      0,
                      0,
                      0,
                      0,
                      0,
                      0,
                      0,
                      0,
                      0,
                      1,
                      0,
                      0,
                      0,
                      0,
                      0,
                      0,
                      0,
                      0,
                      0,
                      0,
                      0,
                      0,
                      0,
                      0,
                      0,
                      0,
                      0,
                      0,
                      0,
                      0,
                      0,
                      0,
                      0,
                      0,
                      0,
                      0,
                      0,
                      0,
                      0,
                      0,
                      0,
                      0,
                      0,
                      0,
                      0,
                      0,
                      0,
                      0,
                      0,
                      0,
                      0,
                      0,
                      0,
                      0,
                      0,
                      0,
                      0,
                      0,
                      0,
                      0,
                      0,
                      0,
                      1,
                      1,
                      0,
                      0,
                      1,
                      0,
                      0,
                      1,
                      0,
                      0,
                      0,
                      0,
                      0
                    ],
                    [
                      0,
                      0,
                      0,
                      0,
                      0,
                      0,
                      0,
                      0,
                      0,
                      0,
                      0,
                      0,
                      0,
                      0,
                      0,
                      0,
                      0,
                      0,
                      0,
                      0,
                      0,
                      0,
                      0,
                      0,
                      0,
                      0,
                      0,
                      1,
                      0,
                      0,
                      0,
                      0,
                      0,
                      0,
                      0,
                      0,
                      0,
                      0,
                      0,
                      0,
                      0,
                      0,
                      0,
                      0,
                      0,
                      0,
                      0,
                      0,
                      0,
                      0,
                      0,
                      0,
                      0,
                      0,
                      1,
                      0,
                      0,
                      0,
                      1,
                      0,
                      0,
                      0,
                      0,
                      0,
                      0,
                      0,
                      0,
                      0,
                      0,
                      0,
                      0,
                      0,
                      0,
                      0,
                      0,
                      0,
                      0,
                      0,
                      0,
                      0,
                      0,
                      0,
                      0,
                      0,
                      1,
                      0,
                      1,
                      0,
                      0,
                      0,
                      0,
                      0,
                      0,
                      1,
                      0,
                      0,
                      0,
                      0,
                      0,
                      0,
                      0,
                      0,
                      0,
                      0,
                      0,
                      0,
                      0,
                      0,
                      0
                    ],
                    [
                      0,
                      0,
                      0,
                      0,
                      0,
                      0,
                      0,
                      0,
                      0,
                      0,
                      0,
                      1,
                      0,
                      0,
                      0,
                      0,
                      0,
                      0,
                      0,
                      0,
                      0,
                      0,
                      0,
                      0,
                      0,
                      0,
                      0,
                      0,
                      0,
                      0,
                      0,
                      0,
                      0,
                      0,
                      0,
                      0,
                      0,
                      0,
                      0,
                      0,
                      0,
                      0,
                      0,
                      0,
                      0,
                      0,
                      0,
                      0,
                      0,
                      0,
                      0,
                      0,
                      0,
                      0,
                      0,
                      0,
                      0,
                      0,
                      0,
                      0,
                      0,
                      0,
                      0,
                      0,
                      0,
                      0,
                      0,
                      0,
                      0,
                      0,
                      0,
                      1,
                      0,
                      0,
                      0,
                      0,
                      0,
                      0,
                      0,
                      0,
                      0,
                      0,
                      0,
                      0,
                      0,
                      0,
                      0,
                      0,
                      0,
                      0,
                      0,
                      0,
                      0,
                      0,
                      0,
                      0,
                      0,
                      0,
                      0,
                      0,
                      0,
                      0,
                      0,
                      0,
                      0,
                      0,
                      0,
                      0,
                      0
                    ],
                    [
                      0,
                      0,
                      0,
                      0,
                      0,
                      0,
                      0,
                      0,
                      0,
                      0,
                      0,
                      0,
                      0,
                      0,
                      0,
                      0,
                      0,
                      0,
                      0,
                      0,
                      0,
                      0,
                      0,
                      0,
                      0,
                      1,
                      0,
                      0,
                      0,
                      0,
                      1,
                      0,
                      0,
                      0,
                      1,
                      0,
                      0,
                      0,
                      0,
                      0,
                      1,
                      0,
                      0,
                      0,
                      0,
                      0,
                      0,
                      0,
                      0,
                      0,
                      0,
                      0,
                      0,
                      0,
                      0,
                      0,
                      0,
                      0,
                      0,
                      0,
                      0,
                      0,
                      1,
                      0,
                      0,
                      0,
                      0,
                      0,
                      0,
                      0,
                      0,
                      1,
                      0,
                      0,
                      0,
                      0,
                      0,
                      0,
                      0,
                      0,
                      0,
                      0,
                      0,
                      0,
                      0,
                      0,
                      0,
                      0,
                      0,
                      0,
                      0,
                      1,
                      1,
                      0,
                      1,
                      0,
                      0,
                      0,
                      0,
                      0,
                      0,
                      0,
                      0,
                      0,
                      0,
                      0,
                      0,
                      0,
                      0
                    ],
                    [
                      1,
                      1,
                      0,
                      0,
                      1,
                      1,
                      1,
                      1,
                      1,
                      1,
                      0,
                      0,
                      0,
                      0,
                      0,
                      0,
                      1,
                      0,
                      0,
                      0,
                      0,
                      0,
                      0,
                      0,
                      0,
                      0,
                      0,
                      0,
                      0,
                      0,
                      0,
                      0,
                      0,
                      0,
                      0,
                      0,
                      0,
                      0,
                      0,
                      0,
                      0,
                      0,
                      0,
                      0,
                      0,
                      0,
                      0,
                      0,
                      0,
                      0,
                      0,
                      0,
                      0,
                      0,
                      0,
                      0,
                      0,
                      0,
                      0,
                      0,
                      0,
                      0,
                      0,
                      0,
                      0,
                      0,
                      0,
                      0,
                      0,
                      0,
                      0,
                      0,
                      0,
                      0,
                      0,
                      0,
                      0,
                      0,
                      0,
                      0,
                      0,
                      0,
                      0,
                      0,
                      0,
                      0,
                      0,
                      0,
                      0,
                      0,
                      0,
                      1,
                      0,
                      0,
                      0,
                      0,
                      0,
                      0,
                      0,
                      0,
                      0,
                      0,
                      0,
                      0,
                      0,
                      0,
                      0,
                      0,
                      0
                    ],
                    [
                      0,
                      0,
                      0,
                      0,
                      0,
                      1,
                      1,
                      1,
                      1,
                      1,
                      1,
                      1,
                      0,
                      0,
                      0,
                      0,
                      0,
                      0,
                      0,
                      0,
                      0,
                      0,
                      0,
                      0,
                      0,
                      0,
                      0,
                      1,
                      0,
                      1,
                      0,
                      0,
                      0,
                      0,
                      0,
                      0,
                      0,
                      0,
                      0,
                      0,
                      1,
                      0,
                      0,
                      0,
                      0,
                      0,
                      0,
                      1,
                      0,
                      0,
                      0,
                      0,
                      0,
                      0,
                      1,
                      0,
                      0,
                      0,
                      0,
                      0,
                      0,
                      0,
                      0,
                      0,
                      0,
                      0,
                      0,
                      0,
                      0,
                      0,
                      0,
                      0,
                      0,
                      1,
                      0,
                      0,
                      0,
                      1,
                      0,
                      0,
                      1,
                      0,
                      0,
                      0,
                      0,
                      0,
                      0,
                      0,
                      0,
                      0,
                      0,
                      0,
                      0,
                      0,
                      0,
                      0,
                      0,
                      0,
                      0,
                      0,
                      0,
                      0,
                      0,
                      0,
                      0,
                      0,
                      0,
                      0,
                      0
                    ],
                    [
                      0,
                      0,
                      0,
                      0,
                      0,
                      0,
                      0,
                      0,
                      0,
                      0,
                      0,
                      0,
                      0,
                      0,
                      0,
                      0,
                      0,
                      0,
                      0,
                      0,
                      0,
                      0,
                      0,
                      0,
                      0,
                      0,
                      0,
                      0,
                      0,
                      0,
                      0,
                      0,
                      0,
                      0,
                      0,
                      0,
                      0,
                      0,
                      0,
                      0,
                      0,
                      0,
                      0,
                      0,
                      0,
                      0,
                      0,
                      0,
                      0,
                      0,
                      0,
                      0,
                      0,
                      1,
                      0,
                      0,
                      0,
                      0,
                      0,
                      0,
                      0,
                      0,
                      0,
                      0,
                      0,
                      0,
                      0,
                      0,
                      0,
                      0,
                      0,
                      0,
                      0,
                      0,
                      0,
                      0,
                      0,
                      0,
                      0,
                      0,
                      0,
                      0,
                      0,
                      0,
                      0,
                      0,
                      0,
                      0,
                      0,
                      0,
                      0,
                      0,
                      0,
                      1,
                      0,
                      0,
                      1,
                      0,
                      0,
                      0,
                      0,
                      0,
                      0,
                      0,
                      0,
                      0,
                      0,
                      0,
                      0
                    ],
                    [
                      0,
                      0,
                      0,
                      0,
                      0,
                      0,
                      0,
                      0,
                      0,
                      0,
                      0,
                      1,
                      0,
                      0,
                      0,
                      0,
                      0,
                      0,
                      0,
                      0,
                      0,
                      0,
                      0,
                      0,
                      0,
                      1,
                      0,
                      0,
                      0,
                      0,
                      0,
                      1,
                      0,
                      0,
                      0,
                      0,
                      0,
                      0,
                      0,
                      0,
                      0,
                      0,
                      0,
                      0,
                      0,
                      0,
                      0,
                      1,
                      0,
                      0,
                      0,
                      0,
                      0,
                      0,
                      0,
                      0,
                      0,
                      0,
                      1,
                      0,
                      0,
                      0,
                      0,
                      0,
                      0,
                      0,
                      0,
                      0,
                      0,
                      0,
                      0,
                      1,
                      0,
                      0,
                      0,
                      0,
                      0,
                      0,
                      0,
                      0,
                      0,
                      0,
                      0,
                      0,
                      0,
                      0,
                      0,
                      0,
                      0,
                      0,
                      0,
                      0,
                      0,
                      1,
                      0,
                      0,
                      0,
                      0,
                      0,
                      0,
                      0,
                      1,
                      0,
                      0,
                      0,
                      0,
                      0,
                      0,
                      0
                    ],
                    [
                      1,
                      0,
                      1,
                      0,
                      0,
                      1,
                      1,
                      1,
                      1,
                      0,
                      0,
                      0,
                      0,
                      0,
                      0,
                      0,
                      0,
                      0,
                      0,
                      0,
                      0,
                      0,
                      0,
                      0,
                      0,
                      0,
                      0,
                      0,
                      0,
                      0,
                      0,
                      0,
                      0,
                      0,
                      0,
                      0,
                      0,
                      0,
                      0,
                      0,
                      0,
                      0,
                      0,
                      0,
                      0,
                      0,
                      0,
                      1,
                      0,
                      0,
                      0,
                      0,
                      0,
                      0,
                      0,
                      0,
                      0,
                      0,
                      0,
                      0,
                      0,
                      0,
                      0,
                      0,
                      0,
                      0,
                      0,
                      0,
                      0,
                      1,
                      0,
                      0,
                      0,
                      1,
                      0,
                      0,
                      0,
                      0,
                      0,
                      0,
                      0,
                      0,
                      0,
                      0,
                      0,
                      0,
                      0,
                      1,
                      0,
                      0,
                      0,
                      1,
                      0,
                      1,
                      0,
                      0,
                      0,
                      0,
                      0,
                      0,
                      0,
                      0,
                      0,
                      0,
                      0,
                      0,
                      0,
                      0,
                      0
                    ],
                    [
                      0,
                      0,
                      0,
                      0,
                      0,
                      0,
                      0,
                      0,
                      0,
                      0,
                      0,
                      0,
                      0,
                      0,
                      0,
                      0,
                      0,
                      0,
                      0,
                      0,
                      0,
                      0,
                      0,
                      0,
                      0,
                      0,
                      0,
                      0,
                      0,
                      1,
                      0,
                      0,
                      0,
                      0,
                      0,
                      0,
                      0,
                      0,
                      0,
                      0,
                      0,
                      0,
                      0,
                      0,
                      0,
                      0,
                      0,
                      0,
                      0,
                      0,
                      0,
                      0,
                      0,
                      0,
                      0,
                      0,
                      0,
                      0,
                      0,
                      0,
                      0,
                      0,
                      0,
                      0,
                      0,
                      0,
                      0,
                      0,
                      0,
                      0,
                      0,
                      1,
                      0,
                      0,
                      0,
                      0,
                      0,
                      0,
                      0,
                      0,
                      0,
                      0,
                      0,
                      0,
                      0,
                      0,
                      1,
                      0,
                      0,
                      0,
                      0,
                      1,
                      0,
                      1,
                      0,
                      0,
                      0,
                      0,
                      0,
                      0,
                      0,
                      0,
                      0,
                      0,
                      0,
                      0,
                      1,
                      0,
                      0
                    ],
                    [
                      0,
                      0,
                      0,
                      0,
                      0,
                      0,
                      0,
                      0,
                      0,
                      0,
                      0,
                      1,
                      0,
                      0,
                      0,
                      0,
                      0,
                      0,
                      0,
                      0,
                      0,
                      0,
                      0,
                      0,
                      0,
                      0,
                      0,
                      1,
                      0,
                      0,
                      0,
                      0,
                      0,
                      0,
                      0,
                      0,
                      0,
                      0,
                      0,
                      0,
                      1,
                      0,
                      0,
                      0,
                      1,
                      0,
                      0,
                      0,
                      0,
                      0,
                      0,
                      0,
                      0,
                      0,
                      0,
                      0,
                      0,
                      0,
                      0,
                      0,
                      0,
                      0,
                      1,
                      0,
                      0,
                      0,
                      0,
                      0,
                      0,
                      1,
                      0,
                      0,
                      1,
                      0,
                      0,
                      0,
                      0,
                      0,
                      0,
                      0,
                      0,
                      0,
                      0,
                      0,
                      0,
                      1,
                      0,
                      0,
                      0,
                      0,
                      0,
                      0,
                      0,
                      0,
                      0,
                      0,
                      0,
                      0,
                      0,
                      0,
                      0,
                      0,
                      1,
                      0,
                      0,
                      0,
                      0,
                      0,
                      0
                    ],
                    [
                      0,
                      0,
                      0,
                      0,
                      0,
                      0,
                      0,
                      0,
                      0,
                      0,
                      0,
                      0,
                      0,
                      0,
                      0,
                      0,
                      0,
                      0,
                      0,
                      0,
                      0,
                      0,
                      0,
                      0,
                      0,
                      0,
                      0,
                      0,
                      0,
                      0,
                      0,
                      0,
                      0,
                      0,
                      0,
                      0,
                      0,
                      0,
                      0,
                      0,
                      0,
                      0,
                      0,
                      0,
                      0,
                      0,
                      0,
                      0,
                      0,
                      0,
                      0,
                      0,
                      0,
                      0,
                      0,
                      0,
                      0,
                      0,
                      0,
                      0,
                      0,
                      0,
                      0,
                      0,
                      0,
                      0,
                      0,
                      0,
                      0,
                      0,
                      0,
                      0,
                      0,
                      0,
                      0,
                      0,
                      0,
                      0,
                      0,
                      0,
                      0,
                      0,
                      0,
                      0,
                      0,
                      0,
                      1,
                      0,
                      0,
                      1,
                      0,
                      0,
                      0,
                      0,
                      0,
                      0,
                      0,
                      0,
                      0,
                      0,
                      0,
                      0,
                      1,
                      0,
                      0,
                      0,
                      0,
                      0,
                      0
                    ],
                    [
                      0,
                      0,
                      0,
                      0,
                      0,
                      0,
                      0,
                      0,
                      0,
                      0,
                      0,
                      0,
                      0,
                      0,
                      0,
                      0,
                      0,
                      0,
                      0,
                      0,
                      0,
                      0,
                      0,
                      0,
                      0,
                      0,
                      0,
                      0,
                      0,
                      0,
                      0,
                      0,
                      0,
                      0,
                      0,
                      0,
                      0,
                      0,
                      0,
                      0,
                      0,
                      1,
                      1,
                      0,
                      0,
                      0,
                      0,
                      0,
                      0,
                      0,
                      0,
                      0,
                      0,
                      0,
                      0,
                      0,
                      0,
                      0,
                      0,
                      0,
                      0,
                      0,
                      0,
                      0,
                      0,
                      0,
                      0,
                      0,
                      0,
                      0,
                      0,
                      0,
                      0,
                      0,
                      0,
                      0,
                      0,
                      0,
                      0,
                      0,
                      0,
                      0,
                      0,
                      0,
                      0,
                      0,
                      0,
                      0,
                      0,
                      0,
                      0,
                      0,
                      0,
                      0,
                      0,
                      0,
                      0,
                      0,
                      0,
                      0,
                      0,
                      0,
                      0,
                      0,
                      1,
                      0,
                      0,
                      0,
                      1
                    ],
                    [
                      0,
                      0,
                      0,
                      0,
                      0,
                      0,
                      0,
                      0,
                      0,
                      0,
                      0,
                      1,
                      0,
                      0,
                      0,
                      0,
                      0,
                      0,
                      0,
                      0,
                      0,
                      0,
                      0,
                      0,
                      0,
                      0,
                      0,
                      0,
                      0,
                      1,
                      0,
                      0,
                      0,
                      0,
                      0,
                      0,
                      0,
                      0,
                      0,
                      0,
                      1,
                      0,
                      0,
                      0,
                      0,
                      0,
                      0,
                      0,
                      0,
                      0,
                      0,
                      0,
                      0,
                      0,
                      0,
                      0,
                      0,
                      0,
                      1,
                      0,
                      0,
                      0,
                      0,
                      0,
                      0,
                      0,
                      0,
                      0,
                      0,
                      0,
                      0,
                      0,
                      0,
                      0,
                      0,
                      0,
                      0,
                      0,
                      0,
                      0,
                      1,
                      0,
                      0,
                      0,
                      0,
                      0,
                      0,
                      0,
                      0,
                      0,
                      0,
                      0,
                      0,
                      0,
                      0,
                      0,
                      0,
                      0,
                      0,
                      0,
                      0,
                      0,
                      0,
                      0,
                      0,
                      0,
                      0,
                      0,
                      0
                    ],
                    [
                      1,
                      0,
                      1,
                      1,
                      0,
                      0,
                      1,
                      1,
                      0,
                      0,
                      0,
                      0,
                      0,
                      1,
                      0,
                      0,
                      0,
                      0,
                      1,
                      0,
                      0,
                      0,
                      0,
                      0,
                      0,
                      0,
                      0,
                      0,
                      0,
                      1,
                      0,
                      0,
                      0,
                      0,
                      0,
                      0,
                      0,
                      0,
                      0,
                      0,
                      0,
                      0,
                      0,
                      0,
                      0,
                      0,
                      0,
                      1,
                      0,
                      0,
                      0,
                      0,
                      0,
                      0,
                      0,
                      0,
                      0,
                      0,
                      0,
                      0,
                      0,
                      0,
                      0,
                      0,
                      0,
                      0,
                      0,
                      0,
                      0,
                      0,
                      0,
                      1,
                      0,
                      0,
                      0,
                      0,
                      0,
                      0,
                      0,
                      0,
                      0,
                      0,
                      0,
                      1,
                      0,
                      0,
                      1,
                      0,
                      0,
                      0,
                      0,
                      0,
                      0,
                      0,
                      0,
                      0,
                      0,
                      0,
                      0,
                      0,
                      0,
                      0,
                      0,
                      0,
                      0,
                      0,
                      0,
                      0,
                      0
                    ],
                    [
                      0,
                      0,
                      0,
                      0,
                      0,
                      0,
                      0,
                      0,
                      0,
                      0,
                      0,
                      0,
                      0,
                      0,
                      0,
                      0,
                      0,
                      0,
                      0,
                      0,
                      0,
                      0,
                      0,
                      0,
                      0,
                      1,
                      0,
                      0,
                      0,
                      0,
                      0,
                      0,
                      0,
                      0,
                      0,
                      0,
                      0,
                      0,
                      0,
                      0,
                      0,
                      0,
                      0,
                      0,
                      0,
                      0,
                      0,
                      1,
                      0,
                      0,
                      0,
                      0,
                      0,
                      1,
                      0,
                      0,
                      0,
                      0,
                      0,
                      0,
                      0,
                      0,
                      0,
                      0,
                      0,
                      0,
                      0,
                      0,
                      0,
                      0,
                      0,
                      0,
                      0,
                      0,
                      0,
                      0,
                      0,
                      0,
                      0,
                      0,
                      0,
                      0,
                      1,
                      0,
                      0,
                      0,
                      0,
                      0,
                      0,
                      0,
                      0,
                      0,
                      0,
                      0,
                      0,
                      0,
                      0,
                      0,
                      0,
                      0,
                      0,
                      0,
                      0,
                      0,
                      1,
                      0,
                      0,
                      0,
                      0
                    ],
                    [
                      0,
                      0,
                      0,
                      0,
                      0,
                      0,
                      0,
                      0,
                      0,
                      0,
                      0,
                      0,
                      0,
                      0,
                      0,
                      0,
                      0,
                      0,
                      0,
                      0,
                      0,
                      0,
                      0,
                      0,
                      0,
                      0,
                      0,
                      0,
                      0,
                      0,
                      0,
                      0,
                      1,
                      0,
                      0,
                      0,
                      0,
                      0,
                      0,
                      0,
                      1,
                      0,
                      0,
                      0,
                      0,
                      0,
                      0,
                      1,
                      0,
                      0,
                      0,
                      0,
                      1,
                      0,
                      0,
                      0,
                      0,
                      0,
                      0,
                      0,
                      0,
                      0,
                      0,
                      0,
                      0,
                      0,
                      0,
                      0,
                      0,
                      0,
                      0,
                      0,
                      0,
                      0,
                      0,
                      0,
                      0,
                      0,
                      0,
                      0,
                      1,
                      0,
                      0,
                      0,
                      0,
                      0,
                      0,
                      0,
                      0,
                      0,
                      0,
                      0,
                      0,
                      0,
                      0,
                      0,
                      0,
                      0,
                      0,
                      0,
                      0,
                      0,
                      1,
                      0,
                      0,
                      0,
                      0,
                      0,
                      0
                    ],
                    [
                      0,
                      0,
                      0,
                      0,
                      1,
                      0,
                      1,
                      1,
                      1,
                      0,
                      0,
                      1,
                      0,
                      0,
                      0,
                      0,
                      1,
                      0,
                      0,
                      0,
                      0,
                      0,
                      0,
                      0,
                      0,
                      0,
                      0,
                      0,
                      0,
                      0,
                      0,
                      0,
                      0,
                      0,
                      0,
                      0,
                      0,
                      0,
                      0,
                      0,
                      0,
                      0,
                      0,
                      0,
                      0,
                      1,
                      0,
                      1,
                      0,
                      0,
                      0,
                      0,
                      0,
                      0,
                      0,
                      0,
                      0,
                      0,
                      0,
                      0,
                      0,
                      0,
                      0,
                      0,
                      0,
                      0,
                      0,
                      0,
                      0,
                      0,
                      0,
                      0,
                      0,
                      0,
                      0,
                      0,
                      0,
                      0,
                      0,
                      0,
                      0,
                      0,
                      0,
                      1,
                      0,
                      0,
                      0,
                      0,
                      0,
                      0,
                      0,
                      0,
                      0,
                      0,
                      0,
                      0,
                      1,
                      0,
                      0,
                      0,
                      0,
                      0,
                      1,
                      0,
                      0,
                      0,
                      1,
                      0,
                      0
                    ],
                    [
                      0,
                      0,
                      0,
                      0,
                      0,
                      0,
                      0,
                      0,
                      0,
                      0,
                      0,
                      0,
                      0,
                      0,
                      0,
                      0,
                      0,
                      0,
                      0,
                      0,
                      0,
                      0,
                      0,
                      0,
                      0,
                      0,
                      0,
                      0,
                      0,
                      0,
                      0,
                      1,
                      0,
                      0,
                      0,
                      0,
                      0,
                      0,
                      0,
                      0,
                      0,
                      0,
                      0,
                      0,
                      0,
                      0,
                      0,
                      0,
                      0,
                      0,
                      0,
                      0,
                      0,
                      0,
                      0,
                      0,
                      0,
                      0,
                      0,
                      0,
                      0,
                      0,
                      0,
                      0,
                      0,
                      0,
                      0,
                      0,
                      0,
                      0,
                      0,
                      1,
                      0,
                      0,
                      0,
                      0,
                      0,
                      0,
                      0,
                      0,
                      0,
                      0,
                      0,
                      0,
                      0,
                      0,
                      0,
                      0,
                      0,
                      0,
                      0,
                      0,
                      0,
                      0,
                      0,
                      0,
                      0,
                      0,
                      0,
                      0,
                      0,
                      0,
                      0,
                      0,
                      0,
                      0,
                      0,
                      0,
                      0
                    ],
                    [
                      0,
                      0,
                      0,
                      1,
                      1,
                      0,
                      1,
                      0,
                      1,
                      0,
                      0,
                      1,
                      0,
                      0,
                      0,
                      0,
                      0,
                      0,
                      0,
                      0,
                      0,
                      0,
                      0,
                      0,
                      0,
                      0,
                      0,
                      0,
                      0,
                      1,
                      0,
                      0,
                      0,
                      0,
                      0,
                      0,
                      0,
                      0,
                      0,
                      0,
                      0,
                      0,
                      0,
                      0,
                      0,
                      0,
                      0,
                      0,
                      0,
                      0,
                      0,
                      0,
                      0,
                      0,
                      1,
                      0,
                      0,
                      0,
                      1,
                      0,
                      0,
                      0,
                      0,
                      0,
                      0,
                      0,
                      0,
                      0,
                      0,
                      0,
                      0,
                      0,
                      0,
                      1,
                      1,
                      0,
                      0,
                      0,
                      0,
                      0,
                      0,
                      0,
                      0,
                      0,
                      0,
                      0,
                      0,
                      0,
                      0,
                      0,
                      0,
                      0,
                      0,
                      0,
                      0,
                      0,
                      0,
                      0,
                      0,
                      0,
                      0,
                      0,
                      0,
                      0,
                      0,
                      0,
                      1,
                      0,
                      0
                    ],
                    [
                      0,
                      0,
                      0,
                      0,
                      0,
                      0,
                      0,
                      0,
                      0,
                      0,
                      0,
                      0,
                      0,
                      0,
                      0,
                      0,
                      0,
                      0,
                      0,
                      0,
                      0,
                      0,
                      0,
                      0,
                      0,
                      0,
                      0,
                      1,
                      0,
                      1,
                      0,
                      1,
                      0,
                      0,
                      0,
                      0,
                      0,
                      0,
                      0,
                      0,
                      0,
                      0,
                      0,
                      0,
                      0,
                      0,
                      0,
                      0,
                      0,
                      0,
                      0,
                      0,
                      0,
                      0,
                      0,
                      0,
                      0,
                      0,
                      0,
                      0,
                      0,
                      0,
                      0,
                      0,
                      1,
                      0,
                      1,
                      0,
                      0,
                      0,
                      0,
                      0,
                      0,
                      0,
                      0,
                      0,
                      0,
                      0,
                      0,
                      0,
                      0,
                      0,
                      0,
                      0,
                      0,
                      0,
                      0,
                      0,
                      0,
                      0,
                      0,
                      0,
                      0,
                      0,
                      0,
                      0,
                      0,
                      0,
                      0,
                      0,
                      0,
                      0,
                      0,
                      0,
                      0,
                      0,
                      1,
                      0,
                      0
                    ],
                    [
                      1,
                      0,
                      1,
                      0,
                      0,
                      0,
                      0,
                      1,
                      1,
                      1,
                      0,
                      1,
                      0,
                      0,
                      0,
                      0,
                      0,
                      0,
                      0,
                      0,
                      0,
                      0,
                      0,
                      0,
                      0,
                      0,
                      0,
                      0,
                      0,
                      0,
                      0,
                      0,
                      0,
                      0,
                      0,
                      0,
                      0,
                      0,
                      0,
                      0,
                      1,
                      0,
                      0,
                      0,
                      0,
                      0,
                      0,
                      0,
                      0,
                      0,
                      0,
                      0,
                      0,
                      0,
                      0,
                      0,
                      0,
                      0,
                      0,
                      0,
                      0,
                      0,
                      0,
                      0,
                      0,
                      0,
                      0,
                      0,
                      0,
                      0,
                      0,
                      1,
                      0,
                      0,
                      0,
                      0,
                      0,
                      1,
                      0,
                      0,
                      0,
                      0,
                      0,
                      1,
                      0,
                      0,
                      1,
                      0,
                      0,
                      0,
                      0,
                      0,
                      0,
                      0,
                      0,
                      0,
                      0,
                      0,
                      0,
                      0,
                      0,
                      0,
                      0,
                      0,
                      0,
                      0,
                      0,
                      0,
                      0
                    ],
                    [
                      0,
                      0,
                      0,
                      0,
                      0,
                      0,
                      0,
                      0,
                      0,
                      0,
                      0,
                      0,
                      0,
                      0,
                      0,
                      0,
                      0,
                      0,
                      0,
                      0,
                      0,
                      0,
                      0,
                      0,
                      0,
                      0,
                      0,
                      1,
                      0,
                      1,
                      0,
                      0,
                      0,
                      0,
                      0,
                      0,
                      0,
                      0,
                      0,
                      0,
                      0,
                      0,
                      0,
                      0,
                      0,
                      0,
                      0,
                      1,
                      0,
                      0,
                      0,
                      0,
                      0,
                      0,
                      0,
                      0,
                      0,
                      1,
                      0,
                      0,
                      0,
                      0,
                      0,
                      0,
                      0,
                      0,
                      0,
                      0,
                      0,
                      0,
                      0,
                      1,
                      0,
                      0,
                      0,
                      0,
                      0,
                      0,
                      0,
                      0,
                      1,
                      0,
                      0,
                      0,
                      0,
                      0,
                      0,
                      0,
                      0,
                      0,
                      0,
                      0,
                      0,
                      1,
                      0,
                      1,
                      0,
                      0,
                      1,
                      0,
                      0,
                      0,
                      0,
                      0,
                      0,
                      0,
                      1,
                      0,
                      0
                    ],
                    [
                      1,
                      0,
                      0,
                      1,
                      1,
                      0,
                      1,
                      1,
                      0,
                      0,
                      0,
                      1,
                      0,
                      0,
                      0,
                      0,
                      0,
                      0,
                      0,
                      0,
                      0,
                      0,
                      0,
                      0,
                      0,
                      0,
                      0,
                      0,
                      0,
                      0,
                      0,
                      0,
                      0,
                      0,
                      0,
                      0,
                      0,
                      0,
                      0,
                      0,
                      0,
                      0,
                      0,
                      0,
                      0,
                      0,
                      0,
                      0,
                      0,
                      0,
                      0,
                      0,
                      0,
                      0,
                      1,
                      0,
                      0,
                      0,
                      0,
                      0,
                      0,
                      0,
                      0,
                      0,
                      0,
                      0,
                      0,
                      0,
                      0,
                      1,
                      0,
                      0,
                      1,
                      0,
                      0,
                      0,
                      0,
                      0,
                      0,
                      0,
                      0,
                      0,
                      0,
                      0,
                      1,
                      0,
                      0,
                      0,
                      0,
                      0,
                      0,
                      0,
                      0,
                      0,
                      0,
                      0,
                      0,
                      0,
                      0,
                      0,
                      0,
                      0,
                      0,
                      0,
                      0,
                      0,
                      1,
                      0,
                      0
                    ],
                    [
                      0,
                      0,
                      0,
                      0,
                      0,
                      0,
                      0,
                      0,
                      0,
                      0,
                      0,
                      0,
                      0,
                      0,
                      0,
                      0,
                      0,
                      0,
                      0,
                      0,
                      0,
                      0,
                      0,
                      0,
                      0,
                      0,
                      0,
                      1,
                      0,
                      1,
                      0,
                      0,
                      0,
                      0,
                      0,
                      0,
                      0,
                      0,
                      0,
                      0,
                      0,
                      0,
                      0,
                      0,
                      0,
                      0,
                      0,
                      0,
                      0,
                      0,
                      0,
                      0,
                      0,
                      0,
                      0,
                      0,
                      0,
                      0,
                      0,
                      0,
                      0,
                      0,
                      0,
                      0,
                      0,
                      0,
                      0,
                      0,
                      0,
                      0,
                      0,
                      0,
                      0,
                      0,
                      0,
                      0,
                      1,
                      0,
                      0,
                      0,
                      0,
                      0,
                      0,
                      0,
                      0,
                      0,
                      0,
                      0,
                      0,
                      0,
                      0,
                      1,
                      0,
                      0,
                      0,
                      0,
                      0,
                      0,
                      0,
                      0,
                      0,
                      0,
                      0,
                      0,
                      0,
                      0,
                      0,
                      0,
                      0
                    ],
                    [
                      0,
                      0,
                      0,
                      0,
                      0,
                      0,
                      0,
                      0,
                      0,
                      0,
                      0,
                      0,
                      0,
                      0,
                      0,
                      0,
                      0,
                      0,
                      0,
                      0,
                      0,
                      0,
                      0,
                      0,
                      0,
                      0,
                      0,
                      1,
                      0,
                      0,
                      0,
                      0,
                      0,
                      0,
                      0,
                      0,
                      0,
                      0,
                      0,
                      0,
                      1,
                      0,
                      0,
                      0,
                      0,
                      0,
                      0,
                      0,
                      0,
                      0,
                      0,
                      0,
                      0,
                      1,
                      0,
                      0,
                      0,
                      0,
                      1,
                      0,
                      0,
                      0,
                      0,
                      0,
                      0,
                      0,
                      0,
                      0,
                      0,
                      0,
                      0,
                      1,
                      0,
                      0,
                      0,
                      0,
                      0,
                      0,
                      0,
                      0,
                      0,
                      0,
                      0,
                      0,
                      0,
                      0,
                      0,
                      0,
                      0,
                      0,
                      0,
                      0,
                      0,
                      0,
                      0,
                      0,
                      0,
                      0,
                      0,
                      0,
                      0,
                      0,
                      1,
                      0,
                      1,
                      0,
                      0,
                      0,
                      0
                    ],
                    [
                      0,
                      0,
                      0,
                      0,
                      0,
                      0,
                      0,
                      0,
                      0,
                      0,
                      0,
                      1,
                      0,
                      0,
                      0,
                      0,
                      0,
                      0,
                      0,
                      0,
                      0,
                      0,
                      0,
                      0,
                      0,
                      0,
                      0,
                      0,
                      0,
                      1,
                      0,
                      0,
                      0,
                      0,
                      0,
                      0,
                      0,
                      0,
                      0,
                      0,
                      0,
                      0,
                      0,
                      0,
                      0,
                      0,
                      0,
                      0,
                      0,
                      0,
                      0,
                      0,
                      0,
                      1,
                      1,
                      0,
                      0,
                      0,
                      0,
                      0,
                      0,
                      0,
                      0,
                      0,
                      0,
                      0,
                      0,
                      0,
                      0,
                      0,
                      1,
                      0,
                      0,
                      1,
                      0,
                      0,
                      0,
                      0,
                      0,
                      0,
                      0,
                      0,
                      0,
                      0,
                      0,
                      0,
                      0,
                      0,
                      0,
                      0,
                      0,
                      0,
                      0,
                      1,
                      0,
                      0,
                      0,
                      0,
                      0,
                      0,
                      0,
                      0,
                      0,
                      0,
                      0,
                      1,
                      0,
                      0,
                      0
                    ],
                    [
                      0,
                      0,
                      0,
                      0,
                      0,
                      0,
                      0,
                      0,
                      0,
                      0,
                      0,
                      0,
                      0,
                      0,
                      0,
                      0,
                      0,
                      0,
                      0,
                      0,
                      0,
                      0,
                      0,
                      0,
                      0,
                      0,
                      0,
                      0,
                      0,
                      1,
                      0,
                      1,
                      0,
                      0,
                      0,
                      0,
                      0,
                      0,
                      0,
                      0,
                      0,
                      0,
                      0,
                      0,
                      0,
                      0,
                      0,
                      1,
                      0,
                      0,
                      0,
                      0,
                      0,
                      0,
                      0,
                      0,
                      0,
                      0,
                      0,
                      0,
                      0,
                      0,
                      0,
                      0,
                      0,
                      0,
                      0,
                      0,
                      0,
                      0,
                      0,
                      0,
                      0,
                      0,
                      0,
                      0,
                      0,
                      0,
                      0,
                      0,
                      0,
                      0,
                      0,
                      0,
                      0,
                      0,
                      1,
                      0,
                      0,
                      0,
                      0,
                      0,
                      0,
                      0,
                      0,
                      0,
                      1,
                      0,
                      0,
                      0,
                      0,
                      0,
                      0,
                      0,
                      0,
                      0,
                      0,
                      0,
                      0
                    ],
                    [
                      0,
                      0,
                      0,
                      0,
                      0,
                      0,
                      0,
                      0,
                      0,
                      0,
                      0,
                      0,
                      0,
                      0,
                      0,
                      0,
                      0,
                      0,
                      0,
                      0,
                      0,
                      0,
                      0,
                      0,
                      0,
                      1,
                      0,
                      0,
                      0,
                      0,
                      0,
                      0,
                      0,
                      0,
                      0,
                      0,
                      0,
                      0,
                      0,
                      0,
                      0,
                      0,
                      0,
                      0,
                      0,
                      0,
                      0,
                      0,
                      0,
                      0,
                      0,
                      0,
                      0,
                      1,
                      1,
                      0,
                      0,
                      0,
                      0,
                      0,
                      0,
                      0,
                      0,
                      0,
                      0,
                      0,
                      0,
                      0,
                      0,
                      0,
                      0,
                      1,
                      0,
                      0,
                      0,
                      0,
                      0,
                      0,
                      0,
                      0,
                      0,
                      0,
                      0,
                      0,
                      0,
                      0,
                      0,
                      0,
                      0,
                      0,
                      0,
                      0,
                      0,
                      0,
                      0,
                      0,
                      0,
                      0,
                      0,
                      0,
                      0,
                      0,
                      0,
                      0,
                      0,
                      0,
                      0,
                      0,
                      0
                    ],
                    [
                      0,
                      0,
                      0,
                      0,
                      0,
                      0,
                      0,
                      0,
                      0,
                      0,
                      0,
                      0,
                      0,
                      0,
                      0,
                      0,
                      0,
                      0,
                      0,
                      0,
                      0,
                      0,
                      0,
                      0,
                      0,
                      0,
                      0,
                      0,
                      0,
                      0,
                      0,
                      0,
                      0,
                      0,
                      0,
                      0,
                      0,
                      0,
                      0,
                      0,
                      0,
                      0,
                      0,
                      0,
                      0,
                      0,
                      0,
                      0,
                      0,
                      0,
                      0,
                      0,
                      0,
                      0,
                      0,
                      0,
                      0,
                      0,
                      1,
                      0,
                      0,
                      0,
                      1,
                      0,
                      0,
                      0,
                      0,
                      0,
                      0,
                      0,
                      0,
                      0,
                      0,
                      0,
                      0,
                      0,
                      0,
                      0,
                      0,
                      0,
                      0,
                      0,
                      0,
                      1,
                      0,
                      0,
                      0,
                      0,
                      0,
                      0,
                      0,
                      0,
                      0,
                      1,
                      0,
                      0,
                      0,
                      0,
                      0,
                      0,
                      0,
                      0,
                      0,
                      0,
                      1,
                      0,
                      0,
                      0,
                      0
                    ],
                    [
                      1,
                      0,
                      0,
                      0,
                      1,
                      1,
                      1,
                      1,
                      1,
                      1,
                      1,
                      1,
                      0,
                      0,
                      0,
                      0,
                      0,
                      0,
                      0,
                      0,
                      0,
                      0,
                      0,
                      0,
                      0,
                      0,
                      0,
                      0,
                      0,
                      0,
                      0,
                      0,
                      0,
                      0,
                      0,
                      0,
                      0,
                      0,
                      0,
                      0,
                      1,
                      0,
                      0,
                      0,
                      0,
                      0,
                      0,
                      0,
                      0,
                      0,
                      0,
                      0,
                      0,
                      0,
                      0,
                      0,
                      0,
                      0,
                      0,
                      0,
                      0,
                      0,
                      0,
                      0,
                      0,
                      0,
                      0,
                      0,
                      0,
                      0,
                      0,
                      0,
                      0,
                      0,
                      0,
                      0,
                      0,
                      0,
                      0,
                      0,
                      0,
                      0,
                      0,
                      0,
                      0,
                      0,
                      0,
                      0,
                      0,
                      0,
                      0,
                      0,
                      0,
                      0,
                      0,
                      0,
                      0,
                      0,
                      0,
                      0,
                      0,
                      0,
                      0,
                      0,
                      1,
                      0,
                      0,
                      0,
                      0
                    ]
                  ]
                }
              ],
              "layout": {
                "coloraxis": {
                  "colorscale": [
                    [
                      0,
                      "#0d0887"
                    ],
                    [
                      0.1111111111111111,
                      "#46039f"
                    ],
                    [
                      0.2222222222222222,
                      "#7201a8"
                    ],
                    [
                      0.3333333333333333,
                      "#9c179e"
                    ],
                    [
                      0.4444444444444444,
                      "#bd3786"
                    ],
                    [
                      0.5555555555555556,
                      "#d8576b"
                    ],
                    [
                      0.6666666666666666,
                      "#ed7953"
                    ],
                    [
                      0.7777777777777778,
                      "#fb9f3a"
                    ],
                    [
                      0.8888888888888888,
                      "#fdca26"
                    ],
                    [
                      1,
                      "#f0f921"
                    ]
                  ]
                },
                "margin": {
                  "t": 60
                },
                "template": {
                  "data": {
                    "bar": [
                      {
                        "error_x": {
                          "color": "#2a3f5f"
                        },
                        "error_y": {
                          "color": "#2a3f5f"
                        },
                        "marker": {
                          "line": {
                            "color": "#E5ECF6",
                            "width": 0.5
                          },
                          "pattern": {
                            "fillmode": "overlay",
                            "size": 10,
                            "solidity": 0.2
                          }
                        },
                        "type": "bar"
                      }
                    ],
                    "barpolar": [
                      {
                        "marker": {
                          "line": {
                            "color": "#E5ECF6",
                            "width": 0.5
                          },
                          "pattern": {
                            "fillmode": "overlay",
                            "size": 10,
                            "solidity": 0.2
                          }
                        },
                        "type": "barpolar"
                      }
                    ],
                    "carpet": [
                      {
                        "aaxis": {
                          "endlinecolor": "#2a3f5f",
                          "gridcolor": "white",
                          "linecolor": "white",
                          "minorgridcolor": "white",
                          "startlinecolor": "#2a3f5f"
                        },
                        "baxis": {
                          "endlinecolor": "#2a3f5f",
                          "gridcolor": "white",
                          "linecolor": "white",
                          "minorgridcolor": "white",
                          "startlinecolor": "#2a3f5f"
                        },
                        "type": "carpet"
                      }
                    ],
                    "choropleth": [
                      {
                        "colorbar": {
                          "outlinewidth": 0,
                          "ticks": ""
                        },
                        "type": "choropleth"
                      }
                    ],
                    "contour": [
                      {
                        "colorbar": {
                          "outlinewidth": 0,
                          "ticks": ""
                        },
                        "colorscale": [
                          [
                            0,
                            "#0d0887"
                          ],
                          [
                            0.1111111111111111,
                            "#46039f"
                          ],
                          [
                            0.2222222222222222,
                            "#7201a8"
                          ],
                          [
                            0.3333333333333333,
                            "#9c179e"
                          ],
                          [
                            0.4444444444444444,
                            "#bd3786"
                          ],
                          [
                            0.5555555555555556,
                            "#d8576b"
                          ],
                          [
                            0.6666666666666666,
                            "#ed7953"
                          ],
                          [
                            0.7777777777777778,
                            "#fb9f3a"
                          ],
                          [
                            0.8888888888888888,
                            "#fdca26"
                          ],
                          [
                            1,
                            "#f0f921"
                          ]
                        ],
                        "type": "contour"
                      }
                    ],
                    "contourcarpet": [
                      {
                        "colorbar": {
                          "outlinewidth": 0,
                          "ticks": ""
                        },
                        "type": "contourcarpet"
                      }
                    ],
                    "heatmap": [
                      {
                        "colorbar": {
                          "outlinewidth": 0,
                          "ticks": ""
                        },
                        "colorscale": [
                          [
                            0,
                            "#0d0887"
                          ],
                          [
                            0.1111111111111111,
                            "#46039f"
                          ],
                          [
                            0.2222222222222222,
                            "#7201a8"
                          ],
                          [
                            0.3333333333333333,
                            "#9c179e"
                          ],
                          [
                            0.4444444444444444,
                            "#bd3786"
                          ],
                          [
                            0.5555555555555556,
                            "#d8576b"
                          ],
                          [
                            0.6666666666666666,
                            "#ed7953"
                          ],
                          [
                            0.7777777777777778,
                            "#fb9f3a"
                          ],
                          [
                            0.8888888888888888,
                            "#fdca26"
                          ],
                          [
                            1,
                            "#f0f921"
                          ]
                        ],
                        "type": "heatmap"
                      }
                    ],
                    "heatmapgl": [
                      {
                        "colorbar": {
                          "outlinewidth": 0,
                          "ticks": ""
                        },
                        "colorscale": [
                          [
                            0,
                            "#0d0887"
                          ],
                          [
                            0.1111111111111111,
                            "#46039f"
                          ],
                          [
                            0.2222222222222222,
                            "#7201a8"
                          ],
                          [
                            0.3333333333333333,
                            "#9c179e"
                          ],
                          [
                            0.4444444444444444,
                            "#bd3786"
                          ],
                          [
                            0.5555555555555556,
                            "#d8576b"
                          ],
                          [
                            0.6666666666666666,
                            "#ed7953"
                          ],
                          [
                            0.7777777777777778,
                            "#fb9f3a"
                          ],
                          [
                            0.8888888888888888,
                            "#fdca26"
                          ],
                          [
                            1,
                            "#f0f921"
                          ]
                        ],
                        "type": "heatmapgl"
                      }
                    ],
                    "histogram": [
                      {
                        "marker": {
                          "pattern": {
                            "fillmode": "overlay",
                            "size": 10,
                            "solidity": 0.2
                          }
                        },
                        "type": "histogram"
                      }
                    ],
                    "histogram2d": [
                      {
                        "colorbar": {
                          "outlinewidth": 0,
                          "ticks": ""
                        },
                        "colorscale": [
                          [
                            0,
                            "#0d0887"
                          ],
                          [
                            0.1111111111111111,
                            "#46039f"
                          ],
                          [
                            0.2222222222222222,
                            "#7201a8"
                          ],
                          [
                            0.3333333333333333,
                            "#9c179e"
                          ],
                          [
                            0.4444444444444444,
                            "#bd3786"
                          ],
                          [
                            0.5555555555555556,
                            "#d8576b"
                          ],
                          [
                            0.6666666666666666,
                            "#ed7953"
                          ],
                          [
                            0.7777777777777778,
                            "#fb9f3a"
                          ],
                          [
                            0.8888888888888888,
                            "#fdca26"
                          ],
                          [
                            1,
                            "#f0f921"
                          ]
                        ],
                        "type": "histogram2d"
                      }
                    ],
                    "histogram2dcontour": [
                      {
                        "colorbar": {
                          "outlinewidth": 0,
                          "ticks": ""
                        },
                        "colorscale": [
                          [
                            0,
                            "#0d0887"
                          ],
                          [
                            0.1111111111111111,
                            "#46039f"
                          ],
                          [
                            0.2222222222222222,
                            "#7201a8"
                          ],
                          [
                            0.3333333333333333,
                            "#9c179e"
                          ],
                          [
                            0.4444444444444444,
                            "#bd3786"
                          ],
                          [
                            0.5555555555555556,
                            "#d8576b"
                          ],
                          [
                            0.6666666666666666,
                            "#ed7953"
                          ],
                          [
                            0.7777777777777778,
                            "#fb9f3a"
                          ],
                          [
                            0.8888888888888888,
                            "#fdca26"
                          ],
                          [
                            1,
                            "#f0f921"
                          ]
                        ],
                        "type": "histogram2dcontour"
                      }
                    ],
                    "mesh3d": [
                      {
                        "colorbar": {
                          "outlinewidth": 0,
                          "ticks": ""
                        },
                        "type": "mesh3d"
                      }
                    ],
                    "parcoords": [
                      {
                        "line": {
                          "colorbar": {
                            "outlinewidth": 0,
                            "ticks": ""
                          }
                        },
                        "type": "parcoords"
                      }
                    ],
                    "pie": [
                      {
                        "automargin": true,
                        "type": "pie"
                      }
                    ],
                    "scatter": [
                      {
                        "fillpattern": {
                          "fillmode": "overlay",
                          "size": 10,
                          "solidity": 0.2
                        },
                        "type": "scatter"
                      }
                    ],
                    "scatter3d": [
                      {
                        "line": {
                          "colorbar": {
                            "outlinewidth": 0,
                            "ticks": ""
                          }
                        },
                        "marker": {
                          "colorbar": {
                            "outlinewidth": 0,
                            "ticks": ""
                          }
                        },
                        "type": "scatter3d"
                      }
                    ],
                    "scattercarpet": [
                      {
                        "marker": {
                          "colorbar": {
                            "outlinewidth": 0,
                            "ticks": ""
                          }
                        },
                        "type": "scattercarpet"
                      }
                    ],
                    "scattergeo": [
                      {
                        "marker": {
                          "colorbar": {
                            "outlinewidth": 0,
                            "ticks": ""
                          }
                        },
                        "type": "scattergeo"
                      }
                    ],
                    "scattergl": [
                      {
                        "marker": {
                          "colorbar": {
                            "outlinewidth": 0,
                            "ticks": ""
                          }
                        },
                        "type": "scattergl"
                      }
                    ],
                    "scattermapbox": [
                      {
                        "marker": {
                          "colorbar": {
                            "outlinewidth": 0,
                            "ticks": ""
                          }
                        },
                        "type": "scattermapbox"
                      }
                    ],
                    "scatterpolar": [
                      {
                        "marker": {
                          "colorbar": {
                            "outlinewidth": 0,
                            "ticks": ""
                          }
                        },
                        "type": "scatterpolar"
                      }
                    ],
                    "scatterpolargl": [
                      {
                        "marker": {
                          "colorbar": {
                            "outlinewidth": 0,
                            "ticks": ""
                          }
                        },
                        "type": "scatterpolargl"
                      }
                    ],
                    "scatterternary": [
                      {
                        "marker": {
                          "colorbar": {
                            "outlinewidth": 0,
                            "ticks": ""
                          }
                        },
                        "type": "scatterternary"
                      }
                    ],
                    "surface": [
                      {
                        "colorbar": {
                          "outlinewidth": 0,
                          "ticks": ""
                        },
                        "colorscale": [
                          [
                            0,
                            "#0d0887"
                          ],
                          [
                            0.1111111111111111,
                            "#46039f"
                          ],
                          [
                            0.2222222222222222,
                            "#7201a8"
                          ],
                          [
                            0.3333333333333333,
                            "#9c179e"
                          ],
                          [
                            0.4444444444444444,
                            "#bd3786"
                          ],
                          [
                            0.5555555555555556,
                            "#d8576b"
                          ],
                          [
                            0.6666666666666666,
                            "#ed7953"
                          ],
                          [
                            0.7777777777777778,
                            "#fb9f3a"
                          ],
                          [
                            0.8888888888888888,
                            "#fdca26"
                          ],
                          [
                            1,
                            "#f0f921"
                          ]
                        ],
                        "type": "surface"
                      }
                    ],
                    "table": [
                      {
                        "cells": {
                          "fill": {
                            "color": "#EBF0F8"
                          },
                          "line": {
                            "color": "white"
                          }
                        },
                        "header": {
                          "fill": {
                            "color": "#C8D4E3"
                          },
                          "line": {
                            "color": "white"
                          }
                        },
                        "type": "table"
                      }
                    ]
                  },
                  "layout": {
                    "annotationdefaults": {
                      "arrowcolor": "#2a3f5f",
                      "arrowhead": 0,
                      "arrowwidth": 1
                    },
                    "autotypenumbers": "strict",
                    "coloraxis": {
                      "colorbar": {
                        "outlinewidth": 0,
                        "ticks": ""
                      }
                    },
                    "colorscale": {
                      "diverging": [
                        [
                          0,
                          "#8e0152"
                        ],
                        [
                          0.1,
                          "#c51b7d"
                        ],
                        [
                          0.2,
                          "#de77ae"
                        ],
                        [
                          0.3,
                          "#f1b6da"
                        ],
                        [
                          0.4,
                          "#fde0ef"
                        ],
                        [
                          0.5,
                          "#f7f7f7"
                        ],
                        [
                          0.6,
                          "#e6f5d0"
                        ],
                        [
                          0.7,
                          "#b8e186"
                        ],
                        [
                          0.8,
                          "#7fbc41"
                        ],
                        [
                          0.9,
                          "#4d9221"
                        ],
                        [
                          1,
                          "#276419"
                        ]
                      ],
                      "sequential": [
                        [
                          0,
                          "#0d0887"
                        ],
                        [
                          0.1111111111111111,
                          "#46039f"
                        ],
                        [
                          0.2222222222222222,
                          "#7201a8"
                        ],
                        [
                          0.3333333333333333,
                          "#9c179e"
                        ],
                        [
                          0.4444444444444444,
                          "#bd3786"
                        ],
                        [
                          0.5555555555555556,
                          "#d8576b"
                        ],
                        [
                          0.6666666666666666,
                          "#ed7953"
                        ],
                        [
                          0.7777777777777778,
                          "#fb9f3a"
                        ],
                        [
                          0.8888888888888888,
                          "#fdca26"
                        ],
                        [
                          1,
                          "#f0f921"
                        ]
                      ],
                      "sequentialminus": [
                        [
                          0,
                          "#0d0887"
                        ],
                        [
                          0.1111111111111111,
                          "#46039f"
                        ],
                        [
                          0.2222222222222222,
                          "#7201a8"
                        ],
                        [
                          0.3333333333333333,
                          "#9c179e"
                        ],
                        [
                          0.4444444444444444,
                          "#bd3786"
                        ],
                        [
                          0.5555555555555556,
                          "#d8576b"
                        ],
                        [
                          0.6666666666666666,
                          "#ed7953"
                        ],
                        [
                          0.7777777777777778,
                          "#fb9f3a"
                        ],
                        [
                          0.8888888888888888,
                          "#fdca26"
                        ],
                        [
                          1,
                          "#f0f921"
                        ]
                      ]
                    },
                    "colorway": [
                      "#636efa",
                      "#EF553B",
                      "#00cc96",
                      "#ab63fa",
                      "#FFA15A",
                      "#19d3f3",
                      "#FF6692",
                      "#B6E880",
                      "#FF97FF",
                      "#FECB52"
                    ],
                    "font": {
                      "color": "#2a3f5f"
                    },
                    "geo": {
                      "bgcolor": "white",
                      "lakecolor": "white",
                      "landcolor": "#E5ECF6",
                      "showlakes": true,
                      "showland": true,
                      "subunitcolor": "white"
                    },
                    "hoverlabel": {
                      "align": "left"
                    },
                    "hovermode": "closest",
                    "mapbox": {
                      "style": "light"
                    },
                    "paper_bgcolor": "white",
                    "plot_bgcolor": "#E5ECF6",
                    "polar": {
                      "angularaxis": {
                        "gridcolor": "white",
                        "linecolor": "white",
                        "ticks": ""
                      },
                      "bgcolor": "#E5ECF6",
                      "radialaxis": {
                        "gridcolor": "white",
                        "linecolor": "white",
                        "ticks": ""
                      }
                    },
                    "scene": {
                      "xaxis": {
                        "backgroundcolor": "#E5ECF6",
                        "gridcolor": "white",
                        "gridwidth": 2,
                        "linecolor": "white",
                        "showbackground": true,
                        "ticks": "",
                        "zerolinecolor": "white"
                      },
                      "yaxis": {
                        "backgroundcolor": "#E5ECF6",
                        "gridcolor": "white",
                        "gridwidth": 2,
                        "linecolor": "white",
                        "showbackground": true,
                        "ticks": "",
                        "zerolinecolor": "white"
                      },
                      "zaxis": {
                        "backgroundcolor": "#E5ECF6",
                        "gridcolor": "white",
                        "gridwidth": 2,
                        "linecolor": "white",
                        "showbackground": true,
                        "ticks": "",
                        "zerolinecolor": "white"
                      }
                    },
                    "shapedefaults": {
                      "line": {
                        "color": "#2a3f5f"
                      }
                    },
                    "ternary": {
                      "aaxis": {
                        "gridcolor": "white",
                        "linecolor": "white",
                        "ticks": ""
                      },
                      "baxis": {
                        "gridcolor": "white",
                        "linecolor": "white",
                        "ticks": ""
                      },
                      "bgcolor": "#E5ECF6",
                      "caxis": {
                        "gridcolor": "white",
                        "linecolor": "white",
                        "ticks": ""
                      }
                    },
                    "title": {
                      "x": 0.05
                    },
                    "xaxis": {
                      "automargin": true,
                      "gridcolor": "white",
                      "linecolor": "white",
                      "ticks": "",
                      "title": {
                        "standoff": 15
                      },
                      "zerolinecolor": "white",
                      "zerolinewidth": 2
                    },
                    "yaxis": {
                      "automargin": true,
                      "gridcolor": "white",
                      "linecolor": "white",
                      "ticks": "",
                      "title": {
                        "standoff": 15
                      },
                      "zerolinecolor": "white",
                      "zerolinewidth": 2
                    }
                  }
                },
                "xaxis": {
                  "anchor": "y",
                  "constrain": "domain",
                  "domain": [
                    0,
                    1
                  ],
                  "scaleanchor": "y",
                  "title": {
                    "text": "car_id"
                  }
                },
                "yaxis": {
                  "anchor": "x",
                  "autorange": "reversed",
                  "constrain": "domain",
                  "domain": [
                    0,
                    1
                  ],
                  "title": {
                    "text": "user_id"
                  }
                }
              }
            }
          },
          "metadata": {},
          "output_type": "display_data"
        }
      ],
      "source": [
        "px.imshow(actions_pivot_table)"
      ]
    },
    {
      "cell_type": "code",
      "execution_count": 47,
      "metadata": {
        "id": "7FsNLfQJx6tR"
      },
      "outputs": [],
      "source": [
        "actions_data = pd.melt(actions_pivot_table.reset_index(), id_vars='user_id', value_vars=actions_pivot_table.columns).rename(columns={\"value\":\"interaction\"})"
      ]
    },
    {
      "cell_type": "code",
      "execution_count": 48,
      "metadata": {
        "colab": {
          "base_uri": "https://localhost:8080/"
        },
        "id": "mAGXN9rsyAor",
        "outputId": "1a8140e0-3f56-4277-899e-852f2357d0d7"
      },
      "outputs": [
        {
          "data": {
            "text/plain": [
              "array([1, 0])"
            ]
          },
          "execution_count": 48,
          "metadata": {},
          "output_type": "execute_result"
        }
      ],
      "source": [
        "actions_data.interaction.unique()"
      ]
    },
    {
      "cell_type": "code",
      "execution_count": 49,
      "metadata": {
        "colab": {
          "base_uri": "https://localhost:8080/",
          "height": 411
        },
        "id": "cAV0p0gK0Fz-",
        "outputId": "b7aa9458-4560-4980-d19e-3ad7bb331731"
      },
      "outputs": [
        {
          "data": {
            "text/html": [
              "<div>\n",
              "<style scoped>\n",
              "    .dataframe tbody tr th:only-of-type {\n",
              "        vertical-align: middle;\n",
              "    }\n",
              "\n",
              "    .dataframe tbody tr th {\n",
              "        vertical-align: top;\n",
              "    }\n",
              "\n",
              "    .dataframe thead th {\n",
              "        text-align: right;\n",
              "    }\n",
              "</style>\n",
              "<table border=\"1\" class=\"dataframe\">\n",
              "  <thead>\n",
              "    <tr style=\"text-align: right;\">\n",
              "      <th></th>\n",
              "      <th>user_id</th>\n",
              "      <th>car_id</th>\n",
              "      <th>interaction</th>\n",
              "    </tr>\n",
              "  </thead>\n",
              "  <tbody>\n",
              "    <tr>\n",
              "      <th>0</th>\n",
              "      <td>0</td>\n",
              "      <td>0</td>\n",
              "      <td>1</td>\n",
              "    </tr>\n",
              "    <tr>\n",
              "      <th>1</th>\n",
              "      <td>1</td>\n",
              "      <td>0</td>\n",
              "      <td>0</td>\n",
              "    </tr>\n",
              "    <tr>\n",
              "      <th>2</th>\n",
              "      <td>2</td>\n",
              "      <td>0</td>\n",
              "      <td>0</td>\n",
              "    </tr>\n",
              "    <tr>\n",
              "      <th>3</th>\n",
              "      <td>3</td>\n",
              "      <td>0</td>\n",
              "      <td>0</td>\n",
              "    </tr>\n",
              "    <tr>\n",
              "      <th>4</th>\n",
              "      <td>4</td>\n",
              "      <td>0</td>\n",
              "      <td>0</td>\n",
              "    </tr>\n",
              "    <tr>\n",
              "      <th>...</th>\n",
              "      <td>...</td>\n",
              "      <td>...</td>\n",
              "      <td>...</td>\n",
              "    </tr>\n",
              "    <tr>\n",
              "      <th>8170</th>\n",
              "      <td>70</td>\n",
              "      <td>402</td>\n",
              "      <td>0</td>\n",
              "    </tr>\n",
              "    <tr>\n",
              "      <th>8171</th>\n",
              "      <td>71</td>\n",
              "      <td>402</td>\n",
              "      <td>0</td>\n",
              "    </tr>\n",
              "    <tr>\n",
              "      <th>8172</th>\n",
              "      <td>72</td>\n",
              "      <td>402</td>\n",
              "      <td>0</td>\n",
              "    </tr>\n",
              "    <tr>\n",
              "      <th>8173</th>\n",
              "      <td>73</td>\n",
              "      <td>402</td>\n",
              "      <td>0</td>\n",
              "    </tr>\n",
              "    <tr>\n",
              "      <th>8174</th>\n",
              "      <td>74</td>\n",
              "      <td>402</td>\n",
              "      <td>0</td>\n",
              "    </tr>\n",
              "  </tbody>\n",
              "</table>\n",
              "<p>8175 rows × 3 columns</p>\n",
              "</div>"
            ],
            "text/plain": [
              "      user_id car_id  interaction\n",
              "0           0      0            1\n",
              "1           1      0            0\n",
              "2           2      0            0\n",
              "3           3      0            0\n",
              "4           4      0            0\n",
              "...       ...    ...          ...\n",
              "8170       70    402            0\n",
              "8171       71    402            0\n",
              "8172       72    402            0\n",
              "8173       73    402            0\n",
              "8174       74    402            0\n",
              "\n",
              "[8175 rows x 3 columns]"
            ]
          },
          "execution_count": 49,
          "metadata": {},
          "output_type": "execute_result"
        }
      ],
      "source": [
        "actions_data"
      ]
    },
    {
      "cell_type": "code",
      "execution_count": 50,
      "metadata": {
        "id": "e3RUy0fzyMIX"
      },
      "outputs": [],
      "source": [
        "actions_data.interaction = actions_data.interaction.apply(lambda a: 1 if a > 0.5 else 0)"
      ]
    },
    {
      "cell_type": "code",
      "execution_count": 51,
      "metadata": {
        "colab": {
          "base_uri": "https://localhost:8080/",
          "height": 411
        },
        "id": "ydUhFHcIz_ZS",
        "outputId": "7d68a98f-68f9-41d5-c614-99da33127cdd"
      },
      "outputs": [
        {
          "data": {
            "text/html": [
              "<div>\n",
              "<style scoped>\n",
              "    .dataframe tbody tr th:only-of-type {\n",
              "        vertical-align: middle;\n",
              "    }\n",
              "\n",
              "    .dataframe tbody tr th {\n",
              "        vertical-align: top;\n",
              "    }\n",
              "\n",
              "    .dataframe thead th {\n",
              "        text-align: right;\n",
              "    }\n",
              "</style>\n",
              "<table border=\"1\" class=\"dataframe\">\n",
              "  <thead>\n",
              "    <tr style=\"text-align: right;\">\n",
              "      <th></th>\n",
              "      <th>user_id</th>\n",
              "      <th>car_id</th>\n",
              "      <th>interaction</th>\n",
              "    </tr>\n",
              "  </thead>\n",
              "  <tbody>\n",
              "    <tr>\n",
              "      <th>0</th>\n",
              "      <td>0</td>\n",
              "      <td>0</td>\n",
              "      <td>1</td>\n",
              "    </tr>\n",
              "    <tr>\n",
              "      <th>1</th>\n",
              "      <td>1</td>\n",
              "      <td>0</td>\n",
              "      <td>0</td>\n",
              "    </tr>\n",
              "    <tr>\n",
              "      <th>2</th>\n",
              "      <td>2</td>\n",
              "      <td>0</td>\n",
              "      <td>0</td>\n",
              "    </tr>\n",
              "    <tr>\n",
              "      <th>3</th>\n",
              "      <td>3</td>\n",
              "      <td>0</td>\n",
              "      <td>0</td>\n",
              "    </tr>\n",
              "    <tr>\n",
              "      <th>4</th>\n",
              "      <td>4</td>\n",
              "      <td>0</td>\n",
              "      <td>0</td>\n",
              "    </tr>\n",
              "    <tr>\n",
              "      <th>...</th>\n",
              "      <td>...</td>\n",
              "      <td>...</td>\n",
              "      <td>...</td>\n",
              "    </tr>\n",
              "    <tr>\n",
              "      <th>8170</th>\n",
              "      <td>70</td>\n",
              "      <td>402</td>\n",
              "      <td>0</td>\n",
              "    </tr>\n",
              "    <tr>\n",
              "      <th>8171</th>\n",
              "      <td>71</td>\n",
              "      <td>402</td>\n",
              "      <td>0</td>\n",
              "    </tr>\n",
              "    <tr>\n",
              "      <th>8172</th>\n",
              "      <td>72</td>\n",
              "      <td>402</td>\n",
              "      <td>0</td>\n",
              "    </tr>\n",
              "    <tr>\n",
              "      <th>8173</th>\n",
              "      <td>73</td>\n",
              "      <td>402</td>\n",
              "      <td>0</td>\n",
              "    </tr>\n",
              "    <tr>\n",
              "      <th>8174</th>\n",
              "      <td>74</td>\n",
              "      <td>402</td>\n",
              "      <td>0</td>\n",
              "    </tr>\n",
              "  </tbody>\n",
              "</table>\n",
              "<p>8175 rows × 3 columns</p>\n",
              "</div>"
            ],
            "text/plain": [
              "      user_id car_id  interaction\n",
              "0           0      0            1\n",
              "1           1      0            0\n",
              "2           2      0            0\n",
              "3           3      0            0\n",
              "4           4      0            0\n",
              "...       ...    ...          ...\n",
              "8170       70    402            0\n",
              "8171       71    402            0\n",
              "8172       72    402            0\n",
              "8173       73    402            0\n",
              "8174       74    402            0\n",
              "\n",
              "[8175 rows x 3 columns]"
            ]
          },
          "execution_count": 51,
          "metadata": {},
          "output_type": "execute_result"
        }
      ],
      "source": [
        "actions_data"
      ]
    },
    {
      "cell_type": "markdown",
      "metadata": {
        "id": "ldfrWFLFqk9w"
      },
      "source": [
        "## CatBoost inputs"
      ]
    },
    {
      "cell_type": "markdown",
      "metadata": {
        "id": "Vklt_BB4qk9w"
      },
      "source": [
        "1. собираю фичи топ n понравившихся авто\n",
        "2. конкатенирую фичи понравившихся авто с таргет авто\n",
        "3. делаю бинарную классификацию "
      ]
    },
    {
      "cell_type": "code",
      "execution_count": 54,
      "metadata": {
        "id": "8tQnIwZTqk9w"
      },
      "outputs": [],
      "source": [
        "N_POSITIVE = 5"
      ]
    },
    {
      "cell_type": "code",
      "execution_count": 55,
      "metadata": {},
      "outputs": [
        {
          "data": {
            "text/html": [
              "<div>\n",
              "<style scoped>\n",
              "    .dataframe tbody tr th:only-of-type {\n",
              "        vertical-align: middle;\n",
              "    }\n",
              "\n",
              "    .dataframe tbody tr th {\n",
              "        vertical-align: top;\n",
              "    }\n",
              "\n",
              "    .dataframe thead th {\n",
              "        text-align: right;\n",
              "    }\n",
              "</style>\n",
              "<table border=\"1\" class=\"dataframe\">\n",
              "  <thead>\n",
              "    <tr style=\"text-align: right;\">\n",
              "      <th></th>\n",
              "      <th>used_label</th>\n",
              "      <th>price</th>\n",
              "      <th>exteriorColor</th>\n",
              "      <th>interiorColor</th>\n",
              "      <th>drivetrain</th>\n",
              "      <th>minMPG</th>\n",
              "      <th>maxMPG</th>\n",
              "      <th>fuelType</th>\n",
              "      <th>transmission</th>\n",
              "      <th>mileage</th>\n",
              "      <th>brand</th>\n",
              "    </tr>\n",
              "  </thead>\n",
              "  <tbody>\n",
              "    <tr>\n",
              "      <th>0</th>\n",
              "      <td>1</td>\n",
              "      <td>39</td>\n",
              "      <td>139</td>\n",
              "      <td>11</td>\n",
              "      <td>4</td>\n",
              "      <td>19.0</td>\n",
              "      <td>27.0</td>\n",
              "      <td>3</td>\n",
              "      <td>20</td>\n",
              "      <td>29403.0</td>\n",
              "      <td>28</td>\n",
              "    </tr>\n",
              "    <tr>\n",
              "      <th>1</th>\n",
              "      <td>1</td>\n",
              "      <td>49</td>\n",
              "      <td>145</td>\n",
              "      <td>11</td>\n",
              "      <td>3</td>\n",
              "      <td>19.0</td>\n",
              "      <td>24.0</td>\n",
              "      <td>3</td>\n",
              "      <td>2</td>\n",
              "      <td>32929.0</td>\n",
              "      <td>10</td>\n",
              "    </tr>\n",
              "    <tr>\n",
              "      <th>2</th>\n",
              "      <td>1</td>\n",
              "      <td>41</td>\n",
              "      <td>62</td>\n",
              "      <td>11</td>\n",
              "      <td>3</td>\n",
              "      <td>15.0</td>\n",
              "      <td>21.0</td>\n",
              "      <td>3</td>\n",
              "      <td>20</td>\n",
              "      <td>23173.0</td>\n",
              "      <td>25</td>\n",
              "    </tr>\n",
              "    <tr>\n",
              "      <th>3</th>\n",
              "      <td>1</td>\n",
              "      <td>28</td>\n",
              "      <td>66</td>\n",
              "      <td>83</td>\n",
              "      <td>4</td>\n",
              "      <td>29.0</td>\n",
              "      <td>35.0</td>\n",
              "      <td>3</td>\n",
              "      <td>28</td>\n",
              "      <td>10598.0</td>\n",
              "      <td>13</td>\n",
              "    </tr>\n",
              "    <tr>\n",
              "      <th>4</th>\n",
              "      <td>1</td>\n",
              "      <td>49</td>\n",
              "      <td>53</td>\n",
              "      <td>10</td>\n",
              "      <td>4</td>\n",
              "      <td>20.0</td>\n",
              "      <td>27.0</td>\n",
              "      <td>3</td>\n",
              "      <td>20</td>\n",
              "      <td>28137.0</td>\n",
              "      <td>19</td>\n",
              "    </tr>\n",
              "    <tr>\n",
              "      <th>...</th>\n",
              "      <td>...</td>\n",
              "      <td>...</td>\n",
              "      <td>...</td>\n",
              "      <td>...</td>\n",
              "      <td>...</td>\n",
              "      <td>...</td>\n",
              "      <td>...</td>\n",
              "      <td>...</td>\n",
              "      <td>...</td>\n",
              "      <td>...</td>\n",
              "      <td>...</td>\n",
              "    </tr>\n",
              "    <tr>\n",
              "      <th>399</th>\n",
              "      <td>1</td>\n",
              "      <td>33</td>\n",
              "      <td>46</td>\n",
              "      <td>11</td>\n",
              "      <td>3</td>\n",
              "      <td>18.0</td>\n",
              "      <td>25.0</td>\n",
              "      <td>3</td>\n",
              "      <td>20</td>\n",
              "      <td>43807.0</td>\n",
              "      <td>16</td>\n",
              "    </tr>\n",
              "    <tr>\n",
              "      <th>400</th>\n",
              "      <td>0</td>\n",
              "      <td>30</td>\n",
              "      <td>163</td>\n",
              "      <td>57</td>\n",
              "      <td>2</td>\n",
              "      <td>34.0</td>\n",
              "      <td>30.0</td>\n",
              "      <td>5</td>\n",
              "      <td>28</td>\n",
              "      <td>41944.0</td>\n",
              "      <td>28</td>\n",
              "    </tr>\n",
              "    <tr>\n",
              "      <th>401</th>\n",
              "      <td>1</td>\n",
              "      <td>35</td>\n",
              "      <td>11</td>\n",
              "      <td>11</td>\n",
              "      <td>2</td>\n",
              "      <td>22.0</td>\n",
              "      <td>29.0</td>\n",
              "      <td>3</td>\n",
              "      <td>24</td>\n",
              "      <td>49386.0</td>\n",
              "      <td>5</td>\n",
              "    </tr>\n",
              "    <tr>\n",
              "      <th>402</th>\n",
              "      <td>1</td>\n",
              "      <td>35</td>\n",
              "      <td>168</td>\n",
              "      <td>49</td>\n",
              "      <td>3</td>\n",
              "      <td>16.0</td>\n",
              "      <td>22.0</td>\n",
              "      <td>3</td>\n",
              "      <td>9</td>\n",
              "      <td>115795.0</td>\n",
              "      <td>6</td>\n",
              "    </tr>\n",
              "    <tr>\n",
              "      <th>403</th>\n",
              "      <td>1</td>\n",
              "      <td>9</td>\n",
              "      <td>68</td>\n",
              "      <td>11</td>\n",
              "      <td>4</td>\n",
              "      <td>23.0</td>\n",
              "      <td>28.0</td>\n",
              "      <td>3</td>\n",
              "      <td>26</td>\n",
              "      <td>47786.0</td>\n",
              "      <td>17</td>\n",
              "    </tr>\n",
              "  </tbody>\n",
              "</table>\n",
              "<p>404 rows × 11 columns</p>\n",
              "</div>"
            ],
            "text/plain": [
              "     used_label  price  exteriorColor  interiorColor  drivetrain  minMPG  \\\n",
              "0             1     39            139             11           4    19.0   \n",
              "1             1     49            145             11           3    19.0   \n",
              "2             1     41             62             11           3    15.0   \n",
              "3             1     28             66             83           4    29.0   \n",
              "4             1     49             53             10           4    20.0   \n",
              "..          ...    ...            ...            ...         ...     ...   \n",
              "399           1     33             46             11           3    18.0   \n",
              "400           0     30            163             57           2    34.0   \n",
              "401           1     35             11             11           2    22.0   \n",
              "402           1     35            168             49           3    16.0   \n",
              "403           1      9             68             11           4    23.0   \n",
              "\n",
              "     maxMPG  fuelType  transmission   mileage  brand  \n",
              "0      27.0         3            20   29403.0     28  \n",
              "1      24.0         3             2   32929.0     10  \n",
              "2      21.0         3            20   23173.0     25  \n",
              "3      35.0         3            28   10598.0     13  \n",
              "4      27.0         3            20   28137.0     19  \n",
              "..      ...       ...           ...       ...    ...  \n",
              "399    25.0         3            20   43807.0     16  \n",
              "400    30.0         5            28   41944.0     28  \n",
              "401    29.0         3            24   49386.0      5  \n",
              "402    22.0         3             9  115795.0      6  \n",
              "403    28.0         3            26   47786.0     17  \n",
              "\n",
              "[404 rows x 11 columns]"
            ]
          },
          "execution_count": 55,
          "metadata": {},
          "output_type": "execute_result"
        }
      ],
      "source": [
        "cars_data"
      ]
    },
    {
      "cell_type": "code",
      "execution_count": 56,
      "metadata": {
        "id": "slfRxek6qk9w"
      },
      "outputs": [],
      "source": [
        "column_names = []\n",
        "cat_columns = ['used_label', 'exteriorColor', 'interiorColor', 'drivetrain', 'fuelType', 'transmission', 'brand']\n",
        "cat_features = []\n",
        "\n",
        "for index in range(N_POSITIVE):\n",
        "    for column in cars_data.columns:\n",
        "        column_names.append(f\"car_{index}_{column}\")\n",
        "        \n",
        "for column in cars_data.columns:\n",
        "    column_names.append(f\"target_{column}\")\n",
        "\n",
        "for column in column_names:\n",
        "    for c_column in cat_columns:\n",
        "        if c_column in column:\n",
        "            cat_features.append(column)\n",
        "        \n",
        "dataset = pd.DataFrame(columns=column_names + [\"interaction\"])\n",
        "\n",
        "for user_id in actions_data.user_id.unique():\n",
        "    for target_car_id in actions_data.car_id.unique():\n",
        "        # len(cars_data.columns) * (N_POSITIVE + 1))\n",
        "        matrix_features = []\n",
        "        features = []\n",
        "        current_positive_samples = actions_data.query(f\"user_id == {user_id}\").query(f\"car_id != {target_car_id}\").query(\"interaction == 1\")\n",
        "        # print()\n",
        "        if len(current_positive_samples) < N_POSITIVE: continue\n",
        "\n",
        "        for car_id in current_positive_samples.sample(N_POSITIVE).car_id.to_list():\n",
        "            matrix_features.append(cars_data.iloc[car_id].to_list())\n",
        "        matrix_features.append(cars_data.iloc[target_car_id].to_list())\n",
        "        matrix_features.append(int(actions_data.loc[actions_data.car_id == target_car_id].query(f\"user_id == {user_id}\").interaction))\n",
        "        \n",
        "        for item in matrix_features:\n",
        "            if isinstance(item, list):\n",
        "                for elem in item:\n",
        "                    features.append(elem)\n",
        "            else:\n",
        "                features.append(item)\n",
        "        # print(features)\n",
        "        dataset = pd.concat([dataset, pd.DataFrame.from_records([dict(zip(dataset.columns, features))])])\n",
        "\n",
        "# dataset = dataset.astype(int)"
      ]
    },
    {
      "cell_type": "code",
      "execution_count": 57,
      "metadata": {
        "colab": {
          "base_uri": "https://localhost:8080/",
          "height": 476
        },
        "id": "XUzLGelgs0qb",
        "outputId": "e8089e81-4048-4115-9584-9192021374ed"
      },
      "outputs": [
        {
          "data": {
            "text/html": [
              "<div>\n",
              "<style scoped>\n",
              "    .dataframe tbody tr th:only-of-type {\n",
              "        vertical-align: middle;\n",
              "    }\n",
              "\n",
              "    .dataframe tbody tr th {\n",
              "        vertical-align: top;\n",
              "    }\n",
              "\n",
              "    .dataframe thead th {\n",
              "        text-align: right;\n",
              "    }\n",
              "</style>\n",
              "<table border=\"1\" class=\"dataframe\">\n",
              "  <thead>\n",
              "    <tr style=\"text-align: right;\">\n",
              "      <th></th>\n",
              "      <th>car_0_used_label</th>\n",
              "      <th>car_0_price</th>\n",
              "      <th>car_0_exteriorColor</th>\n",
              "      <th>car_0_interiorColor</th>\n",
              "      <th>car_0_drivetrain</th>\n",
              "      <th>car_0_minMPG</th>\n",
              "      <th>car_0_maxMPG</th>\n",
              "      <th>car_0_fuelType</th>\n",
              "      <th>car_0_transmission</th>\n",
              "      <th>car_0_mileage</th>\n",
              "      <th>...</th>\n",
              "      <th>target_exteriorColor</th>\n",
              "      <th>target_interiorColor</th>\n",
              "      <th>target_drivetrain</th>\n",
              "      <th>target_minMPG</th>\n",
              "      <th>target_maxMPG</th>\n",
              "      <th>target_fuelType</th>\n",
              "      <th>target_transmission</th>\n",
              "      <th>target_mileage</th>\n",
              "      <th>target_brand</th>\n",
              "      <th>interaction</th>\n",
              "    </tr>\n",
              "  </thead>\n",
              "  <tbody>\n",
              "    <tr>\n",
              "      <th>0</th>\n",
              "      <td>1.0</td>\n",
              "      <td>23.0</td>\n",
              "      <td>173.0</td>\n",
              "      <td>8.0</td>\n",
              "      <td>2.0</td>\n",
              "      <td>18.0</td>\n",
              "      <td>27.0</td>\n",
              "      <td>3.0</td>\n",
              "      <td>9.0</td>\n",
              "      <td>99697.0</td>\n",
              "      <td>...</td>\n",
              "      <td>139.0</td>\n",
              "      <td>11.0</td>\n",
              "      <td>4.0</td>\n",
              "      <td>19.0</td>\n",
              "      <td>27.0</td>\n",
              "      <td>3.0</td>\n",
              "      <td>20.0</td>\n",
              "      <td>29403.0</td>\n",
              "      <td>28.0</td>\n",
              "      <td>1</td>\n",
              "    </tr>\n",
              "    <tr>\n",
              "      <th>0</th>\n",
              "      <td>1.0</td>\n",
              "      <td>28.0</td>\n",
              "      <td>174.0</td>\n",
              "      <td>27.0</td>\n",
              "      <td>3.0</td>\n",
              "      <td>16.0</td>\n",
              "      <td>22.0</td>\n",
              "      <td>3.0</td>\n",
              "      <td>9.0</td>\n",
              "      <td>139597.0</td>\n",
              "      <td>...</td>\n",
              "      <td>62.0</td>\n",
              "      <td>11.0</td>\n",
              "      <td>3.0</td>\n",
              "      <td>15.0</td>\n",
              "      <td>21.0</td>\n",
              "      <td>3.0</td>\n",
              "      <td>20.0</td>\n",
              "      <td>23173.0</td>\n",
              "      <td>25.0</td>\n",
              "      <td>0</td>\n",
              "    </tr>\n",
              "    <tr>\n",
              "      <th>0</th>\n",
              "      <td>1.0</td>\n",
              "      <td>23.0</td>\n",
              "      <td>173.0</td>\n",
              "      <td>8.0</td>\n",
              "      <td>2.0</td>\n",
              "      <td>18.0</td>\n",
              "      <td>27.0</td>\n",
              "      <td>3.0</td>\n",
              "      <td>9.0</td>\n",
              "      <td>99697.0</td>\n",
              "      <td>...</td>\n",
              "      <td>66.0</td>\n",
              "      <td>83.0</td>\n",
              "      <td>4.0</td>\n",
              "      <td>29.0</td>\n",
              "      <td>35.0</td>\n",
              "      <td>3.0</td>\n",
              "      <td>28.0</td>\n",
              "      <td>10598.0</td>\n",
              "      <td>13.0</td>\n",
              "      <td>0</td>\n",
              "    </tr>\n",
              "    <tr>\n",
              "      <th>0</th>\n",
              "      <td>1.0</td>\n",
              "      <td>39.0</td>\n",
              "      <td>139.0</td>\n",
              "      <td>11.0</td>\n",
              "      <td>4.0</td>\n",
              "      <td>19.0</td>\n",
              "      <td>27.0</td>\n",
              "      <td>3.0</td>\n",
              "      <td>20.0</td>\n",
              "      <td>29403.0</td>\n",
              "      <td>...</td>\n",
              "      <td>53.0</td>\n",
              "      <td>10.0</td>\n",
              "      <td>4.0</td>\n",
              "      <td>20.0</td>\n",
              "      <td>27.0</td>\n",
              "      <td>3.0</td>\n",
              "      <td>20.0</td>\n",
              "      <td>28137.0</td>\n",
              "      <td>19.0</td>\n",
              "      <td>0</td>\n",
              "    </tr>\n",
              "    <tr>\n",
              "      <th>0</th>\n",
              "      <td>1.0</td>\n",
              "      <td>39.0</td>\n",
              "      <td>139.0</td>\n",
              "      <td>11.0</td>\n",
              "      <td>4.0</td>\n",
              "      <td>19.0</td>\n",
              "      <td>27.0</td>\n",
              "      <td>3.0</td>\n",
              "      <td>20.0</td>\n",
              "      <td>29403.0</td>\n",
              "      <td>...</td>\n",
              "      <td>11.0</td>\n",
              "      <td>83.0</td>\n",
              "      <td>5.0</td>\n",
              "      <td>17.0</td>\n",
              "      <td>23.0</td>\n",
              "      <td>3.0</td>\n",
              "      <td>6.0</td>\n",
              "      <td>105469.0</td>\n",
              "      <td>28.0</td>\n",
              "      <td>1</td>\n",
              "    </tr>\n",
              "    <tr>\n",
              "      <th>...</th>\n",
              "      <td>...</td>\n",
              "      <td>...</td>\n",
              "      <td>...</td>\n",
              "      <td>...</td>\n",
              "      <td>...</td>\n",
              "      <td>...</td>\n",
              "      <td>...</td>\n",
              "      <td>...</td>\n",
              "      <td>...</td>\n",
              "      <td>...</td>\n",
              "      <td>...</td>\n",
              "      <td>...</td>\n",
              "      <td>...</td>\n",
              "      <td>...</td>\n",
              "      <td>...</td>\n",
              "      <td>...</td>\n",
              "      <td>...</td>\n",
              "      <td>...</td>\n",
              "      <td>...</td>\n",
              "      <td>...</td>\n",
              "      <td>...</td>\n",
              "    </tr>\n",
              "    <tr>\n",
              "      <th>0</th>\n",
              "      <td>1.0</td>\n",
              "      <td>44.0</td>\n",
              "      <td>131.0</td>\n",
              "      <td>8.0</td>\n",
              "      <td>2.0</td>\n",
              "      <td>19.0</td>\n",
              "      <td>26.0</td>\n",
              "      <td>3.0</td>\n",
              "      <td>24.0</td>\n",
              "      <td>14445.0</td>\n",
              "      <td>...</td>\n",
              "      <td>49.0</td>\n",
              "      <td>44.0</td>\n",
              "      <td>4.0</td>\n",
              "      <td>20.0</td>\n",
              "      <td>26.0</td>\n",
              "      <td>3.0</td>\n",
              "      <td>20.0</td>\n",
              "      <td>24793.0</td>\n",
              "      <td>17.0</td>\n",
              "      <td>1</td>\n",
              "    </tr>\n",
              "    <tr>\n",
              "      <th>0</th>\n",
              "      <td>1.0</td>\n",
              "      <td>51.0</td>\n",
              "      <td>49.0</td>\n",
              "      <td>44.0</td>\n",
              "      <td>4.0</td>\n",
              "      <td>20.0</td>\n",
              "      <td>26.0</td>\n",
              "      <td>3.0</td>\n",
              "      <td>20.0</td>\n",
              "      <td>24793.0</td>\n",
              "      <td>...</td>\n",
              "      <td>11.0</td>\n",
              "      <td>11.0</td>\n",
              "      <td>2.0</td>\n",
              "      <td>21.0</td>\n",
              "      <td>28.0</td>\n",
              "      <td>3.0</td>\n",
              "      <td>24.0</td>\n",
              "      <td>10769.0</td>\n",
              "      <td>22.0</td>\n",
              "      <td>0</td>\n",
              "    </tr>\n",
              "    <tr>\n",
              "      <th>0</th>\n",
              "      <td>1.0</td>\n",
              "      <td>18.0</td>\n",
              "      <td>85.0</td>\n",
              "      <td>68.0</td>\n",
              "      <td>5.0</td>\n",
              "      <td>21.0</td>\n",
              "      <td>30.0</td>\n",
              "      <td>3.0</td>\n",
              "      <td>15.0</td>\n",
              "      <td>58157.0</td>\n",
              "      <td>...</td>\n",
              "      <td>56.0</td>\n",
              "      <td>35.0</td>\n",
              "      <td>2.0</td>\n",
              "      <td>19.0</td>\n",
              "      <td>26.0</td>\n",
              "      <td>3.0</td>\n",
              "      <td>20.0</td>\n",
              "      <td>22492.0</td>\n",
              "      <td>10.0</td>\n",
              "      <td>0</td>\n",
              "    </tr>\n",
              "    <tr>\n",
              "      <th>0</th>\n",
              "      <td>1.0</td>\n",
              "      <td>51.0</td>\n",
              "      <td>49.0</td>\n",
              "      <td>44.0</td>\n",
              "      <td>4.0</td>\n",
              "      <td>20.0</td>\n",
              "      <td>26.0</td>\n",
              "      <td>3.0</td>\n",
              "      <td>20.0</td>\n",
              "      <td>24793.0</td>\n",
              "      <td>...</td>\n",
              "      <td>90.0</td>\n",
              "      <td>25.0</td>\n",
              "      <td>4.0</td>\n",
              "      <td>26.0</td>\n",
              "      <td>33.0</td>\n",
              "      <td>3.0</td>\n",
              "      <td>28.0</td>\n",
              "      <td>23320.0</td>\n",
              "      <td>23.0</td>\n",
              "      <td>0</td>\n",
              "    </tr>\n",
              "    <tr>\n",
              "      <th>0</th>\n",
              "      <td>1.0</td>\n",
              "      <td>39.0</td>\n",
              "      <td>139.0</td>\n",
              "      <td>11.0</td>\n",
              "      <td>4.0</td>\n",
              "      <td>19.0</td>\n",
              "      <td>27.0</td>\n",
              "      <td>3.0</td>\n",
              "      <td>20.0</td>\n",
              "      <td>29403.0</td>\n",
              "      <td>...</td>\n",
              "      <td>168.0</td>\n",
              "      <td>49.0</td>\n",
              "      <td>3.0</td>\n",
              "      <td>16.0</td>\n",
              "      <td>22.0</td>\n",
              "      <td>3.0</td>\n",
              "      <td>9.0</td>\n",
              "      <td>115795.0</td>\n",
              "      <td>6.0</td>\n",
              "      <td>0</td>\n",
              "    </tr>\n",
              "  </tbody>\n",
              "</table>\n",
              "<p>6931 rows × 67 columns</p>\n",
              "</div>"
            ],
            "text/plain": [
              "    car_0_used_label  car_0_price  car_0_exteriorColor  car_0_interiorColor  \\\n",
              "0                1.0         23.0                173.0                  8.0   \n",
              "0                1.0         28.0                174.0                 27.0   \n",
              "0                1.0         23.0                173.0                  8.0   \n",
              "0                1.0         39.0                139.0                 11.0   \n",
              "0                1.0         39.0                139.0                 11.0   \n",
              "..               ...          ...                  ...                  ...   \n",
              "0                1.0         44.0                131.0                  8.0   \n",
              "0                1.0         51.0                 49.0                 44.0   \n",
              "0                1.0         18.0                 85.0                 68.0   \n",
              "0                1.0         51.0                 49.0                 44.0   \n",
              "0                1.0         39.0                139.0                 11.0   \n",
              "\n",
              "    car_0_drivetrain  car_0_minMPG  car_0_maxMPG  car_0_fuelType  \\\n",
              "0                2.0          18.0          27.0             3.0   \n",
              "0                3.0          16.0          22.0             3.0   \n",
              "0                2.0          18.0          27.0             3.0   \n",
              "0                4.0          19.0          27.0             3.0   \n",
              "0                4.0          19.0          27.0             3.0   \n",
              "..               ...           ...           ...             ...   \n",
              "0                2.0          19.0          26.0             3.0   \n",
              "0                4.0          20.0          26.0             3.0   \n",
              "0                5.0          21.0          30.0             3.0   \n",
              "0                4.0          20.0          26.0             3.0   \n",
              "0                4.0          19.0          27.0             3.0   \n",
              "\n",
              "    car_0_transmission  car_0_mileage  ...  target_exteriorColor  \\\n",
              "0                  9.0        99697.0  ...                 139.0   \n",
              "0                  9.0       139597.0  ...                  62.0   \n",
              "0                  9.0        99697.0  ...                  66.0   \n",
              "0                 20.0        29403.0  ...                  53.0   \n",
              "0                 20.0        29403.0  ...                  11.0   \n",
              "..                 ...            ...  ...                   ...   \n",
              "0                 24.0        14445.0  ...                  49.0   \n",
              "0                 20.0        24793.0  ...                  11.0   \n",
              "0                 15.0        58157.0  ...                  56.0   \n",
              "0                 20.0        24793.0  ...                  90.0   \n",
              "0                 20.0        29403.0  ...                 168.0   \n",
              "\n",
              "    target_interiorColor  target_drivetrain  target_minMPG  target_maxMPG  \\\n",
              "0                   11.0                4.0           19.0           27.0   \n",
              "0                   11.0                3.0           15.0           21.0   \n",
              "0                   83.0                4.0           29.0           35.0   \n",
              "0                   10.0                4.0           20.0           27.0   \n",
              "0                   83.0                5.0           17.0           23.0   \n",
              "..                   ...                ...            ...            ...   \n",
              "0                   44.0                4.0           20.0           26.0   \n",
              "0                   11.0                2.0           21.0           28.0   \n",
              "0                   35.0                2.0           19.0           26.0   \n",
              "0                   25.0                4.0           26.0           33.0   \n",
              "0                   49.0                3.0           16.0           22.0   \n",
              "\n",
              "    target_fuelType  target_transmission  target_mileage  target_brand  \\\n",
              "0               3.0                 20.0         29403.0          28.0   \n",
              "0               3.0                 20.0         23173.0          25.0   \n",
              "0               3.0                 28.0         10598.0          13.0   \n",
              "0               3.0                 20.0         28137.0          19.0   \n",
              "0               3.0                  6.0        105469.0          28.0   \n",
              "..              ...                  ...             ...           ...   \n",
              "0               3.0                 20.0         24793.0          17.0   \n",
              "0               3.0                 24.0         10769.0          22.0   \n",
              "0               3.0                 20.0         22492.0          10.0   \n",
              "0               3.0                 28.0         23320.0          23.0   \n",
              "0               3.0                  9.0        115795.0           6.0   \n",
              "\n",
              "    interaction  \n",
              "0             1  \n",
              "0             0  \n",
              "0             0  \n",
              "0             0  \n",
              "0             1  \n",
              "..          ...  \n",
              "0             1  \n",
              "0             0  \n",
              "0             0  \n",
              "0             0  \n",
              "0             0  \n",
              "\n",
              "[6931 rows x 67 columns]"
            ]
          },
          "execution_count": 57,
          "metadata": {},
          "output_type": "execute_result"
        }
      ],
      "source": [
        "dataset"
      ]
    },
    {
      "cell_type": "code",
      "execution_count": 58,
      "metadata": {
        "colab": {
          "base_uri": "https://localhost:8080/"
        },
        "id": "eebdDw0vqk9x",
        "outputId": "cfa42d8f-2287-440f-fd45-8811bb73abeb"
      },
      "outputs": [
        {
          "data": {
            "text/plain": [
              "(6931, 67)"
            ]
          },
          "execution_count": 58,
          "metadata": {},
          "output_type": "execute_result"
        }
      ],
      "source": [
        "dataset.shape"
      ]
    },
    {
      "cell_type": "code",
      "execution_count": 59,
      "metadata": {
        "colab": {
          "base_uri": "https://localhost:8080/"
        },
        "id": "2Ellp5gGqk9x",
        "outputId": "3aa96e21-e6aa-4f45-9473-f60e9704a9fd"
      },
      "outputs": [
        {
          "data": {
            "text/plain": [
              "0    6438\n",
              "1     493\n",
              "Name: interaction, dtype: int64"
            ]
          },
          "execution_count": 59,
          "metadata": {},
          "output_type": "execute_result"
        }
      ],
      "source": [
        "dataset.interaction.value_counts()"
      ]
    },
    {
      "cell_type": "code",
      "execution_count": 60,
      "metadata": {
        "colab": {
          "base_uri": "https://localhost:8080/",
          "height": 476
        },
        "id": "XXxaU_iFt9Er",
        "outputId": "b06fb809-405d-4b8b-bd2f-b5df9aa7e1ab"
      },
      "outputs": [
        {
          "data": {
            "text/html": [
              "<div>\n",
              "<style scoped>\n",
              "    .dataframe tbody tr th:only-of-type {\n",
              "        vertical-align: middle;\n",
              "    }\n",
              "\n",
              "    .dataframe tbody tr th {\n",
              "        vertical-align: top;\n",
              "    }\n",
              "\n",
              "    .dataframe thead th {\n",
              "        text-align: right;\n",
              "    }\n",
              "</style>\n",
              "<table border=\"1\" class=\"dataframe\">\n",
              "  <thead>\n",
              "    <tr style=\"text-align: right;\">\n",
              "      <th></th>\n",
              "      <th>car_0_used_label</th>\n",
              "      <th>car_0_price</th>\n",
              "      <th>car_0_exteriorColor</th>\n",
              "      <th>car_0_interiorColor</th>\n",
              "      <th>car_0_drivetrain</th>\n",
              "      <th>car_0_minMPG</th>\n",
              "      <th>car_0_maxMPG</th>\n",
              "      <th>car_0_fuelType</th>\n",
              "      <th>car_0_transmission</th>\n",
              "      <th>car_0_mileage</th>\n",
              "      <th>...</th>\n",
              "      <th>target_exteriorColor</th>\n",
              "      <th>target_interiorColor</th>\n",
              "      <th>target_drivetrain</th>\n",
              "      <th>target_minMPG</th>\n",
              "      <th>target_maxMPG</th>\n",
              "      <th>target_fuelType</th>\n",
              "      <th>target_transmission</th>\n",
              "      <th>target_mileage</th>\n",
              "      <th>target_brand</th>\n",
              "      <th>interaction</th>\n",
              "    </tr>\n",
              "  </thead>\n",
              "  <tbody>\n",
              "    <tr>\n",
              "      <th>0</th>\n",
              "      <td>1.0</td>\n",
              "      <td>23.0</td>\n",
              "      <td>173.0</td>\n",
              "      <td>8.0</td>\n",
              "      <td>2.0</td>\n",
              "      <td>18.0</td>\n",
              "      <td>27.0</td>\n",
              "      <td>3.0</td>\n",
              "      <td>9.0</td>\n",
              "      <td>99697.0</td>\n",
              "      <td>...</td>\n",
              "      <td>139.0</td>\n",
              "      <td>11.0</td>\n",
              "      <td>4.0</td>\n",
              "      <td>19.0</td>\n",
              "      <td>27.0</td>\n",
              "      <td>3.0</td>\n",
              "      <td>20.0</td>\n",
              "      <td>29403.0</td>\n",
              "      <td>28.0</td>\n",
              "      <td>1</td>\n",
              "    </tr>\n",
              "    <tr>\n",
              "      <th>0</th>\n",
              "      <td>1.0</td>\n",
              "      <td>28.0</td>\n",
              "      <td>174.0</td>\n",
              "      <td>27.0</td>\n",
              "      <td>3.0</td>\n",
              "      <td>16.0</td>\n",
              "      <td>22.0</td>\n",
              "      <td>3.0</td>\n",
              "      <td>9.0</td>\n",
              "      <td>139597.0</td>\n",
              "      <td>...</td>\n",
              "      <td>62.0</td>\n",
              "      <td>11.0</td>\n",
              "      <td>3.0</td>\n",
              "      <td>15.0</td>\n",
              "      <td>21.0</td>\n",
              "      <td>3.0</td>\n",
              "      <td>20.0</td>\n",
              "      <td>23173.0</td>\n",
              "      <td>25.0</td>\n",
              "      <td>0</td>\n",
              "    </tr>\n",
              "    <tr>\n",
              "      <th>0</th>\n",
              "      <td>1.0</td>\n",
              "      <td>23.0</td>\n",
              "      <td>173.0</td>\n",
              "      <td>8.0</td>\n",
              "      <td>2.0</td>\n",
              "      <td>18.0</td>\n",
              "      <td>27.0</td>\n",
              "      <td>3.0</td>\n",
              "      <td>9.0</td>\n",
              "      <td>99697.0</td>\n",
              "      <td>...</td>\n",
              "      <td>66.0</td>\n",
              "      <td>83.0</td>\n",
              "      <td>4.0</td>\n",
              "      <td>29.0</td>\n",
              "      <td>35.0</td>\n",
              "      <td>3.0</td>\n",
              "      <td>28.0</td>\n",
              "      <td>10598.0</td>\n",
              "      <td>13.0</td>\n",
              "      <td>0</td>\n",
              "    </tr>\n",
              "    <tr>\n",
              "      <th>0</th>\n",
              "      <td>1.0</td>\n",
              "      <td>39.0</td>\n",
              "      <td>139.0</td>\n",
              "      <td>11.0</td>\n",
              "      <td>4.0</td>\n",
              "      <td>19.0</td>\n",
              "      <td>27.0</td>\n",
              "      <td>3.0</td>\n",
              "      <td>20.0</td>\n",
              "      <td>29403.0</td>\n",
              "      <td>...</td>\n",
              "      <td>53.0</td>\n",
              "      <td>10.0</td>\n",
              "      <td>4.0</td>\n",
              "      <td>20.0</td>\n",
              "      <td>27.0</td>\n",
              "      <td>3.0</td>\n",
              "      <td>20.0</td>\n",
              "      <td>28137.0</td>\n",
              "      <td>19.0</td>\n",
              "      <td>0</td>\n",
              "    </tr>\n",
              "    <tr>\n",
              "      <th>0</th>\n",
              "      <td>1.0</td>\n",
              "      <td>39.0</td>\n",
              "      <td>139.0</td>\n",
              "      <td>11.0</td>\n",
              "      <td>4.0</td>\n",
              "      <td>19.0</td>\n",
              "      <td>27.0</td>\n",
              "      <td>3.0</td>\n",
              "      <td>20.0</td>\n",
              "      <td>29403.0</td>\n",
              "      <td>...</td>\n",
              "      <td>11.0</td>\n",
              "      <td>83.0</td>\n",
              "      <td>5.0</td>\n",
              "      <td>17.0</td>\n",
              "      <td>23.0</td>\n",
              "      <td>3.0</td>\n",
              "      <td>6.0</td>\n",
              "      <td>105469.0</td>\n",
              "      <td>28.0</td>\n",
              "      <td>1</td>\n",
              "    </tr>\n",
              "    <tr>\n",
              "      <th>...</th>\n",
              "      <td>...</td>\n",
              "      <td>...</td>\n",
              "      <td>...</td>\n",
              "      <td>...</td>\n",
              "      <td>...</td>\n",
              "      <td>...</td>\n",
              "      <td>...</td>\n",
              "      <td>...</td>\n",
              "      <td>...</td>\n",
              "      <td>...</td>\n",
              "      <td>...</td>\n",
              "      <td>...</td>\n",
              "      <td>...</td>\n",
              "      <td>...</td>\n",
              "      <td>...</td>\n",
              "      <td>...</td>\n",
              "      <td>...</td>\n",
              "      <td>...</td>\n",
              "      <td>...</td>\n",
              "      <td>...</td>\n",
              "      <td>...</td>\n",
              "    </tr>\n",
              "    <tr>\n",
              "      <th>0</th>\n",
              "      <td>1.0</td>\n",
              "      <td>44.0</td>\n",
              "      <td>131.0</td>\n",
              "      <td>8.0</td>\n",
              "      <td>2.0</td>\n",
              "      <td>19.0</td>\n",
              "      <td>26.0</td>\n",
              "      <td>3.0</td>\n",
              "      <td>24.0</td>\n",
              "      <td>14445.0</td>\n",
              "      <td>...</td>\n",
              "      <td>49.0</td>\n",
              "      <td>44.0</td>\n",
              "      <td>4.0</td>\n",
              "      <td>20.0</td>\n",
              "      <td>26.0</td>\n",
              "      <td>3.0</td>\n",
              "      <td>20.0</td>\n",
              "      <td>24793.0</td>\n",
              "      <td>17.0</td>\n",
              "      <td>1</td>\n",
              "    </tr>\n",
              "    <tr>\n",
              "      <th>0</th>\n",
              "      <td>1.0</td>\n",
              "      <td>51.0</td>\n",
              "      <td>49.0</td>\n",
              "      <td>44.0</td>\n",
              "      <td>4.0</td>\n",
              "      <td>20.0</td>\n",
              "      <td>26.0</td>\n",
              "      <td>3.0</td>\n",
              "      <td>20.0</td>\n",
              "      <td>24793.0</td>\n",
              "      <td>...</td>\n",
              "      <td>11.0</td>\n",
              "      <td>11.0</td>\n",
              "      <td>2.0</td>\n",
              "      <td>21.0</td>\n",
              "      <td>28.0</td>\n",
              "      <td>3.0</td>\n",
              "      <td>24.0</td>\n",
              "      <td>10769.0</td>\n",
              "      <td>22.0</td>\n",
              "      <td>0</td>\n",
              "    </tr>\n",
              "    <tr>\n",
              "      <th>0</th>\n",
              "      <td>1.0</td>\n",
              "      <td>18.0</td>\n",
              "      <td>85.0</td>\n",
              "      <td>68.0</td>\n",
              "      <td>5.0</td>\n",
              "      <td>21.0</td>\n",
              "      <td>30.0</td>\n",
              "      <td>3.0</td>\n",
              "      <td>15.0</td>\n",
              "      <td>58157.0</td>\n",
              "      <td>...</td>\n",
              "      <td>56.0</td>\n",
              "      <td>35.0</td>\n",
              "      <td>2.0</td>\n",
              "      <td>19.0</td>\n",
              "      <td>26.0</td>\n",
              "      <td>3.0</td>\n",
              "      <td>20.0</td>\n",
              "      <td>22492.0</td>\n",
              "      <td>10.0</td>\n",
              "      <td>0</td>\n",
              "    </tr>\n",
              "    <tr>\n",
              "      <th>0</th>\n",
              "      <td>1.0</td>\n",
              "      <td>51.0</td>\n",
              "      <td>49.0</td>\n",
              "      <td>44.0</td>\n",
              "      <td>4.0</td>\n",
              "      <td>20.0</td>\n",
              "      <td>26.0</td>\n",
              "      <td>3.0</td>\n",
              "      <td>20.0</td>\n",
              "      <td>24793.0</td>\n",
              "      <td>...</td>\n",
              "      <td>90.0</td>\n",
              "      <td>25.0</td>\n",
              "      <td>4.0</td>\n",
              "      <td>26.0</td>\n",
              "      <td>33.0</td>\n",
              "      <td>3.0</td>\n",
              "      <td>28.0</td>\n",
              "      <td>23320.0</td>\n",
              "      <td>23.0</td>\n",
              "      <td>0</td>\n",
              "    </tr>\n",
              "    <tr>\n",
              "      <th>0</th>\n",
              "      <td>1.0</td>\n",
              "      <td>39.0</td>\n",
              "      <td>139.0</td>\n",
              "      <td>11.0</td>\n",
              "      <td>4.0</td>\n",
              "      <td>19.0</td>\n",
              "      <td>27.0</td>\n",
              "      <td>3.0</td>\n",
              "      <td>20.0</td>\n",
              "      <td>29403.0</td>\n",
              "      <td>...</td>\n",
              "      <td>168.0</td>\n",
              "      <td>49.0</td>\n",
              "      <td>3.0</td>\n",
              "      <td>16.0</td>\n",
              "      <td>22.0</td>\n",
              "      <td>3.0</td>\n",
              "      <td>9.0</td>\n",
              "      <td>115795.0</td>\n",
              "      <td>6.0</td>\n",
              "      <td>0</td>\n",
              "    </tr>\n",
              "  </tbody>\n",
              "</table>\n",
              "<p>6931 rows × 67 columns</p>\n",
              "</div>"
            ],
            "text/plain": [
              "    car_0_used_label  car_0_price  car_0_exteriorColor  car_0_interiorColor  \\\n",
              "0                1.0         23.0                173.0                  8.0   \n",
              "0                1.0         28.0                174.0                 27.0   \n",
              "0                1.0         23.0                173.0                  8.0   \n",
              "0                1.0         39.0                139.0                 11.0   \n",
              "0                1.0         39.0                139.0                 11.0   \n",
              "..               ...          ...                  ...                  ...   \n",
              "0                1.0         44.0                131.0                  8.0   \n",
              "0                1.0         51.0                 49.0                 44.0   \n",
              "0                1.0         18.0                 85.0                 68.0   \n",
              "0                1.0         51.0                 49.0                 44.0   \n",
              "0                1.0         39.0                139.0                 11.0   \n",
              "\n",
              "    car_0_drivetrain  car_0_minMPG  car_0_maxMPG  car_0_fuelType  \\\n",
              "0                2.0          18.0          27.0             3.0   \n",
              "0                3.0          16.0          22.0             3.0   \n",
              "0                2.0          18.0          27.0             3.0   \n",
              "0                4.0          19.0          27.0             3.0   \n",
              "0                4.0          19.0          27.0             3.0   \n",
              "..               ...           ...           ...             ...   \n",
              "0                2.0          19.0          26.0             3.0   \n",
              "0                4.0          20.0          26.0             3.0   \n",
              "0                5.0          21.0          30.0             3.0   \n",
              "0                4.0          20.0          26.0             3.0   \n",
              "0                4.0          19.0          27.0             3.0   \n",
              "\n",
              "    car_0_transmission  car_0_mileage  ...  target_exteriorColor  \\\n",
              "0                  9.0        99697.0  ...                 139.0   \n",
              "0                  9.0       139597.0  ...                  62.0   \n",
              "0                  9.0        99697.0  ...                  66.0   \n",
              "0                 20.0        29403.0  ...                  53.0   \n",
              "0                 20.0        29403.0  ...                  11.0   \n",
              "..                 ...            ...  ...                   ...   \n",
              "0                 24.0        14445.0  ...                  49.0   \n",
              "0                 20.0        24793.0  ...                  11.0   \n",
              "0                 15.0        58157.0  ...                  56.0   \n",
              "0                 20.0        24793.0  ...                  90.0   \n",
              "0                 20.0        29403.0  ...                 168.0   \n",
              "\n",
              "    target_interiorColor  target_drivetrain  target_minMPG  target_maxMPG  \\\n",
              "0                   11.0                4.0           19.0           27.0   \n",
              "0                   11.0                3.0           15.0           21.0   \n",
              "0                   83.0                4.0           29.0           35.0   \n",
              "0                   10.0                4.0           20.0           27.0   \n",
              "0                   83.0                5.0           17.0           23.0   \n",
              "..                   ...                ...            ...            ...   \n",
              "0                   44.0                4.0           20.0           26.0   \n",
              "0                   11.0                2.0           21.0           28.0   \n",
              "0                   35.0                2.0           19.0           26.0   \n",
              "0                   25.0                4.0           26.0           33.0   \n",
              "0                   49.0                3.0           16.0           22.0   \n",
              "\n",
              "    target_fuelType  target_transmission  target_mileage  target_brand  \\\n",
              "0               3.0                 20.0         29403.0          28.0   \n",
              "0               3.0                 20.0         23173.0          25.0   \n",
              "0               3.0                 28.0         10598.0          13.0   \n",
              "0               3.0                 20.0         28137.0          19.0   \n",
              "0               3.0                  6.0        105469.0          28.0   \n",
              "..              ...                  ...             ...           ...   \n",
              "0               3.0                 20.0         24793.0          17.0   \n",
              "0               3.0                 24.0         10769.0          22.0   \n",
              "0               3.0                 20.0         22492.0          10.0   \n",
              "0               3.0                 28.0         23320.0          23.0   \n",
              "0               3.0                  9.0        115795.0           6.0   \n",
              "\n",
              "    interaction  \n",
              "0             1  \n",
              "0             0  \n",
              "0             0  \n",
              "0             0  \n",
              "0             1  \n",
              "..          ...  \n",
              "0             1  \n",
              "0             0  \n",
              "0             0  \n",
              "0             0  \n",
              "0             0  \n",
              "\n",
              "[6931 rows x 67 columns]"
            ]
          },
          "execution_count": 60,
          "metadata": {},
          "output_type": "execute_result"
        }
      ],
      "source": [
        "dataset"
      ]
    },
    {
      "cell_type": "code",
      "execution_count": 61,
      "metadata": {},
      "outputs": [
        {
          "data": {
            "application/vnd.plotly.v1+json": {
              "config": {
                "plotlyServerURL": "https://plot.ly"
              },
              "data": [
                {
                  "alignmentgroup": "True",
                  "hovertemplate": "variable=interaction<br>index=%{x}<br>value=%{y}<extra></extra>",
                  "legendgroup": "interaction",
                  "marker": {
                    "color": "#636efa",
                    "pattern": {
                      "shape": ""
                    }
                  },
                  "name": "interaction",
                  "offsetgroup": "interaction",
                  "orientation": "v",
                  "showlegend": true,
                  "textposition": "auto",
                  "type": "bar",
                  "x": [
                    0,
                    1
                  ],
                  "xaxis": "x",
                  "y": [
                    6438,
                    493
                  ],
                  "yaxis": "y"
                }
              ],
              "layout": {
                "barmode": "relative",
                "legend": {
                  "title": {
                    "text": "variable"
                  },
                  "tracegroupgap": 0
                },
                "margin": {
                  "t": 60
                },
                "template": {
                  "data": {
                    "bar": [
                      {
                        "error_x": {
                          "color": "#2a3f5f"
                        },
                        "error_y": {
                          "color": "#2a3f5f"
                        },
                        "marker": {
                          "line": {
                            "color": "#E5ECF6",
                            "width": 0.5
                          },
                          "pattern": {
                            "fillmode": "overlay",
                            "size": 10,
                            "solidity": 0.2
                          }
                        },
                        "type": "bar"
                      }
                    ],
                    "barpolar": [
                      {
                        "marker": {
                          "line": {
                            "color": "#E5ECF6",
                            "width": 0.5
                          },
                          "pattern": {
                            "fillmode": "overlay",
                            "size": 10,
                            "solidity": 0.2
                          }
                        },
                        "type": "barpolar"
                      }
                    ],
                    "carpet": [
                      {
                        "aaxis": {
                          "endlinecolor": "#2a3f5f",
                          "gridcolor": "white",
                          "linecolor": "white",
                          "minorgridcolor": "white",
                          "startlinecolor": "#2a3f5f"
                        },
                        "baxis": {
                          "endlinecolor": "#2a3f5f",
                          "gridcolor": "white",
                          "linecolor": "white",
                          "minorgridcolor": "white",
                          "startlinecolor": "#2a3f5f"
                        },
                        "type": "carpet"
                      }
                    ],
                    "choropleth": [
                      {
                        "colorbar": {
                          "outlinewidth": 0,
                          "ticks": ""
                        },
                        "type": "choropleth"
                      }
                    ],
                    "contour": [
                      {
                        "colorbar": {
                          "outlinewidth": 0,
                          "ticks": ""
                        },
                        "colorscale": [
                          [
                            0,
                            "#0d0887"
                          ],
                          [
                            0.1111111111111111,
                            "#46039f"
                          ],
                          [
                            0.2222222222222222,
                            "#7201a8"
                          ],
                          [
                            0.3333333333333333,
                            "#9c179e"
                          ],
                          [
                            0.4444444444444444,
                            "#bd3786"
                          ],
                          [
                            0.5555555555555556,
                            "#d8576b"
                          ],
                          [
                            0.6666666666666666,
                            "#ed7953"
                          ],
                          [
                            0.7777777777777778,
                            "#fb9f3a"
                          ],
                          [
                            0.8888888888888888,
                            "#fdca26"
                          ],
                          [
                            1,
                            "#f0f921"
                          ]
                        ],
                        "type": "contour"
                      }
                    ],
                    "contourcarpet": [
                      {
                        "colorbar": {
                          "outlinewidth": 0,
                          "ticks": ""
                        },
                        "type": "contourcarpet"
                      }
                    ],
                    "heatmap": [
                      {
                        "colorbar": {
                          "outlinewidth": 0,
                          "ticks": ""
                        },
                        "colorscale": [
                          [
                            0,
                            "#0d0887"
                          ],
                          [
                            0.1111111111111111,
                            "#46039f"
                          ],
                          [
                            0.2222222222222222,
                            "#7201a8"
                          ],
                          [
                            0.3333333333333333,
                            "#9c179e"
                          ],
                          [
                            0.4444444444444444,
                            "#bd3786"
                          ],
                          [
                            0.5555555555555556,
                            "#d8576b"
                          ],
                          [
                            0.6666666666666666,
                            "#ed7953"
                          ],
                          [
                            0.7777777777777778,
                            "#fb9f3a"
                          ],
                          [
                            0.8888888888888888,
                            "#fdca26"
                          ],
                          [
                            1,
                            "#f0f921"
                          ]
                        ],
                        "type": "heatmap"
                      }
                    ],
                    "heatmapgl": [
                      {
                        "colorbar": {
                          "outlinewidth": 0,
                          "ticks": ""
                        },
                        "colorscale": [
                          [
                            0,
                            "#0d0887"
                          ],
                          [
                            0.1111111111111111,
                            "#46039f"
                          ],
                          [
                            0.2222222222222222,
                            "#7201a8"
                          ],
                          [
                            0.3333333333333333,
                            "#9c179e"
                          ],
                          [
                            0.4444444444444444,
                            "#bd3786"
                          ],
                          [
                            0.5555555555555556,
                            "#d8576b"
                          ],
                          [
                            0.6666666666666666,
                            "#ed7953"
                          ],
                          [
                            0.7777777777777778,
                            "#fb9f3a"
                          ],
                          [
                            0.8888888888888888,
                            "#fdca26"
                          ],
                          [
                            1,
                            "#f0f921"
                          ]
                        ],
                        "type": "heatmapgl"
                      }
                    ],
                    "histogram": [
                      {
                        "marker": {
                          "pattern": {
                            "fillmode": "overlay",
                            "size": 10,
                            "solidity": 0.2
                          }
                        },
                        "type": "histogram"
                      }
                    ],
                    "histogram2d": [
                      {
                        "colorbar": {
                          "outlinewidth": 0,
                          "ticks": ""
                        },
                        "colorscale": [
                          [
                            0,
                            "#0d0887"
                          ],
                          [
                            0.1111111111111111,
                            "#46039f"
                          ],
                          [
                            0.2222222222222222,
                            "#7201a8"
                          ],
                          [
                            0.3333333333333333,
                            "#9c179e"
                          ],
                          [
                            0.4444444444444444,
                            "#bd3786"
                          ],
                          [
                            0.5555555555555556,
                            "#d8576b"
                          ],
                          [
                            0.6666666666666666,
                            "#ed7953"
                          ],
                          [
                            0.7777777777777778,
                            "#fb9f3a"
                          ],
                          [
                            0.8888888888888888,
                            "#fdca26"
                          ],
                          [
                            1,
                            "#f0f921"
                          ]
                        ],
                        "type": "histogram2d"
                      }
                    ],
                    "histogram2dcontour": [
                      {
                        "colorbar": {
                          "outlinewidth": 0,
                          "ticks": ""
                        },
                        "colorscale": [
                          [
                            0,
                            "#0d0887"
                          ],
                          [
                            0.1111111111111111,
                            "#46039f"
                          ],
                          [
                            0.2222222222222222,
                            "#7201a8"
                          ],
                          [
                            0.3333333333333333,
                            "#9c179e"
                          ],
                          [
                            0.4444444444444444,
                            "#bd3786"
                          ],
                          [
                            0.5555555555555556,
                            "#d8576b"
                          ],
                          [
                            0.6666666666666666,
                            "#ed7953"
                          ],
                          [
                            0.7777777777777778,
                            "#fb9f3a"
                          ],
                          [
                            0.8888888888888888,
                            "#fdca26"
                          ],
                          [
                            1,
                            "#f0f921"
                          ]
                        ],
                        "type": "histogram2dcontour"
                      }
                    ],
                    "mesh3d": [
                      {
                        "colorbar": {
                          "outlinewidth": 0,
                          "ticks": ""
                        },
                        "type": "mesh3d"
                      }
                    ],
                    "parcoords": [
                      {
                        "line": {
                          "colorbar": {
                            "outlinewidth": 0,
                            "ticks": ""
                          }
                        },
                        "type": "parcoords"
                      }
                    ],
                    "pie": [
                      {
                        "automargin": true,
                        "type": "pie"
                      }
                    ],
                    "scatter": [
                      {
                        "fillpattern": {
                          "fillmode": "overlay",
                          "size": 10,
                          "solidity": 0.2
                        },
                        "type": "scatter"
                      }
                    ],
                    "scatter3d": [
                      {
                        "line": {
                          "colorbar": {
                            "outlinewidth": 0,
                            "ticks": ""
                          }
                        },
                        "marker": {
                          "colorbar": {
                            "outlinewidth": 0,
                            "ticks": ""
                          }
                        },
                        "type": "scatter3d"
                      }
                    ],
                    "scattercarpet": [
                      {
                        "marker": {
                          "colorbar": {
                            "outlinewidth": 0,
                            "ticks": ""
                          }
                        },
                        "type": "scattercarpet"
                      }
                    ],
                    "scattergeo": [
                      {
                        "marker": {
                          "colorbar": {
                            "outlinewidth": 0,
                            "ticks": ""
                          }
                        },
                        "type": "scattergeo"
                      }
                    ],
                    "scattergl": [
                      {
                        "marker": {
                          "colorbar": {
                            "outlinewidth": 0,
                            "ticks": ""
                          }
                        },
                        "type": "scattergl"
                      }
                    ],
                    "scattermapbox": [
                      {
                        "marker": {
                          "colorbar": {
                            "outlinewidth": 0,
                            "ticks": ""
                          }
                        },
                        "type": "scattermapbox"
                      }
                    ],
                    "scatterpolar": [
                      {
                        "marker": {
                          "colorbar": {
                            "outlinewidth": 0,
                            "ticks": ""
                          }
                        },
                        "type": "scatterpolar"
                      }
                    ],
                    "scatterpolargl": [
                      {
                        "marker": {
                          "colorbar": {
                            "outlinewidth": 0,
                            "ticks": ""
                          }
                        },
                        "type": "scatterpolargl"
                      }
                    ],
                    "scatterternary": [
                      {
                        "marker": {
                          "colorbar": {
                            "outlinewidth": 0,
                            "ticks": ""
                          }
                        },
                        "type": "scatterternary"
                      }
                    ],
                    "surface": [
                      {
                        "colorbar": {
                          "outlinewidth": 0,
                          "ticks": ""
                        },
                        "colorscale": [
                          [
                            0,
                            "#0d0887"
                          ],
                          [
                            0.1111111111111111,
                            "#46039f"
                          ],
                          [
                            0.2222222222222222,
                            "#7201a8"
                          ],
                          [
                            0.3333333333333333,
                            "#9c179e"
                          ],
                          [
                            0.4444444444444444,
                            "#bd3786"
                          ],
                          [
                            0.5555555555555556,
                            "#d8576b"
                          ],
                          [
                            0.6666666666666666,
                            "#ed7953"
                          ],
                          [
                            0.7777777777777778,
                            "#fb9f3a"
                          ],
                          [
                            0.8888888888888888,
                            "#fdca26"
                          ],
                          [
                            1,
                            "#f0f921"
                          ]
                        ],
                        "type": "surface"
                      }
                    ],
                    "table": [
                      {
                        "cells": {
                          "fill": {
                            "color": "#EBF0F8"
                          },
                          "line": {
                            "color": "white"
                          }
                        },
                        "header": {
                          "fill": {
                            "color": "#C8D4E3"
                          },
                          "line": {
                            "color": "white"
                          }
                        },
                        "type": "table"
                      }
                    ]
                  },
                  "layout": {
                    "annotationdefaults": {
                      "arrowcolor": "#2a3f5f",
                      "arrowhead": 0,
                      "arrowwidth": 1
                    },
                    "autotypenumbers": "strict",
                    "coloraxis": {
                      "colorbar": {
                        "outlinewidth": 0,
                        "ticks": ""
                      }
                    },
                    "colorscale": {
                      "diverging": [
                        [
                          0,
                          "#8e0152"
                        ],
                        [
                          0.1,
                          "#c51b7d"
                        ],
                        [
                          0.2,
                          "#de77ae"
                        ],
                        [
                          0.3,
                          "#f1b6da"
                        ],
                        [
                          0.4,
                          "#fde0ef"
                        ],
                        [
                          0.5,
                          "#f7f7f7"
                        ],
                        [
                          0.6,
                          "#e6f5d0"
                        ],
                        [
                          0.7,
                          "#b8e186"
                        ],
                        [
                          0.8,
                          "#7fbc41"
                        ],
                        [
                          0.9,
                          "#4d9221"
                        ],
                        [
                          1,
                          "#276419"
                        ]
                      ],
                      "sequential": [
                        [
                          0,
                          "#0d0887"
                        ],
                        [
                          0.1111111111111111,
                          "#46039f"
                        ],
                        [
                          0.2222222222222222,
                          "#7201a8"
                        ],
                        [
                          0.3333333333333333,
                          "#9c179e"
                        ],
                        [
                          0.4444444444444444,
                          "#bd3786"
                        ],
                        [
                          0.5555555555555556,
                          "#d8576b"
                        ],
                        [
                          0.6666666666666666,
                          "#ed7953"
                        ],
                        [
                          0.7777777777777778,
                          "#fb9f3a"
                        ],
                        [
                          0.8888888888888888,
                          "#fdca26"
                        ],
                        [
                          1,
                          "#f0f921"
                        ]
                      ],
                      "sequentialminus": [
                        [
                          0,
                          "#0d0887"
                        ],
                        [
                          0.1111111111111111,
                          "#46039f"
                        ],
                        [
                          0.2222222222222222,
                          "#7201a8"
                        ],
                        [
                          0.3333333333333333,
                          "#9c179e"
                        ],
                        [
                          0.4444444444444444,
                          "#bd3786"
                        ],
                        [
                          0.5555555555555556,
                          "#d8576b"
                        ],
                        [
                          0.6666666666666666,
                          "#ed7953"
                        ],
                        [
                          0.7777777777777778,
                          "#fb9f3a"
                        ],
                        [
                          0.8888888888888888,
                          "#fdca26"
                        ],
                        [
                          1,
                          "#f0f921"
                        ]
                      ]
                    },
                    "colorway": [
                      "#636efa",
                      "#EF553B",
                      "#00cc96",
                      "#ab63fa",
                      "#FFA15A",
                      "#19d3f3",
                      "#FF6692",
                      "#B6E880",
                      "#FF97FF",
                      "#FECB52"
                    ],
                    "font": {
                      "color": "#2a3f5f"
                    },
                    "geo": {
                      "bgcolor": "white",
                      "lakecolor": "white",
                      "landcolor": "#E5ECF6",
                      "showlakes": true,
                      "showland": true,
                      "subunitcolor": "white"
                    },
                    "hoverlabel": {
                      "align": "left"
                    },
                    "hovermode": "closest",
                    "mapbox": {
                      "style": "light"
                    },
                    "paper_bgcolor": "white",
                    "plot_bgcolor": "#E5ECF6",
                    "polar": {
                      "angularaxis": {
                        "gridcolor": "white",
                        "linecolor": "white",
                        "ticks": ""
                      },
                      "bgcolor": "#E5ECF6",
                      "radialaxis": {
                        "gridcolor": "white",
                        "linecolor": "white",
                        "ticks": ""
                      }
                    },
                    "scene": {
                      "xaxis": {
                        "backgroundcolor": "#E5ECF6",
                        "gridcolor": "white",
                        "gridwidth": 2,
                        "linecolor": "white",
                        "showbackground": true,
                        "ticks": "",
                        "zerolinecolor": "white"
                      },
                      "yaxis": {
                        "backgroundcolor": "#E5ECF6",
                        "gridcolor": "white",
                        "gridwidth": 2,
                        "linecolor": "white",
                        "showbackground": true,
                        "ticks": "",
                        "zerolinecolor": "white"
                      },
                      "zaxis": {
                        "backgroundcolor": "#E5ECF6",
                        "gridcolor": "white",
                        "gridwidth": 2,
                        "linecolor": "white",
                        "showbackground": true,
                        "ticks": "",
                        "zerolinecolor": "white"
                      }
                    },
                    "shapedefaults": {
                      "line": {
                        "color": "#2a3f5f"
                      }
                    },
                    "ternary": {
                      "aaxis": {
                        "gridcolor": "white",
                        "linecolor": "white",
                        "ticks": ""
                      },
                      "baxis": {
                        "gridcolor": "white",
                        "linecolor": "white",
                        "ticks": ""
                      },
                      "bgcolor": "#E5ECF6",
                      "caxis": {
                        "gridcolor": "white",
                        "linecolor": "white",
                        "ticks": ""
                      }
                    },
                    "title": {
                      "x": 0.05
                    },
                    "xaxis": {
                      "automargin": true,
                      "gridcolor": "white",
                      "linecolor": "white",
                      "ticks": "",
                      "title": {
                        "standoff": 15
                      },
                      "zerolinecolor": "white",
                      "zerolinewidth": 2
                    },
                    "yaxis": {
                      "automargin": true,
                      "gridcolor": "white",
                      "linecolor": "white",
                      "ticks": "",
                      "title": {
                        "standoff": 15
                      },
                      "zerolinecolor": "white",
                      "zerolinewidth": 2
                    }
                  }
                },
                "xaxis": {
                  "anchor": "y",
                  "domain": [
                    0,
                    1
                  ],
                  "title": {
                    "text": "index"
                  }
                },
                "yaxis": {
                  "anchor": "x",
                  "domain": [
                    0,
                    1
                  ],
                  "title": {
                    "text": "value"
                  }
                }
              }
            }
          },
          "metadata": {},
          "output_type": "display_data"
        }
      ],
      "source": [
        "px.bar(dataset.interaction.value_counts())"
      ]
    },
    {
      "cell_type": "code",
      "execution_count": 77,
      "metadata": {
        "id": "rnoBsKOpqk9x"
      },
      "outputs": [],
      "source": [
        "balanced_dataset = pd.concat([dataset.loc[dataset.interaction == 1], dataset.loc[dataset.interaction == 0].sample(int(dataset.interaction.value_counts()[1] * 4))])"
      ]
    },
    {
      "cell_type": "code",
      "execution_count": 78,
      "metadata": {},
      "outputs": [
        {
          "data": {
            "application/vnd.plotly.v1+json": {
              "config": {
                "plotlyServerURL": "https://plot.ly"
              },
              "data": [
                {
                  "alignmentgroup": "True",
                  "hovertemplate": "variable=interaction<br>index=%{x}<br>value=%{y}<extra></extra>",
                  "legendgroup": "interaction",
                  "marker": {
                    "color": "#636efa",
                    "pattern": {
                      "shape": ""
                    }
                  },
                  "name": "interaction",
                  "offsetgroup": "interaction",
                  "orientation": "v",
                  "showlegend": true,
                  "textposition": "auto",
                  "type": "bar",
                  "x": [
                    0,
                    1
                  ],
                  "xaxis": "x",
                  "y": [
                    1972,
                    493
                  ],
                  "yaxis": "y"
                }
              ],
              "layout": {
                "barmode": "relative",
                "legend": {
                  "title": {
                    "text": "variable"
                  },
                  "tracegroupgap": 0
                },
                "margin": {
                  "t": 60
                },
                "template": {
                  "data": {
                    "bar": [
                      {
                        "error_x": {
                          "color": "#2a3f5f"
                        },
                        "error_y": {
                          "color": "#2a3f5f"
                        },
                        "marker": {
                          "line": {
                            "color": "#E5ECF6",
                            "width": 0.5
                          },
                          "pattern": {
                            "fillmode": "overlay",
                            "size": 10,
                            "solidity": 0.2
                          }
                        },
                        "type": "bar"
                      }
                    ],
                    "barpolar": [
                      {
                        "marker": {
                          "line": {
                            "color": "#E5ECF6",
                            "width": 0.5
                          },
                          "pattern": {
                            "fillmode": "overlay",
                            "size": 10,
                            "solidity": 0.2
                          }
                        },
                        "type": "barpolar"
                      }
                    ],
                    "carpet": [
                      {
                        "aaxis": {
                          "endlinecolor": "#2a3f5f",
                          "gridcolor": "white",
                          "linecolor": "white",
                          "minorgridcolor": "white",
                          "startlinecolor": "#2a3f5f"
                        },
                        "baxis": {
                          "endlinecolor": "#2a3f5f",
                          "gridcolor": "white",
                          "linecolor": "white",
                          "minorgridcolor": "white",
                          "startlinecolor": "#2a3f5f"
                        },
                        "type": "carpet"
                      }
                    ],
                    "choropleth": [
                      {
                        "colorbar": {
                          "outlinewidth": 0,
                          "ticks": ""
                        },
                        "type": "choropleth"
                      }
                    ],
                    "contour": [
                      {
                        "colorbar": {
                          "outlinewidth": 0,
                          "ticks": ""
                        },
                        "colorscale": [
                          [
                            0,
                            "#0d0887"
                          ],
                          [
                            0.1111111111111111,
                            "#46039f"
                          ],
                          [
                            0.2222222222222222,
                            "#7201a8"
                          ],
                          [
                            0.3333333333333333,
                            "#9c179e"
                          ],
                          [
                            0.4444444444444444,
                            "#bd3786"
                          ],
                          [
                            0.5555555555555556,
                            "#d8576b"
                          ],
                          [
                            0.6666666666666666,
                            "#ed7953"
                          ],
                          [
                            0.7777777777777778,
                            "#fb9f3a"
                          ],
                          [
                            0.8888888888888888,
                            "#fdca26"
                          ],
                          [
                            1,
                            "#f0f921"
                          ]
                        ],
                        "type": "contour"
                      }
                    ],
                    "contourcarpet": [
                      {
                        "colorbar": {
                          "outlinewidth": 0,
                          "ticks": ""
                        },
                        "type": "contourcarpet"
                      }
                    ],
                    "heatmap": [
                      {
                        "colorbar": {
                          "outlinewidth": 0,
                          "ticks": ""
                        },
                        "colorscale": [
                          [
                            0,
                            "#0d0887"
                          ],
                          [
                            0.1111111111111111,
                            "#46039f"
                          ],
                          [
                            0.2222222222222222,
                            "#7201a8"
                          ],
                          [
                            0.3333333333333333,
                            "#9c179e"
                          ],
                          [
                            0.4444444444444444,
                            "#bd3786"
                          ],
                          [
                            0.5555555555555556,
                            "#d8576b"
                          ],
                          [
                            0.6666666666666666,
                            "#ed7953"
                          ],
                          [
                            0.7777777777777778,
                            "#fb9f3a"
                          ],
                          [
                            0.8888888888888888,
                            "#fdca26"
                          ],
                          [
                            1,
                            "#f0f921"
                          ]
                        ],
                        "type": "heatmap"
                      }
                    ],
                    "heatmapgl": [
                      {
                        "colorbar": {
                          "outlinewidth": 0,
                          "ticks": ""
                        },
                        "colorscale": [
                          [
                            0,
                            "#0d0887"
                          ],
                          [
                            0.1111111111111111,
                            "#46039f"
                          ],
                          [
                            0.2222222222222222,
                            "#7201a8"
                          ],
                          [
                            0.3333333333333333,
                            "#9c179e"
                          ],
                          [
                            0.4444444444444444,
                            "#bd3786"
                          ],
                          [
                            0.5555555555555556,
                            "#d8576b"
                          ],
                          [
                            0.6666666666666666,
                            "#ed7953"
                          ],
                          [
                            0.7777777777777778,
                            "#fb9f3a"
                          ],
                          [
                            0.8888888888888888,
                            "#fdca26"
                          ],
                          [
                            1,
                            "#f0f921"
                          ]
                        ],
                        "type": "heatmapgl"
                      }
                    ],
                    "histogram": [
                      {
                        "marker": {
                          "pattern": {
                            "fillmode": "overlay",
                            "size": 10,
                            "solidity": 0.2
                          }
                        },
                        "type": "histogram"
                      }
                    ],
                    "histogram2d": [
                      {
                        "colorbar": {
                          "outlinewidth": 0,
                          "ticks": ""
                        },
                        "colorscale": [
                          [
                            0,
                            "#0d0887"
                          ],
                          [
                            0.1111111111111111,
                            "#46039f"
                          ],
                          [
                            0.2222222222222222,
                            "#7201a8"
                          ],
                          [
                            0.3333333333333333,
                            "#9c179e"
                          ],
                          [
                            0.4444444444444444,
                            "#bd3786"
                          ],
                          [
                            0.5555555555555556,
                            "#d8576b"
                          ],
                          [
                            0.6666666666666666,
                            "#ed7953"
                          ],
                          [
                            0.7777777777777778,
                            "#fb9f3a"
                          ],
                          [
                            0.8888888888888888,
                            "#fdca26"
                          ],
                          [
                            1,
                            "#f0f921"
                          ]
                        ],
                        "type": "histogram2d"
                      }
                    ],
                    "histogram2dcontour": [
                      {
                        "colorbar": {
                          "outlinewidth": 0,
                          "ticks": ""
                        },
                        "colorscale": [
                          [
                            0,
                            "#0d0887"
                          ],
                          [
                            0.1111111111111111,
                            "#46039f"
                          ],
                          [
                            0.2222222222222222,
                            "#7201a8"
                          ],
                          [
                            0.3333333333333333,
                            "#9c179e"
                          ],
                          [
                            0.4444444444444444,
                            "#bd3786"
                          ],
                          [
                            0.5555555555555556,
                            "#d8576b"
                          ],
                          [
                            0.6666666666666666,
                            "#ed7953"
                          ],
                          [
                            0.7777777777777778,
                            "#fb9f3a"
                          ],
                          [
                            0.8888888888888888,
                            "#fdca26"
                          ],
                          [
                            1,
                            "#f0f921"
                          ]
                        ],
                        "type": "histogram2dcontour"
                      }
                    ],
                    "mesh3d": [
                      {
                        "colorbar": {
                          "outlinewidth": 0,
                          "ticks": ""
                        },
                        "type": "mesh3d"
                      }
                    ],
                    "parcoords": [
                      {
                        "line": {
                          "colorbar": {
                            "outlinewidth": 0,
                            "ticks": ""
                          }
                        },
                        "type": "parcoords"
                      }
                    ],
                    "pie": [
                      {
                        "automargin": true,
                        "type": "pie"
                      }
                    ],
                    "scatter": [
                      {
                        "fillpattern": {
                          "fillmode": "overlay",
                          "size": 10,
                          "solidity": 0.2
                        },
                        "type": "scatter"
                      }
                    ],
                    "scatter3d": [
                      {
                        "line": {
                          "colorbar": {
                            "outlinewidth": 0,
                            "ticks": ""
                          }
                        },
                        "marker": {
                          "colorbar": {
                            "outlinewidth": 0,
                            "ticks": ""
                          }
                        },
                        "type": "scatter3d"
                      }
                    ],
                    "scattercarpet": [
                      {
                        "marker": {
                          "colorbar": {
                            "outlinewidth": 0,
                            "ticks": ""
                          }
                        },
                        "type": "scattercarpet"
                      }
                    ],
                    "scattergeo": [
                      {
                        "marker": {
                          "colorbar": {
                            "outlinewidth": 0,
                            "ticks": ""
                          }
                        },
                        "type": "scattergeo"
                      }
                    ],
                    "scattergl": [
                      {
                        "marker": {
                          "colorbar": {
                            "outlinewidth": 0,
                            "ticks": ""
                          }
                        },
                        "type": "scattergl"
                      }
                    ],
                    "scattermapbox": [
                      {
                        "marker": {
                          "colorbar": {
                            "outlinewidth": 0,
                            "ticks": ""
                          }
                        },
                        "type": "scattermapbox"
                      }
                    ],
                    "scatterpolar": [
                      {
                        "marker": {
                          "colorbar": {
                            "outlinewidth": 0,
                            "ticks": ""
                          }
                        },
                        "type": "scatterpolar"
                      }
                    ],
                    "scatterpolargl": [
                      {
                        "marker": {
                          "colorbar": {
                            "outlinewidth": 0,
                            "ticks": ""
                          }
                        },
                        "type": "scatterpolargl"
                      }
                    ],
                    "scatterternary": [
                      {
                        "marker": {
                          "colorbar": {
                            "outlinewidth": 0,
                            "ticks": ""
                          }
                        },
                        "type": "scatterternary"
                      }
                    ],
                    "surface": [
                      {
                        "colorbar": {
                          "outlinewidth": 0,
                          "ticks": ""
                        },
                        "colorscale": [
                          [
                            0,
                            "#0d0887"
                          ],
                          [
                            0.1111111111111111,
                            "#46039f"
                          ],
                          [
                            0.2222222222222222,
                            "#7201a8"
                          ],
                          [
                            0.3333333333333333,
                            "#9c179e"
                          ],
                          [
                            0.4444444444444444,
                            "#bd3786"
                          ],
                          [
                            0.5555555555555556,
                            "#d8576b"
                          ],
                          [
                            0.6666666666666666,
                            "#ed7953"
                          ],
                          [
                            0.7777777777777778,
                            "#fb9f3a"
                          ],
                          [
                            0.8888888888888888,
                            "#fdca26"
                          ],
                          [
                            1,
                            "#f0f921"
                          ]
                        ],
                        "type": "surface"
                      }
                    ],
                    "table": [
                      {
                        "cells": {
                          "fill": {
                            "color": "#EBF0F8"
                          },
                          "line": {
                            "color": "white"
                          }
                        },
                        "header": {
                          "fill": {
                            "color": "#C8D4E3"
                          },
                          "line": {
                            "color": "white"
                          }
                        },
                        "type": "table"
                      }
                    ]
                  },
                  "layout": {
                    "annotationdefaults": {
                      "arrowcolor": "#2a3f5f",
                      "arrowhead": 0,
                      "arrowwidth": 1
                    },
                    "autotypenumbers": "strict",
                    "coloraxis": {
                      "colorbar": {
                        "outlinewidth": 0,
                        "ticks": ""
                      }
                    },
                    "colorscale": {
                      "diverging": [
                        [
                          0,
                          "#8e0152"
                        ],
                        [
                          0.1,
                          "#c51b7d"
                        ],
                        [
                          0.2,
                          "#de77ae"
                        ],
                        [
                          0.3,
                          "#f1b6da"
                        ],
                        [
                          0.4,
                          "#fde0ef"
                        ],
                        [
                          0.5,
                          "#f7f7f7"
                        ],
                        [
                          0.6,
                          "#e6f5d0"
                        ],
                        [
                          0.7,
                          "#b8e186"
                        ],
                        [
                          0.8,
                          "#7fbc41"
                        ],
                        [
                          0.9,
                          "#4d9221"
                        ],
                        [
                          1,
                          "#276419"
                        ]
                      ],
                      "sequential": [
                        [
                          0,
                          "#0d0887"
                        ],
                        [
                          0.1111111111111111,
                          "#46039f"
                        ],
                        [
                          0.2222222222222222,
                          "#7201a8"
                        ],
                        [
                          0.3333333333333333,
                          "#9c179e"
                        ],
                        [
                          0.4444444444444444,
                          "#bd3786"
                        ],
                        [
                          0.5555555555555556,
                          "#d8576b"
                        ],
                        [
                          0.6666666666666666,
                          "#ed7953"
                        ],
                        [
                          0.7777777777777778,
                          "#fb9f3a"
                        ],
                        [
                          0.8888888888888888,
                          "#fdca26"
                        ],
                        [
                          1,
                          "#f0f921"
                        ]
                      ],
                      "sequentialminus": [
                        [
                          0,
                          "#0d0887"
                        ],
                        [
                          0.1111111111111111,
                          "#46039f"
                        ],
                        [
                          0.2222222222222222,
                          "#7201a8"
                        ],
                        [
                          0.3333333333333333,
                          "#9c179e"
                        ],
                        [
                          0.4444444444444444,
                          "#bd3786"
                        ],
                        [
                          0.5555555555555556,
                          "#d8576b"
                        ],
                        [
                          0.6666666666666666,
                          "#ed7953"
                        ],
                        [
                          0.7777777777777778,
                          "#fb9f3a"
                        ],
                        [
                          0.8888888888888888,
                          "#fdca26"
                        ],
                        [
                          1,
                          "#f0f921"
                        ]
                      ]
                    },
                    "colorway": [
                      "#636efa",
                      "#EF553B",
                      "#00cc96",
                      "#ab63fa",
                      "#FFA15A",
                      "#19d3f3",
                      "#FF6692",
                      "#B6E880",
                      "#FF97FF",
                      "#FECB52"
                    ],
                    "font": {
                      "color": "#2a3f5f"
                    },
                    "geo": {
                      "bgcolor": "white",
                      "lakecolor": "white",
                      "landcolor": "#E5ECF6",
                      "showlakes": true,
                      "showland": true,
                      "subunitcolor": "white"
                    },
                    "hoverlabel": {
                      "align": "left"
                    },
                    "hovermode": "closest",
                    "mapbox": {
                      "style": "light"
                    },
                    "paper_bgcolor": "white",
                    "plot_bgcolor": "#E5ECF6",
                    "polar": {
                      "angularaxis": {
                        "gridcolor": "white",
                        "linecolor": "white",
                        "ticks": ""
                      },
                      "bgcolor": "#E5ECF6",
                      "radialaxis": {
                        "gridcolor": "white",
                        "linecolor": "white",
                        "ticks": ""
                      }
                    },
                    "scene": {
                      "xaxis": {
                        "backgroundcolor": "#E5ECF6",
                        "gridcolor": "white",
                        "gridwidth": 2,
                        "linecolor": "white",
                        "showbackground": true,
                        "ticks": "",
                        "zerolinecolor": "white"
                      },
                      "yaxis": {
                        "backgroundcolor": "#E5ECF6",
                        "gridcolor": "white",
                        "gridwidth": 2,
                        "linecolor": "white",
                        "showbackground": true,
                        "ticks": "",
                        "zerolinecolor": "white"
                      },
                      "zaxis": {
                        "backgroundcolor": "#E5ECF6",
                        "gridcolor": "white",
                        "gridwidth": 2,
                        "linecolor": "white",
                        "showbackground": true,
                        "ticks": "",
                        "zerolinecolor": "white"
                      }
                    },
                    "shapedefaults": {
                      "line": {
                        "color": "#2a3f5f"
                      }
                    },
                    "ternary": {
                      "aaxis": {
                        "gridcolor": "white",
                        "linecolor": "white",
                        "ticks": ""
                      },
                      "baxis": {
                        "gridcolor": "white",
                        "linecolor": "white",
                        "ticks": ""
                      },
                      "bgcolor": "#E5ECF6",
                      "caxis": {
                        "gridcolor": "white",
                        "linecolor": "white",
                        "ticks": ""
                      }
                    },
                    "title": {
                      "x": 0.05
                    },
                    "xaxis": {
                      "automargin": true,
                      "gridcolor": "white",
                      "linecolor": "white",
                      "ticks": "",
                      "title": {
                        "standoff": 15
                      },
                      "zerolinecolor": "white",
                      "zerolinewidth": 2
                    },
                    "yaxis": {
                      "automargin": true,
                      "gridcolor": "white",
                      "linecolor": "white",
                      "ticks": "",
                      "title": {
                        "standoff": 15
                      },
                      "zerolinecolor": "white",
                      "zerolinewidth": 2
                    }
                  }
                },
                "xaxis": {
                  "anchor": "y",
                  "domain": [
                    0,
                    1
                  ],
                  "title": {
                    "text": "index"
                  }
                },
                "yaxis": {
                  "anchor": "x",
                  "domain": [
                    0,
                    1
                  ],
                  "title": {
                    "text": "value"
                  }
                }
              }
            }
          },
          "metadata": {},
          "output_type": "display_data"
        }
      ],
      "source": [
        "px.bar(balanced_dataset.interaction.value_counts())"
      ]
    },
    {
      "cell_type": "code",
      "execution_count": 64,
      "metadata": {
        "colab": {
          "base_uri": "https://localhost:8080/",
          "height": 476
        },
        "id": "2koAKWe9qk9y",
        "outputId": "08f8f830-fc3e-47b3-c3c7-2cfa1207ee85"
      },
      "outputs": [],
      "source": [
        "# balanced_dataset = dataset"
      ]
    },
    {
      "cell_type": "code",
      "execution_count": 79,
      "metadata": {
        "id": "rFE15q0Hqk9z"
      },
      "outputs": [],
      "source": [
        "from sklearn.model_selection import train_test_split\n",
        "# Split into training and validation sets\n",
        "train_df, val_df = train_test_split(balanced_dataset.astype(int), test_size=0.2, random_state=42)\n",
        "X_train, y_train = train_df.drop(columns=['interaction']), train_df[[\"interaction\"]]\n",
        "\n",
        "# Split into validation and test sets\n",
        "val_df, test_df = train_test_split(val_df, test_size=0.2, random_state=42)\n",
        "\n",
        "X_val, y_val = val_df.drop(columns=['interaction']), val_df[[\"interaction\"]]\n",
        "X_test, y_test = test_df.drop(columns=['interaction']), test_df[[\"interaction\"]]"
      ]
    },
    {
      "cell_type": "code",
      "execution_count": 80,
      "metadata": {
        "colab": {
          "base_uri": "https://localhost:8080/"
        },
        "id": "TsHfbRh7qk9z",
        "outputId": "dc160065-a089-4115-8fcc-f6d32c45d9f8"
      },
      "outputs": [
        {
          "data": {
            "text/plain": [
              "((1972, 66), (394, 66), (99, 66))"
            ]
          },
          "execution_count": 80,
          "metadata": {},
          "output_type": "execute_result"
        }
      ],
      "source": [
        "X_train.shape, X_val.shape, X_test.shape"
      ]
    },
    {
      "cell_type": "code",
      "execution_count": 81,
      "metadata": {
        "colab": {
          "base_uri": "https://localhost:8080/",
          "height": 476
        },
        "id": "sXBIYIMRqk9z",
        "outputId": "951a0ce0-c998-418a-a36f-691ab214dda7"
      },
      "outputs": [
        {
          "data": {
            "text/html": [
              "<div>\n",
              "<style scoped>\n",
              "    .dataframe tbody tr th:only-of-type {\n",
              "        vertical-align: middle;\n",
              "    }\n",
              "\n",
              "    .dataframe tbody tr th {\n",
              "        vertical-align: top;\n",
              "    }\n",
              "\n",
              "    .dataframe thead th {\n",
              "        text-align: right;\n",
              "    }\n",
              "</style>\n",
              "<table border=\"1\" class=\"dataframe\">\n",
              "  <thead>\n",
              "    <tr style=\"text-align: right;\">\n",
              "      <th></th>\n",
              "      <th>car_0_used_label</th>\n",
              "      <th>car_0_price</th>\n",
              "      <th>car_0_exteriorColor</th>\n",
              "      <th>car_0_interiorColor</th>\n",
              "      <th>car_0_drivetrain</th>\n",
              "      <th>car_0_minMPG</th>\n",
              "      <th>car_0_maxMPG</th>\n",
              "      <th>car_0_fuelType</th>\n",
              "      <th>car_0_transmission</th>\n",
              "      <th>car_0_mileage</th>\n",
              "      <th>...</th>\n",
              "      <th>target_price</th>\n",
              "      <th>target_exteriorColor</th>\n",
              "      <th>target_interiorColor</th>\n",
              "      <th>target_drivetrain</th>\n",
              "      <th>target_minMPG</th>\n",
              "      <th>target_maxMPG</th>\n",
              "      <th>target_fuelType</th>\n",
              "      <th>target_transmission</th>\n",
              "      <th>target_mileage</th>\n",
              "      <th>target_brand</th>\n",
              "    </tr>\n",
              "  </thead>\n",
              "  <tbody>\n",
              "    <tr>\n",
              "      <th>0</th>\n",
              "      <td>1</td>\n",
              "      <td>107</td>\n",
              "      <td>11</td>\n",
              "      <td>11</td>\n",
              "      <td>3</td>\n",
              "      <td>14</td>\n",
              "      <td>19</td>\n",
              "      <td>3</td>\n",
              "      <td>2</td>\n",
              "      <td>28000</td>\n",
              "      <td>...</td>\n",
              "      <td>28</td>\n",
              "      <td>66</td>\n",
              "      <td>11</td>\n",
              "      <td>4</td>\n",
              "      <td>22</td>\n",
              "      <td>29</td>\n",
              "      <td>3</td>\n",
              "      <td>9</td>\n",
              "      <td>21055</td>\n",
              "      <td>17</td>\n",
              "    </tr>\n",
              "    <tr>\n",
              "      <th>0</th>\n",
              "      <td>1</td>\n",
              "      <td>28</td>\n",
              "      <td>66</td>\n",
              "      <td>11</td>\n",
              "      <td>4</td>\n",
              "      <td>22</td>\n",
              "      <td>29</td>\n",
              "      <td>3</td>\n",
              "      <td>9</td>\n",
              "      <td>21055</td>\n",
              "      <td>...</td>\n",
              "      <td>46</td>\n",
              "      <td>99</td>\n",
              "      <td>63</td>\n",
              "      <td>3</td>\n",
              "      <td>17</td>\n",
              "      <td>20</td>\n",
              "      <td>3</td>\n",
              "      <td>6</td>\n",
              "      <td>16854</td>\n",
              "      <td>28</td>\n",
              "    </tr>\n",
              "    <tr>\n",
              "      <th>0</th>\n",
              "      <td>1</td>\n",
              "      <td>18</td>\n",
              "      <td>157</td>\n",
              "      <td>83</td>\n",
              "      <td>1</td>\n",
              "      <td>18</td>\n",
              "      <td>24</td>\n",
              "      <td>3</td>\n",
              "      <td>9</td>\n",
              "      <td>124282</td>\n",
              "      <td>...</td>\n",
              "      <td>33</td>\n",
              "      <td>111</td>\n",
              "      <td>65</td>\n",
              "      <td>2</td>\n",
              "      <td>22</td>\n",
              "      <td>27</td>\n",
              "      <td>3</td>\n",
              "      <td>16</td>\n",
              "      <td>43496</td>\n",
              "      <td>2</td>\n",
              "    </tr>\n",
              "    <tr>\n",
              "      <th>0</th>\n",
              "      <td>1</td>\n",
              "      <td>31</td>\n",
              "      <td>88</td>\n",
              "      <td>37</td>\n",
              "      <td>3</td>\n",
              "      <td>16</td>\n",
              "      <td>22</td>\n",
              "      <td>3</td>\n",
              "      <td>9</td>\n",
              "      <td>47661</td>\n",
              "      <td>...</td>\n",
              "      <td>25</td>\n",
              "      <td>180</td>\n",
              "      <td>83</td>\n",
              "      <td>5</td>\n",
              "      <td>15</td>\n",
              "      <td>22</td>\n",
              "      <td>0</td>\n",
              "      <td>9</td>\n",
              "      <td>135228</td>\n",
              "      <td>10</td>\n",
              "    </tr>\n",
              "    <tr>\n",
              "      <th>0</th>\n",
              "      <td>0</td>\n",
              "      <td>39</td>\n",
              "      <td>64</td>\n",
              "      <td>52</td>\n",
              "      <td>2</td>\n",
              "      <td>21</td>\n",
              "      <td>28</td>\n",
              "      <td>3</td>\n",
              "      <td>24</td>\n",
              "      <td>44271</td>\n",
              "      <td>...</td>\n",
              "      <td>17</td>\n",
              "      <td>138</td>\n",
              "      <td>8</td>\n",
              "      <td>4</td>\n",
              "      <td>30</td>\n",
              "      <td>40</td>\n",
              "      <td>3</td>\n",
              "      <td>28</td>\n",
              "      <td>21368</td>\n",
              "      <td>14</td>\n",
              "    </tr>\n",
              "    <tr>\n",
              "      <th>...</th>\n",
              "      <td>...</td>\n",
              "      <td>...</td>\n",
              "      <td>...</td>\n",
              "      <td>...</td>\n",
              "      <td>...</td>\n",
              "      <td>...</td>\n",
              "      <td>...</td>\n",
              "      <td>...</td>\n",
              "      <td>...</td>\n",
              "      <td>...</td>\n",
              "      <td>...</td>\n",
              "      <td>...</td>\n",
              "      <td>...</td>\n",
              "      <td>...</td>\n",
              "      <td>...</td>\n",
              "      <td>...</td>\n",
              "      <td>...</td>\n",
              "      <td>...</td>\n",
              "      <td>...</td>\n",
              "      <td>...</td>\n",
              "      <td>...</td>\n",
              "    </tr>\n",
              "    <tr>\n",
              "      <th>0</th>\n",
              "      <td>1</td>\n",
              "      <td>71</td>\n",
              "      <td>122</td>\n",
              "      <td>82</td>\n",
              "      <td>2</td>\n",
              "      <td>131</td>\n",
              "      <td>117</td>\n",
              "      <td>1</td>\n",
              "      <td>1</td>\n",
              "      <td>15002</td>\n",
              "      <td>...</td>\n",
              "      <td>63</td>\n",
              "      <td>173</td>\n",
              "      <td>11</td>\n",
              "      <td>2</td>\n",
              "      <td>18</td>\n",
              "      <td>23</td>\n",
              "      <td>3</td>\n",
              "      <td>16</td>\n",
              "      <td>38729</td>\n",
              "      <td>24</td>\n",
              "    </tr>\n",
              "    <tr>\n",
              "      <th>0</th>\n",
              "      <td>1</td>\n",
              "      <td>18</td>\n",
              "      <td>139</td>\n",
              "      <td>11</td>\n",
              "      <td>3</td>\n",
              "      <td>14</td>\n",
              "      <td>19</td>\n",
              "      <td>0</td>\n",
              "      <td>9</td>\n",
              "      <td>110111</td>\n",
              "      <td>...</td>\n",
              "      <td>72</td>\n",
              "      <td>173</td>\n",
              "      <td>83</td>\n",
              "      <td>5</td>\n",
              "      <td>18</td>\n",
              "      <td>25</td>\n",
              "      <td>3</td>\n",
              "      <td>32</td>\n",
              "      <td>6626</td>\n",
              "      <td>3</td>\n",
              "    </tr>\n",
              "    <tr>\n",
              "      <th>0</th>\n",
              "      <td>1</td>\n",
              "      <td>20</td>\n",
              "      <td>158</td>\n",
              "      <td>83</td>\n",
              "      <td>5</td>\n",
              "      <td>20</td>\n",
              "      <td>29</td>\n",
              "      <td>3</td>\n",
              "      <td>15</td>\n",
              "      <td>102893</td>\n",
              "      <td>...</td>\n",
              "      <td>19</td>\n",
              "      <td>11</td>\n",
              "      <td>60</td>\n",
              "      <td>3</td>\n",
              "      <td>0</td>\n",
              "      <td>0</td>\n",
              "      <td>0</td>\n",
              "      <td>26</td>\n",
              "      <td>141281</td>\n",
              "      <td>10</td>\n",
              "    </tr>\n",
              "    <tr>\n",
              "      <th>0</th>\n",
              "      <td>1</td>\n",
              "      <td>122</td>\n",
              "      <td>173</td>\n",
              "      <td>81</td>\n",
              "      <td>2</td>\n",
              "      <td>80</td>\n",
              "      <td>77</td>\n",
              "      <td>2</td>\n",
              "      <td>0</td>\n",
              "      <td>29918</td>\n",
              "      <td>...</td>\n",
              "      <td>39</td>\n",
              "      <td>64</td>\n",
              "      <td>52</td>\n",
              "      <td>2</td>\n",
              "      <td>21</td>\n",
              "      <td>28</td>\n",
              "      <td>3</td>\n",
              "      <td>24</td>\n",
              "      <td>44271</td>\n",
              "      <td>22</td>\n",
              "    </tr>\n",
              "    <tr>\n",
              "      <th>0</th>\n",
              "      <td>1</td>\n",
              "      <td>43</td>\n",
              "      <td>56</td>\n",
              "      <td>35</td>\n",
              "      <td>2</td>\n",
              "      <td>19</td>\n",
              "      <td>26</td>\n",
              "      <td>3</td>\n",
              "      <td>20</td>\n",
              "      <td>22492</td>\n",
              "      <td>...</td>\n",
              "      <td>31</td>\n",
              "      <td>93</td>\n",
              "      <td>35</td>\n",
              "      <td>4</td>\n",
              "      <td>23</td>\n",
              "      <td>33</td>\n",
              "      <td>3</td>\n",
              "      <td>21</td>\n",
              "      <td>37033</td>\n",
              "      <td>0</td>\n",
              "    </tr>\n",
              "  </tbody>\n",
              "</table>\n",
              "<p>1972 rows × 66 columns</p>\n",
              "</div>"
            ],
            "text/plain": [
              "    car_0_used_label  car_0_price  car_0_exteriorColor  car_0_interiorColor  \\\n",
              "0                  1          107                   11                   11   \n",
              "0                  1           28                   66                   11   \n",
              "0                  1           18                  157                   83   \n",
              "0                  1           31                   88                   37   \n",
              "0                  0           39                   64                   52   \n",
              "..               ...          ...                  ...                  ...   \n",
              "0                  1           71                  122                   82   \n",
              "0                  1           18                  139                   11   \n",
              "0                  1           20                  158                   83   \n",
              "0                  1          122                  173                   81   \n",
              "0                  1           43                   56                   35   \n",
              "\n",
              "    car_0_drivetrain  car_0_minMPG  car_0_maxMPG  car_0_fuelType  \\\n",
              "0                  3            14            19               3   \n",
              "0                  4            22            29               3   \n",
              "0                  1            18            24               3   \n",
              "0                  3            16            22               3   \n",
              "0                  2            21            28               3   \n",
              "..               ...           ...           ...             ...   \n",
              "0                  2           131           117               1   \n",
              "0                  3            14            19               0   \n",
              "0                  5            20            29               3   \n",
              "0                  2            80            77               2   \n",
              "0                  2            19            26               3   \n",
              "\n",
              "    car_0_transmission  car_0_mileage  ...  target_price  \\\n",
              "0                    2          28000  ...            28   \n",
              "0                    9          21055  ...            46   \n",
              "0                    9         124282  ...            33   \n",
              "0                    9          47661  ...            25   \n",
              "0                   24          44271  ...            17   \n",
              "..                 ...            ...  ...           ...   \n",
              "0                    1          15002  ...            63   \n",
              "0                    9         110111  ...            72   \n",
              "0                   15         102893  ...            19   \n",
              "0                    0          29918  ...            39   \n",
              "0                   20          22492  ...            31   \n",
              "\n",
              "    target_exteriorColor  target_interiorColor  target_drivetrain  \\\n",
              "0                     66                    11                  4   \n",
              "0                     99                    63                  3   \n",
              "0                    111                    65                  2   \n",
              "0                    180                    83                  5   \n",
              "0                    138                     8                  4   \n",
              "..                   ...                   ...                ...   \n",
              "0                    173                    11                  2   \n",
              "0                    173                    83                  5   \n",
              "0                     11                    60                  3   \n",
              "0                     64                    52                  2   \n",
              "0                     93                    35                  4   \n",
              "\n",
              "    target_minMPG  target_maxMPG  target_fuelType  target_transmission  \\\n",
              "0              22             29                3                    9   \n",
              "0              17             20                3                    6   \n",
              "0              22             27                3                   16   \n",
              "0              15             22                0                    9   \n",
              "0              30             40                3                   28   \n",
              "..            ...            ...              ...                  ...   \n",
              "0              18             23                3                   16   \n",
              "0              18             25                3                   32   \n",
              "0               0              0                0                   26   \n",
              "0              21             28                3                   24   \n",
              "0              23             33                3                   21   \n",
              "\n",
              "    target_mileage  target_brand  \n",
              "0            21055            17  \n",
              "0            16854            28  \n",
              "0            43496             2  \n",
              "0           135228            10  \n",
              "0            21368            14  \n",
              "..             ...           ...  \n",
              "0            38729            24  \n",
              "0             6626             3  \n",
              "0           141281            10  \n",
              "0            44271            22  \n",
              "0            37033             0  \n",
              "\n",
              "[1972 rows x 66 columns]"
            ]
          },
          "execution_count": 81,
          "metadata": {},
          "output_type": "execute_result"
        }
      ],
      "source": [
        "X_train"
      ]
    },
    {
      "cell_type": "code",
      "execution_count": 82,
      "metadata": {
        "colab": {
          "base_uri": "https://localhost:8080/"
        },
        "id": "xexzATHTqk90",
        "outputId": "8d85707b-bc08-43c2-f19a-7f58322b0ee1"
      },
      "outputs": [
        {
          "name": "stderr",
          "output_type": "stream",
          "text": [
            "/home/proton/anaconda3/envs/proton/lib/python3.10/site-packages/catboost/core.py:1411: FutureWarning:\n",
            "\n",
            "iteritems is deprecated and will be removed in a future version. Use .items instead.\n",
            "\n"
          ]
        },
        {
          "name": "stdout",
          "output_type": "stream",
          "text": [
            "0:\ttest: 0.5811222\tbest: 0.5811222 (0)\ttotal: 4.25ms\tremaining: 21.2s\n",
            "10:\ttest: 0.7630437\tbest: 0.7630437 (10)\ttotal: 39.7ms\tremaining: 18s\n",
            "20:\ttest: 0.7761279\tbest: 0.7761279 (20)\ttotal: 76.1ms\tremaining: 18.1s\n",
            "30:\ttest: 0.7839987\tbest: 0.7839987 (30)\ttotal: 110ms\tremaining: 17.6s\n",
            "40:\ttest: 0.7742616\tbest: 0.7839987 (30)\ttotal: 147ms\tremaining: 17.7s\n",
            "50:\ttest: 0.7732879\tbest: 0.7839987 (30)\ttotal: 188ms\tremaining: 18.2s\n",
            "60:\ttest: 0.7758845\tbest: 0.7839987 (30)\ttotal: 233ms\tremaining: 18.9s\n",
            "70:\ttest: 0.7805501\tbest: 0.7839987 (30)\ttotal: 275ms\tremaining: 19.1s\n",
            "80:\ttest: 0.7786433\tbest: 0.7839987 (30)\ttotal: 314ms\tremaining: 19.1s\n",
            "Stopped by overfitting detector  (50 iterations wait)\n",
            "\n",
            "bestTest = 0.7839987017\n",
            "bestIteration = 30\n",
            "\n",
            "Shrink model to first 31 iterations.\n"
          ]
        }
      ],
      "source": [
        "# Create CatBoost model\n",
        "model = CatBoostClassifier(iterations=5000, \n",
        "                           learning_rate=0.05, \n",
        "                           eval_metric='AUC',\n",
        "                           custom_metric=['Accuracy', 'Precision', 'Recall', 'F1', 'TotalF1'],\n",
        "                           loss_function='CrossEntropy', \n",
        "                           cat_features=cat_features, \n",
        "                           random_seed=42)\n",
        "\n",
        "# Fit the model on the training data\n",
        "model.fit(X_train, y_train, \n",
        "          eval_set=(X_val, y_val), \n",
        "          early_stopping_rounds=50,\n",
        "          verbose=10)\n",
        "\n",
        "# Make predictions on the test data\n",
        "y_pred = model.predict(X_train)"
      ]
    },
    {
      "cell_type": "code",
      "execution_count": 83,
      "metadata": {},
      "outputs": [],
      "source": [
        "model.save_model(\"catboost_info/catboost\",\n",
        "           format=\"cbm\",\n",
        "           export_parameters=None,\n",
        "           pool=None)"
      ]
    },
    {
      "cell_type": "code",
      "execution_count": 84,
      "metadata": {
        "id": "vAWHpg_Bqk90"
      },
      "outputs": [],
      "source": [
        "submission_table = pd.DataFrame(dict(gt = y_train.interaction, pred = y_pred))"
      ]
    },
    {
      "cell_type": "code",
      "execution_count": null,
      "metadata": {},
      "outputs": [],
      "source": []
    },
    {
      "cell_type": "code",
      "execution_count": 85,
      "metadata": {
        "colab": {
          "base_uri": "https://localhost:8080/"
        },
        "id": "8bo4bVsSqk90",
        "outputId": "3d1052de-f09b-4567-e1b9-c266061cb963"
      },
      "outputs": [
        {
          "name": "stdout",
          "output_type": "stream",
          "text": [
            "test accurracy: 0.8012170385395537\n"
          ]
        }
      ],
      "source": [
        "n_correct = 0\n",
        "for i in range(len(submission_table)):\n",
        "    current_row = list(submission_table.iloc[i])\n",
        "    if current_row[0] == current_row[1]:\n",
        "        n_correct += 1\n",
        "print(f\"test accurracy: {n_correct/len(y_pred)}\")"
      ]
    },
    {
      "cell_type": "code",
      "execution_count": 86,
      "metadata": {
        "colab": {
          "base_uri": "https://localhost:8080/",
          "height": 794
        },
        "id": "AlRFt8N-qk90",
        "outputId": "bebcb4db-529c-41e1-cc93-d2ddd07d624c"
      },
      "outputs": [
        {
          "data": {
            "image/svg+xml": "<?xml version=\"1.0\" encoding=\"UTF-8\" standalone=\"no\"?>\n<!DOCTYPE svg PUBLIC \"-//W3C//DTD SVG 1.1//EN\"\n \"http://www.w3.org/Graphics/SVG/1.1/DTD/svg11.dtd\">\n<!-- Generated by graphviz version 2.50.0 (0)\n -->\n<!-- Pages: 1 -->\n<svg width=\"9462pt\" height=\"566pt\"\n viewBox=\"0.00 0.00 9462.18 566.00\" xmlns=\"http://www.w3.org/2000/svg\" xmlns:xlink=\"http://www.w3.org/1999/xlink\">\n<g id=\"graph0\" class=\"graph\" transform=\"scale(1 1) rotate(0) translate(4 562)\">\n<polygon fill=\"white\" stroke=\"transparent\" points=\"-4,4 -4,-562 9458.18,-562 9458.18,4 -4,4\"/>\n<!-- 0 -->\n<g id=\"node1\" class=\"node\">\n<title>0</title>\n<ellipse fill=\"none\" stroke=\"black\" cx=\"5036.09\" cy=\"-540\" rx=\"142.97\" ry=\"18\"/>\n<text text-anchor=\"middle\" x=\"5036.09\" y=\"-536.3\" font-family=\"Times,serif\" font-size=\"14.00\">target_minMPG, value&gt;15.5</text>\n</g>\n<!-- 1 -->\n<g id=\"node2\" class=\"node\">\n<title>1</title>\n<ellipse fill=\"none\" stroke=\"black\" cx=\"3408.09\" cy=\"-453\" rx=\"133.48\" ry=\"18\"/>\n<text text-anchor=\"middle\" x=\"3408.09\" y=\"-449.3\" font-family=\"Times,serif\" font-size=\"14.00\">car_3_used_label, value=0</text>\n</g>\n<!-- 0&#45;&gt;1 -->\n<g id=\"edge1\" class=\"edge\">\n<title>0&#45;&gt;1</title>\n<path fill=\"none\" stroke=\"black\" d=\"M4906.98,-532.26C4603.4,-516.41 3846.82,-476.91 3540.23,-460.9\"/>\n<polygon fill=\"black\" stroke=\"black\" points=\"3540.13,-457.39 3529.96,-460.36 3539.77,-464.38 3540.13,-457.39\"/>\n<text text-anchor=\"middle\" x=\"4330.59\" y=\"-492.8\" font-family=\"Times,serif\" font-size=\"14.00\">No</text>\n</g>\n<!-- 2 -->\n<g id=\"node3\" class=\"node\">\n<title>2</title>\n<ellipse fill=\"none\" stroke=\"black\" cx=\"5895.09\" cy=\"-453\" rx=\"133.48\" ry=\"18\"/>\n<text text-anchor=\"middle\" x=\"5895.09\" y=\"-449.3\" font-family=\"Times,serif\" font-size=\"14.00\">car_3_used_label, value=0</text>\n</g>\n<!-- 0&#45;&gt;2 -->\n<g id=\"edge2\" class=\"edge\">\n<title>0&#45;&gt;2</title>\n<path fill=\"none\" stroke=\"black\" d=\"M5144.88,-528.23C5308.05,-512.09 5614.7,-481.75 5780.94,-465.29\"/>\n<polygon fill=\"black\" stroke=\"black\" points=\"5781.59,-468.75 5791.2,-464.28 5780.9,-461.78 5781.59,-468.75\"/>\n<text text-anchor=\"middle\" x=\"5529.59\" y=\"-492.8\" font-family=\"Times,serif\" font-size=\"14.00\">Yes</text>\n</g>\n<!-- 3 -->\n<g id=\"node4\" class=\"node\">\n<title>3</title>\n<ellipse fill=\"none\" stroke=\"black\" cx=\"1767.09\" cy=\"-366\" rx=\"343.64\" ry=\"18\"/>\n<text text-anchor=\"middle\" x=\"1767.09\" y=\"-362.3\" font-family=\"Times,serif\" font-size=\"14.00\">{car_2_fuelType} counter_type=Counter prior_numerator=0, value&gt;12</text>\n</g>\n<!-- 1&#45;&gt;3 -->\n<g id=\"edge3\" class=\"edge\">\n<title>1&#45;&gt;3</title>\n<path fill=\"none\" stroke=\"black\" d=\"M3286.09,-445.68C3017.09,-431.75 2368.68,-398.16 2012.16,-379.69\"/>\n<polygon fill=\"black\" stroke=\"black\" points=\"2012.13,-376.19 2001.96,-379.17 2011.77,-383.18 2012.13,-376.19\"/>\n<text text-anchor=\"middle\" x=\"2696.59\" y=\"-405.8\" font-family=\"Times,serif\" font-size=\"14.00\">No</text>\n</g>\n<!-- 4 -->\n<g id=\"node5\" class=\"node\">\n<title>4</title>\n<ellipse fill=\"none\" stroke=\"black\" cx=\"3408.09\" cy=\"-366\" rx=\"343.64\" ry=\"18\"/>\n<text text-anchor=\"middle\" x=\"3408.09\" y=\"-362.3\" font-family=\"Times,serif\" font-size=\"14.00\">{car_2_fuelType} counter_type=Counter prior_numerator=0, value&gt;12</text>\n</g>\n<!-- 1&#45;&gt;4 -->\n<g id=\"edge4\" class=\"edge\">\n<title>1&#45;&gt;4</title>\n<path fill=\"none\" stroke=\"black\" d=\"M3408.09,-434.8C3408.09,-423.16 3408.09,-407.55 3408.09,-394.24\"/>\n<polygon fill=\"black\" stroke=\"black\" points=\"3411.59,-394.18 3408.09,-384.18 3404.59,-394.18 3411.59,-394.18\"/>\n<text text-anchor=\"middle\" x=\"3420.59\" y=\"-405.8\" font-family=\"Times,serif\" font-size=\"14.00\">Yes</text>\n</g>\n<!-- 5 -->\n<g id=\"node6\" class=\"node\">\n<title>5</title>\n<ellipse fill=\"none\" stroke=\"black\" cx=\"5895.09\" cy=\"-366\" rx=\"343.64\" ry=\"18\"/>\n<text text-anchor=\"middle\" x=\"5895.09\" y=\"-362.3\" font-family=\"Times,serif\" font-size=\"14.00\">{car_2_fuelType} counter_type=Counter prior_numerator=0, value&gt;12</text>\n</g>\n<!-- 2&#45;&gt;5 -->\n<g id=\"edge5\" class=\"edge\">\n<title>2&#45;&gt;5</title>\n<path fill=\"none\" stroke=\"black\" d=\"M5895.09,-434.8C5895.09,-423.16 5895.09,-407.55 5895.09,-394.24\"/>\n<polygon fill=\"black\" stroke=\"black\" points=\"5898.59,-394.18 5895.09,-384.18 5891.59,-394.18 5898.59,-394.18\"/>\n<text text-anchor=\"middle\" x=\"5905.59\" y=\"-405.8\" font-family=\"Times,serif\" font-size=\"14.00\">No</text>\n</g>\n<!-- 6 -->\n<g id=\"node7\" class=\"node\">\n<title>6</title>\n<ellipse fill=\"none\" stroke=\"black\" cx=\"7687.09\" cy=\"-366\" rx=\"343.64\" ry=\"18\"/>\n<text text-anchor=\"middle\" x=\"7687.09\" y=\"-362.3\" font-family=\"Times,serif\" font-size=\"14.00\">{car_2_fuelType} counter_type=Counter prior_numerator=0, value&gt;12</text>\n</g>\n<!-- 2&#45;&gt;6 -->\n<g id=\"edge6\" class=\"edge\">\n<title>2&#45;&gt;6</title>\n<path fill=\"none\" stroke=\"black\" d=\"M6018.61,-446.14C6309.16,-432.36 7040.74,-397.66 7431.6,-379.12\"/>\n<polygon fill=\"black\" stroke=\"black\" points=\"7431.8,-382.61 7441.63,-378.64 7431.47,-375.62 7431.8,-382.61\"/>\n<text text-anchor=\"middle\" x=\"6911.59\" y=\"-405.8\" font-family=\"Times,serif\" font-size=\"14.00\">Yes</text>\n</g>\n<!-- 7 -->\n<g id=\"node8\" class=\"node\">\n<title>7</title>\n<ellipse fill=\"none\" stroke=\"black\" cx=\"879.09\" cy=\"-279\" rx=\"131.88\" ry=\"18\"/>\n<text text-anchor=\"middle\" x=\"879.09\" y=\"-275.3\" font-family=\"Times,serif\" font-size=\"14.00\">target_price, value&gt;106.5</text>\n</g>\n<!-- 3&#45;&gt;7 -->\n<g id=\"edge7\" class=\"edge\">\n<title>3&#45;&gt;7</title>\n<path fill=\"none\" stroke=\"black\" d=\"M1610.12,-349.97C1433.59,-333.08 1151.1,-306.04 993.98,-291\"/>\n<polygon fill=\"black\" stroke=\"black\" points=\"994.1,-287.49 983.82,-290.02 993.44,-294.46 994.1,-287.49\"/>\n<text text-anchor=\"middle\" x=\"1387.59\" y=\"-318.8\" font-family=\"Times,serif\" font-size=\"14.00\">No</text>\n</g>\n<!-- 8 -->\n<g id=\"node9\" class=\"node\">\n<title>8</title>\n<ellipse fill=\"none\" stroke=\"black\" cx=\"1767.09\" cy=\"-279\" rx=\"131.88\" ry=\"18\"/>\n<text text-anchor=\"middle\" x=\"1767.09\" y=\"-275.3\" font-family=\"Times,serif\" font-size=\"14.00\">target_price, value&gt;106.5</text>\n</g>\n<!-- 3&#45;&gt;8 -->\n<g id=\"edge8\" class=\"edge\">\n<title>3&#45;&gt;8</title>\n<path fill=\"none\" stroke=\"black\" d=\"M1767.09,-347.8C1767.09,-336.16 1767.09,-320.55 1767.09,-307.24\"/>\n<polygon fill=\"black\" stroke=\"black\" points=\"1770.59,-307.18 1767.09,-297.18 1763.59,-307.18 1770.59,-307.18\"/>\n<text text-anchor=\"middle\" x=\"1779.59\" y=\"-318.8\" font-family=\"Times,serif\" font-size=\"14.00\">Yes</text>\n</g>\n<!-- 9 -->\n<g id=\"node10\" class=\"node\">\n<title>9</title>\n<ellipse fill=\"none\" stroke=\"black\" cx=\"3162.09\" cy=\"-279\" rx=\"131.88\" ry=\"18\"/>\n<text text-anchor=\"middle\" x=\"3162.09\" y=\"-275.3\" font-family=\"Times,serif\" font-size=\"14.00\">target_price, value&gt;106.5</text>\n</g>\n<!-- 4&#45;&gt;9 -->\n<g id=\"edge9\" class=\"edge\">\n<title>4&#45;&gt;9</title>\n<path fill=\"none\" stroke=\"black\" d=\"M3359.19,-348.11C3318.5,-334.05 3260.57,-314.03 3218.04,-299.33\"/>\n<polygon fill=\"black\" stroke=\"black\" points=\"3218.99,-295.96 3208.39,-296 3216.7,-302.57 3218.99,-295.96\"/>\n<text text-anchor=\"middle\" x=\"3310.59\" y=\"-318.8\" font-family=\"Times,serif\" font-size=\"14.00\">No</text>\n</g>\n<!-- 10 -->\n<g id=\"node11\" class=\"node\">\n<title>10</title>\n<ellipse fill=\"none\" stroke=\"black\" cx=\"3840.09\" cy=\"-279\" rx=\"131.88\" ry=\"18\"/>\n<text text-anchor=\"middle\" x=\"3840.09\" y=\"-275.3\" font-family=\"Times,serif\" font-size=\"14.00\">target_price, value&gt;106.5</text>\n</g>\n<!-- 4&#45;&gt;10 -->\n<g id=\"edge10\" class=\"edge\">\n<title>4&#45;&gt;10</title>\n<path fill=\"none\" stroke=\"black\" d=\"M3491.89,-348.51C3568.8,-333.38 3682.03,-311.1 3758.29,-296.09\"/>\n<polygon fill=\"black\" stroke=\"black\" points=\"3759.2,-299.48 3768.34,-294.12 3757.85,-292.61 3759.2,-299.48\"/>\n<text text-anchor=\"middle\" x=\"3662.59\" y=\"-318.8\" font-family=\"Times,serif\" font-size=\"14.00\">Yes</text>\n</g>\n<!-- 11 -->\n<g id=\"node12\" class=\"node\">\n<title>11</title>\n<ellipse fill=\"none\" stroke=\"black\" cx=\"5615.09\" cy=\"-279\" rx=\"131.88\" ry=\"18\"/>\n<text text-anchor=\"middle\" x=\"5615.09\" y=\"-275.3\" font-family=\"Times,serif\" font-size=\"14.00\">target_price, value&gt;106.5</text>\n</g>\n<!-- 5&#45;&gt;11 -->\n<g id=\"edge11\" class=\"edge\">\n<title>5&#45;&gt;11</title>\n<path fill=\"none\" stroke=\"black\" d=\"M5839.77,-348.21C5792.65,-333.9 5725.04,-313.38 5676.31,-298.58\"/>\n<polygon fill=\"black\" stroke=\"black\" points=\"5677.1,-295.17 5666.52,-295.61 5675.07,-301.87 5677.1,-295.17\"/>\n<text text-anchor=\"middle\" x=\"5782.59\" y=\"-318.8\" font-family=\"Times,serif\" font-size=\"14.00\">No</text>\n</g>\n<!-- 12 -->\n<g id=\"node13\" class=\"node\">\n<title>12</title>\n<ellipse fill=\"none\" stroke=\"black\" cx=\"6253.09\" cy=\"-279\" rx=\"131.88\" ry=\"18\"/>\n<text text-anchor=\"middle\" x=\"6253.09\" y=\"-275.3\" font-family=\"Times,serif\" font-size=\"14.00\">target_price, value&gt;106.5</text>\n</g>\n<!-- 5&#45;&gt;12 -->\n<g id=\"edge12\" class=\"edge\">\n<title>5&#45;&gt;12</title>\n<path fill=\"none\" stroke=\"black\" d=\"M5965.39,-348.31C6027.53,-333.55 6117.81,-312.12 6180.6,-297.21\"/>\n<polygon fill=\"black\" stroke=\"black\" points=\"6181.51,-300.59 6190.43,-294.88 6179.89,-293.78 6181.51,-300.59\"/>\n<text text-anchor=\"middle\" x=\"6108.59\" y=\"-318.8\" font-family=\"Times,serif\" font-size=\"14.00\">Yes</text>\n</g>\n<!-- 13 -->\n<g id=\"node14\" class=\"node\">\n<title>13</title>\n<ellipse fill=\"none\" stroke=\"black\" cx=\"7687.09\" cy=\"-279\" rx=\"131.88\" ry=\"18\"/>\n<text text-anchor=\"middle\" x=\"7687.09\" y=\"-275.3\" font-family=\"Times,serif\" font-size=\"14.00\">target_price, value&gt;106.5</text>\n</g>\n<!-- 6&#45;&gt;13 -->\n<g id=\"edge13\" class=\"edge\">\n<title>6&#45;&gt;13</title>\n<path fill=\"none\" stroke=\"black\" d=\"M7687.09,-347.8C7687.09,-336.16 7687.09,-320.55 7687.09,-307.24\"/>\n<polygon fill=\"black\" stroke=\"black\" points=\"7690.59,-307.18 7687.09,-297.18 7683.59,-307.18 7690.59,-307.18\"/>\n<text text-anchor=\"middle\" x=\"7697.59\" y=\"-318.8\" font-family=\"Times,serif\" font-size=\"14.00\">No</text>\n</g>\n<!-- 14 -->\n<g id=\"node15\" class=\"node\">\n<title>14</title>\n<ellipse fill=\"none\" stroke=\"black\" cx=\"8501.09\" cy=\"-279\" rx=\"131.88\" ry=\"18\"/>\n<text text-anchor=\"middle\" x=\"8501.09\" y=\"-275.3\" font-family=\"Times,serif\" font-size=\"14.00\">target_price, value&gt;106.5</text>\n</g>\n<!-- 6&#45;&gt;14 -->\n<g id=\"edge14\" class=\"edge\">\n<title>6&#45;&gt;14</title>\n<path fill=\"none\" stroke=\"black\" d=\"M7833.55,-349.71C7993.24,-333.03 8245.25,-306.72 8389.62,-291.64\"/>\n<polygon fill=\"black\" stroke=\"black\" points=\"8390.24,-295.09 8399.82,-290.57 8389.51,-288.13 8390.24,-295.09\"/>\n<text text-anchor=\"middle\" x=\"8155.59\" y=\"-318.8\" font-family=\"Times,serif\" font-size=\"14.00\">Yes</text>\n</g>\n<!-- 15 -->\n<g id=\"node16\" class=\"node\">\n<title>15</title>\n<ellipse fill=\"none\" stroke=\"black\" cx=\"435.09\" cy=\"-192\" rx=\"116.18\" ry=\"18\"/>\n<text text-anchor=\"middle\" x=\"435.09\" y=\"-188.3\" font-family=\"Times,serif\" font-size=\"14.00\">car_1_price, value&gt;6.5</text>\n</g>\n<!-- 7&#45;&gt;15 -->\n<g id=\"edge15\" class=\"edge\">\n<title>7&#45;&gt;15</title>\n<path fill=\"none\" stroke=\"black\" d=\"M805.77,-263.96C725.65,-248.63 597.72,-224.13 515.06,-208.31\"/>\n<polygon fill=\"black\" stroke=\"black\" points=\"515.69,-204.87 505.21,-206.43 514.38,-211.74 515.69,-204.87\"/>\n<text text-anchor=\"middle\" x=\"694.59\" y=\"-231.8\" font-family=\"Times,serif\" font-size=\"14.00\">No</text>\n</g>\n<!-- 16 -->\n<g id=\"node17\" class=\"node\">\n<title>16</title>\n<ellipse fill=\"none\" stroke=\"black\" cx=\"879.09\" cy=\"-192\" rx=\"116.18\" ry=\"18\"/>\n<text text-anchor=\"middle\" x=\"879.09\" y=\"-188.3\" font-family=\"Times,serif\" font-size=\"14.00\">car_1_price, value&gt;6.5</text>\n</g>\n<!-- 7&#45;&gt;16 -->\n<g id=\"edge16\" class=\"edge\">\n<title>7&#45;&gt;16</title>\n<path fill=\"none\" stroke=\"black\" d=\"M879.09,-260.8C879.09,-249.16 879.09,-233.55 879.09,-220.24\"/>\n<polygon fill=\"black\" stroke=\"black\" points=\"882.59,-220.18 879.09,-210.18 875.59,-220.18 882.59,-220.18\"/>\n<text text-anchor=\"middle\" x=\"891.59\" y=\"-231.8\" font-family=\"Times,serif\" font-size=\"14.00\">Yes</text>\n</g>\n<!-- 17 -->\n<g id=\"node18\" class=\"node\">\n<title>17</title>\n<ellipse fill=\"none\" stroke=\"black\" cx=\"1619.09\" cy=\"-192\" rx=\"116.18\" ry=\"18\"/>\n<text text-anchor=\"middle\" x=\"1619.09\" y=\"-188.3\" font-family=\"Times,serif\" font-size=\"14.00\">car_1_price, value&gt;6.5</text>\n</g>\n<!-- 8&#45;&gt;17 -->\n<g id=\"edge17\" class=\"edge\">\n<title>8&#45;&gt;17</title>\n<path fill=\"none\" stroke=\"black\" d=\"M1738.2,-261.41C1714.97,-248.07 1682.16,-229.22 1656.85,-214.69\"/>\n<polygon fill=\"black\" stroke=\"black\" points=\"1658.32,-211.49 1647.9,-209.55 1654.83,-217.56 1658.32,-211.49\"/>\n<text text-anchor=\"middle\" x=\"1712.59\" y=\"-231.8\" font-family=\"Times,serif\" font-size=\"14.00\">No</text>\n</g>\n<!-- 18 -->\n<g id=\"node19\" class=\"node\">\n<title>18</title>\n<ellipse fill=\"none\" stroke=\"black\" cx=\"1915.09\" cy=\"-192\" rx=\"116.18\" ry=\"18\"/>\n<text text-anchor=\"middle\" x=\"1915.09\" y=\"-188.3\" font-family=\"Times,serif\" font-size=\"14.00\">car_1_price, value&gt;6.5</text>\n</g>\n<!-- 8&#45;&gt;18 -->\n<g id=\"edge18\" class=\"edge\">\n<title>8&#45;&gt;18</title>\n<path fill=\"none\" stroke=\"black\" d=\"M1795.97,-261.41C1819.2,-248.07 1852.01,-229.22 1877.32,-214.69\"/>\n<polygon fill=\"black\" stroke=\"black\" points=\"1879.34,-217.56 1886.27,-209.55 1875.86,-211.49 1879.34,-217.56\"/>\n<text text-anchor=\"middle\" x=\"1862.59\" y=\"-231.8\" font-family=\"Times,serif\" font-size=\"14.00\">Yes</text>\n</g>\n<!-- 19 -->\n<g id=\"node20\" class=\"node\">\n<title>19</title>\n<ellipse fill=\"none\" stroke=\"black\" cx=\"2803.09\" cy=\"-192\" rx=\"116.18\" ry=\"18\"/>\n<text text-anchor=\"middle\" x=\"2803.09\" y=\"-188.3\" font-family=\"Times,serif\" font-size=\"14.00\">car_1_price, value&gt;6.5</text>\n</g>\n<!-- 9&#45;&gt;19 -->\n<g id=\"edge19\" class=\"edge\">\n<title>9&#45;&gt;19</title>\n<path fill=\"none\" stroke=\"black\" d=\"M3099.14,-263.1C3036.12,-248.17 2939.32,-225.26 2873.71,-209.72\"/>\n<polygon fill=\"black\" stroke=\"black\" points=\"2874.4,-206.29 2863.86,-207.39 2872.79,-213.1 2874.4,-206.29\"/>\n<text text-anchor=\"middle\" x=\"3014.59\" y=\"-231.8\" font-family=\"Times,serif\" font-size=\"14.00\">No</text>\n</g>\n<!-- 20 -->\n<g id=\"node21\" class=\"node\">\n<title>20</title>\n<ellipse fill=\"none\" stroke=\"black\" cx=\"3162.09\" cy=\"-192\" rx=\"116.18\" ry=\"18\"/>\n<text text-anchor=\"middle\" x=\"3162.09\" y=\"-188.3\" font-family=\"Times,serif\" font-size=\"14.00\">car_1_price, value&gt;6.5</text>\n</g>\n<!-- 9&#45;&gt;20 -->\n<g id=\"edge20\" class=\"edge\">\n<title>9&#45;&gt;20</title>\n<path fill=\"none\" stroke=\"black\" d=\"M3162.09,-260.8C3162.09,-249.16 3162.09,-233.55 3162.09,-220.24\"/>\n<polygon fill=\"black\" stroke=\"black\" points=\"3165.59,-220.18 3162.09,-210.18 3158.59,-220.18 3165.59,-220.18\"/>\n<text text-anchor=\"middle\" x=\"3174.59\" y=\"-231.8\" font-family=\"Times,serif\" font-size=\"14.00\">Yes</text>\n</g>\n<!-- 21 -->\n<g id=\"node22\" class=\"node\">\n<title>21</title>\n<ellipse fill=\"none\" stroke=\"black\" cx=\"3840.09\" cy=\"-192\" rx=\"116.18\" ry=\"18\"/>\n<text text-anchor=\"middle\" x=\"3840.09\" y=\"-188.3\" font-family=\"Times,serif\" font-size=\"14.00\">car_1_price, value&gt;6.5</text>\n</g>\n<!-- 10&#45;&gt;21 -->\n<g id=\"edge21\" class=\"edge\">\n<title>10&#45;&gt;21</title>\n<path fill=\"none\" stroke=\"black\" d=\"M3840.09,-260.8C3840.09,-249.16 3840.09,-233.55 3840.09,-220.24\"/>\n<polygon fill=\"black\" stroke=\"black\" points=\"3843.59,-220.18 3840.09,-210.18 3836.59,-220.18 3843.59,-220.18\"/>\n<text text-anchor=\"middle\" x=\"3850.59\" y=\"-231.8\" font-family=\"Times,serif\" font-size=\"14.00\">No</text>\n</g>\n<!-- 22 -->\n<g id=\"node23\" class=\"node\">\n<title>22</title>\n<ellipse fill=\"none\" stroke=\"black\" cx=\"4283.09\" cy=\"-192\" rx=\"116.18\" ry=\"18\"/>\n<text text-anchor=\"middle\" x=\"4283.09\" y=\"-188.3\" font-family=\"Times,serif\" font-size=\"14.00\">car_1_price, value&gt;6.5</text>\n</g>\n<!-- 10&#45;&gt;22 -->\n<g id=\"edge22\" class=\"edge\">\n<title>10&#45;&gt;22</title>\n<path fill=\"none\" stroke=\"black\" d=\"M3913.24,-263.96C3993.18,-248.63 4120.82,-224.13 4203.29,-208.31\"/>\n<polygon fill=\"black\" stroke=\"black\" points=\"4203.96,-211.75 4213.12,-206.43 4202.64,-204.87 4203.96,-211.75\"/>\n<text text-anchor=\"middle\" x=\"4101.59\" y=\"-231.8\" font-family=\"Times,serif\" font-size=\"14.00\">Yes</text>\n</g>\n<!-- 23 -->\n<g id=\"node24\" class=\"node\">\n<title>23</title>\n<ellipse fill=\"none\" stroke=\"black\" cx=\"5171.09\" cy=\"-192\" rx=\"116.18\" ry=\"18\"/>\n<text text-anchor=\"middle\" x=\"5171.09\" y=\"-188.3\" font-family=\"Times,serif\" font-size=\"14.00\">car_1_price, value&gt;6.5</text>\n</g>\n<!-- 11&#45;&gt;23 -->\n<g id=\"edge23\" class=\"edge\">\n<title>11&#45;&gt;23</title>\n<path fill=\"none\" stroke=\"black\" d=\"M5541.77,-263.96C5461.65,-248.63 5333.72,-224.13 5251.06,-208.31\"/>\n<polygon fill=\"black\" stroke=\"black\" points=\"5251.69,-204.87 5241.21,-206.43 5250.38,-211.74 5251.69,-204.87\"/>\n<text text-anchor=\"middle\" x=\"5430.59\" y=\"-231.8\" font-family=\"Times,serif\" font-size=\"14.00\">No</text>\n</g>\n<!-- 24 -->\n<g id=\"node25\" class=\"node\">\n<title>24</title>\n<ellipse fill=\"none\" stroke=\"black\" cx=\"5615.09\" cy=\"-192\" rx=\"116.18\" ry=\"18\"/>\n<text text-anchor=\"middle\" x=\"5615.09\" y=\"-188.3\" font-family=\"Times,serif\" font-size=\"14.00\">car_1_price, value&gt;6.5</text>\n</g>\n<!-- 11&#45;&gt;24 -->\n<g id=\"edge24\" class=\"edge\">\n<title>11&#45;&gt;24</title>\n<path fill=\"none\" stroke=\"black\" d=\"M5615.09,-260.8C5615.09,-249.16 5615.09,-233.55 5615.09,-220.24\"/>\n<polygon fill=\"black\" stroke=\"black\" points=\"5618.59,-220.18 5615.09,-210.18 5611.59,-220.18 5618.59,-220.18\"/>\n<text text-anchor=\"middle\" x=\"5627.59\" y=\"-231.8\" font-family=\"Times,serif\" font-size=\"14.00\">Yes</text>\n</g>\n<!-- 25 -->\n<g id=\"node26\" class=\"node\">\n<title>25</title>\n<ellipse fill=\"none\" stroke=\"black\" cx=\"6253.09\" cy=\"-192\" rx=\"116.18\" ry=\"18\"/>\n<text text-anchor=\"middle\" x=\"6253.09\" y=\"-188.3\" font-family=\"Times,serif\" font-size=\"14.00\">car_1_price, value&gt;6.5</text>\n</g>\n<!-- 12&#45;&gt;25 -->\n<g id=\"edge25\" class=\"edge\">\n<title>12&#45;&gt;25</title>\n<path fill=\"none\" stroke=\"black\" d=\"M6253.09,-260.8C6253.09,-249.16 6253.09,-233.55 6253.09,-220.24\"/>\n<polygon fill=\"black\" stroke=\"black\" points=\"6256.59,-220.18 6253.09,-210.18 6249.59,-220.18 6256.59,-220.18\"/>\n<text text-anchor=\"middle\" x=\"6263.59\" y=\"-231.8\" font-family=\"Times,serif\" font-size=\"14.00\">No</text>\n</g>\n<!-- 26 -->\n<g id=\"node27\" class=\"node\">\n<title>26</title>\n<ellipse fill=\"none\" stroke=\"black\" cx=\"6651.09\" cy=\"-192\" rx=\"116.18\" ry=\"18\"/>\n<text text-anchor=\"middle\" x=\"6651.09\" y=\"-188.3\" font-family=\"Times,serif\" font-size=\"14.00\">car_1_price, value&gt;6.5</text>\n</g>\n<!-- 12&#45;&gt;26 -->\n<g id=\"edge26\" class=\"edge\">\n<title>12&#45;&gt;26</title>\n<path fill=\"none\" stroke=\"black\" d=\"M6321.05,-263.48C6391.77,-248.38 6502.23,-224.79 6575.61,-209.12\"/>\n<polygon fill=\"black\" stroke=\"black\" points=\"6576.67,-212.47 6585.71,-206.96 6575.2,-205.63 6576.67,-212.47\"/>\n<text text-anchor=\"middle\" x=\"6488.59\" y=\"-231.8\" font-family=\"Times,serif\" font-size=\"14.00\">Yes</text>\n</g>\n<!-- 27 -->\n<g id=\"node28\" class=\"node\">\n<title>27</title>\n<ellipse fill=\"none\" stroke=\"black\" cx=\"7539.09\" cy=\"-192\" rx=\"116.18\" ry=\"18\"/>\n<text text-anchor=\"middle\" x=\"7539.09\" y=\"-188.3\" font-family=\"Times,serif\" font-size=\"14.00\">car_1_price, value&gt;6.5</text>\n</g>\n<!-- 13&#45;&gt;27 -->\n<g id=\"edge27\" class=\"edge\">\n<title>13&#45;&gt;27</title>\n<path fill=\"none\" stroke=\"black\" d=\"M7658.2,-261.41C7634.97,-248.07 7602.16,-229.22 7576.85,-214.69\"/>\n<polygon fill=\"black\" stroke=\"black\" points=\"7578.32,-211.49 7567.9,-209.55 7574.83,-217.56 7578.32,-211.49\"/>\n<text text-anchor=\"middle\" x=\"7632.59\" y=\"-231.8\" font-family=\"Times,serif\" font-size=\"14.00\">No</text>\n</g>\n<!-- 28 -->\n<g id=\"node29\" class=\"node\">\n<title>28</title>\n<ellipse fill=\"none\" stroke=\"black\" cx=\"7835.09\" cy=\"-192\" rx=\"116.18\" ry=\"18\"/>\n<text text-anchor=\"middle\" x=\"7835.09\" y=\"-188.3\" font-family=\"Times,serif\" font-size=\"14.00\">car_1_price, value&gt;6.5</text>\n</g>\n<!-- 13&#45;&gt;28 -->\n<g id=\"edge28\" class=\"edge\">\n<title>13&#45;&gt;28</title>\n<path fill=\"none\" stroke=\"black\" d=\"M7715.97,-261.41C7739.2,-248.07 7772.01,-229.22 7797.32,-214.69\"/>\n<polygon fill=\"black\" stroke=\"black\" points=\"7799.34,-217.56 7806.27,-209.55 7795.86,-211.49 7799.34,-217.56\"/>\n<text text-anchor=\"middle\" x=\"7782.59\" y=\"-231.8\" font-family=\"Times,serif\" font-size=\"14.00\">Yes</text>\n</g>\n<!-- 29 -->\n<g id=\"node30\" class=\"node\">\n<title>29</title>\n<ellipse fill=\"none\" stroke=\"black\" cx=\"8501.09\" cy=\"-192\" rx=\"116.18\" ry=\"18\"/>\n<text text-anchor=\"middle\" x=\"8501.09\" y=\"-188.3\" font-family=\"Times,serif\" font-size=\"14.00\">car_1_price, value&gt;6.5</text>\n</g>\n<!-- 14&#45;&gt;29 -->\n<g id=\"edge29\" class=\"edge\">\n<title>14&#45;&gt;29</title>\n<path fill=\"none\" stroke=\"black\" d=\"M8501.09,-260.8C8501.09,-249.16 8501.09,-233.55 8501.09,-220.24\"/>\n<polygon fill=\"black\" stroke=\"black\" points=\"8504.59,-220.18 8501.09,-210.18 8497.59,-220.18 8504.59,-220.18\"/>\n<text text-anchor=\"middle\" x=\"8511.59\" y=\"-231.8\" font-family=\"Times,serif\" font-size=\"14.00\">No</text>\n</g>\n<!-- 30 -->\n<g id=\"node31\" class=\"node\">\n<title>30</title>\n<ellipse fill=\"none\" stroke=\"black\" cx=\"9019.09\" cy=\"-192\" rx=\"116.18\" ry=\"18\"/>\n<text text-anchor=\"middle\" x=\"9019.09\" y=\"-188.3\" font-family=\"Times,serif\" font-size=\"14.00\">car_1_price, value&gt;6.5</text>\n</g>\n<!-- 14&#45;&gt;30 -->\n<g id=\"edge30\" class=\"edge\">\n<title>14&#45;&gt;30</title>\n<path fill=\"none\" stroke=\"black\" d=\"M8582.03,-264.72C8677.25,-249.09 8834.72,-223.25 8932.38,-207.23\"/>\n<polygon fill=\"black\" stroke=\"black\" points=\"8933.21,-210.64 8942.52,-205.56 8932.08,-203.73 8933.21,-210.64\"/>\n<text text-anchor=\"middle\" x=\"8804.59\" y=\"-231.8\" font-family=\"Times,serif\" font-size=\"14.00\">Yes</text>\n</g>\n<!-- 31 -->\n<g id=\"node32\" class=\"node\">\n<title>31</title>\n<ellipse fill=\"none\" stroke=\"black\" cx=\"139.09\" cy=\"-105\" rx=\"139.18\" ry=\"18\"/>\n<text text-anchor=\"middle\" x=\"139.09\" y=\"-101.3\" font-family=\"Times,serif\" font-size=\"14.00\">car_0_minMPG, value&gt;28.5</text>\n</g>\n<!-- 15&#45;&gt;31 -->\n<g id=\"edge31\" class=\"edge\">\n<title>15&#45;&gt;31</title>\n<path fill=\"none\" stroke=\"black\" d=\"M382.51,-175.9C332.38,-161.51 256.8,-139.8 203.18,-124.4\"/>\n<polygon fill=\"black\" stroke=\"black\" points=\"204.01,-121 193.43,-121.6 202.07,-127.73 204.01,-121\"/>\n<text text-anchor=\"middle\" x=\"315.59\" y=\"-144.8\" font-family=\"Times,serif\" font-size=\"14.00\">No</text>\n</g>\n<!-- 32 -->\n<g id=\"node33\" class=\"node\">\n<title>32</title>\n<ellipse fill=\"none\" stroke=\"black\" cx=\"435.09\" cy=\"-105\" rx=\"139.18\" ry=\"18\"/>\n<text text-anchor=\"middle\" x=\"435.09\" y=\"-101.3\" font-family=\"Times,serif\" font-size=\"14.00\">car_0_minMPG, value&gt;28.5</text>\n</g>\n<!-- 15&#45;&gt;32 -->\n<g id=\"edge32\" class=\"edge\">\n<title>15&#45;&gt;32</title>\n<path fill=\"none\" stroke=\"black\" d=\"M435.09,-173.8C435.09,-162.16 435.09,-146.55 435.09,-133.24\"/>\n<polygon fill=\"black\" stroke=\"black\" points=\"438.59,-133.18 435.09,-123.18 431.59,-133.18 438.59,-133.18\"/>\n<text text-anchor=\"middle\" x=\"447.59\" y=\"-144.8\" font-family=\"Times,serif\" font-size=\"14.00\">Yes</text>\n</g>\n<!-- 33 -->\n<g id=\"node34\" class=\"node\">\n<title>33</title>\n<ellipse fill=\"none\" stroke=\"black\" cx=\"731.09\" cy=\"-105\" rx=\"139.18\" ry=\"18\"/>\n<text text-anchor=\"middle\" x=\"731.09\" y=\"-101.3\" font-family=\"Times,serif\" font-size=\"14.00\">car_0_minMPG, value&gt;28.5</text>\n</g>\n<!-- 16&#45;&gt;33 -->\n<g id=\"edge33\" class=\"edge\">\n<title>16&#45;&gt;33</title>\n<path fill=\"none\" stroke=\"black\" d=\"M850.2,-174.41C827.05,-161.11 794.37,-142.35 769.1,-127.83\"/>\n<polygon fill=\"black\" stroke=\"black\" points=\"770.57,-124.64 760.15,-122.69 767.08,-130.71 770.57,-124.64\"/>\n<text text-anchor=\"middle\" x=\"824.59\" y=\"-144.8\" font-family=\"Times,serif\" font-size=\"14.00\">No</text>\n</g>\n<!-- 34 -->\n<g id=\"node35\" class=\"node\">\n<title>34</title>\n<ellipse fill=\"none\" stroke=\"black\" cx=\"1027.09\" cy=\"-105\" rx=\"139.18\" ry=\"18\"/>\n<text text-anchor=\"middle\" x=\"1027.09\" y=\"-101.3\" font-family=\"Times,serif\" font-size=\"14.00\">car_0_minMPG, value&gt;28.5</text>\n</g>\n<!-- 16&#45;&gt;34 -->\n<g id=\"edge34\" class=\"edge\">\n<title>16&#45;&gt;34</title>\n<path fill=\"none\" stroke=\"black\" d=\"M907.97,-174.41C931.13,-161.11 963.8,-142.35 989.08,-127.83\"/>\n<polygon fill=\"black\" stroke=\"black\" points=\"991.09,-130.71 998.02,-122.69 987.61,-124.64 991.09,-130.71\"/>\n<text text-anchor=\"middle\" x=\"974.59\" y=\"-144.8\" font-family=\"Times,serif\" font-size=\"14.00\">Yes</text>\n</g>\n<!-- 35 -->\n<g id=\"node36\" class=\"node\">\n<title>35</title>\n<ellipse fill=\"none\" stroke=\"black\" cx=\"1323.09\" cy=\"-105\" rx=\"139.18\" ry=\"18\"/>\n<text text-anchor=\"middle\" x=\"1323.09\" y=\"-101.3\" font-family=\"Times,serif\" font-size=\"14.00\">car_0_minMPG, value&gt;28.5</text>\n</g>\n<!-- 17&#45;&gt;35 -->\n<g id=\"edge35\" class=\"edge\">\n<title>17&#45;&gt;35</title>\n<path fill=\"none\" stroke=\"black\" d=\"M1566.51,-175.9C1516.38,-161.51 1440.8,-139.8 1387.18,-124.4\"/>\n<polygon fill=\"black\" stroke=\"black\" points=\"1388.01,-121 1377.43,-121.6 1386.07,-127.73 1388.01,-121\"/>\n<text text-anchor=\"middle\" x=\"1499.59\" y=\"-144.8\" font-family=\"Times,serif\" font-size=\"14.00\">No</text>\n</g>\n<!-- 36 -->\n<g id=\"node37\" class=\"node\">\n<title>36</title>\n<ellipse fill=\"none\" stroke=\"black\" cx=\"1619.09\" cy=\"-105\" rx=\"139.18\" ry=\"18\"/>\n<text text-anchor=\"middle\" x=\"1619.09\" y=\"-101.3\" font-family=\"Times,serif\" font-size=\"14.00\">car_0_minMPG, value&gt;28.5</text>\n</g>\n<!-- 17&#45;&gt;36 -->\n<g id=\"edge36\" class=\"edge\">\n<title>17&#45;&gt;36</title>\n<path fill=\"none\" stroke=\"black\" d=\"M1619.09,-173.8C1619.09,-162.16 1619.09,-146.55 1619.09,-133.24\"/>\n<polygon fill=\"black\" stroke=\"black\" points=\"1622.59,-133.18 1619.09,-123.18 1615.59,-133.18 1622.59,-133.18\"/>\n<text text-anchor=\"middle\" x=\"1631.59\" y=\"-144.8\" font-family=\"Times,serif\" font-size=\"14.00\">Yes</text>\n</g>\n<!-- 37 -->\n<g id=\"node38\" class=\"node\">\n<title>37</title>\n<ellipse fill=\"none\" stroke=\"black\" cx=\"1915.09\" cy=\"-105\" rx=\"139.18\" ry=\"18\"/>\n<text text-anchor=\"middle\" x=\"1915.09\" y=\"-101.3\" font-family=\"Times,serif\" font-size=\"14.00\">car_0_minMPG, value&gt;28.5</text>\n</g>\n<!-- 18&#45;&gt;37 -->\n<g id=\"edge37\" class=\"edge\">\n<title>18&#45;&gt;37</title>\n<path fill=\"none\" stroke=\"black\" d=\"M1915.09,-173.8C1915.09,-162.16 1915.09,-146.55 1915.09,-133.24\"/>\n<polygon fill=\"black\" stroke=\"black\" points=\"1918.59,-133.18 1915.09,-123.18 1911.59,-133.18 1918.59,-133.18\"/>\n<text text-anchor=\"middle\" x=\"1925.59\" y=\"-144.8\" font-family=\"Times,serif\" font-size=\"14.00\">No</text>\n</g>\n<!-- 38 -->\n<g id=\"node39\" class=\"node\">\n<title>38</title>\n<ellipse fill=\"none\" stroke=\"black\" cx=\"2211.09\" cy=\"-105\" rx=\"139.18\" ry=\"18\"/>\n<text text-anchor=\"middle\" x=\"2211.09\" y=\"-101.3\" font-family=\"Times,serif\" font-size=\"14.00\">car_0_minMPG, value&gt;28.5</text>\n</g>\n<!-- 18&#45;&gt;38 -->\n<g id=\"edge38\" class=\"edge\">\n<title>18&#45;&gt;38</title>\n<path fill=\"none\" stroke=\"black\" d=\"M1967.67,-175.9C2017.79,-161.51 2093.37,-139.8 2147,-124.4\"/>\n<polygon fill=\"black\" stroke=\"black\" points=\"2148.1,-127.73 2156.75,-121.6 2146.17,-121 2148.1,-127.73\"/>\n<text text-anchor=\"middle\" x=\"2093.59\" y=\"-144.8\" font-family=\"Times,serif\" font-size=\"14.00\">Yes</text>\n</g>\n<!-- 39 -->\n<g id=\"node40\" class=\"node\">\n<title>39</title>\n<ellipse fill=\"none\" stroke=\"black\" cx=\"2507.09\" cy=\"-105\" rx=\"139.18\" ry=\"18\"/>\n<text text-anchor=\"middle\" x=\"2507.09\" y=\"-101.3\" font-family=\"Times,serif\" font-size=\"14.00\">car_0_minMPG, value&gt;28.5</text>\n</g>\n<!-- 19&#45;&gt;39 -->\n<g id=\"edge39\" class=\"edge\">\n<title>19&#45;&gt;39</title>\n<path fill=\"none\" stroke=\"black\" d=\"M2750.51,-175.9C2700.38,-161.51 2624.8,-139.8 2571.18,-124.4\"/>\n<polygon fill=\"black\" stroke=\"black\" points=\"2572.01,-121 2561.43,-121.6 2570.07,-127.73 2572.01,-121\"/>\n<text text-anchor=\"middle\" x=\"2683.59\" y=\"-144.8\" font-family=\"Times,serif\" font-size=\"14.00\">No</text>\n</g>\n<!-- 40 -->\n<g id=\"node41\" class=\"node\">\n<title>40</title>\n<ellipse fill=\"none\" stroke=\"black\" cx=\"2803.09\" cy=\"-105\" rx=\"139.18\" ry=\"18\"/>\n<text text-anchor=\"middle\" x=\"2803.09\" y=\"-101.3\" font-family=\"Times,serif\" font-size=\"14.00\">car_0_minMPG, value&gt;28.5</text>\n</g>\n<!-- 19&#45;&gt;40 -->\n<g id=\"edge40\" class=\"edge\">\n<title>19&#45;&gt;40</title>\n<path fill=\"none\" stroke=\"black\" d=\"M2803.09,-173.8C2803.09,-162.16 2803.09,-146.55 2803.09,-133.24\"/>\n<polygon fill=\"black\" stroke=\"black\" points=\"2806.59,-133.18 2803.09,-123.18 2799.59,-133.18 2806.59,-133.18\"/>\n<text text-anchor=\"middle\" x=\"2815.59\" y=\"-144.8\" font-family=\"Times,serif\" font-size=\"14.00\">Yes</text>\n</g>\n<!-- 41 -->\n<g id=\"node42\" class=\"node\">\n<title>41</title>\n<ellipse fill=\"none\" stroke=\"black\" cx=\"3099.09\" cy=\"-105\" rx=\"139.18\" ry=\"18\"/>\n<text text-anchor=\"middle\" x=\"3099.09\" y=\"-101.3\" font-family=\"Times,serif\" font-size=\"14.00\">car_0_minMPG, value&gt;28.5</text>\n</g>\n<!-- 20&#45;&gt;41 -->\n<g id=\"edge41\" class=\"edge\">\n<title>20&#45;&gt;41</title>\n<path fill=\"none\" stroke=\"black\" d=\"M3149.34,-173.8C3140.29,-161.59 3127.99,-144.99 3117.82,-131.28\"/>\n<polygon fill=\"black\" stroke=\"black\" points=\"3120.58,-129.13 3111.82,-123.18 3114.96,-133.29 3120.58,-129.13\"/>\n<text text-anchor=\"middle\" x=\"3145.59\" y=\"-144.8\" font-family=\"Times,serif\" font-size=\"14.00\">No</text>\n</g>\n<!-- 42 -->\n<g id=\"node43\" class=\"node\">\n<title>42</title>\n<ellipse fill=\"none\" stroke=\"black\" cx=\"3395.09\" cy=\"-105\" rx=\"139.18\" ry=\"18\"/>\n<text text-anchor=\"middle\" x=\"3395.09\" y=\"-101.3\" font-family=\"Times,serif\" font-size=\"14.00\">car_0_minMPG, value&gt;28.5</text>\n</g>\n<!-- 20&#45;&gt;42 -->\n<g id=\"edge42\" class=\"edge\">\n<title>20&#45;&gt;42</title>\n<path fill=\"none\" stroke=\"black\" d=\"M3205.37,-175.21C3243.75,-161.21 3299.95,-140.71 3341.23,-125.65\"/>\n<polygon fill=\"black\" stroke=\"black\" points=\"3342.66,-128.85 3350.85,-122.14 3340.26,-122.28 3342.66,-128.85\"/>\n<text text-anchor=\"middle\" x=\"3305.59\" y=\"-144.8\" font-family=\"Times,serif\" font-size=\"14.00\">Yes</text>\n</g>\n<!-- 43 -->\n<g id=\"node44\" class=\"node\">\n<title>43</title>\n<ellipse fill=\"none\" stroke=\"black\" cx=\"3691.09\" cy=\"-105\" rx=\"139.18\" ry=\"18\"/>\n<text text-anchor=\"middle\" x=\"3691.09\" y=\"-101.3\" font-family=\"Times,serif\" font-size=\"14.00\">car_0_minMPG, value&gt;28.5</text>\n</g>\n<!-- 21&#45;&gt;43 -->\n<g id=\"edge43\" class=\"edge\">\n<title>21&#45;&gt;43</title>\n<path fill=\"none\" stroke=\"black\" d=\"M3811.01,-174.41C3787.7,-161.11 3754.8,-142.35 3729.36,-127.83\"/>\n<polygon fill=\"black\" stroke=\"black\" points=\"3730.77,-124.61 3720.35,-122.69 3727.3,-130.69 3730.77,-124.61\"/>\n<text text-anchor=\"middle\" x=\"3785.59\" y=\"-144.8\" font-family=\"Times,serif\" font-size=\"14.00\">No</text>\n</g>\n<!-- 44 -->\n<g id=\"node45\" class=\"node\">\n<title>44</title>\n<ellipse fill=\"none\" stroke=\"black\" cx=\"3987.09\" cy=\"-105\" rx=\"139.18\" ry=\"18\"/>\n<text text-anchor=\"middle\" x=\"3987.09\" y=\"-101.3\" font-family=\"Times,serif\" font-size=\"14.00\">car_0_minMPG, value&gt;28.5</text>\n</g>\n<!-- 21&#45;&gt;44 -->\n<g id=\"edge44\" class=\"edge\">\n<title>21&#45;&gt;44</title>\n<path fill=\"none\" stroke=\"black\" d=\"M3868.78,-174.41C3891.77,-161.11 3924.23,-142.35 3949.33,-127.83\"/>\n<polygon fill=\"black\" stroke=\"black\" points=\"3951.31,-130.73 3958.22,-122.69 3947.81,-124.67 3951.31,-130.73\"/>\n<text text-anchor=\"middle\" x=\"3935.59\" y=\"-144.8\" font-family=\"Times,serif\" font-size=\"14.00\">Yes</text>\n</g>\n<!-- 45 -->\n<g id=\"node46\" class=\"node\">\n<title>45</title>\n<ellipse fill=\"none\" stroke=\"black\" cx=\"4283.09\" cy=\"-105\" rx=\"139.18\" ry=\"18\"/>\n<text text-anchor=\"middle\" x=\"4283.09\" y=\"-101.3\" font-family=\"Times,serif\" font-size=\"14.00\">car_0_minMPG, value&gt;28.5</text>\n</g>\n<!-- 22&#45;&gt;45 -->\n<g id=\"edge45\" class=\"edge\">\n<title>22&#45;&gt;45</title>\n<path fill=\"none\" stroke=\"black\" d=\"M4283.09,-173.8C4283.09,-162.16 4283.09,-146.55 4283.09,-133.24\"/>\n<polygon fill=\"black\" stroke=\"black\" points=\"4286.59,-133.18 4283.09,-123.18 4279.59,-133.18 4286.59,-133.18\"/>\n<text text-anchor=\"middle\" x=\"4293.59\" y=\"-144.8\" font-family=\"Times,serif\" font-size=\"14.00\">No</text>\n</g>\n<!-- 46 -->\n<g id=\"node47\" class=\"node\">\n<title>46</title>\n<ellipse fill=\"none\" stroke=\"black\" cx=\"4579.09\" cy=\"-105\" rx=\"139.18\" ry=\"18\"/>\n<text text-anchor=\"middle\" x=\"4579.09\" y=\"-101.3\" font-family=\"Times,serif\" font-size=\"14.00\">car_0_minMPG, value&gt;28.5</text>\n</g>\n<!-- 22&#45;&gt;46 -->\n<g id=\"edge46\" class=\"edge\">\n<title>22&#45;&gt;46</title>\n<path fill=\"none\" stroke=\"black\" d=\"M4335.67,-175.9C4385.79,-161.51 4461.37,-139.8 4515,-124.4\"/>\n<polygon fill=\"black\" stroke=\"black\" points=\"4516.1,-127.73 4524.75,-121.6 4514.17,-121 4516.1,-127.73\"/>\n<text text-anchor=\"middle\" x=\"4461.59\" y=\"-144.8\" font-family=\"Times,serif\" font-size=\"14.00\">Yes</text>\n</g>\n<!-- 47 -->\n<g id=\"node48\" class=\"node\">\n<title>47</title>\n<ellipse fill=\"none\" stroke=\"black\" cx=\"4875.09\" cy=\"-105\" rx=\"139.18\" ry=\"18\"/>\n<text text-anchor=\"middle\" x=\"4875.09\" y=\"-101.3\" font-family=\"Times,serif\" font-size=\"14.00\">car_0_minMPG, value&gt;28.5</text>\n</g>\n<!-- 23&#45;&gt;47 -->\n<g id=\"edge47\" class=\"edge\">\n<title>23&#45;&gt;47</title>\n<path fill=\"none\" stroke=\"black\" d=\"M5118.51,-175.9C5068.38,-161.51 4992.8,-139.8 4939.18,-124.4\"/>\n<polygon fill=\"black\" stroke=\"black\" points=\"4940.01,-121 4929.43,-121.6 4938.07,-127.73 4940.01,-121\"/>\n<text text-anchor=\"middle\" x=\"5051.59\" y=\"-144.8\" font-family=\"Times,serif\" font-size=\"14.00\">No</text>\n</g>\n<!-- 48 -->\n<g id=\"node49\" class=\"node\">\n<title>48</title>\n<ellipse fill=\"none\" stroke=\"black\" cx=\"5171.09\" cy=\"-105\" rx=\"139.18\" ry=\"18\"/>\n<text text-anchor=\"middle\" x=\"5171.09\" y=\"-101.3\" font-family=\"Times,serif\" font-size=\"14.00\">car_0_minMPG, value&gt;28.5</text>\n</g>\n<!-- 23&#45;&gt;48 -->\n<g id=\"edge48\" class=\"edge\">\n<title>23&#45;&gt;48</title>\n<path fill=\"none\" stroke=\"black\" d=\"M5171.09,-173.8C5171.09,-162.16 5171.09,-146.55 5171.09,-133.24\"/>\n<polygon fill=\"black\" stroke=\"black\" points=\"5174.59,-133.18 5171.09,-123.18 5167.59,-133.18 5174.59,-133.18\"/>\n<text text-anchor=\"middle\" x=\"5183.59\" y=\"-144.8\" font-family=\"Times,serif\" font-size=\"14.00\">Yes</text>\n</g>\n<!-- 49 -->\n<g id=\"node50\" class=\"node\">\n<title>49</title>\n<ellipse fill=\"none\" stroke=\"black\" cx=\"5467.09\" cy=\"-105\" rx=\"139.18\" ry=\"18\"/>\n<text text-anchor=\"middle\" x=\"5467.09\" y=\"-101.3\" font-family=\"Times,serif\" font-size=\"14.00\">car_0_minMPG, value&gt;28.5</text>\n</g>\n<!-- 24&#45;&gt;49 -->\n<g id=\"edge49\" class=\"edge\">\n<title>24&#45;&gt;49</title>\n<path fill=\"none\" stroke=\"black\" d=\"M5586.2,-174.41C5563.05,-161.11 5530.37,-142.35 5505.1,-127.83\"/>\n<polygon fill=\"black\" stroke=\"black\" points=\"5506.57,-124.64 5496.15,-122.69 5503.08,-130.71 5506.57,-124.64\"/>\n<text text-anchor=\"middle\" x=\"5560.59\" y=\"-144.8\" font-family=\"Times,serif\" font-size=\"14.00\">No</text>\n</g>\n<!-- 50 -->\n<g id=\"node51\" class=\"node\">\n<title>50</title>\n<ellipse fill=\"none\" stroke=\"black\" cx=\"5763.09\" cy=\"-105\" rx=\"139.18\" ry=\"18\"/>\n<text text-anchor=\"middle\" x=\"5763.09\" y=\"-101.3\" font-family=\"Times,serif\" font-size=\"14.00\">car_0_minMPG, value&gt;28.5</text>\n</g>\n<!-- 24&#45;&gt;50 -->\n<g id=\"edge50\" class=\"edge\">\n<title>24&#45;&gt;50</title>\n<path fill=\"none\" stroke=\"black\" d=\"M5643.97,-174.41C5667.13,-161.11 5699.8,-142.35 5725.08,-127.83\"/>\n<polygon fill=\"black\" stroke=\"black\" points=\"5727.09,-130.71 5734.02,-122.69 5723.61,-124.64 5727.09,-130.71\"/>\n<text text-anchor=\"middle\" x=\"5710.59\" y=\"-144.8\" font-family=\"Times,serif\" font-size=\"14.00\">Yes</text>\n</g>\n<!-- 51 -->\n<g id=\"node52\" class=\"node\">\n<title>51</title>\n<ellipse fill=\"none\" stroke=\"black\" cx=\"6059.09\" cy=\"-105\" rx=\"139.18\" ry=\"18\"/>\n<text text-anchor=\"middle\" x=\"6059.09\" y=\"-101.3\" font-family=\"Times,serif\" font-size=\"14.00\">car_0_minMPG, value&gt;28.5</text>\n</g>\n<!-- 25&#45;&gt;51 -->\n<g id=\"edge51\" class=\"edge\">\n<title>25&#45;&gt;51</title>\n<path fill=\"none\" stroke=\"black\" d=\"M6216.14,-174.81C6184.79,-161.08 6139.64,-141.29 6105.78,-126.46\"/>\n<polygon fill=\"black\" stroke=\"black\" points=\"6107.12,-123.22 6096.56,-122.42 6104.31,-129.64 6107.12,-123.22\"/>\n<text text-anchor=\"middle\" x=\"6178.59\" y=\"-144.8\" font-family=\"Times,serif\" font-size=\"14.00\">No</text>\n</g>\n<!-- 52 -->\n<g id=\"node53\" class=\"node\">\n<title>52</title>\n<ellipse fill=\"none\" stroke=\"black\" cx=\"6355.09\" cy=\"-105\" rx=\"139.18\" ry=\"18\"/>\n<text text-anchor=\"middle\" x=\"6355.09\" y=\"-101.3\" font-family=\"Times,serif\" font-size=\"14.00\">car_0_minMPG, value&gt;28.5</text>\n</g>\n<!-- 25&#45;&gt;52 -->\n<g id=\"edge52\" class=\"edge\">\n<title>25&#45;&gt;52</title>\n<path fill=\"none\" stroke=\"black\" d=\"M6273.24,-174.21C6288.51,-161.48 6309.68,-143.84 6326.67,-129.68\"/>\n<polygon fill=\"black\" stroke=\"black\" points=\"6329.19,-132.14 6334.63,-123.05 6324.71,-126.76 6329.19,-132.14\"/>\n<text text-anchor=\"middle\" x=\"6323.59\" y=\"-144.8\" font-family=\"Times,serif\" font-size=\"14.00\">Yes</text>\n</g>\n<!-- 53 -->\n<g id=\"node54\" class=\"node\">\n<title>53</title>\n<ellipse fill=\"none\" stroke=\"black\" cx=\"6651.09\" cy=\"-105\" rx=\"139.18\" ry=\"18\"/>\n<text text-anchor=\"middle\" x=\"6651.09\" y=\"-101.3\" font-family=\"Times,serif\" font-size=\"14.00\">car_0_minMPG, value&gt;28.5</text>\n</g>\n<!-- 26&#45;&gt;53 -->\n<g id=\"edge53\" class=\"edge\">\n<title>26&#45;&gt;53</title>\n<path fill=\"none\" stroke=\"black\" d=\"M6651.09,-173.8C6651.09,-162.16 6651.09,-146.55 6651.09,-133.24\"/>\n<polygon fill=\"black\" stroke=\"black\" points=\"6654.59,-133.18 6651.09,-123.18 6647.59,-133.18 6654.59,-133.18\"/>\n<text text-anchor=\"middle\" x=\"6661.59\" y=\"-144.8\" font-family=\"Times,serif\" font-size=\"14.00\">No</text>\n</g>\n<!-- 54 -->\n<g id=\"node55\" class=\"node\">\n<title>54</title>\n<ellipse fill=\"none\" stroke=\"black\" cx=\"6947.09\" cy=\"-105\" rx=\"139.18\" ry=\"18\"/>\n<text text-anchor=\"middle\" x=\"6947.09\" y=\"-101.3\" font-family=\"Times,serif\" font-size=\"14.00\">car_0_minMPG, value&gt;28.5</text>\n</g>\n<!-- 26&#45;&gt;54 -->\n<g id=\"edge54\" class=\"edge\">\n<title>26&#45;&gt;54</title>\n<path fill=\"none\" stroke=\"black\" d=\"M6703.67,-175.9C6753.79,-161.51 6829.37,-139.8 6883,-124.4\"/>\n<polygon fill=\"black\" stroke=\"black\" points=\"6884.1,-127.73 6892.75,-121.6 6882.17,-121 6884.1,-127.73\"/>\n<text text-anchor=\"middle\" x=\"6829.59\" y=\"-144.8\" font-family=\"Times,serif\" font-size=\"14.00\">Yes</text>\n</g>\n<!-- 55 -->\n<g id=\"node56\" class=\"node\">\n<title>55</title>\n<ellipse fill=\"none\" stroke=\"black\" cx=\"7243.09\" cy=\"-105\" rx=\"139.18\" ry=\"18\"/>\n<text text-anchor=\"middle\" x=\"7243.09\" y=\"-101.3\" font-family=\"Times,serif\" font-size=\"14.00\">car_0_minMPG, value&gt;28.5</text>\n</g>\n<!-- 27&#45;&gt;55 -->\n<g id=\"edge55\" class=\"edge\">\n<title>27&#45;&gt;55</title>\n<path fill=\"none\" stroke=\"black\" d=\"M7486.51,-175.9C7436.38,-161.51 7360.8,-139.8 7307.18,-124.4\"/>\n<polygon fill=\"black\" stroke=\"black\" points=\"7308.01,-121 7297.43,-121.6 7306.07,-127.73 7308.01,-121\"/>\n<text text-anchor=\"middle\" x=\"7419.59\" y=\"-144.8\" font-family=\"Times,serif\" font-size=\"14.00\">No</text>\n</g>\n<!-- 56 -->\n<g id=\"node57\" class=\"node\">\n<title>56</title>\n<ellipse fill=\"none\" stroke=\"black\" cx=\"7539.09\" cy=\"-105\" rx=\"139.18\" ry=\"18\"/>\n<text text-anchor=\"middle\" x=\"7539.09\" y=\"-101.3\" font-family=\"Times,serif\" font-size=\"14.00\">car_0_minMPG, value&gt;28.5</text>\n</g>\n<!-- 27&#45;&gt;56 -->\n<g id=\"edge56\" class=\"edge\">\n<title>27&#45;&gt;56</title>\n<path fill=\"none\" stroke=\"black\" d=\"M7539.09,-173.8C7539.09,-162.16 7539.09,-146.55 7539.09,-133.24\"/>\n<polygon fill=\"black\" stroke=\"black\" points=\"7542.59,-133.18 7539.09,-123.18 7535.59,-133.18 7542.59,-133.18\"/>\n<text text-anchor=\"middle\" x=\"7551.59\" y=\"-144.8\" font-family=\"Times,serif\" font-size=\"14.00\">Yes</text>\n</g>\n<!-- 57 -->\n<g id=\"node58\" class=\"node\">\n<title>57</title>\n<ellipse fill=\"none\" stroke=\"black\" cx=\"7835.09\" cy=\"-105\" rx=\"139.18\" ry=\"18\"/>\n<text text-anchor=\"middle\" x=\"7835.09\" y=\"-101.3\" font-family=\"Times,serif\" font-size=\"14.00\">car_0_minMPG, value&gt;28.5</text>\n</g>\n<!-- 28&#45;&gt;57 -->\n<g id=\"edge57\" class=\"edge\">\n<title>28&#45;&gt;57</title>\n<path fill=\"none\" stroke=\"black\" d=\"M7835.09,-173.8C7835.09,-162.16 7835.09,-146.55 7835.09,-133.24\"/>\n<polygon fill=\"black\" stroke=\"black\" points=\"7838.59,-133.18 7835.09,-123.18 7831.59,-133.18 7838.59,-133.18\"/>\n<text text-anchor=\"middle\" x=\"7845.59\" y=\"-144.8\" font-family=\"Times,serif\" font-size=\"14.00\">No</text>\n</g>\n<!-- 58 -->\n<g id=\"node59\" class=\"node\">\n<title>58</title>\n<ellipse fill=\"none\" stroke=\"black\" cx=\"8131.09\" cy=\"-105\" rx=\"139.18\" ry=\"18\"/>\n<text text-anchor=\"middle\" x=\"8131.09\" y=\"-101.3\" font-family=\"Times,serif\" font-size=\"14.00\">car_0_minMPG, value&gt;28.5</text>\n</g>\n<!-- 28&#45;&gt;58 -->\n<g id=\"edge58\" class=\"edge\">\n<title>28&#45;&gt;58</title>\n<path fill=\"none\" stroke=\"black\" d=\"M7887.67,-175.9C7937.79,-161.51 8013.37,-139.8 8067,-124.4\"/>\n<polygon fill=\"black\" stroke=\"black\" points=\"8068.1,-127.73 8076.75,-121.6 8066.17,-121 8068.1,-127.73\"/>\n<text text-anchor=\"middle\" x=\"8013.59\" y=\"-144.8\" font-family=\"Times,serif\" font-size=\"14.00\">Yes</text>\n</g>\n<!-- 59 -->\n<g id=\"node60\" class=\"node\">\n<title>59</title>\n<ellipse fill=\"none\" stroke=\"black\" cx=\"8427.09\" cy=\"-105\" rx=\"139.18\" ry=\"18\"/>\n<text text-anchor=\"middle\" x=\"8427.09\" y=\"-101.3\" font-family=\"Times,serif\" font-size=\"14.00\">car_0_minMPG, value&gt;28.5</text>\n</g>\n<!-- 29&#45;&gt;59 -->\n<g id=\"edge59\" class=\"edge\">\n<title>29&#45;&gt;59</title>\n<path fill=\"none\" stroke=\"black\" d=\"M8486.11,-173.8C8475.38,-161.47 8460.76,-144.68 8448.76,-130.89\"/>\n<polygon fill=\"black\" stroke=\"black\" points=\"8451.25,-128.42 8442.04,-123.18 8445.97,-133.02 8451.25,-128.42\"/>\n<text text-anchor=\"middle\" x=\"8479.59\" y=\"-144.8\" font-family=\"Times,serif\" font-size=\"14.00\">No</text>\n</g>\n<!-- 60 -->\n<g id=\"node61\" class=\"node\">\n<title>60</title>\n<ellipse fill=\"none\" stroke=\"black\" cx=\"8723.09\" cy=\"-105\" rx=\"139.18\" ry=\"18\"/>\n<text text-anchor=\"middle\" x=\"8723.09\" y=\"-101.3\" font-family=\"Times,serif\" font-size=\"14.00\">car_0_minMPG, value&gt;28.5</text>\n</g>\n<!-- 29&#45;&gt;60 -->\n<g id=\"edge60\" class=\"edge\">\n<title>29&#45;&gt;60</title>\n<path fill=\"none\" stroke=\"black\" d=\"M8542.58,-175.11C8578.91,-161.2 8631.86,-140.93 8671.02,-125.94\"/>\n<polygon fill=\"black\" stroke=\"black\" points=\"8672.57,-129.09 8680.66,-122.24 8670.07,-122.55 8672.57,-129.09\"/>\n<text text-anchor=\"middle\" x=\"8638.59\" y=\"-144.8\" font-family=\"Times,serif\" font-size=\"14.00\">Yes</text>\n</g>\n<!-- 61 -->\n<g id=\"node62\" class=\"node\">\n<title>61</title>\n<ellipse fill=\"none\" stroke=\"black\" cx=\"9019.09\" cy=\"-105\" rx=\"139.18\" ry=\"18\"/>\n<text text-anchor=\"middle\" x=\"9019.09\" y=\"-101.3\" font-family=\"Times,serif\" font-size=\"14.00\">car_0_minMPG, value&gt;28.5</text>\n</g>\n<!-- 30&#45;&gt;61 -->\n<g id=\"edge61\" class=\"edge\">\n<title>30&#45;&gt;61</title>\n<path fill=\"none\" stroke=\"black\" d=\"M9019.09,-173.8C9019.09,-162.16 9019.09,-146.55 9019.09,-133.24\"/>\n<polygon fill=\"black\" stroke=\"black\" points=\"9022.59,-133.18 9019.09,-123.18 9015.59,-133.18 9022.59,-133.18\"/>\n<text text-anchor=\"middle\" x=\"9029.59\" y=\"-144.8\" font-family=\"Times,serif\" font-size=\"14.00\">No</text>\n</g>\n<!-- 62 -->\n<g id=\"node63\" class=\"node\">\n<title>62</title>\n<ellipse fill=\"none\" stroke=\"black\" cx=\"9315.09\" cy=\"-105\" rx=\"139.18\" ry=\"18\"/>\n<text text-anchor=\"middle\" x=\"9315.09\" y=\"-101.3\" font-family=\"Times,serif\" font-size=\"14.00\">car_0_minMPG, value&gt;28.5</text>\n</g>\n<!-- 30&#45;&gt;62 -->\n<g id=\"edge62\" class=\"edge\">\n<title>30&#45;&gt;62</title>\n<path fill=\"none\" stroke=\"black\" d=\"M9071.67,-175.9C9121.79,-161.51 9197.37,-139.8 9251,-124.4\"/>\n<polygon fill=\"black\" stroke=\"black\" points=\"9252.1,-127.73 9260.75,-121.6 9250.17,-121 9252.1,-127.73\"/>\n<text text-anchor=\"middle\" x=\"9197.59\" y=\"-144.8\" font-family=\"Times,serif\" font-size=\"14.00\">Yes</text>\n</g>\n<!-- 63 -->\n<g id=\"node64\" class=\"node\">\n<title>63</title>\n<polygon fill=\"none\" stroke=\"red\" points=\"188.09,-36 84.09,-36 84.09,0 188.09,0 188.09,-36\"/>\n<text text-anchor=\"middle\" x=\"136.09\" y=\"-14.3\" font-family=\"Times,serif\" font-size=\"14.00\">val = &#45;0.086</text>\n</g>\n<!-- 31&#45;&gt;63 -->\n<g id=\"edge63\" class=\"edge\">\n<title>31&#45;&gt;63</title>\n<path fill=\"none\" stroke=\"black\" d=\"M138.48,-86.8C138.07,-75.16 137.52,-59.55 137.05,-46.24\"/>\n<polygon fill=\"black\" stroke=\"black\" points=\"140.54,-46.05 136.69,-36.18 133.55,-46.29 140.54,-46.05\"/>\n<text text-anchor=\"middle\" x=\"148.59\" y=\"-57.8\" font-family=\"Times,serif\" font-size=\"14.00\">No</text>\n</g>\n<!-- 64 -->\n<g id=\"node65\" class=\"node\">\n<title>64</title>\n<polygon fill=\"none\" stroke=\"red\" points=\"305.59,-36 206.59,-36 206.59,0 305.59,0 305.59,-36\"/>\n<text text-anchor=\"middle\" x=\"256.09\" y=\"-14.3\" font-family=\"Times,serif\" font-size=\"14.00\">val = 0.000</text>\n</g>\n<!-- 31&#45;&gt;64 -->\n<g id=\"edge64\" class=\"edge\">\n<title>31&#45;&gt;64</title>\n<path fill=\"none\" stroke=\"black\" d=\"M162.2,-87.21C179.95,-74.31 204.67,-56.36 224.29,-42.1\"/>\n<polygon fill=\"black\" stroke=\"black\" points=\"226.59,-44.76 232.62,-36.05 222.47,-39.1 226.59,-44.76\"/>\n<text text-anchor=\"middle\" x=\"217.59\" y=\"-57.8\" font-family=\"Times,serif\" font-size=\"14.00\">Yes</text>\n</g>\n<!-- 65 -->\n<g id=\"node66\" class=\"node\">\n<title>65</title>\n<polygon fill=\"none\" stroke=\"red\" points=\"457.09,-36 353.09,-36 353.09,0 457.09,0 457.09,-36\"/>\n<text text-anchor=\"middle\" x=\"405.09\" y=\"-14.3\" font-family=\"Times,serif\" font-size=\"14.00\">val = &#45;0.037</text>\n</g>\n<!-- 32&#45;&gt;65 -->\n<g id=\"edge65\" class=\"edge\">\n<title>32&#45;&gt;65</title>\n<path fill=\"none\" stroke=\"black\" d=\"M429.02,-86.8C424.87,-75.05 419.29,-59.24 414.56,-45.84\"/>\n<polygon fill=\"black\" stroke=\"black\" points=\"417.78,-44.44 411.15,-36.18 411.18,-46.77 417.78,-44.44\"/>\n<text text-anchor=\"middle\" x=\"432.59\" y=\"-57.8\" font-family=\"Times,serif\" font-size=\"14.00\">No</text>\n</g>\n<!-- 66 -->\n<g id=\"node67\" class=\"node\">\n<title>66</title>\n<polygon fill=\"none\" stroke=\"red\" points=\"579.09,-36 475.09,-36 475.09,0 579.09,0 579.09,-36\"/>\n<text text-anchor=\"middle\" x=\"527.09\" y=\"-14.3\" font-family=\"Times,serif\" font-size=\"14.00\">val = &#45;0.105</text>\n</g>\n<!-- 32&#45;&gt;66 -->\n<g id=\"edge66\" class=\"edge\">\n<title>32&#45;&gt;66</title>\n<path fill=\"none\" stroke=\"black\" d=\"M453.71,-86.8C467.3,-74.24 485.9,-57.05 500.98,-43.12\"/>\n<polygon fill=\"black\" stroke=\"black\" points=\"503.53,-45.53 508.5,-36.18 498.78,-40.39 503.53,-45.53\"/>\n<text text-anchor=\"middle\" x=\"499.59\" y=\"-57.8\" font-family=\"Times,serif\" font-size=\"14.00\">Yes</text>\n</g>\n<!-- 67 -->\n<g id=\"node68\" class=\"node\">\n<title>67</title>\n<polygon fill=\"none\" stroke=\"red\" points=\"710.59,-36 611.59,-36 611.59,0 710.59,0 710.59,-36\"/>\n<text text-anchor=\"middle\" x=\"661.09\" y=\"-14.3\" font-family=\"Times,serif\" font-size=\"14.00\">val = 0.000</text>\n</g>\n<!-- 33&#45;&gt;67 -->\n<g id=\"edge67\" class=\"edge\">\n<title>33&#45;&gt;67</title>\n<path fill=\"none\" stroke=\"black\" d=\"M716.92,-86.8C706.86,-74.59 693.2,-57.99 681.9,-44.28\"/>\n<polygon fill=\"black\" stroke=\"black\" points=\"684.29,-41.67 675.23,-36.18 678.89,-46.12 684.29,-41.67\"/>\n<text text-anchor=\"middle\" x=\"711.59\" y=\"-57.8\" font-family=\"Times,serif\" font-size=\"14.00\">No</text>\n</g>\n<!-- 68 -->\n<g id=\"node69\" class=\"node\">\n<title>68</title>\n<polygon fill=\"none\" stroke=\"red\" points=\"827.59,-36 728.59,-36 728.59,0 827.59,0 827.59,-36\"/>\n<text text-anchor=\"middle\" x=\"778.09\" y=\"-14.3\" font-family=\"Times,serif\" font-size=\"14.00\">val = 0.000</text>\n</g>\n<!-- 33&#45;&gt;68 -->\n<g id=\"edge68\" class=\"edge\">\n<title>33&#45;&gt;68</title>\n<path fill=\"none\" stroke=\"black\" d=\"M740.6,-86.8C747.22,-74.82 756.18,-58.62 763.68,-45.06\"/>\n<polygon fill=\"black\" stroke=\"black\" points=\"766.81,-46.62 768.59,-36.18 760.69,-43.23 766.81,-46.62\"/>\n<text text-anchor=\"middle\" x=\"770.59\" y=\"-57.8\" font-family=\"Times,serif\" font-size=\"14.00\">Yes</text>\n</g>\n<!-- 69 -->\n<g id=\"node70\" class=\"node\">\n<title>69</title>\n<polygon fill=\"none\" stroke=\"red\" points=\"987.59,-36 888.59,-36 888.59,0 987.59,0 987.59,-36\"/>\n<text text-anchor=\"middle\" x=\"938.09\" y=\"-14.3\" font-family=\"Times,serif\" font-size=\"14.00\">val = 0.129</text>\n</g>\n<!-- 34&#45;&gt;69 -->\n<g id=\"edge69\" class=\"edge\">\n<title>34&#45;&gt;69</title>\n<path fill=\"none\" stroke=\"black\" d=\"M1009.08,-86.8C995.93,-74.24 977.93,-57.05 963.34,-43.12\"/>\n<polygon fill=\"black\" stroke=\"black\" points=\"965.72,-40.55 956.07,-36.18 960.89,-45.61 965.72,-40.55\"/>\n<text text-anchor=\"middle\" x=\"998.59\" y=\"-57.8\" font-family=\"Times,serif\" font-size=\"14.00\">No</text>\n</g>\n<!-- 70 -->\n<g id=\"node71\" class=\"node\">\n<title>70</title>\n<polygon fill=\"none\" stroke=\"red\" points=\"1104.59,-36 1005.59,-36 1005.59,0 1104.59,0 1104.59,-36\"/>\n<text text-anchor=\"middle\" x=\"1055.09\" y=\"-14.3\" font-family=\"Times,serif\" font-size=\"14.00\">val = 0.056</text>\n</g>\n<!-- 34&#45;&gt;70 -->\n<g id=\"edge70\" class=\"edge\">\n<title>34&#45;&gt;70</title>\n<path fill=\"none\" stroke=\"black\" d=\"M1032.75,-86.8C1036.62,-75.05 1041.83,-59.24 1046.25,-45.84\"/>\n<polygon fill=\"black\" stroke=\"black\" points=\"1049.63,-46.77 1049.43,-36.18 1042.98,-44.58 1049.63,-46.77\"/>\n<text text-anchor=\"middle\" x=\"1055.59\" y=\"-57.8\" font-family=\"Times,serif\" font-size=\"14.00\">Yes</text>\n</g>\n<!-- 71 -->\n<g id=\"node72\" class=\"node\">\n<title>71</title>\n<polygon fill=\"none\" stroke=\"red\" points=\"1283.09,-36 1179.09,-36 1179.09,0 1283.09,0 1283.09,-36\"/>\n<text text-anchor=\"middle\" x=\"1231.09\" y=\"-14.3\" font-family=\"Times,serif\" font-size=\"14.00\">val = &#45;0.129</text>\n</g>\n<!-- 35&#45;&gt;71 -->\n<g id=\"edge71\" class=\"edge\">\n<title>35&#45;&gt;71</title>\n<path fill=\"none\" stroke=\"black\" d=\"M1304.47,-86.8C1290.88,-74.24 1272.27,-57.05 1257.19,-43.12\"/>\n<polygon fill=\"black\" stroke=\"black\" points=\"1259.4,-40.39 1249.68,-36.18 1254.65,-45.53 1259.4,-40.39\"/>\n<text text-anchor=\"middle\" x=\"1293.59\" y=\"-57.8\" font-family=\"Times,serif\" font-size=\"14.00\">No</text>\n</g>\n<!-- 72 -->\n<g id=\"node73\" class=\"node\">\n<title>72</title>\n<polygon fill=\"none\" stroke=\"red\" points=\"1400.59,-36 1301.59,-36 1301.59,0 1400.59,0 1400.59,-36\"/>\n<text text-anchor=\"middle\" x=\"1351.09\" y=\"-14.3\" font-family=\"Times,serif\" font-size=\"14.00\">val = 0.000</text>\n</g>\n<!-- 35&#45;&gt;72 -->\n<g id=\"edge72\" class=\"edge\">\n<title>35&#45;&gt;72</title>\n<path fill=\"none\" stroke=\"black\" d=\"M1328.75,-86.8C1332.62,-75.05 1337.83,-59.24 1342.25,-45.84\"/>\n<polygon fill=\"black\" stroke=\"black\" points=\"1345.63,-46.77 1345.43,-36.18 1338.98,-44.58 1345.63,-46.77\"/>\n<text text-anchor=\"middle\" x=\"1351.59\" y=\"-57.8\" font-family=\"Times,serif\" font-size=\"14.00\">Yes</text>\n</g>\n<!-- 73 -->\n<g id=\"node74\" class=\"node\">\n<title>73</title>\n<polygon fill=\"none\" stroke=\"red\" points=\"1593.09,-36 1489.09,-36 1489.09,0 1593.09,0 1593.09,-36\"/>\n<text text-anchor=\"middle\" x=\"1541.09\" y=\"-14.3\" font-family=\"Times,serif\" font-size=\"14.00\">val = &#45;0.036</text>\n</g>\n<!-- 36&#45;&gt;73 -->\n<g id=\"edge73\" class=\"edge\">\n<title>36&#45;&gt;73</title>\n<path fill=\"none\" stroke=\"black\" d=\"M1603.3,-86.8C1591.99,-74.47 1576.58,-57.68 1563.93,-43.89\"/>\n<polygon fill=\"black\" stroke=\"black\" points=\"1566.19,-41.18 1556.85,-36.18 1561.03,-45.91 1566.19,-41.18\"/>\n<text text-anchor=\"middle\" x=\"1595.59\" y=\"-57.8\" font-family=\"Times,serif\" font-size=\"14.00\">No</text>\n</g>\n<!-- 74 -->\n<g id=\"node75\" class=\"node\">\n<title>74</title>\n<polygon fill=\"none\" stroke=\"red\" points=\"1710.59,-36 1611.59,-36 1611.59,0 1710.59,0 1710.59,-36\"/>\n<text text-anchor=\"middle\" x=\"1661.09\" y=\"-14.3\" font-family=\"Times,serif\" font-size=\"14.00\">val = 0.000</text>\n</g>\n<!-- 36&#45;&gt;74 -->\n<g id=\"edge74\" class=\"edge\">\n<title>36&#45;&gt;74</title>\n<path fill=\"none\" stroke=\"black\" d=\"M1627.59,-86.8C1633.45,-74.93 1641.36,-58.93 1648.02,-45.45\"/>\n<polygon fill=\"black\" stroke=\"black\" points=\"1651.31,-46.69 1652.6,-36.18 1645.03,-43.59 1651.31,-46.69\"/>\n<text text-anchor=\"middle\" x=\"1655.59\" y=\"-57.8\" font-family=\"Times,serif\" font-size=\"14.00\">Yes</text>\n</g>\n<!-- 75 -->\n<g id=\"node76\" class=\"node\">\n<title>75</title>\n<polygon fill=\"none\" stroke=\"red\" points=\"1919.09,-36 1815.09,-36 1815.09,0 1919.09,0 1919.09,-36\"/>\n<text text-anchor=\"middle\" x=\"1867.09\" y=\"-14.3\" font-family=\"Times,serif\" font-size=\"14.00\">val = &#45;0.056</text>\n</g>\n<!-- 37&#45;&gt;75 -->\n<g id=\"edge75\" class=\"edge\">\n<title>37&#45;&gt;75</title>\n<path fill=\"none\" stroke=\"black\" d=\"M1905.37,-86.8C1898.61,-74.82 1889.46,-58.62 1881.8,-45.06\"/>\n<polygon fill=\"black\" stroke=\"black\" points=\"1884.75,-43.16 1876.79,-36.18 1878.66,-46.6 1884.75,-43.16\"/>\n<text text-anchor=\"middle\" x=\"1904.59\" y=\"-57.8\" font-family=\"Times,serif\" font-size=\"14.00\">No</text>\n</g>\n<!-- 76 -->\n<g id=\"node77\" class=\"node\">\n<title>76</title>\n<polygon fill=\"none\" stroke=\"red\" points=\"2036.59,-36 1937.59,-36 1937.59,0 2036.59,0 2036.59,-36\"/>\n<text text-anchor=\"middle\" x=\"1987.09\" y=\"-14.3\" font-family=\"Times,serif\" font-size=\"14.00\">val = 0.000</text>\n</g>\n<!-- 37&#45;&gt;76 -->\n<g id=\"edge76\" class=\"edge\">\n<title>37&#45;&gt;76</title>\n<path fill=\"none\" stroke=\"black\" d=\"M1929.66,-86.8C1940.1,-74.47 1954.32,-57.68 1966,-43.89\"/>\n<polygon fill=\"black\" stroke=\"black\" points=\"1968.75,-46.07 1972.54,-36.18 1963.4,-41.54 1968.75,-46.07\"/>\n<text text-anchor=\"middle\" x=\"1968.59\" y=\"-57.8\" font-family=\"Times,serif\" font-size=\"14.00\">Yes</text>\n</g>\n<!-- 77 -->\n<g id=\"node78\" class=\"node\">\n<title>77</title>\n<polygon fill=\"none\" stroke=\"red\" points=\"2187.09,-36 2083.09,-36 2083.09,0 2187.09,0 2187.09,-36\"/>\n<text text-anchor=\"middle\" x=\"2135.09\" y=\"-14.3\" font-family=\"Times,serif\" font-size=\"14.00\">val = &#45;0.055</text>\n</g>\n<!-- 38&#45;&gt;77 -->\n<g id=\"edge77\" class=\"edge\">\n<title>38&#45;&gt;77</title>\n<path fill=\"none\" stroke=\"black\" d=\"M2195.71,-86.8C2184.69,-74.47 2169.67,-57.68 2157.34,-43.89\"/>\n<polygon fill=\"black\" stroke=\"black\" points=\"2159.72,-41.3 2150.44,-36.18 2154.5,-45.96 2159.72,-41.3\"/>\n<text text-anchor=\"middle\" x=\"2188.59\" y=\"-57.8\" font-family=\"Times,serif\" font-size=\"14.00\">No</text>\n</g>\n<!-- 78 -->\n<g id=\"node79\" class=\"node\">\n<title>78</title>\n<polygon fill=\"none\" stroke=\"red\" points=\"2304.59,-36 2205.59,-36 2205.59,0 2304.59,0 2304.59,-36\"/>\n<text text-anchor=\"middle\" x=\"2255.09\" y=\"-14.3\" font-family=\"Times,serif\" font-size=\"14.00\">val = 0.086</text>\n</g>\n<!-- 38&#45;&gt;78 -->\n<g id=\"edge78\" class=\"edge\">\n<title>38&#45;&gt;78</title>\n<path fill=\"none\" stroke=\"black\" d=\"M2219.99,-86.8C2226.19,-74.82 2234.58,-58.62 2241.6,-45.06\"/>\n<polygon fill=\"black\" stroke=\"black\" points=\"2244.71,-46.67 2246.2,-36.18 2238.49,-43.45 2244.71,-46.67\"/>\n<text text-anchor=\"middle\" x=\"2248.59\" y=\"-57.8\" font-family=\"Times,serif\" font-size=\"14.00\">Yes</text>\n</g>\n<!-- 79 -->\n<g id=\"node80\" class=\"node\">\n<title>79</title>\n<polygon fill=\"none\" stroke=\"red\" points=\"2511.59,-36 2412.59,-36 2412.59,0 2511.59,0 2511.59,-36\"/>\n<text text-anchor=\"middle\" x=\"2462.09\" y=\"-14.3\" font-family=\"Times,serif\" font-size=\"14.00\">val = 0.000</text>\n</g>\n<!-- 39&#45;&gt;79 -->\n<g id=\"edge79\" class=\"edge\">\n<title>39&#45;&gt;79</title>\n<path fill=\"none\" stroke=\"black\" d=\"M2497.98,-86.8C2491.64,-74.82 2483.06,-58.62 2475.88,-45.06\"/>\n<polygon fill=\"black\" stroke=\"black\" points=\"2478.95,-43.38 2471.18,-36.18 2472.77,-46.65 2478.95,-43.38\"/>\n<text text-anchor=\"middle\" x=\"2498.59\" y=\"-57.8\" font-family=\"Times,serif\" font-size=\"14.00\">No</text>\n</g>\n<!-- 80 -->\n<g id=\"node81\" class=\"node\">\n<title>80</title>\n<polygon fill=\"none\" stroke=\"red\" points=\"2628.59,-36 2529.59,-36 2529.59,0 2628.59,0 2628.59,-36\"/>\n<text text-anchor=\"middle\" x=\"2579.09\" y=\"-14.3\" font-family=\"Times,serif\" font-size=\"14.00\">val = 0.000</text>\n</g>\n<!-- 39&#45;&gt;80 -->\n<g id=\"edge80\" class=\"edge\">\n<title>39&#45;&gt;80</title>\n<path fill=\"none\" stroke=\"black\" d=\"M2521.66,-86.8C2532.1,-74.47 2546.32,-57.68 2558,-43.89\"/>\n<polygon fill=\"black\" stroke=\"black\" points=\"2560.75,-46.07 2564.54,-36.18 2555.4,-41.54 2560.75,-46.07\"/>\n<text text-anchor=\"middle\" x=\"2560.59\" y=\"-57.8\" font-family=\"Times,serif\" font-size=\"14.00\">Yes</text>\n</g>\n<!-- 81 -->\n<g id=\"node82\" class=\"node\">\n<title>81</title>\n<polygon fill=\"none\" stroke=\"red\" points=\"2778.09,-36 2674.09,-36 2674.09,0 2778.09,0 2778.09,-36\"/>\n<text text-anchor=\"middle\" x=\"2726.09\" y=\"-14.3\" font-family=\"Times,serif\" font-size=\"14.00\">val = &#45;0.084</text>\n</g>\n<!-- 40&#45;&gt;81 -->\n<g id=\"edge81\" class=\"edge\">\n<title>40&#45;&gt;81</title>\n<path fill=\"none\" stroke=\"black\" d=\"M2787.51,-86.8C2776.34,-74.47 2761.13,-57.68 2748.64,-43.89\"/>\n<polygon fill=\"black\" stroke=\"black\" points=\"2750.95,-41.24 2741.65,-36.18 2745.77,-45.94 2750.95,-41.24\"/>\n<text text-anchor=\"middle\" x=\"2780.59\" y=\"-57.8\" font-family=\"Times,serif\" font-size=\"14.00\">No</text>\n</g>\n<!-- 82 -->\n<g id=\"node83\" class=\"node\">\n<title>82</title>\n<polygon fill=\"none\" stroke=\"red\" points=\"2900.09,-36 2796.09,-36 2796.09,0 2900.09,0 2900.09,-36\"/>\n<text text-anchor=\"middle\" x=\"2848.09\" y=\"-14.3\" font-family=\"Times,serif\" font-size=\"14.00\">val = &#45;0.056</text>\n</g>\n<!-- 40&#45;&gt;82 -->\n<g id=\"edge82\" class=\"edge\">\n<title>40&#45;&gt;82</title>\n<path fill=\"none\" stroke=\"black\" d=\"M2812.19,-86.8C2818.54,-74.82 2827.11,-58.62 2834.29,-45.06\"/>\n<polygon fill=\"black\" stroke=\"black\" points=\"2837.41,-46.65 2838.99,-36.18 2831.22,-43.38 2837.41,-46.65\"/>\n<text text-anchor=\"middle\" x=\"2841.59\" y=\"-57.8\" font-family=\"Times,serif\" font-size=\"14.00\">Yes</text>\n</g>\n<!-- 83 -->\n<g id=\"node84\" class=\"node\">\n<title>83</title>\n<polygon fill=\"none\" stroke=\"red\" points=\"3090.59,-36 2991.59,-36 2991.59,0 3090.59,0 3090.59,-36\"/>\n<text text-anchor=\"middle\" x=\"3041.09\" y=\"-14.3\" font-family=\"Times,serif\" font-size=\"14.00\">val = 0.000</text>\n</g>\n<!-- 41&#45;&gt;83 -->\n<g id=\"edge83\" class=\"edge\">\n<title>41&#45;&gt;83</title>\n<path fill=\"none\" stroke=\"black\" d=\"M3087.35,-86.8C3079.1,-74.7 3067.91,-58.3 3058.6,-44.67\"/>\n<polygon fill=\"black\" stroke=\"black\" points=\"3061.33,-42.46 3052.81,-36.18 3055.55,-46.41 3061.33,-42.46\"/>\n<text text-anchor=\"middle\" x=\"3084.59\" y=\"-57.8\" font-family=\"Times,serif\" font-size=\"14.00\">No</text>\n</g>\n<!-- 84 -->\n<g id=\"node85\" class=\"node\">\n<title>84</title>\n<polygon fill=\"none\" stroke=\"red\" points=\"3207.59,-36 3108.59,-36 3108.59,0 3207.59,0 3207.59,-36\"/>\n<text text-anchor=\"middle\" x=\"3158.09\" y=\"-14.3\" font-family=\"Times,serif\" font-size=\"14.00\">val = 0.000</text>\n</g>\n<!-- 41&#45;&gt;84 -->\n<g id=\"edge84\" class=\"edge\">\n<title>41&#45;&gt;84</title>\n<path fill=\"none\" stroke=\"black\" d=\"M3111.03,-86.8C3119.42,-74.7 3130.81,-58.3 3140.27,-44.67\"/>\n<polygon fill=\"black\" stroke=\"black\" points=\"3143.34,-46.39 3146.17,-36.18 3137.59,-42.39 3143.34,-46.39\"/>\n<text text-anchor=\"middle\" x=\"3145.59\" y=\"-57.8\" font-family=\"Times,serif\" font-size=\"14.00\">Yes</text>\n</g>\n<!-- 85 -->\n<g id=\"node86\" class=\"node\">\n<title>85</title>\n<polygon fill=\"none\" stroke=\"red\" points=\"3399.59,-36 3300.59,-36 3300.59,0 3399.59,0 3399.59,-36\"/>\n<text text-anchor=\"middle\" x=\"3350.09\" y=\"-14.3\" font-family=\"Times,serif\" font-size=\"14.00\">val = 0.000</text>\n</g>\n<!-- 42&#45;&gt;85 -->\n<g id=\"edge85\" class=\"edge\">\n<title>42&#45;&gt;85</title>\n<path fill=\"none\" stroke=\"black\" d=\"M3385.98,-86.8C3379.64,-74.82 3371.06,-58.62 3363.88,-45.06\"/>\n<polygon fill=\"black\" stroke=\"black\" points=\"3366.95,-43.38 3359.18,-36.18 3360.77,-46.65 3366.95,-43.38\"/>\n<text text-anchor=\"middle\" x=\"3386.59\" y=\"-57.8\" font-family=\"Times,serif\" font-size=\"14.00\">No</text>\n</g>\n<!-- 86 -->\n<g id=\"node87\" class=\"node\">\n<title>86</title>\n<polygon fill=\"none\" stroke=\"red\" points=\"3516.59,-36 3417.59,-36 3417.59,0 3516.59,0 3516.59,-36\"/>\n<text text-anchor=\"middle\" x=\"3467.09\" y=\"-14.3\" font-family=\"Times,serif\" font-size=\"14.00\">val = 0.000</text>\n</g>\n<!-- 42&#45;&gt;86 -->\n<g id=\"edge86\" class=\"edge\">\n<title>42&#45;&gt;86</title>\n<path fill=\"none\" stroke=\"black\" d=\"M3409.66,-86.8C3420.1,-74.47 3434.32,-57.68 3446,-43.89\"/>\n<polygon fill=\"black\" stroke=\"black\" points=\"3448.75,-46.07 3452.54,-36.18 3443.4,-41.54 3448.75,-46.07\"/>\n<text text-anchor=\"middle\" x=\"3448.59\" y=\"-57.8\" font-family=\"Times,serif\" font-size=\"14.00\">Yes</text>\n</g>\n<!-- 87 -->\n<g id=\"node88\" class=\"node\">\n<title>87</title>\n<polygon fill=\"none\" stroke=\"red\" points=\"3650.59,-36 3551.59,-36 3551.59,0 3650.59,0 3650.59,-36\"/>\n<text text-anchor=\"middle\" x=\"3601.09\" y=\"-14.3\" font-family=\"Times,serif\" font-size=\"14.00\">val = 0.000</text>\n</g>\n<!-- 43&#45;&gt;87 -->\n<g id=\"edge87\" class=\"edge\">\n<title>43&#45;&gt;87</title>\n<path fill=\"none\" stroke=\"black\" d=\"M3672.87,-86.8C3659.58,-74.24 3641.38,-57.05 3626.63,-43.12\"/>\n<polygon fill=\"black\" stroke=\"black\" points=\"3628.95,-40.5 3619.27,-36.18 3624.14,-45.59 3628.95,-40.5\"/>\n<text text-anchor=\"middle\" x=\"3662.59\" y=\"-57.8\" font-family=\"Times,serif\" font-size=\"14.00\">No</text>\n</g>\n<!-- 88 -->\n<g id=\"node89\" class=\"node\">\n<title>88</title>\n<polygon fill=\"none\" stroke=\"red\" points=\"3767.59,-36 3668.59,-36 3668.59,0 3767.59,0 3767.59,-36\"/>\n<text text-anchor=\"middle\" x=\"3718.09\" y=\"-14.3\" font-family=\"Times,serif\" font-size=\"14.00\">val = 0.000</text>\n</g>\n<!-- 43&#45;&gt;88 -->\n<g id=\"edge88\" class=\"edge\">\n<title>43&#45;&gt;88</title>\n<path fill=\"none\" stroke=\"black\" d=\"M3696.55,-86.8C3700.28,-75.05 3705.31,-59.24 3709.56,-45.84\"/>\n<polygon fill=\"black\" stroke=\"black\" points=\"3712.94,-46.77 3712.63,-36.18 3706.27,-44.65 3712.94,-46.77\"/>\n<text text-anchor=\"middle\" x=\"3719.59\" y=\"-57.8\" font-family=\"Times,serif\" font-size=\"14.00\">Yes</text>\n</g>\n<!-- 89 -->\n<g id=\"node90\" class=\"node\">\n<title>89</title>\n<polygon fill=\"none\" stroke=\"red\" points=\"3989.09,-36 3885.09,-36 3885.09,0 3989.09,0 3989.09,-36\"/>\n<text text-anchor=\"middle\" x=\"3937.09\" y=\"-14.3\" font-family=\"Times,serif\" font-size=\"14.00\">val = &#45;0.049</text>\n</g>\n<!-- 44&#45;&gt;89 -->\n<g id=\"edge89\" class=\"edge\">\n<title>44&#45;&gt;89</title>\n<path fill=\"none\" stroke=\"black\" d=\"M3976.97,-86.8C3969.92,-74.82 3960.39,-58.62 3952.42,-45.06\"/>\n<polygon fill=\"black\" stroke=\"black\" points=\"3955.28,-43.02 3947.19,-36.18 3949.24,-46.57 3955.28,-43.02\"/>\n<text text-anchor=\"middle\" x=\"3975.59\" y=\"-57.8\" font-family=\"Times,serif\" font-size=\"14.00\">No</text>\n</g>\n<!-- 90 -->\n<g id=\"node91\" class=\"node\">\n<title>90</title>\n<polygon fill=\"none\" stroke=\"red\" points=\"4111.09,-36 4007.09,-36 4007.09,0 4111.09,0 4111.09,-36\"/>\n<text text-anchor=\"middle\" x=\"4059.09\" y=\"-14.3\" font-family=\"Times,serif\" font-size=\"14.00\">val = &#45;0.056</text>\n</g>\n<!-- 44&#45;&gt;90 -->\n<g id=\"edge90\" class=\"edge\">\n<title>44&#45;&gt;90</title>\n<path fill=\"none\" stroke=\"black\" d=\"M4001.66,-86.8C4012.1,-74.47 4026.32,-57.68 4038,-43.89\"/>\n<polygon fill=\"black\" stroke=\"black\" points=\"4040.75,-46.07 4044.54,-36.18 4035.4,-41.54 4040.75,-46.07\"/>\n<text text-anchor=\"middle\" x=\"4040.59\" y=\"-57.8\" font-family=\"Times,serif\" font-size=\"14.00\">Yes</text>\n</g>\n<!-- 91 -->\n<g id=\"node92\" class=\"node\">\n<title>91</title>\n<polygon fill=\"none\" stroke=\"red\" points=\"4288.59,-36 4189.59,-36 4189.59,0 4288.59,0 4288.59,-36\"/>\n<text text-anchor=\"middle\" x=\"4239.09\" y=\"-14.3\" font-family=\"Times,serif\" font-size=\"14.00\">val = 0.000</text>\n</g>\n<!-- 45&#45;&gt;91 -->\n<g id=\"edge91\" class=\"edge\">\n<title>45&#45;&gt;91</title>\n<path fill=\"none\" stroke=\"black\" d=\"M4274.18,-86.8C4267.98,-74.82 4259.6,-58.62 4252.58,-45.06\"/>\n<polygon fill=\"black\" stroke=\"black\" points=\"4255.68,-43.45 4247.98,-36.18 4249.47,-46.67 4255.68,-43.45\"/>\n<text text-anchor=\"middle\" x=\"4274.59\" y=\"-57.8\" font-family=\"Times,serif\" font-size=\"14.00\">No</text>\n</g>\n<!-- 92 -->\n<g id=\"node93\" class=\"node\">\n<title>92</title>\n<polygon fill=\"none\" stroke=\"red\" points=\"4405.59,-36 4306.59,-36 4306.59,0 4405.59,0 4405.59,-36\"/>\n<text text-anchor=\"middle\" x=\"4356.09\" y=\"-14.3\" font-family=\"Times,serif\" font-size=\"14.00\">val = 0.000</text>\n</g>\n<!-- 45&#45;&gt;92 -->\n<g id=\"edge92\" class=\"edge\">\n<title>45&#45;&gt;92</title>\n<path fill=\"none\" stroke=\"black\" d=\"M4297.86,-86.8C4308.45,-74.47 4322.87,-57.68 4334.71,-43.89\"/>\n<polygon fill=\"black\" stroke=\"black\" points=\"4337.48,-46.04 4341.34,-36.18 4332.17,-41.48 4337.48,-46.04\"/>\n<text text-anchor=\"middle\" x=\"4336.59\" y=\"-57.8\" font-family=\"Times,serif\" font-size=\"14.00\">Yes</text>\n</g>\n<!-- 93 -->\n<g id=\"node94\" class=\"node\">\n<title>93</title>\n<polygon fill=\"none\" stroke=\"red\" points=\"4552.59,-36 4453.59,-36 4453.59,0 4552.59,0 4552.59,-36\"/>\n<text text-anchor=\"middle\" x=\"4503.09\" y=\"-14.3\" font-family=\"Times,serif\" font-size=\"14.00\">val = 0.000</text>\n</g>\n<!-- 46&#45;&gt;93 -->\n<g id=\"edge93\" class=\"edge\">\n<title>46&#45;&gt;93</title>\n<path fill=\"none\" stroke=\"black\" d=\"M4563.71,-86.8C4552.69,-74.47 4537.67,-57.68 4525.34,-43.89\"/>\n<polygon fill=\"black\" stroke=\"black\" points=\"4527.72,-41.3 4518.44,-36.18 4522.5,-45.96 4527.72,-41.3\"/>\n<text text-anchor=\"middle\" x=\"4556.59\" y=\"-57.8\" font-family=\"Times,serif\" font-size=\"14.00\">No</text>\n</g>\n<!-- 94 -->\n<g id=\"node95\" class=\"node\">\n<title>94</title>\n<polygon fill=\"none\" stroke=\"red\" points=\"4669.59,-36 4570.59,-36 4570.59,0 4669.59,0 4669.59,-36\"/>\n<text text-anchor=\"middle\" x=\"4620.09\" y=\"-14.3\" font-family=\"Times,serif\" font-size=\"14.00\">val = 0.000</text>\n</g>\n<!-- 46&#45;&gt;94 -->\n<g id=\"edge94\" class=\"edge\">\n<title>46&#45;&gt;94</title>\n<path fill=\"none\" stroke=\"black\" d=\"M4587.38,-86.8C4593.11,-74.93 4600.83,-58.93 4607.33,-45.45\"/>\n<polygon fill=\"black\" stroke=\"black\" points=\"4610.61,-46.7 4611.8,-36.18 4604.31,-43.66 4610.61,-46.7\"/>\n<text text-anchor=\"middle\" x=\"4614.59\" y=\"-57.8\" font-family=\"Times,serif\" font-size=\"14.00\">Yes</text>\n</g>\n<!-- 95 -->\n<g id=\"node96\" class=\"node\">\n<title>95</title>\n<polygon fill=\"none\" stroke=\"red\" points=\"4863.09,-36 4759.09,-36 4759.09,0 4863.09,0 4863.09,-36\"/>\n<text text-anchor=\"middle\" x=\"4811.09\" y=\"-14.3\" font-family=\"Times,serif\" font-size=\"14.00\">val = &#45;0.115</text>\n</g>\n<!-- 47&#45;&gt;95 -->\n<g id=\"edge95\" class=\"edge\">\n<title>47&#45;&gt;95</title>\n<path fill=\"none\" stroke=\"black\" d=\"M4862.14,-86.8C4852.94,-74.59 4840.45,-57.99 4830.12,-44.28\"/>\n<polygon fill=\"black\" stroke=\"black\" points=\"4832.83,-42.06 4824.02,-36.18 4827.24,-46.27 4832.83,-42.06\"/>\n<text text-anchor=\"middle\" x=\"4857.59\" y=\"-57.8\" font-family=\"Times,serif\" font-size=\"14.00\">No</text>\n</g>\n<!-- 96 -->\n<g id=\"node97\" class=\"node\">\n<title>96</title>\n<polygon fill=\"none\" stroke=\"red\" points=\"4980.59,-36 4881.59,-36 4881.59,0 4980.59,0 4980.59,-36\"/>\n<text text-anchor=\"middle\" x=\"4931.09\" y=\"-14.3\" font-family=\"Times,serif\" font-size=\"14.00\">val = 0.000</text>\n</g>\n<!-- 47&#45;&gt;96 -->\n<g id=\"edge96\" class=\"edge\">\n<title>47&#45;&gt;96</title>\n<path fill=\"none\" stroke=\"black\" d=\"M4886.42,-86.8C4894.39,-74.7 4905.19,-58.3 4914.18,-44.67\"/>\n<polygon fill=\"black\" stroke=\"black\" points=\"4917.19,-46.45 4919.77,-36.18 4911.35,-42.6 4917.19,-46.45\"/>\n<text text-anchor=\"middle\" x=\"4919.59\" y=\"-57.8\" font-family=\"Times,serif\" font-size=\"14.00\">Yes</text>\n</g>\n<!-- 97 -->\n<g id=\"node98\" class=\"node\">\n<title>97</title>\n<polygon fill=\"none\" stroke=\"red\" points=\"5130.09,-36 5026.09,-36 5026.09,0 5130.09,0 5130.09,-36\"/>\n<text text-anchor=\"middle\" x=\"5078.09\" y=\"-14.3\" font-family=\"Times,serif\" font-size=\"14.00\">val = &#45;0.088</text>\n</g>\n<!-- 48&#45;&gt;97 -->\n<g id=\"edge97\" class=\"edge\">\n<title>48&#45;&gt;97</title>\n<path fill=\"none\" stroke=\"black\" d=\"M5152.27,-86.8C5138.53,-74.24 5119.72,-57.05 5104.48,-43.12\"/>\n<polygon fill=\"black\" stroke=\"black\" points=\"5106.62,-40.34 5096.88,-36.18 5101.9,-45.51 5106.62,-40.34\"/>\n<text text-anchor=\"middle\" x=\"5141.59\" y=\"-57.8\" font-family=\"Times,serif\" font-size=\"14.00\">No</text>\n</g>\n<!-- 98 -->\n<g id=\"node99\" class=\"node\">\n<title>98</title>\n<polygon fill=\"none\" stroke=\"red\" points=\"5252.09,-36 5148.09,-36 5148.09,0 5252.09,0 5252.09,-36\"/>\n<text text-anchor=\"middle\" x=\"5200.09\" y=\"-14.3\" font-family=\"Times,serif\" font-size=\"14.00\">val = &#45;0.203</text>\n</g>\n<!-- 48&#45;&gt;98 -->\n<g id=\"edge98\" class=\"edge\">\n<title>48&#45;&gt;98</title>\n<path fill=\"none\" stroke=\"black\" d=\"M5176.96,-86.8C5180.97,-75.05 5186.36,-59.24 5190.93,-45.84\"/>\n<polygon fill=\"black\" stroke=\"black\" points=\"5194.31,-46.77 5194.23,-36.18 5187.69,-44.51 5194.31,-46.77\"/>\n<text text-anchor=\"middle\" x=\"5200.59\" y=\"-57.8\" font-family=\"Times,serif\" font-size=\"14.00\">Yes</text>\n</g>\n<!-- 99 -->\n<g id=\"node100\" class=\"node\">\n<title>99</title>\n<polygon fill=\"none\" stroke=\"red\" points=\"5443.59,-36 5344.59,-36 5344.59,0 5443.59,0 5443.59,-36\"/>\n<text text-anchor=\"middle\" x=\"5394.09\" y=\"-14.3\" font-family=\"Times,serif\" font-size=\"14.00\">val = 0.000</text>\n</g>\n<!-- 49&#45;&gt;99 -->\n<g id=\"edge99\" class=\"edge\">\n<title>49&#45;&gt;99</title>\n<path fill=\"none\" stroke=\"black\" d=\"M5452.32,-86.8C5441.73,-74.47 5427.31,-57.68 5415.46,-43.89\"/>\n<polygon fill=\"black\" stroke=\"black\" points=\"5418.01,-41.48 5408.84,-36.18 5412.7,-46.04 5418.01,-41.48\"/>\n<text text-anchor=\"middle\" x=\"5445.59\" y=\"-57.8\" font-family=\"Times,serif\" font-size=\"14.00\">No</text>\n</g>\n<!-- 100 -->\n<g id=\"node101\" class=\"node\">\n<title>100</title>\n<polygon fill=\"none\" stroke=\"red\" points=\"5560.59,-36 5461.59,-36 5461.59,0 5560.59,0 5560.59,-36\"/>\n<text text-anchor=\"middle\" x=\"5511.09\" y=\"-14.3\" font-family=\"Times,serif\" font-size=\"14.00\">val = 0.000</text>\n</g>\n<!-- 49&#45;&gt;100 -->\n<g id=\"edge100\" class=\"edge\">\n<title>49&#45;&gt;100</title>\n<path fill=\"none\" stroke=\"black\" d=\"M5475.99,-86.8C5482.19,-74.82 5490.58,-58.62 5497.6,-45.06\"/>\n<polygon fill=\"black\" stroke=\"black\" points=\"5500.71,-46.67 5502.2,-36.18 5494.49,-43.45 5500.71,-46.67\"/>\n<text text-anchor=\"middle\" x=\"5504.59\" y=\"-57.8\" font-family=\"Times,serif\" font-size=\"14.00\">Yes</text>\n</g>\n<!-- 101 -->\n<g id=\"node102\" class=\"node\">\n<title>101</title>\n<polygon fill=\"none\" stroke=\"red\" points=\"5748.59,-36 5649.59,-36 5649.59,0 5748.59,0 5748.59,-36\"/>\n<text text-anchor=\"middle\" x=\"5699.09\" y=\"-14.3\" font-family=\"Times,serif\" font-size=\"14.00\">val = 0.030</text>\n</g>\n<!-- 50&#45;&gt;101 -->\n<g id=\"edge101\" class=\"edge\">\n<title>50&#45;&gt;101</title>\n<path fill=\"none\" stroke=\"black\" d=\"M5750.14,-86.8C5740.94,-74.59 5728.45,-57.99 5718.12,-44.28\"/>\n<polygon fill=\"black\" stroke=\"black\" points=\"5720.83,-42.06 5712.02,-36.18 5715.24,-46.27 5720.83,-42.06\"/>\n<text text-anchor=\"middle\" x=\"5745.59\" y=\"-57.8\" font-family=\"Times,serif\" font-size=\"14.00\">No</text>\n</g>\n<!-- 102 -->\n<g id=\"node103\" class=\"node\">\n<title>102</title>\n<polygon fill=\"none\" stroke=\"red\" points=\"5865.59,-36 5766.59,-36 5766.59,0 5865.59,0 5865.59,-36\"/>\n<text text-anchor=\"middle\" x=\"5816.09\" y=\"-14.3\" font-family=\"Times,serif\" font-size=\"14.00\">val = 0.000</text>\n</g>\n<!-- 50&#45;&gt;102 -->\n<g id=\"edge102\" class=\"edge\">\n<title>50&#45;&gt;102</title>\n<path fill=\"none\" stroke=\"black\" d=\"M5773.81,-86.8C5781.36,-74.7 5791.58,-58.3 5800.08,-44.67\"/>\n<polygon fill=\"black\" stroke=\"black\" points=\"5803.06,-46.51 5805.38,-36.18 5797.12,-42.81 5803.06,-46.51\"/>\n<text text-anchor=\"middle\" x=\"5805.59\" y=\"-57.8\" font-family=\"Times,serif\" font-size=\"14.00\">Yes</text>\n</g>\n<!-- 103 -->\n<g id=\"node104\" class=\"node\">\n<title>103</title>\n<polygon fill=\"none\" stroke=\"red\" points=\"6015.09,-36 5911.09,-36 5911.09,0 6015.09,0 6015.09,-36\"/>\n<text text-anchor=\"middle\" x=\"5963.09\" y=\"-14.3\" font-family=\"Times,serif\" font-size=\"14.00\">val = &#45;0.067</text>\n</g>\n<!-- 51&#45;&gt;103 -->\n<g id=\"edge103\" class=\"edge\">\n<title>51&#45;&gt;103</title>\n<path fill=\"none\" stroke=\"black\" d=\"M6039.66,-86.8C6025.48,-74.24 6006.06,-57.05 5990.33,-43.12\"/>\n<polygon fill=\"black\" stroke=\"black\" points=\"5992.29,-40.18 5982.49,-36.18 5987.65,-45.43 5992.29,-40.18\"/>\n<text text-anchor=\"middle\" x=\"6027.59\" y=\"-57.8\" font-family=\"Times,serif\" font-size=\"14.00\">No</text>\n</g>\n<!-- 104 -->\n<g id=\"node105\" class=\"node\">\n<title>104</title>\n<polygon fill=\"none\" stroke=\"red\" points=\"6137.09,-36 6033.09,-36 6033.09,0 6137.09,0 6137.09,-36\"/>\n<text text-anchor=\"middle\" x=\"6085.09\" y=\"-14.3\" font-family=\"Times,serif\" font-size=\"14.00\">val = &#45;0.056</text>\n</g>\n<!-- 51&#45;&gt;104 -->\n<g id=\"edge104\" class=\"edge\">\n<title>51&#45;&gt;104</title>\n<path fill=\"none\" stroke=\"black\" d=\"M6064.35,-86.8C6067.94,-75.05 6072.78,-59.24 6076.88,-45.84\"/>\n<polygon fill=\"black\" stroke=\"black\" points=\"6080.26,-46.76 6079.83,-36.18 6073.56,-44.71 6080.26,-46.76\"/>\n<text text-anchor=\"middle\" x=\"6086.59\" y=\"-57.8\" font-family=\"Times,serif\" font-size=\"14.00\">Yes</text>\n</g>\n<!-- 105 -->\n<g id=\"node106\" class=\"node\">\n<title>105</title>\n<polygon fill=\"none\" stroke=\"red\" points=\"6312.09,-36 6208.09,-36 6208.09,0 6312.09,0 6312.09,-36\"/>\n<text text-anchor=\"middle\" x=\"6260.09\" y=\"-14.3\" font-family=\"Times,serif\" font-size=\"14.00\">val = &#45;0.070</text>\n</g>\n<!-- 52&#45;&gt;105 -->\n<g id=\"edge105\" class=\"edge\">\n<title>52&#45;&gt;105</title>\n<path fill=\"none\" stroke=\"black\" d=\"M6335.86,-86.8C6321.83,-74.24 6302.61,-57.05 6287.05,-43.12\"/>\n<polygon fill=\"black\" stroke=\"black\" points=\"6289.07,-40.24 6279.28,-36.18 6284.4,-45.45 6289.07,-40.24\"/>\n<text text-anchor=\"middle\" x=\"6324.59\" y=\"-57.8\" font-family=\"Times,serif\" font-size=\"14.00\">No</text>\n</g>\n<!-- 106 -->\n<g id=\"node107\" class=\"node\">\n<title>106</title>\n<polygon fill=\"none\" stroke=\"red\" points=\"6434.09,-36 6330.09,-36 6330.09,0 6434.09,0 6434.09,-36\"/>\n<text text-anchor=\"middle\" x=\"6382.09\" y=\"-14.3\" font-family=\"Times,serif\" font-size=\"14.00\">val = &#45;0.082</text>\n</g>\n<!-- 52&#45;&gt;106 -->\n<g id=\"edge106\" class=\"edge\">\n<title>52&#45;&gt;106</title>\n<path fill=\"none\" stroke=\"black\" d=\"M6360.55,-86.8C6364.28,-75.05 6369.31,-59.24 6373.56,-45.84\"/>\n<polygon fill=\"black\" stroke=\"black\" points=\"6376.94,-46.77 6376.63,-36.18 6370.27,-44.65 6376.94,-46.77\"/>\n<text text-anchor=\"middle\" x=\"6383.59\" y=\"-57.8\" font-family=\"Times,serif\" font-size=\"14.00\">Yes</text>\n</g>\n<!-- 107 -->\n<g id=\"node108\" class=\"node\">\n<title>107</title>\n<polygon fill=\"none\" stroke=\"red\" points=\"6614.09,-36 6510.09,-36 6510.09,0 6614.09,0 6614.09,-36\"/>\n<text text-anchor=\"middle\" x=\"6562.09\" y=\"-14.3\" font-family=\"Times,serif\" font-size=\"14.00\">val = &#45;0.056</text>\n</g>\n<!-- 53&#45;&gt;107 -->\n<g id=\"edge107\" class=\"edge\">\n<title>53&#45;&gt;107</title>\n<path fill=\"none\" stroke=\"black\" d=\"M6633.08,-86.8C6619.93,-74.24 6601.93,-57.05 6587.34,-43.12\"/>\n<polygon fill=\"black\" stroke=\"black\" points=\"6589.72,-40.55 6580.07,-36.18 6584.89,-45.61 6589.72,-40.55\"/>\n<text text-anchor=\"middle\" x=\"6622.59\" y=\"-57.8\" font-family=\"Times,serif\" font-size=\"14.00\">No</text>\n</g>\n<!-- 108 -->\n<g id=\"node109\" class=\"node\">\n<title>108</title>\n<polygon fill=\"none\" stroke=\"red\" points=\"6731.59,-36 6632.59,-36 6632.59,0 6731.59,0 6731.59,-36\"/>\n<text text-anchor=\"middle\" x=\"6682.09\" y=\"-14.3\" font-family=\"Times,serif\" font-size=\"14.00\">val = 0.000</text>\n</g>\n<!-- 53&#45;&gt;108 -->\n<g id=\"edge108\" class=\"edge\">\n<title>53&#45;&gt;108</title>\n<path fill=\"none\" stroke=\"black\" d=\"M6657.36,-86.8C6661.65,-75.05 6667.41,-59.24 6672.3,-45.84\"/>\n<polygon fill=\"black\" stroke=\"black\" points=\"6675.69,-46.77 6675.82,-36.18 6669.11,-44.37 6675.69,-46.77\"/>\n<text text-anchor=\"middle\" x=\"6681.59\" y=\"-57.8\" font-family=\"Times,serif\" font-size=\"14.00\">Yes</text>\n</g>\n<!-- 109 -->\n<g id=\"node110\" class=\"node\">\n<title>109</title>\n<polygon fill=\"none\" stroke=\"red\" points=\"6907.59,-36 6808.59,-36 6808.59,0 6907.59,0 6907.59,-36\"/>\n<text text-anchor=\"middle\" x=\"6858.09\" y=\"-14.3\" font-family=\"Times,serif\" font-size=\"14.00\">val = 0.017</text>\n</g>\n<!-- 54&#45;&gt;109 -->\n<g id=\"edge109\" class=\"edge\">\n<title>54&#45;&gt;109</title>\n<path fill=\"none\" stroke=\"black\" d=\"M6929.08,-86.8C6915.93,-74.24 6897.93,-57.05 6883.34,-43.12\"/>\n<polygon fill=\"black\" stroke=\"black\" points=\"6885.72,-40.55 6876.07,-36.18 6880.89,-45.61 6885.72,-40.55\"/>\n<text text-anchor=\"middle\" x=\"6918.59\" y=\"-57.8\" font-family=\"Times,serif\" font-size=\"14.00\">No</text>\n</g>\n<!-- 110 -->\n<g id=\"node111\" class=\"node\">\n<title>110</title>\n<polygon fill=\"none\" stroke=\"red\" points=\"7024.59,-36 6925.59,-36 6925.59,0 7024.59,0 7024.59,-36\"/>\n<text text-anchor=\"middle\" x=\"6975.09\" y=\"-14.3\" font-family=\"Times,serif\" font-size=\"14.00\">val = 0.000</text>\n</g>\n<!-- 54&#45;&gt;110 -->\n<g id=\"edge110\" class=\"edge\">\n<title>54&#45;&gt;110</title>\n<path fill=\"none\" stroke=\"black\" d=\"M6952.75,-86.8C6956.62,-75.05 6961.83,-59.24 6966.25,-45.84\"/>\n<polygon fill=\"black\" stroke=\"black\" points=\"6969.63,-46.77 6969.43,-36.18 6962.98,-44.58 6969.63,-46.77\"/>\n<text text-anchor=\"middle\" x=\"6975.59\" y=\"-57.8\" font-family=\"Times,serif\" font-size=\"14.00\">Yes</text>\n</g>\n<!-- 111 -->\n<g id=\"node112\" class=\"node\">\n<title>111</title>\n<polygon fill=\"none\" stroke=\"red\" points=\"7202.09,-36 7098.09,-36 7098.09,0 7202.09,0 7202.09,-36\"/>\n<text text-anchor=\"middle\" x=\"7150.09\" y=\"-14.3\" font-family=\"Times,serif\" font-size=\"14.00\">val = &#45;0.129</text>\n</g>\n<!-- 55&#45;&gt;111 -->\n<g id=\"edge111\" class=\"edge\">\n<title>55&#45;&gt;111</title>\n<path fill=\"none\" stroke=\"black\" d=\"M7224.27,-86.8C7210.53,-74.24 7191.72,-57.05 7176.48,-43.12\"/>\n<polygon fill=\"black\" stroke=\"black\" points=\"7178.62,-40.34 7168.88,-36.18 7173.9,-45.51 7178.62,-40.34\"/>\n<text text-anchor=\"middle\" x=\"7213.59\" y=\"-57.8\" font-family=\"Times,serif\" font-size=\"14.00\">No</text>\n</g>\n<!-- 112 -->\n<g id=\"node113\" class=\"node\">\n<title>112</title>\n<polygon fill=\"none\" stroke=\"red\" points=\"7319.59,-36 7220.59,-36 7220.59,0 7319.59,0 7319.59,-36\"/>\n<text text-anchor=\"middle\" x=\"7270.09\" y=\"-14.3\" font-family=\"Times,serif\" font-size=\"14.00\">val = 0.000</text>\n</g>\n<!-- 55&#45;&gt;112 -->\n<g id=\"edge112\" class=\"edge\">\n<title>55&#45;&gt;112</title>\n<path fill=\"none\" stroke=\"black\" d=\"M7248.55,-86.8C7252.28,-75.05 7257.31,-59.24 7261.56,-45.84\"/>\n<polygon fill=\"black\" stroke=\"black\" points=\"7264.94,-46.77 7264.63,-36.18 7258.27,-44.65 7264.94,-46.77\"/>\n<text text-anchor=\"middle\" x=\"7271.59\" y=\"-57.8\" font-family=\"Times,serif\" font-size=\"14.00\">Yes</text>\n</g>\n<!-- 113 -->\n<g id=\"node114\" class=\"node\">\n<title>113</title>\n<polygon fill=\"none\" stroke=\"red\" points=\"7498.09,-36 7394.09,-36 7394.09,0 7498.09,0 7498.09,-36\"/>\n<text text-anchor=\"middle\" x=\"7446.09\" y=\"-14.3\" font-family=\"Times,serif\" font-size=\"14.00\">val = &#45;0.111</text>\n</g>\n<!-- 56&#45;&gt;113 -->\n<g id=\"edge113\" class=\"edge\">\n<title>56&#45;&gt;113</title>\n<path fill=\"none\" stroke=\"black\" d=\"M7520.27,-86.8C7506.53,-74.24 7487.72,-57.05 7472.48,-43.12\"/>\n<polygon fill=\"black\" stroke=\"black\" points=\"7474.62,-40.34 7464.88,-36.18 7469.9,-45.51 7474.62,-40.34\"/>\n<text text-anchor=\"middle\" x=\"7509.59\" y=\"-57.8\" font-family=\"Times,serif\" font-size=\"14.00\">No</text>\n</g>\n<!-- 114 -->\n<g id=\"node115\" class=\"node\">\n<title>114</title>\n<polygon fill=\"none\" stroke=\"red\" points=\"7620.09,-36 7516.09,-36 7516.09,0 7620.09,0 7620.09,-36\"/>\n<text text-anchor=\"middle\" x=\"7568.09\" y=\"-14.3\" font-family=\"Times,serif\" font-size=\"14.00\">val = &#45;0.050</text>\n</g>\n<!-- 56&#45;&gt;114 -->\n<g id=\"edge114\" class=\"edge\">\n<title>56&#45;&gt;114</title>\n<path fill=\"none\" stroke=\"black\" d=\"M7544.96,-86.8C7548.97,-75.05 7554.36,-59.24 7558.93,-45.84\"/>\n<polygon fill=\"black\" stroke=\"black\" points=\"7562.31,-46.77 7562.23,-36.18 7555.69,-44.51 7562.31,-46.77\"/>\n<text text-anchor=\"middle\" x=\"7568.59\" y=\"-57.8\" font-family=\"Times,serif\" font-size=\"14.00\">Yes</text>\n</g>\n<!-- 115 -->\n<g id=\"node116\" class=\"node\">\n<title>115</title>\n<polygon fill=\"none\" stroke=\"red\" points=\"7798.59,-36 7699.59,-36 7699.59,0 7798.59,0 7798.59,-36\"/>\n<text text-anchor=\"middle\" x=\"7749.09\" y=\"-14.3\" font-family=\"Times,serif\" font-size=\"14.00\">val = 0.000</text>\n</g>\n<!-- 57&#45;&gt;115 -->\n<g id=\"edge115\" class=\"edge\">\n<title>57&#45;&gt;115</title>\n<path fill=\"none\" stroke=\"black\" d=\"M7817.68,-86.8C7805.1,-74.36 7787.9,-57.36 7773.88,-43.5\"/>\n<polygon fill=\"black\" stroke=\"black\" points=\"7776.04,-40.72 7766.47,-36.18 7771.12,-45.69 7776.04,-40.72\"/>\n<text text-anchor=\"middle\" x=\"7808.59\" y=\"-57.8\" font-family=\"Times,serif\" font-size=\"14.00\">No</text>\n</g>\n<!-- 116 -->\n<g id=\"node117\" class=\"node\">\n<title>116</title>\n<polygon fill=\"none\" stroke=\"red\" points=\"7915.59,-36 7816.59,-36 7816.59,0 7915.59,0 7915.59,-36\"/>\n<text text-anchor=\"middle\" x=\"7866.09\" y=\"-14.3\" font-family=\"Times,serif\" font-size=\"14.00\">val = 0.000</text>\n</g>\n<!-- 57&#45;&gt;116 -->\n<g id=\"edge116\" class=\"edge\">\n<title>57&#45;&gt;116</title>\n<path fill=\"none\" stroke=\"black\" d=\"M7841.36,-86.8C7845.65,-75.05 7851.41,-59.24 7856.3,-45.84\"/>\n<polygon fill=\"black\" stroke=\"black\" points=\"7859.69,-46.77 7859.82,-36.18 7853.11,-44.37 7859.69,-46.77\"/>\n<text text-anchor=\"middle\" x=\"7865.59\" y=\"-57.8\" font-family=\"Times,serif\" font-size=\"14.00\">Yes</text>\n</g>\n<!-- 117 -->\n<g id=\"node118\" class=\"node\">\n<title>117</title>\n<polygon fill=\"none\" stroke=\"red\" points=\"8091.59,-36 7992.59,-36 7992.59,0 8091.59,0 8091.59,-36\"/>\n<text text-anchor=\"middle\" x=\"8042.09\" y=\"-14.3\" font-family=\"Times,serif\" font-size=\"14.00\">val = 0.000</text>\n</g>\n<!-- 58&#45;&gt;117 -->\n<g id=\"edge117\" class=\"edge\">\n<title>58&#45;&gt;117</title>\n<path fill=\"none\" stroke=\"black\" d=\"M8113.08,-86.8C8099.93,-74.24 8081.93,-57.05 8067.34,-43.12\"/>\n<polygon fill=\"black\" stroke=\"black\" points=\"8069.72,-40.55 8060.07,-36.18 8064.89,-45.61 8069.72,-40.55\"/>\n<text text-anchor=\"middle\" x=\"8102.59\" y=\"-57.8\" font-family=\"Times,serif\" font-size=\"14.00\">No</text>\n</g>\n<!-- 118 -->\n<g id=\"node119\" class=\"node\">\n<title>118</title>\n<polygon fill=\"none\" stroke=\"red\" points=\"8208.59,-36 8109.59,-36 8109.59,0 8208.59,0 8208.59,-36\"/>\n<text text-anchor=\"middle\" x=\"8159.09\" y=\"-14.3\" font-family=\"Times,serif\" font-size=\"14.00\">val = 0.000</text>\n</g>\n<!-- 58&#45;&gt;118 -->\n<g id=\"edge118\" class=\"edge\">\n<title>58&#45;&gt;118</title>\n<path fill=\"none\" stroke=\"black\" d=\"M8136.75,-86.8C8140.62,-75.05 8145.83,-59.24 8150.25,-45.84\"/>\n<polygon fill=\"black\" stroke=\"black\" points=\"8153.63,-46.77 8153.43,-36.18 8146.98,-44.58 8153.63,-46.77\"/>\n<text text-anchor=\"middle\" x=\"8159.59\" y=\"-57.8\" font-family=\"Times,serif\" font-size=\"14.00\">Yes</text>\n</g>\n<!-- 119 -->\n<g id=\"node120\" class=\"node\">\n<title>119</title>\n<polygon fill=\"none\" stroke=\"red\" points=\"8386.09,-36 8282.09,-36 8282.09,0 8386.09,0 8386.09,-36\"/>\n<text text-anchor=\"middle\" x=\"8334.09\" y=\"-14.3\" font-family=\"Times,serif\" font-size=\"14.00\">val = &#45;0.138</text>\n</g>\n<!-- 59&#45;&gt;119 -->\n<g id=\"edge119\" class=\"edge\">\n<title>59&#45;&gt;119</title>\n<path fill=\"none\" stroke=\"black\" d=\"M8408.27,-86.8C8394.53,-74.24 8375.72,-57.05 8360.48,-43.12\"/>\n<polygon fill=\"black\" stroke=\"black\" points=\"8362.62,-40.34 8352.88,-36.18 8357.9,-45.51 8362.62,-40.34\"/>\n<text text-anchor=\"middle\" x=\"8397.59\" y=\"-57.8\" font-family=\"Times,serif\" font-size=\"14.00\">No</text>\n</g>\n<!-- 120 -->\n<g id=\"node121\" class=\"node\">\n<title>120</title>\n<polygon fill=\"none\" stroke=\"red\" points=\"8503.59,-36 8404.59,-36 8404.59,0 8503.59,0 8503.59,-36\"/>\n<text text-anchor=\"middle\" x=\"8454.09\" y=\"-14.3\" font-family=\"Times,serif\" font-size=\"14.00\">val = 0.000</text>\n</g>\n<!-- 59&#45;&gt;120 -->\n<g id=\"edge120\" class=\"edge\">\n<title>59&#45;&gt;120</title>\n<path fill=\"none\" stroke=\"black\" d=\"M8432.55,-86.8C8436.28,-75.05 8441.31,-59.24 8445.56,-45.84\"/>\n<polygon fill=\"black\" stroke=\"black\" points=\"8448.94,-46.77 8448.63,-36.18 8442.27,-44.65 8448.94,-46.77\"/>\n<text text-anchor=\"middle\" x=\"8455.59\" y=\"-57.8\" font-family=\"Times,serif\" font-size=\"14.00\">Yes</text>\n</g>\n<!-- 121 -->\n<g id=\"node122\" class=\"node\">\n<title>121</title>\n<polygon fill=\"none\" stroke=\"red\" points=\"8682.09,-36 8578.09,-36 8578.09,0 8682.09,0 8682.09,-36\"/>\n<text text-anchor=\"middle\" x=\"8630.09\" y=\"-14.3\" font-family=\"Times,serif\" font-size=\"14.00\">val = &#45;0.076</text>\n</g>\n<!-- 60&#45;&gt;121 -->\n<g id=\"edge121\" class=\"edge\">\n<title>60&#45;&gt;121</title>\n<path fill=\"none\" stroke=\"black\" d=\"M8704.27,-86.8C8690.53,-74.24 8671.72,-57.05 8656.48,-43.12\"/>\n<polygon fill=\"black\" stroke=\"black\" points=\"8658.62,-40.34 8648.88,-36.18 8653.9,-45.51 8658.62,-40.34\"/>\n<text text-anchor=\"middle\" x=\"8693.59\" y=\"-57.8\" font-family=\"Times,serif\" font-size=\"14.00\">No</text>\n</g>\n<!-- 122 -->\n<g id=\"node123\" class=\"node\">\n<title>122</title>\n<polygon fill=\"none\" stroke=\"red\" points=\"8804.09,-36 8700.09,-36 8700.09,0 8804.09,0 8804.09,-36\"/>\n<text text-anchor=\"middle\" x=\"8752.09\" y=\"-14.3\" font-family=\"Times,serif\" font-size=\"14.00\">val = &#45;0.049</text>\n</g>\n<!-- 60&#45;&gt;122 -->\n<g id=\"edge122\" class=\"edge\">\n<title>60&#45;&gt;122</title>\n<path fill=\"none\" stroke=\"black\" d=\"M8728.96,-86.8C8732.97,-75.05 8738.36,-59.24 8742.93,-45.84\"/>\n<polygon fill=\"black\" stroke=\"black\" points=\"8746.31,-46.77 8746.23,-36.18 8739.69,-44.51 8746.31,-46.77\"/>\n<text text-anchor=\"middle\" x=\"8752.59\" y=\"-57.8\" font-family=\"Times,serif\" font-size=\"14.00\">Yes</text>\n</g>\n<!-- 123 -->\n<g id=\"node124\" class=\"node\">\n<title>123</title>\n<polygon fill=\"none\" stroke=\"red\" points=\"8979.59,-36 8880.59,-36 8880.59,0 8979.59,0 8979.59,-36\"/>\n<text text-anchor=\"middle\" x=\"8930.09\" y=\"-14.3\" font-family=\"Times,serif\" font-size=\"14.00\">val = 0.000</text>\n</g>\n<!-- 61&#45;&gt;123 -->\n<g id=\"edge123\" class=\"edge\">\n<title>61&#45;&gt;123</title>\n<path fill=\"none\" stroke=\"black\" d=\"M9001.08,-86.8C8987.93,-74.24 8969.93,-57.05 8955.34,-43.12\"/>\n<polygon fill=\"black\" stroke=\"black\" points=\"8957.72,-40.55 8948.07,-36.18 8952.89,-45.61 8957.72,-40.55\"/>\n<text text-anchor=\"middle\" x=\"8990.59\" y=\"-57.8\" font-family=\"Times,serif\" font-size=\"14.00\">No</text>\n</g>\n<!-- 124 -->\n<g id=\"node125\" class=\"node\">\n<title>124</title>\n<polygon fill=\"none\" stroke=\"red\" points=\"9096.59,-36 8997.59,-36 8997.59,0 9096.59,0 9096.59,-36\"/>\n<text text-anchor=\"middle\" x=\"9047.09\" y=\"-14.3\" font-family=\"Times,serif\" font-size=\"14.00\">val = 0.000</text>\n</g>\n<!-- 61&#45;&gt;124 -->\n<g id=\"edge124\" class=\"edge\">\n<title>61&#45;&gt;124</title>\n<path fill=\"none\" stroke=\"black\" d=\"M9024.75,-86.8C9028.62,-75.05 9033.83,-59.24 9038.25,-45.84\"/>\n<polygon fill=\"black\" stroke=\"black\" points=\"9041.63,-46.77 9041.43,-36.18 9034.98,-44.58 9041.63,-46.77\"/>\n<text text-anchor=\"middle\" x=\"9047.59\" y=\"-57.8\" font-family=\"Times,serif\" font-size=\"14.00\">Yes</text>\n</g>\n<!-- 125 -->\n<g id=\"node126\" class=\"node\">\n<title>125</title>\n<polygon fill=\"none\" stroke=\"red\" points=\"9307.09,-36 9203.09,-36 9203.09,0 9307.09,0 9307.09,-36\"/>\n<text text-anchor=\"middle\" x=\"9255.09\" y=\"-14.3\" font-family=\"Times,serif\" font-size=\"14.00\">val = &#45;0.020</text>\n</g>\n<!-- 62&#45;&gt;125 -->\n<g id=\"edge125\" class=\"edge\">\n<title>62&#45;&gt;125</title>\n<path fill=\"none\" stroke=\"black\" d=\"M9302.95,-86.8C9294.41,-74.7 9282.83,-58.3 9273.21,-44.67\"/>\n<polygon fill=\"black\" stroke=\"black\" points=\"9275.84,-42.33 9267.21,-36.18 9270.12,-46.36 9275.84,-42.33\"/>\n<text text-anchor=\"middle\" x=\"9299.59\" y=\"-57.8\" font-family=\"Times,serif\" font-size=\"14.00\">No</text>\n</g>\n<!-- 126 -->\n<g id=\"node127\" class=\"node\">\n<title>126</title>\n<polygon fill=\"none\" stroke=\"red\" points=\"9424.59,-36 9325.59,-36 9325.59,0 9424.59,0 9424.59,-36\"/>\n<text text-anchor=\"middle\" x=\"9375.09\" y=\"-14.3\" font-family=\"Times,serif\" font-size=\"14.00\">val = 0.000</text>\n</g>\n<!-- 62&#45;&gt;126 -->\n<g id=\"edge126\" class=\"edge\">\n<title>62&#45;&gt;126</title>\n<path fill=\"none\" stroke=\"black\" d=\"M9327.23,-86.8C9335.77,-74.7 9347.34,-58.3 9356.97,-44.67\"/>\n<polygon fill=\"black\" stroke=\"black\" points=\"9360.06,-46.36 9362.96,-36.18 9354.34,-42.33 9360.06,-46.36\"/>\n<text text-anchor=\"middle\" x=\"9360.59\" y=\"-57.8\" font-family=\"Times,serif\" font-size=\"14.00\">Yes</text>\n</g>\n</g>\n</svg>\n",
            "text/plain": [
              "<graphviz.graphs.Digraph at 0x7fb004115660>"
            ]
          },
          "execution_count": 86,
          "metadata": {},
          "output_type": "execute_result"
        }
      ],
      "source": [
        "pool = Pool(X_test, y_test, cat_features=cat_features, feature_names=list(X_test.columns))\n",
        "model.plot_tree(\n",
        "    tree_idx=0,\n",
        "    pool=pool\n",
        ")\n"
      ]
    },
    {
      "cell_type": "code",
      "execution_count": 87,
      "metadata": {},
      "outputs": [
        {
          "name": "stderr",
          "output_type": "stream",
          "text": [
            "/home/proton/anaconda3/envs/proton/lib/python3.10/site-packages/catboost/core.py:1411: FutureWarning:\n",
            "\n",
            "iteritems is deprecated and will be removed in a future version. Use .items instead.\n",
            "\n"
          ]
        },
        {
          "data": {
            "application/vnd.plotly.v1+json": {
              "config": {
                "plotlyServerURL": "https://plot.ly"
              },
              "data": [
                {
                  "alignmentgroup": "True",
                  "bingroup": "x",
                  "hovertemplate": "True Labels=0<br>Score=%{x}<br>count=%{y}<extra></extra>",
                  "legendgroup": "0",
                  "marker": {
                    "color": "#636efa",
                    "pattern": {
                      "shape": ""
                    }
                  },
                  "name": "0",
                  "nbinsx": 50,
                  "offsetgroup": "0",
                  "orientation": "v",
                  "showlegend": true,
                  "type": "histogram",
                  "x": [
                    0.23589524537924267,
                    0.173100694443486,
                    0.16323217844518118,
                    0.17196833535308592,
                    0.17574742768827648,
                    0.16694900472004742,
                    0.15023599167740131,
                    0.16828233300084505,
                    0.16297118399941307,
                    0.34986271873511054,
                    0.42713767564757704,
                    0.39707345613785794,
                    0.16020588223306872,
                    0.18022410863030586,
                    0.1871107351768043,
                    0.1788127323000138,
                    0.335573995732693,
                    0.24853024105259905,
                    0.2030032235889699,
                    0.19641797623627164,
                    0.18718119145879797,
                    0.3581798692925433,
                    0.39617917152922083,
                    0.36418249993699875,
                    0.40329556253242965,
                    0.34078844774405703,
                    0.17797235185797725,
                    0.3396214106929748,
                    0.2007863938409903,
                    0.35684483651241183,
                    0.33635231551731964,
                    0.20185397800325483,
                    0.1650515630783665,
                    0.1742732126311554,
                    0.39103774207465947,
                    0.16600072422437404,
                    0.1878488262625412,
                    0.36637113863392107,
                    0.32062484259138385,
                    0.2613595240368671,
                    0.1893003655392347,
                    0.2733293444736257,
                    0.19035617196239993,
                    0.2801225095556389,
                    0.16181269093345704,
                    0.39883298184932264,
                    0.1821566243320987,
                    0.36992898981588124,
                    0.166251343815985,
                    0.12865965159272727,
                    0.33829897930286784,
                    0.10956977215248047,
                    0.1488726587892899,
                    0.161089443691565,
                    0.34791751492055245,
                    0.20903537784516366,
                    0.17979536417703815,
                    0.16319771461033383,
                    0.3383884106593925,
                    0.1497028684071081,
                    0.265853463444943,
                    0.16344579733111894,
                    0.3774516580182214,
                    0.14195205415010823,
                    0.20510798935548313,
                    0.3367228377021568,
                    0.16276873012339788,
                    0.15603686207079032,
                    0.3796359565085012,
                    0.1611710441677792,
                    0.1779405128122639,
                    0.15844150452980935,
                    0.36907465620686186,
                    0.1517796726945831,
                    0.36114404282803103,
                    0.16101891300482543,
                    0.26631549816893496
                  ],
                  "xaxis": "x",
                  "yaxis": "y"
                },
                {
                  "alignmentgroup": "True",
                  "bingroup": "x",
                  "hovertemplate": "True Labels=1<br>Score=%{x}<br>count=%{y}<extra></extra>",
                  "legendgroup": "1",
                  "marker": {
                    "color": "#EF553B",
                    "pattern": {
                      "shape": ""
                    }
                  },
                  "name": "1",
                  "nbinsx": 50,
                  "offsetgroup": "1",
                  "orientation": "v",
                  "showlegend": true,
                  "type": "histogram",
                  "x": [
                    0.3254468620657252,
                    0.3615911382353646,
                    0.43751743295487117,
                    0.35332219810231,
                    0.17932612337680567,
                    0.1803985070026102,
                    0.37860990278604606,
                    0.3320086888085389,
                    0.39461117609554497,
                    0.4044924551879048,
                    0.3686600704817916,
                    0.39430453751359174,
                    0.1612386304643117,
                    0.34866613778848177,
                    0.32679884116259755,
                    0.40609667344443817,
                    0.40974666436302876,
                    0.20031700524393012,
                    0.3811528040065203,
                    0.3842177449630027,
                    0.32494278001807786,
                    0.37047057760556823
                  ],
                  "xaxis": "x",
                  "yaxis": "y"
                }
              ],
              "layout": {
                "barmode": "relative",
                "legend": {
                  "title": {
                    "text": "True Labels"
                  },
                  "tracegroupgap": 0
                },
                "margin": {
                  "t": 60
                },
                "template": {
                  "data": {
                    "bar": [
                      {
                        "error_x": {
                          "color": "#2a3f5f"
                        },
                        "error_y": {
                          "color": "#2a3f5f"
                        },
                        "marker": {
                          "line": {
                            "color": "#E5ECF6",
                            "width": 0.5
                          },
                          "pattern": {
                            "fillmode": "overlay",
                            "size": 10,
                            "solidity": 0.2
                          }
                        },
                        "type": "bar"
                      }
                    ],
                    "barpolar": [
                      {
                        "marker": {
                          "line": {
                            "color": "#E5ECF6",
                            "width": 0.5
                          },
                          "pattern": {
                            "fillmode": "overlay",
                            "size": 10,
                            "solidity": 0.2
                          }
                        },
                        "type": "barpolar"
                      }
                    ],
                    "carpet": [
                      {
                        "aaxis": {
                          "endlinecolor": "#2a3f5f",
                          "gridcolor": "white",
                          "linecolor": "white",
                          "minorgridcolor": "white",
                          "startlinecolor": "#2a3f5f"
                        },
                        "baxis": {
                          "endlinecolor": "#2a3f5f",
                          "gridcolor": "white",
                          "linecolor": "white",
                          "minorgridcolor": "white",
                          "startlinecolor": "#2a3f5f"
                        },
                        "type": "carpet"
                      }
                    ],
                    "choropleth": [
                      {
                        "colorbar": {
                          "outlinewidth": 0,
                          "ticks": ""
                        },
                        "type": "choropleth"
                      }
                    ],
                    "contour": [
                      {
                        "colorbar": {
                          "outlinewidth": 0,
                          "ticks": ""
                        },
                        "colorscale": [
                          [
                            0,
                            "#0d0887"
                          ],
                          [
                            0.1111111111111111,
                            "#46039f"
                          ],
                          [
                            0.2222222222222222,
                            "#7201a8"
                          ],
                          [
                            0.3333333333333333,
                            "#9c179e"
                          ],
                          [
                            0.4444444444444444,
                            "#bd3786"
                          ],
                          [
                            0.5555555555555556,
                            "#d8576b"
                          ],
                          [
                            0.6666666666666666,
                            "#ed7953"
                          ],
                          [
                            0.7777777777777778,
                            "#fb9f3a"
                          ],
                          [
                            0.8888888888888888,
                            "#fdca26"
                          ],
                          [
                            1,
                            "#f0f921"
                          ]
                        ],
                        "type": "contour"
                      }
                    ],
                    "contourcarpet": [
                      {
                        "colorbar": {
                          "outlinewidth": 0,
                          "ticks": ""
                        },
                        "type": "contourcarpet"
                      }
                    ],
                    "heatmap": [
                      {
                        "colorbar": {
                          "outlinewidth": 0,
                          "ticks": ""
                        },
                        "colorscale": [
                          [
                            0,
                            "#0d0887"
                          ],
                          [
                            0.1111111111111111,
                            "#46039f"
                          ],
                          [
                            0.2222222222222222,
                            "#7201a8"
                          ],
                          [
                            0.3333333333333333,
                            "#9c179e"
                          ],
                          [
                            0.4444444444444444,
                            "#bd3786"
                          ],
                          [
                            0.5555555555555556,
                            "#d8576b"
                          ],
                          [
                            0.6666666666666666,
                            "#ed7953"
                          ],
                          [
                            0.7777777777777778,
                            "#fb9f3a"
                          ],
                          [
                            0.8888888888888888,
                            "#fdca26"
                          ],
                          [
                            1,
                            "#f0f921"
                          ]
                        ],
                        "type": "heatmap"
                      }
                    ],
                    "heatmapgl": [
                      {
                        "colorbar": {
                          "outlinewidth": 0,
                          "ticks": ""
                        },
                        "colorscale": [
                          [
                            0,
                            "#0d0887"
                          ],
                          [
                            0.1111111111111111,
                            "#46039f"
                          ],
                          [
                            0.2222222222222222,
                            "#7201a8"
                          ],
                          [
                            0.3333333333333333,
                            "#9c179e"
                          ],
                          [
                            0.4444444444444444,
                            "#bd3786"
                          ],
                          [
                            0.5555555555555556,
                            "#d8576b"
                          ],
                          [
                            0.6666666666666666,
                            "#ed7953"
                          ],
                          [
                            0.7777777777777778,
                            "#fb9f3a"
                          ],
                          [
                            0.8888888888888888,
                            "#fdca26"
                          ],
                          [
                            1,
                            "#f0f921"
                          ]
                        ],
                        "type": "heatmapgl"
                      }
                    ],
                    "histogram": [
                      {
                        "marker": {
                          "pattern": {
                            "fillmode": "overlay",
                            "size": 10,
                            "solidity": 0.2
                          }
                        },
                        "type": "histogram"
                      }
                    ],
                    "histogram2d": [
                      {
                        "colorbar": {
                          "outlinewidth": 0,
                          "ticks": ""
                        },
                        "colorscale": [
                          [
                            0,
                            "#0d0887"
                          ],
                          [
                            0.1111111111111111,
                            "#46039f"
                          ],
                          [
                            0.2222222222222222,
                            "#7201a8"
                          ],
                          [
                            0.3333333333333333,
                            "#9c179e"
                          ],
                          [
                            0.4444444444444444,
                            "#bd3786"
                          ],
                          [
                            0.5555555555555556,
                            "#d8576b"
                          ],
                          [
                            0.6666666666666666,
                            "#ed7953"
                          ],
                          [
                            0.7777777777777778,
                            "#fb9f3a"
                          ],
                          [
                            0.8888888888888888,
                            "#fdca26"
                          ],
                          [
                            1,
                            "#f0f921"
                          ]
                        ],
                        "type": "histogram2d"
                      }
                    ],
                    "histogram2dcontour": [
                      {
                        "colorbar": {
                          "outlinewidth": 0,
                          "ticks": ""
                        },
                        "colorscale": [
                          [
                            0,
                            "#0d0887"
                          ],
                          [
                            0.1111111111111111,
                            "#46039f"
                          ],
                          [
                            0.2222222222222222,
                            "#7201a8"
                          ],
                          [
                            0.3333333333333333,
                            "#9c179e"
                          ],
                          [
                            0.4444444444444444,
                            "#bd3786"
                          ],
                          [
                            0.5555555555555556,
                            "#d8576b"
                          ],
                          [
                            0.6666666666666666,
                            "#ed7953"
                          ],
                          [
                            0.7777777777777778,
                            "#fb9f3a"
                          ],
                          [
                            0.8888888888888888,
                            "#fdca26"
                          ],
                          [
                            1,
                            "#f0f921"
                          ]
                        ],
                        "type": "histogram2dcontour"
                      }
                    ],
                    "mesh3d": [
                      {
                        "colorbar": {
                          "outlinewidth": 0,
                          "ticks": ""
                        },
                        "type": "mesh3d"
                      }
                    ],
                    "parcoords": [
                      {
                        "line": {
                          "colorbar": {
                            "outlinewidth": 0,
                            "ticks": ""
                          }
                        },
                        "type": "parcoords"
                      }
                    ],
                    "pie": [
                      {
                        "automargin": true,
                        "type": "pie"
                      }
                    ],
                    "scatter": [
                      {
                        "fillpattern": {
                          "fillmode": "overlay",
                          "size": 10,
                          "solidity": 0.2
                        },
                        "type": "scatter"
                      }
                    ],
                    "scatter3d": [
                      {
                        "line": {
                          "colorbar": {
                            "outlinewidth": 0,
                            "ticks": ""
                          }
                        },
                        "marker": {
                          "colorbar": {
                            "outlinewidth": 0,
                            "ticks": ""
                          }
                        },
                        "type": "scatter3d"
                      }
                    ],
                    "scattercarpet": [
                      {
                        "marker": {
                          "colorbar": {
                            "outlinewidth": 0,
                            "ticks": ""
                          }
                        },
                        "type": "scattercarpet"
                      }
                    ],
                    "scattergeo": [
                      {
                        "marker": {
                          "colorbar": {
                            "outlinewidth": 0,
                            "ticks": ""
                          }
                        },
                        "type": "scattergeo"
                      }
                    ],
                    "scattergl": [
                      {
                        "marker": {
                          "colorbar": {
                            "outlinewidth": 0,
                            "ticks": ""
                          }
                        },
                        "type": "scattergl"
                      }
                    ],
                    "scattermapbox": [
                      {
                        "marker": {
                          "colorbar": {
                            "outlinewidth": 0,
                            "ticks": ""
                          }
                        },
                        "type": "scattermapbox"
                      }
                    ],
                    "scatterpolar": [
                      {
                        "marker": {
                          "colorbar": {
                            "outlinewidth": 0,
                            "ticks": ""
                          }
                        },
                        "type": "scatterpolar"
                      }
                    ],
                    "scatterpolargl": [
                      {
                        "marker": {
                          "colorbar": {
                            "outlinewidth": 0,
                            "ticks": ""
                          }
                        },
                        "type": "scatterpolargl"
                      }
                    ],
                    "scatterternary": [
                      {
                        "marker": {
                          "colorbar": {
                            "outlinewidth": 0,
                            "ticks": ""
                          }
                        },
                        "type": "scatterternary"
                      }
                    ],
                    "surface": [
                      {
                        "colorbar": {
                          "outlinewidth": 0,
                          "ticks": ""
                        },
                        "colorscale": [
                          [
                            0,
                            "#0d0887"
                          ],
                          [
                            0.1111111111111111,
                            "#46039f"
                          ],
                          [
                            0.2222222222222222,
                            "#7201a8"
                          ],
                          [
                            0.3333333333333333,
                            "#9c179e"
                          ],
                          [
                            0.4444444444444444,
                            "#bd3786"
                          ],
                          [
                            0.5555555555555556,
                            "#d8576b"
                          ],
                          [
                            0.6666666666666666,
                            "#ed7953"
                          ],
                          [
                            0.7777777777777778,
                            "#fb9f3a"
                          ],
                          [
                            0.8888888888888888,
                            "#fdca26"
                          ],
                          [
                            1,
                            "#f0f921"
                          ]
                        ],
                        "type": "surface"
                      }
                    ],
                    "table": [
                      {
                        "cells": {
                          "fill": {
                            "color": "#EBF0F8"
                          },
                          "line": {
                            "color": "white"
                          }
                        },
                        "header": {
                          "fill": {
                            "color": "#C8D4E3"
                          },
                          "line": {
                            "color": "white"
                          }
                        },
                        "type": "table"
                      }
                    ]
                  },
                  "layout": {
                    "annotationdefaults": {
                      "arrowcolor": "#2a3f5f",
                      "arrowhead": 0,
                      "arrowwidth": 1
                    },
                    "autotypenumbers": "strict",
                    "coloraxis": {
                      "colorbar": {
                        "outlinewidth": 0,
                        "ticks": ""
                      }
                    },
                    "colorscale": {
                      "diverging": [
                        [
                          0,
                          "#8e0152"
                        ],
                        [
                          0.1,
                          "#c51b7d"
                        ],
                        [
                          0.2,
                          "#de77ae"
                        ],
                        [
                          0.3,
                          "#f1b6da"
                        ],
                        [
                          0.4,
                          "#fde0ef"
                        ],
                        [
                          0.5,
                          "#f7f7f7"
                        ],
                        [
                          0.6,
                          "#e6f5d0"
                        ],
                        [
                          0.7,
                          "#b8e186"
                        ],
                        [
                          0.8,
                          "#7fbc41"
                        ],
                        [
                          0.9,
                          "#4d9221"
                        ],
                        [
                          1,
                          "#276419"
                        ]
                      ],
                      "sequential": [
                        [
                          0,
                          "#0d0887"
                        ],
                        [
                          0.1111111111111111,
                          "#46039f"
                        ],
                        [
                          0.2222222222222222,
                          "#7201a8"
                        ],
                        [
                          0.3333333333333333,
                          "#9c179e"
                        ],
                        [
                          0.4444444444444444,
                          "#bd3786"
                        ],
                        [
                          0.5555555555555556,
                          "#d8576b"
                        ],
                        [
                          0.6666666666666666,
                          "#ed7953"
                        ],
                        [
                          0.7777777777777778,
                          "#fb9f3a"
                        ],
                        [
                          0.8888888888888888,
                          "#fdca26"
                        ],
                        [
                          1,
                          "#f0f921"
                        ]
                      ],
                      "sequentialminus": [
                        [
                          0,
                          "#0d0887"
                        ],
                        [
                          0.1111111111111111,
                          "#46039f"
                        ],
                        [
                          0.2222222222222222,
                          "#7201a8"
                        ],
                        [
                          0.3333333333333333,
                          "#9c179e"
                        ],
                        [
                          0.4444444444444444,
                          "#bd3786"
                        ],
                        [
                          0.5555555555555556,
                          "#d8576b"
                        ],
                        [
                          0.6666666666666666,
                          "#ed7953"
                        ],
                        [
                          0.7777777777777778,
                          "#fb9f3a"
                        ],
                        [
                          0.8888888888888888,
                          "#fdca26"
                        ],
                        [
                          1,
                          "#f0f921"
                        ]
                      ]
                    },
                    "colorway": [
                      "#636efa",
                      "#EF553B",
                      "#00cc96",
                      "#ab63fa",
                      "#FFA15A",
                      "#19d3f3",
                      "#FF6692",
                      "#B6E880",
                      "#FF97FF",
                      "#FECB52"
                    ],
                    "font": {
                      "color": "#2a3f5f"
                    },
                    "geo": {
                      "bgcolor": "white",
                      "lakecolor": "white",
                      "landcolor": "#E5ECF6",
                      "showlakes": true,
                      "showland": true,
                      "subunitcolor": "white"
                    },
                    "hoverlabel": {
                      "align": "left"
                    },
                    "hovermode": "closest",
                    "mapbox": {
                      "style": "light"
                    },
                    "paper_bgcolor": "white",
                    "plot_bgcolor": "#E5ECF6",
                    "polar": {
                      "angularaxis": {
                        "gridcolor": "white",
                        "linecolor": "white",
                        "ticks": ""
                      },
                      "bgcolor": "#E5ECF6",
                      "radialaxis": {
                        "gridcolor": "white",
                        "linecolor": "white",
                        "ticks": ""
                      }
                    },
                    "scene": {
                      "xaxis": {
                        "backgroundcolor": "#E5ECF6",
                        "gridcolor": "white",
                        "gridwidth": 2,
                        "linecolor": "white",
                        "showbackground": true,
                        "ticks": "",
                        "zerolinecolor": "white"
                      },
                      "yaxis": {
                        "backgroundcolor": "#E5ECF6",
                        "gridcolor": "white",
                        "gridwidth": 2,
                        "linecolor": "white",
                        "showbackground": true,
                        "ticks": "",
                        "zerolinecolor": "white"
                      },
                      "zaxis": {
                        "backgroundcolor": "#E5ECF6",
                        "gridcolor": "white",
                        "gridwidth": 2,
                        "linecolor": "white",
                        "showbackground": true,
                        "ticks": "",
                        "zerolinecolor": "white"
                      }
                    },
                    "shapedefaults": {
                      "line": {
                        "color": "#2a3f5f"
                      }
                    },
                    "ternary": {
                      "aaxis": {
                        "gridcolor": "white",
                        "linecolor": "white",
                        "ticks": ""
                      },
                      "baxis": {
                        "gridcolor": "white",
                        "linecolor": "white",
                        "ticks": ""
                      },
                      "bgcolor": "#E5ECF6",
                      "caxis": {
                        "gridcolor": "white",
                        "linecolor": "white",
                        "ticks": ""
                      }
                    },
                    "title": {
                      "x": 0.05
                    },
                    "xaxis": {
                      "automargin": true,
                      "gridcolor": "white",
                      "linecolor": "white",
                      "ticks": "",
                      "title": {
                        "standoff": 15
                      },
                      "zerolinecolor": "white",
                      "zerolinewidth": 2
                    },
                    "yaxis": {
                      "automargin": true,
                      "gridcolor": "white",
                      "linecolor": "white",
                      "ticks": "",
                      "title": {
                        "standoff": 15
                      },
                      "zerolinecolor": "white",
                      "zerolinewidth": 2
                    }
                  }
                },
                "xaxis": {
                  "anchor": "y",
                  "domain": [
                    0,
                    1
                  ],
                  "title": {
                    "text": "Score"
                  }
                },
                "yaxis": {
                  "anchor": "x",
                  "domain": [
                    0,
                    1
                  ],
                  "title": {
                    "text": "count"
                  }
                }
              }
            }
          },
          "metadata": {},
          "output_type": "display_data"
        },
        {
          "data": {
            "application/vnd.plotly.v1+json": {
              "config": {
                "plotlyServerURL": "https://plot.ly"
              },
              "data": [
                {
                  "hovertemplate": "Rate=False Positive Rate<br>Thresholds=%{x}<br>value=%{y}<extra></extra>",
                  "legendgroup": "False Positive Rate",
                  "line": {
                    "color": "#636efa",
                    "dash": "solid"
                  },
                  "marker": {
                    "symbol": "circle"
                  },
                  "mode": "lines",
                  "name": "False Positive Rate",
                  "orientation": "v",
                  "showlegend": true,
                  "type": "scatter",
                  "x": [
                    1.4375174329548712,
                    0.43751743295487117,
                    0.42713767564757704,
                    0.4044924551879048,
                    0.39617917152922083,
                    0.39430453751359174,
                    0.39103774207465947,
                    0.3811528040065203,
                    0.3796359565085012,
                    0.37860990278604606,
                    0.3774516580182214,
                    0.37047057760556823,
                    0.36907465620686186,
                    0.3686600704817916,
                    0.36418249993699875,
                    0.3615911382353646,
                    0.35684483651241183,
                    0.35332219810231,
                    0.34986271873511054,
                    0.34866613778848177,
                    0.335573995732693,
                    0.32494278001807786,
                    0.2007863938409903,
                    0.20031700524393012,
                    0.1821566243320987,
                    0.1803985070026102,
                    0.17979536417703815,
                    0.17932612337680567,
                    0.16181269093345704,
                    0.1612386304643117,
                    0.10956977215248047
                  ],
                  "xaxis": "x",
                  "y": [
                    0,
                    0,
                    0.012987012987012988,
                    0.012987012987012988,
                    0.06493506493506493,
                    0.06493506493506493,
                    0.07792207792207792,
                    0.07792207792207792,
                    0.09090909090909091,
                    0.09090909090909091,
                    0.1038961038961039,
                    0.1038961038961039,
                    0.12987012987012986,
                    0.12987012987012986,
                    0.15584415584415584,
                    0.15584415584415584,
                    0.19480519480519481,
                    0.19480519480519481,
                    0.2077922077922078,
                    0.2077922077922078,
                    0.3116883116883117,
                    0.3116883116883117,
                    0.4805194805194805,
                    0.4805194805194805,
                    0.5714285714285714,
                    0.5714285714285714,
                    0.5974025974025974,
                    0.5974025974025974,
                    0.8311688311688312,
                    0.8311688311688312,
                    1
                  ],
                  "yaxis": "y"
                },
                {
                  "hovertemplate": "Rate=True Positive Rate<br>Thresholds=%{x}<br>value=%{y}<extra></extra>",
                  "legendgroup": "True Positive Rate",
                  "line": {
                    "color": "#EF553B",
                    "dash": "solid"
                  },
                  "marker": {
                    "symbol": "circle"
                  },
                  "mode": "lines",
                  "name": "True Positive Rate",
                  "orientation": "v",
                  "showlegend": true,
                  "type": "scatter",
                  "x": [
                    1.4375174329548712,
                    0.43751743295487117,
                    0.42713767564757704,
                    0.4044924551879048,
                    0.39617917152922083,
                    0.39430453751359174,
                    0.39103774207465947,
                    0.3811528040065203,
                    0.3796359565085012,
                    0.37860990278604606,
                    0.3774516580182214,
                    0.37047057760556823,
                    0.36907465620686186,
                    0.3686600704817916,
                    0.36418249993699875,
                    0.3615911382353646,
                    0.35684483651241183,
                    0.35332219810231,
                    0.34986271873511054,
                    0.34866613778848177,
                    0.335573995732693,
                    0.32494278001807786,
                    0.2007863938409903,
                    0.20031700524393012,
                    0.1821566243320987,
                    0.1803985070026102,
                    0.17979536417703815,
                    0.17932612337680567,
                    0.16181269093345704,
                    0.1612386304643117,
                    0.10956977215248047
                  ],
                  "xaxis": "x",
                  "y": [
                    0,
                    0.045454545454545456,
                    0.045454545454545456,
                    0.18181818181818182,
                    0.18181818181818182,
                    0.2727272727272727,
                    0.2727272727272727,
                    0.36363636363636365,
                    0.36363636363636365,
                    0.4090909090909091,
                    0.4090909090909091,
                    0.45454545454545453,
                    0.45454545454545453,
                    0.5,
                    0.5,
                    0.5454545454545454,
                    0.5454545454545454,
                    0.5909090909090909,
                    0.5909090909090909,
                    0.6363636363636364,
                    0.6363636363636364,
                    0.8181818181818182,
                    0.8181818181818182,
                    0.8636363636363636,
                    0.8636363636363636,
                    0.9090909090909091,
                    0.9090909090909091,
                    0.9545454545454546,
                    0.9545454545454546,
                    1,
                    1
                  ],
                  "yaxis": "y"
                }
              ],
              "layout": {
                "height": 500,
                "legend": {
                  "title": {
                    "text": "Rate"
                  },
                  "tracegroupgap": 0
                },
                "template": {
                  "data": {
                    "bar": [
                      {
                        "error_x": {
                          "color": "#2a3f5f"
                        },
                        "error_y": {
                          "color": "#2a3f5f"
                        },
                        "marker": {
                          "line": {
                            "color": "#E5ECF6",
                            "width": 0.5
                          },
                          "pattern": {
                            "fillmode": "overlay",
                            "size": 10,
                            "solidity": 0.2
                          }
                        },
                        "type": "bar"
                      }
                    ],
                    "barpolar": [
                      {
                        "marker": {
                          "line": {
                            "color": "#E5ECF6",
                            "width": 0.5
                          },
                          "pattern": {
                            "fillmode": "overlay",
                            "size": 10,
                            "solidity": 0.2
                          }
                        },
                        "type": "barpolar"
                      }
                    ],
                    "carpet": [
                      {
                        "aaxis": {
                          "endlinecolor": "#2a3f5f",
                          "gridcolor": "white",
                          "linecolor": "white",
                          "minorgridcolor": "white",
                          "startlinecolor": "#2a3f5f"
                        },
                        "baxis": {
                          "endlinecolor": "#2a3f5f",
                          "gridcolor": "white",
                          "linecolor": "white",
                          "minorgridcolor": "white",
                          "startlinecolor": "#2a3f5f"
                        },
                        "type": "carpet"
                      }
                    ],
                    "choropleth": [
                      {
                        "colorbar": {
                          "outlinewidth": 0,
                          "ticks": ""
                        },
                        "type": "choropleth"
                      }
                    ],
                    "contour": [
                      {
                        "colorbar": {
                          "outlinewidth": 0,
                          "ticks": ""
                        },
                        "colorscale": [
                          [
                            0,
                            "#0d0887"
                          ],
                          [
                            0.1111111111111111,
                            "#46039f"
                          ],
                          [
                            0.2222222222222222,
                            "#7201a8"
                          ],
                          [
                            0.3333333333333333,
                            "#9c179e"
                          ],
                          [
                            0.4444444444444444,
                            "#bd3786"
                          ],
                          [
                            0.5555555555555556,
                            "#d8576b"
                          ],
                          [
                            0.6666666666666666,
                            "#ed7953"
                          ],
                          [
                            0.7777777777777778,
                            "#fb9f3a"
                          ],
                          [
                            0.8888888888888888,
                            "#fdca26"
                          ],
                          [
                            1,
                            "#f0f921"
                          ]
                        ],
                        "type": "contour"
                      }
                    ],
                    "contourcarpet": [
                      {
                        "colorbar": {
                          "outlinewidth": 0,
                          "ticks": ""
                        },
                        "type": "contourcarpet"
                      }
                    ],
                    "heatmap": [
                      {
                        "colorbar": {
                          "outlinewidth": 0,
                          "ticks": ""
                        },
                        "colorscale": [
                          [
                            0,
                            "#0d0887"
                          ],
                          [
                            0.1111111111111111,
                            "#46039f"
                          ],
                          [
                            0.2222222222222222,
                            "#7201a8"
                          ],
                          [
                            0.3333333333333333,
                            "#9c179e"
                          ],
                          [
                            0.4444444444444444,
                            "#bd3786"
                          ],
                          [
                            0.5555555555555556,
                            "#d8576b"
                          ],
                          [
                            0.6666666666666666,
                            "#ed7953"
                          ],
                          [
                            0.7777777777777778,
                            "#fb9f3a"
                          ],
                          [
                            0.8888888888888888,
                            "#fdca26"
                          ],
                          [
                            1,
                            "#f0f921"
                          ]
                        ],
                        "type": "heatmap"
                      }
                    ],
                    "heatmapgl": [
                      {
                        "colorbar": {
                          "outlinewidth": 0,
                          "ticks": ""
                        },
                        "colorscale": [
                          [
                            0,
                            "#0d0887"
                          ],
                          [
                            0.1111111111111111,
                            "#46039f"
                          ],
                          [
                            0.2222222222222222,
                            "#7201a8"
                          ],
                          [
                            0.3333333333333333,
                            "#9c179e"
                          ],
                          [
                            0.4444444444444444,
                            "#bd3786"
                          ],
                          [
                            0.5555555555555556,
                            "#d8576b"
                          ],
                          [
                            0.6666666666666666,
                            "#ed7953"
                          ],
                          [
                            0.7777777777777778,
                            "#fb9f3a"
                          ],
                          [
                            0.8888888888888888,
                            "#fdca26"
                          ],
                          [
                            1,
                            "#f0f921"
                          ]
                        ],
                        "type": "heatmapgl"
                      }
                    ],
                    "histogram": [
                      {
                        "marker": {
                          "pattern": {
                            "fillmode": "overlay",
                            "size": 10,
                            "solidity": 0.2
                          }
                        },
                        "type": "histogram"
                      }
                    ],
                    "histogram2d": [
                      {
                        "colorbar": {
                          "outlinewidth": 0,
                          "ticks": ""
                        },
                        "colorscale": [
                          [
                            0,
                            "#0d0887"
                          ],
                          [
                            0.1111111111111111,
                            "#46039f"
                          ],
                          [
                            0.2222222222222222,
                            "#7201a8"
                          ],
                          [
                            0.3333333333333333,
                            "#9c179e"
                          ],
                          [
                            0.4444444444444444,
                            "#bd3786"
                          ],
                          [
                            0.5555555555555556,
                            "#d8576b"
                          ],
                          [
                            0.6666666666666666,
                            "#ed7953"
                          ],
                          [
                            0.7777777777777778,
                            "#fb9f3a"
                          ],
                          [
                            0.8888888888888888,
                            "#fdca26"
                          ],
                          [
                            1,
                            "#f0f921"
                          ]
                        ],
                        "type": "histogram2d"
                      }
                    ],
                    "histogram2dcontour": [
                      {
                        "colorbar": {
                          "outlinewidth": 0,
                          "ticks": ""
                        },
                        "colorscale": [
                          [
                            0,
                            "#0d0887"
                          ],
                          [
                            0.1111111111111111,
                            "#46039f"
                          ],
                          [
                            0.2222222222222222,
                            "#7201a8"
                          ],
                          [
                            0.3333333333333333,
                            "#9c179e"
                          ],
                          [
                            0.4444444444444444,
                            "#bd3786"
                          ],
                          [
                            0.5555555555555556,
                            "#d8576b"
                          ],
                          [
                            0.6666666666666666,
                            "#ed7953"
                          ],
                          [
                            0.7777777777777778,
                            "#fb9f3a"
                          ],
                          [
                            0.8888888888888888,
                            "#fdca26"
                          ],
                          [
                            1,
                            "#f0f921"
                          ]
                        ],
                        "type": "histogram2dcontour"
                      }
                    ],
                    "mesh3d": [
                      {
                        "colorbar": {
                          "outlinewidth": 0,
                          "ticks": ""
                        },
                        "type": "mesh3d"
                      }
                    ],
                    "parcoords": [
                      {
                        "line": {
                          "colorbar": {
                            "outlinewidth": 0,
                            "ticks": ""
                          }
                        },
                        "type": "parcoords"
                      }
                    ],
                    "pie": [
                      {
                        "automargin": true,
                        "type": "pie"
                      }
                    ],
                    "scatter": [
                      {
                        "fillpattern": {
                          "fillmode": "overlay",
                          "size": 10,
                          "solidity": 0.2
                        },
                        "type": "scatter"
                      }
                    ],
                    "scatter3d": [
                      {
                        "line": {
                          "colorbar": {
                            "outlinewidth": 0,
                            "ticks": ""
                          }
                        },
                        "marker": {
                          "colorbar": {
                            "outlinewidth": 0,
                            "ticks": ""
                          }
                        },
                        "type": "scatter3d"
                      }
                    ],
                    "scattercarpet": [
                      {
                        "marker": {
                          "colorbar": {
                            "outlinewidth": 0,
                            "ticks": ""
                          }
                        },
                        "type": "scattercarpet"
                      }
                    ],
                    "scattergeo": [
                      {
                        "marker": {
                          "colorbar": {
                            "outlinewidth": 0,
                            "ticks": ""
                          }
                        },
                        "type": "scattergeo"
                      }
                    ],
                    "scattergl": [
                      {
                        "marker": {
                          "colorbar": {
                            "outlinewidth": 0,
                            "ticks": ""
                          }
                        },
                        "type": "scattergl"
                      }
                    ],
                    "scattermapbox": [
                      {
                        "marker": {
                          "colorbar": {
                            "outlinewidth": 0,
                            "ticks": ""
                          }
                        },
                        "type": "scattermapbox"
                      }
                    ],
                    "scatterpolar": [
                      {
                        "marker": {
                          "colorbar": {
                            "outlinewidth": 0,
                            "ticks": ""
                          }
                        },
                        "type": "scatterpolar"
                      }
                    ],
                    "scatterpolargl": [
                      {
                        "marker": {
                          "colorbar": {
                            "outlinewidth": 0,
                            "ticks": ""
                          }
                        },
                        "type": "scatterpolargl"
                      }
                    ],
                    "scatterternary": [
                      {
                        "marker": {
                          "colorbar": {
                            "outlinewidth": 0,
                            "ticks": ""
                          }
                        },
                        "type": "scatterternary"
                      }
                    ],
                    "surface": [
                      {
                        "colorbar": {
                          "outlinewidth": 0,
                          "ticks": ""
                        },
                        "colorscale": [
                          [
                            0,
                            "#0d0887"
                          ],
                          [
                            0.1111111111111111,
                            "#46039f"
                          ],
                          [
                            0.2222222222222222,
                            "#7201a8"
                          ],
                          [
                            0.3333333333333333,
                            "#9c179e"
                          ],
                          [
                            0.4444444444444444,
                            "#bd3786"
                          ],
                          [
                            0.5555555555555556,
                            "#d8576b"
                          ],
                          [
                            0.6666666666666666,
                            "#ed7953"
                          ],
                          [
                            0.7777777777777778,
                            "#fb9f3a"
                          ],
                          [
                            0.8888888888888888,
                            "#fdca26"
                          ],
                          [
                            1,
                            "#f0f921"
                          ]
                        ],
                        "type": "surface"
                      }
                    ],
                    "table": [
                      {
                        "cells": {
                          "fill": {
                            "color": "#EBF0F8"
                          },
                          "line": {
                            "color": "white"
                          }
                        },
                        "header": {
                          "fill": {
                            "color": "#C8D4E3"
                          },
                          "line": {
                            "color": "white"
                          }
                        },
                        "type": "table"
                      }
                    ]
                  },
                  "layout": {
                    "annotationdefaults": {
                      "arrowcolor": "#2a3f5f",
                      "arrowhead": 0,
                      "arrowwidth": 1
                    },
                    "autotypenumbers": "strict",
                    "coloraxis": {
                      "colorbar": {
                        "outlinewidth": 0,
                        "ticks": ""
                      }
                    },
                    "colorscale": {
                      "diverging": [
                        [
                          0,
                          "#8e0152"
                        ],
                        [
                          0.1,
                          "#c51b7d"
                        ],
                        [
                          0.2,
                          "#de77ae"
                        ],
                        [
                          0.3,
                          "#f1b6da"
                        ],
                        [
                          0.4,
                          "#fde0ef"
                        ],
                        [
                          0.5,
                          "#f7f7f7"
                        ],
                        [
                          0.6,
                          "#e6f5d0"
                        ],
                        [
                          0.7,
                          "#b8e186"
                        ],
                        [
                          0.8,
                          "#7fbc41"
                        ],
                        [
                          0.9,
                          "#4d9221"
                        ],
                        [
                          1,
                          "#276419"
                        ]
                      ],
                      "sequential": [
                        [
                          0,
                          "#0d0887"
                        ],
                        [
                          0.1111111111111111,
                          "#46039f"
                        ],
                        [
                          0.2222222222222222,
                          "#7201a8"
                        ],
                        [
                          0.3333333333333333,
                          "#9c179e"
                        ],
                        [
                          0.4444444444444444,
                          "#bd3786"
                        ],
                        [
                          0.5555555555555556,
                          "#d8576b"
                        ],
                        [
                          0.6666666666666666,
                          "#ed7953"
                        ],
                        [
                          0.7777777777777778,
                          "#fb9f3a"
                        ],
                        [
                          0.8888888888888888,
                          "#fdca26"
                        ],
                        [
                          1,
                          "#f0f921"
                        ]
                      ],
                      "sequentialminus": [
                        [
                          0,
                          "#0d0887"
                        ],
                        [
                          0.1111111111111111,
                          "#46039f"
                        ],
                        [
                          0.2222222222222222,
                          "#7201a8"
                        ],
                        [
                          0.3333333333333333,
                          "#9c179e"
                        ],
                        [
                          0.4444444444444444,
                          "#bd3786"
                        ],
                        [
                          0.5555555555555556,
                          "#d8576b"
                        ],
                        [
                          0.6666666666666666,
                          "#ed7953"
                        ],
                        [
                          0.7777777777777778,
                          "#fb9f3a"
                        ],
                        [
                          0.8888888888888888,
                          "#fdca26"
                        ],
                        [
                          1,
                          "#f0f921"
                        ]
                      ]
                    },
                    "colorway": [
                      "#636efa",
                      "#EF553B",
                      "#00cc96",
                      "#ab63fa",
                      "#FFA15A",
                      "#19d3f3",
                      "#FF6692",
                      "#B6E880",
                      "#FF97FF",
                      "#FECB52"
                    ],
                    "font": {
                      "color": "#2a3f5f"
                    },
                    "geo": {
                      "bgcolor": "white",
                      "lakecolor": "white",
                      "landcolor": "#E5ECF6",
                      "showlakes": true,
                      "showland": true,
                      "subunitcolor": "white"
                    },
                    "hoverlabel": {
                      "align": "left"
                    },
                    "hovermode": "closest",
                    "mapbox": {
                      "style": "light"
                    },
                    "paper_bgcolor": "white",
                    "plot_bgcolor": "#E5ECF6",
                    "polar": {
                      "angularaxis": {
                        "gridcolor": "white",
                        "linecolor": "white",
                        "ticks": ""
                      },
                      "bgcolor": "#E5ECF6",
                      "radialaxis": {
                        "gridcolor": "white",
                        "linecolor": "white",
                        "ticks": ""
                      }
                    },
                    "scene": {
                      "xaxis": {
                        "backgroundcolor": "#E5ECF6",
                        "gridcolor": "white",
                        "gridwidth": 2,
                        "linecolor": "white",
                        "showbackground": true,
                        "ticks": "",
                        "zerolinecolor": "white"
                      },
                      "yaxis": {
                        "backgroundcolor": "#E5ECF6",
                        "gridcolor": "white",
                        "gridwidth": 2,
                        "linecolor": "white",
                        "showbackground": true,
                        "ticks": "",
                        "zerolinecolor": "white"
                      },
                      "zaxis": {
                        "backgroundcolor": "#E5ECF6",
                        "gridcolor": "white",
                        "gridwidth": 2,
                        "linecolor": "white",
                        "showbackground": true,
                        "ticks": "",
                        "zerolinecolor": "white"
                      }
                    },
                    "shapedefaults": {
                      "line": {
                        "color": "#2a3f5f"
                      }
                    },
                    "ternary": {
                      "aaxis": {
                        "gridcolor": "white",
                        "linecolor": "white",
                        "ticks": ""
                      },
                      "baxis": {
                        "gridcolor": "white",
                        "linecolor": "white",
                        "ticks": ""
                      },
                      "bgcolor": "#E5ECF6",
                      "caxis": {
                        "gridcolor": "white",
                        "linecolor": "white",
                        "ticks": ""
                      }
                    },
                    "title": {
                      "x": 0.05
                    },
                    "xaxis": {
                      "automargin": true,
                      "gridcolor": "white",
                      "linecolor": "white",
                      "ticks": "",
                      "title": {
                        "standoff": 15
                      },
                      "zerolinecolor": "white",
                      "zerolinewidth": 2
                    },
                    "yaxis": {
                      "automargin": true,
                      "gridcolor": "white",
                      "linecolor": "white",
                      "ticks": "",
                      "title": {
                        "standoff": 15
                      },
                      "zerolinecolor": "white",
                      "zerolinewidth": 2
                    }
                  }
                },
                "title": {
                  "text": "TPR and FPR at every threshold"
                },
                "width": 700,
                "xaxis": {
                  "anchor": "y",
                  "constrain": "domain",
                  "domain": [
                    0,
                    1
                  ],
                  "range": [
                    0,
                    1
                  ],
                  "title": {
                    "text": "Thresholds"
                  }
                },
                "yaxis": {
                  "anchor": "x",
                  "domain": [
                    0,
                    1
                  ],
                  "scaleanchor": "x",
                  "scaleratio": 1,
                  "title": {
                    "text": "value"
                  }
                }
              }
            }
          },
          "metadata": {},
          "output_type": "display_data"
        }
      ],
      "source": [
        "from sklearn import metrics\n",
        "y_pred_proba = model.predict_proba(X_test)[:, 1]\n",
        "fpr, tpr, thresholds = metrics.roc_curve(y_test, y_pred_proba)\n",
        "\n",
        "# The histogram of scores compared to true labels\n",
        "fig_hist = px.histogram(\n",
        "    x=y_pred_proba, color=y_test.interaction.to_list(), nbins=50,\n",
        "    labels=dict(color='True Labels', x='Score')\n",
        ")\n",
        "\n",
        "fig_hist.show()\n",
        "\n",
        "\n",
        "# Evaluating model performance at various thresholds\n",
        "df = pd.DataFrame({\n",
        "    'False Positive Rate': fpr,\n",
        "    'True Positive Rate': tpr\n",
        "}, index=thresholds)\n",
        "df.index.name = \"Thresholds\"\n",
        "df.columns.name = \"Rate\"\n",
        "\n",
        "fig_thresh = px.line(\n",
        "    df, title='TPR and FPR at every threshold',\n",
        "    width=700, height=500\n",
        ")\n",
        "\n",
        "fig_thresh.update_yaxes(scaleanchor=\"x\", scaleratio=1)\n",
        "fig_thresh.update_xaxes(range=[0, 1], constrain='domain')\n",
        "fig_thresh.show()"
      ]
    },
    {
      "cell_type": "code",
      "execution_count": 88,
      "metadata": {},
      "outputs": [
        {
          "data": {
            "application/vnd.plotly.v1+json": {
              "config": {
                "plotlyServerURL": "https://plot.ly"
              },
              "data": [
                {
                  "fillpattern": {
                    "shape": ""
                  },
                  "hovertemplate": "False Positive Rate=%{x}<br>True Positive Rate=%{y}<extra></extra>",
                  "legendgroup": "",
                  "line": {
                    "color": "#636efa"
                  },
                  "marker": {
                    "symbol": "circle"
                  },
                  "mode": "lines",
                  "name": "",
                  "orientation": "v",
                  "showlegend": false,
                  "stackgroup": "1",
                  "type": "scatter",
                  "x": [
                    0,
                    0,
                    0.012987012987012988,
                    0.012987012987012988,
                    0.06493506493506493,
                    0.06493506493506493,
                    0.07792207792207792,
                    0.07792207792207792,
                    0.09090909090909091,
                    0.09090909090909091,
                    0.1038961038961039,
                    0.1038961038961039,
                    0.12987012987012986,
                    0.12987012987012986,
                    0.15584415584415584,
                    0.15584415584415584,
                    0.19480519480519481,
                    0.19480519480519481,
                    0.2077922077922078,
                    0.2077922077922078,
                    0.3116883116883117,
                    0.3116883116883117,
                    0.4805194805194805,
                    0.4805194805194805,
                    0.5714285714285714,
                    0.5714285714285714,
                    0.5974025974025974,
                    0.5974025974025974,
                    0.8311688311688312,
                    0.8311688311688312,
                    1
                  ],
                  "xaxis": "x",
                  "y": [
                    0,
                    0.045454545454545456,
                    0.045454545454545456,
                    0.18181818181818182,
                    0.18181818181818182,
                    0.2727272727272727,
                    0.2727272727272727,
                    0.36363636363636365,
                    0.36363636363636365,
                    0.4090909090909091,
                    0.4090909090909091,
                    0.45454545454545453,
                    0.45454545454545453,
                    0.5,
                    0.5,
                    0.5454545454545454,
                    0.5454545454545454,
                    0.5909090909090909,
                    0.5909090909090909,
                    0.6363636363636364,
                    0.6363636363636364,
                    0.8181818181818182,
                    0.8181818181818182,
                    0.8636363636363636,
                    0.8636363636363636,
                    0.9090909090909091,
                    0.9090909090909091,
                    0.9545454545454546,
                    0.9545454545454546,
                    1,
                    1
                  ],
                  "yaxis": "y"
                }
              ],
              "layout": {
                "height": 500,
                "legend": {
                  "tracegroupgap": 0
                },
                "shapes": [
                  {
                    "line": {
                      "dash": "dash"
                    },
                    "type": "line",
                    "x0": 0,
                    "x1": 1,
                    "y0": 0,
                    "y1": 1
                  }
                ],
                "template": {
                  "data": {
                    "bar": [
                      {
                        "error_x": {
                          "color": "#2a3f5f"
                        },
                        "error_y": {
                          "color": "#2a3f5f"
                        },
                        "marker": {
                          "line": {
                            "color": "#E5ECF6",
                            "width": 0.5
                          },
                          "pattern": {
                            "fillmode": "overlay",
                            "size": 10,
                            "solidity": 0.2
                          }
                        },
                        "type": "bar"
                      }
                    ],
                    "barpolar": [
                      {
                        "marker": {
                          "line": {
                            "color": "#E5ECF6",
                            "width": 0.5
                          },
                          "pattern": {
                            "fillmode": "overlay",
                            "size": 10,
                            "solidity": 0.2
                          }
                        },
                        "type": "barpolar"
                      }
                    ],
                    "carpet": [
                      {
                        "aaxis": {
                          "endlinecolor": "#2a3f5f",
                          "gridcolor": "white",
                          "linecolor": "white",
                          "minorgridcolor": "white",
                          "startlinecolor": "#2a3f5f"
                        },
                        "baxis": {
                          "endlinecolor": "#2a3f5f",
                          "gridcolor": "white",
                          "linecolor": "white",
                          "minorgridcolor": "white",
                          "startlinecolor": "#2a3f5f"
                        },
                        "type": "carpet"
                      }
                    ],
                    "choropleth": [
                      {
                        "colorbar": {
                          "outlinewidth": 0,
                          "ticks": ""
                        },
                        "type": "choropleth"
                      }
                    ],
                    "contour": [
                      {
                        "colorbar": {
                          "outlinewidth": 0,
                          "ticks": ""
                        },
                        "colorscale": [
                          [
                            0,
                            "#0d0887"
                          ],
                          [
                            0.1111111111111111,
                            "#46039f"
                          ],
                          [
                            0.2222222222222222,
                            "#7201a8"
                          ],
                          [
                            0.3333333333333333,
                            "#9c179e"
                          ],
                          [
                            0.4444444444444444,
                            "#bd3786"
                          ],
                          [
                            0.5555555555555556,
                            "#d8576b"
                          ],
                          [
                            0.6666666666666666,
                            "#ed7953"
                          ],
                          [
                            0.7777777777777778,
                            "#fb9f3a"
                          ],
                          [
                            0.8888888888888888,
                            "#fdca26"
                          ],
                          [
                            1,
                            "#f0f921"
                          ]
                        ],
                        "type": "contour"
                      }
                    ],
                    "contourcarpet": [
                      {
                        "colorbar": {
                          "outlinewidth": 0,
                          "ticks": ""
                        },
                        "type": "contourcarpet"
                      }
                    ],
                    "heatmap": [
                      {
                        "colorbar": {
                          "outlinewidth": 0,
                          "ticks": ""
                        },
                        "colorscale": [
                          [
                            0,
                            "#0d0887"
                          ],
                          [
                            0.1111111111111111,
                            "#46039f"
                          ],
                          [
                            0.2222222222222222,
                            "#7201a8"
                          ],
                          [
                            0.3333333333333333,
                            "#9c179e"
                          ],
                          [
                            0.4444444444444444,
                            "#bd3786"
                          ],
                          [
                            0.5555555555555556,
                            "#d8576b"
                          ],
                          [
                            0.6666666666666666,
                            "#ed7953"
                          ],
                          [
                            0.7777777777777778,
                            "#fb9f3a"
                          ],
                          [
                            0.8888888888888888,
                            "#fdca26"
                          ],
                          [
                            1,
                            "#f0f921"
                          ]
                        ],
                        "type": "heatmap"
                      }
                    ],
                    "heatmapgl": [
                      {
                        "colorbar": {
                          "outlinewidth": 0,
                          "ticks": ""
                        },
                        "colorscale": [
                          [
                            0,
                            "#0d0887"
                          ],
                          [
                            0.1111111111111111,
                            "#46039f"
                          ],
                          [
                            0.2222222222222222,
                            "#7201a8"
                          ],
                          [
                            0.3333333333333333,
                            "#9c179e"
                          ],
                          [
                            0.4444444444444444,
                            "#bd3786"
                          ],
                          [
                            0.5555555555555556,
                            "#d8576b"
                          ],
                          [
                            0.6666666666666666,
                            "#ed7953"
                          ],
                          [
                            0.7777777777777778,
                            "#fb9f3a"
                          ],
                          [
                            0.8888888888888888,
                            "#fdca26"
                          ],
                          [
                            1,
                            "#f0f921"
                          ]
                        ],
                        "type": "heatmapgl"
                      }
                    ],
                    "histogram": [
                      {
                        "marker": {
                          "pattern": {
                            "fillmode": "overlay",
                            "size": 10,
                            "solidity": 0.2
                          }
                        },
                        "type": "histogram"
                      }
                    ],
                    "histogram2d": [
                      {
                        "colorbar": {
                          "outlinewidth": 0,
                          "ticks": ""
                        },
                        "colorscale": [
                          [
                            0,
                            "#0d0887"
                          ],
                          [
                            0.1111111111111111,
                            "#46039f"
                          ],
                          [
                            0.2222222222222222,
                            "#7201a8"
                          ],
                          [
                            0.3333333333333333,
                            "#9c179e"
                          ],
                          [
                            0.4444444444444444,
                            "#bd3786"
                          ],
                          [
                            0.5555555555555556,
                            "#d8576b"
                          ],
                          [
                            0.6666666666666666,
                            "#ed7953"
                          ],
                          [
                            0.7777777777777778,
                            "#fb9f3a"
                          ],
                          [
                            0.8888888888888888,
                            "#fdca26"
                          ],
                          [
                            1,
                            "#f0f921"
                          ]
                        ],
                        "type": "histogram2d"
                      }
                    ],
                    "histogram2dcontour": [
                      {
                        "colorbar": {
                          "outlinewidth": 0,
                          "ticks": ""
                        },
                        "colorscale": [
                          [
                            0,
                            "#0d0887"
                          ],
                          [
                            0.1111111111111111,
                            "#46039f"
                          ],
                          [
                            0.2222222222222222,
                            "#7201a8"
                          ],
                          [
                            0.3333333333333333,
                            "#9c179e"
                          ],
                          [
                            0.4444444444444444,
                            "#bd3786"
                          ],
                          [
                            0.5555555555555556,
                            "#d8576b"
                          ],
                          [
                            0.6666666666666666,
                            "#ed7953"
                          ],
                          [
                            0.7777777777777778,
                            "#fb9f3a"
                          ],
                          [
                            0.8888888888888888,
                            "#fdca26"
                          ],
                          [
                            1,
                            "#f0f921"
                          ]
                        ],
                        "type": "histogram2dcontour"
                      }
                    ],
                    "mesh3d": [
                      {
                        "colorbar": {
                          "outlinewidth": 0,
                          "ticks": ""
                        },
                        "type": "mesh3d"
                      }
                    ],
                    "parcoords": [
                      {
                        "line": {
                          "colorbar": {
                            "outlinewidth": 0,
                            "ticks": ""
                          }
                        },
                        "type": "parcoords"
                      }
                    ],
                    "pie": [
                      {
                        "automargin": true,
                        "type": "pie"
                      }
                    ],
                    "scatter": [
                      {
                        "fillpattern": {
                          "fillmode": "overlay",
                          "size": 10,
                          "solidity": 0.2
                        },
                        "type": "scatter"
                      }
                    ],
                    "scatter3d": [
                      {
                        "line": {
                          "colorbar": {
                            "outlinewidth": 0,
                            "ticks": ""
                          }
                        },
                        "marker": {
                          "colorbar": {
                            "outlinewidth": 0,
                            "ticks": ""
                          }
                        },
                        "type": "scatter3d"
                      }
                    ],
                    "scattercarpet": [
                      {
                        "marker": {
                          "colorbar": {
                            "outlinewidth": 0,
                            "ticks": ""
                          }
                        },
                        "type": "scattercarpet"
                      }
                    ],
                    "scattergeo": [
                      {
                        "marker": {
                          "colorbar": {
                            "outlinewidth": 0,
                            "ticks": ""
                          }
                        },
                        "type": "scattergeo"
                      }
                    ],
                    "scattergl": [
                      {
                        "marker": {
                          "colorbar": {
                            "outlinewidth": 0,
                            "ticks": ""
                          }
                        },
                        "type": "scattergl"
                      }
                    ],
                    "scattermapbox": [
                      {
                        "marker": {
                          "colorbar": {
                            "outlinewidth": 0,
                            "ticks": ""
                          }
                        },
                        "type": "scattermapbox"
                      }
                    ],
                    "scatterpolar": [
                      {
                        "marker": {
                          "colorbar": {
                            "outlinewidth": 0,
                            "ticks": ""
                          }
                        },
                        "type": "scatterpolar"
                      }
                    ],
                    "scatterpolargl": [
                      {
                        "marker": {
                          "colorbar": {
                            "outlinewidth": 0,
                            "ticks": ""
                          }
                        },
                        "type": "scatterpolargl"
                      }
                    ],
                    "scatterternary": [
                      {
                        "marker": {
                          "colorbar": {
                            "outlinewidth": 0,
                            "ticks": ""
                          }
                        },
                        "type": "scatterternary"
                      }
                    ],
                    "surface": [
                      {
                        "colorbar": {
                          "outlinewidth": 0,
                          "ticks": ""
                        },
                        "colorscale": [
                          [
                            0,
                            "#0d0887"
                          ],
                          [
                            0.1111111111111111,
                            "#46039f"
                          ],
                          [
                            0.2222222222222222,
                            "#7201a8"
                          ],
                          [
                            0.3333333333333333,
                            "#9c179e"
                          ],
                          [
                            0.4444444444444444,
                            "#bd3786"
                          ],
                          [
                            0.5555555555555556,
                            "#d8576b"
                          ],
                          [
                            0.6666666666666666,
                            "#ed7953"
                          ],
                          [
                            0.7777777777777778,
                            "#fb9f3a"
                          ],
                          [
                            0.8888888888888888,
                            "#fdca26"
                          ],
                          [
                            1,
                            "#f0f921"
                          ]
                        ],
                        "type": "surface"
                      }
                    ],
                    "table": [
                      {
                        "cells": {
                          "fill": {
                            "color": "#EBF0F8"
                          },
                          "line": {
                            "color": "white"
                          }
                        },
                        "header": {
                          "fill": {
                            "color": "#C8D4E3"
                          },
                          "line": {
                            "color": "white"
                          }
                        },
                        "type": "table"
                      }
                    ]
                  },
                  "layout": {
                    "annotationdefaults": {
                      "arrowcolor": "#2a3f5f",
                      "arrowhead": 0,
                      "arrowwidth": 1
                    },
                    "autotypenumbers": "strict",
                    "coloraxis": {
                      "colorbar": {
                        "outlinewidth": 0,
                        "ticks": ""
                      }
                    },
                    "colorscale": {
                      "diverging": [
                        [
                          0,
                          "#8e0152"
                        ],
                        [
                          0.1,
                          "#c51b7d"
                        ],
                        [
                          0.2,
                          "#de77ae"
                        ],
                        [
                          0.3,
                          "#f1b6da"
                        ],
                        [
                          0.4,
                          "#fde0ef"
                        ],
                        [
                          0.5,
                          "#f7f7f7"
                        ],
                        [
                          0.6,
                          "#e6f5d0"
                        ],
                        [
                          0.7,
                          "#b8e186"
                        ],
                        [
                          0.8,
                          "#7fbc41"
                        ],
                        [
                          0.9,
                          "#4d9221"
                        ],
                        [
                          1,
                          "#276419"
                        ]
                      ],
                      "sequential": [
                        [
                          0,
                          "#0d0887"
                        ],
                        [
                          0.1111111111111111,
                          "#46039f"
                        ],
                        [
                          0.2222222222222222,
                          "#7201a8"
                        ],
                        [
                          0.3333333333333333,
                          "#9c179e"
                        ],
                        [
                          0.4444444444444444,
                          "#bd3786"
                        ],
                        [
                          0.5555555555555556,
                          "#d8576b"
                        ],
                        [
                          0.6666666666666666,
                          "#ed7953"
                        ],
                        [
                          0.7777777777777778,
                          "#fb9f3a"
                        ],
                        [
                          0.8888888888888888,
                          "#fdca26"
                        ],
                        [
                          1,
                          "#f0f921"
                        ]
                      ],
                      "sequentialminus": [
                        [
                          0,
                          "#0d0887"
                        ],
                        [
                          0.1111111111111111,
                          "#46039f"
                        ],
                        [
                          0.2222222222222222,
                          "#7201a8"
                        ],
                        [
                          0.3333333333333333,
                          "#9c179e"
                        ],
                        [
                          0.4444444444444444,
                          "#bd3786"
                        ],
                        [
                          0.5555555555555556,
                          "#d8576b"
                        ],
                        [
                          0.6666666666666666,
                          "#ed7953"
                        ],
                        [
                          0.7777777777777778,
                          "#fb9f3a"
                        ],
                        [
                          0.8888888888888888,
                          "#fdca26"
                        ],
                        [
                          1,
                          "#f0f921"
                        ]
                      ]
                    },
                    "colorway": [
                      "#636efa",
                      "#EF553B",
                      "#00cc96",
                      "#ab63fa",
                      "#FFA15A",
                      "#19d3f3",
                      "#FF6692",
                      "#B6E880",
                      "#FF97FF",
                      "#FECB52"
                    ],
                    "font": {
                      "color": "#2a3f5f"
                    },
                    "geo": {
                      "bgcolor": "white",
                      "lakecolor": "white",
                      "landcolor": "#E5ECF6",
                      "showlakes": true,
                      "showland": true,
                      "subunitcolor": "white"
                    },
                    "hoverlabel": {
                      "align": "left"
                    },
                    "hovermode": "closest",
                    "mapbox": {
                      "style": "light"
                    },
                    "paper_bgcolor": "white",
                    "plot_bgcolor": "#E5ECF6",
                    "polar": {
                      "angularaxis": {
                        "gridcolor": "white",
                        "linecolor": "white",
                        "ticks": ""
                      },
                      "bgcolor": "#E5ECF6",
                      "radialaxis": {
                        "gridcolor": "white",
                        "linecolor": "white",
                        "ticks": ""
                      }
                    },
                    "scene": {
                      "xaxis": {
                        "backgroundcolor": "#E5ECF6",
                        "gridcolor": "white",
                        "gridwidth": 2,
                        "linecolor": "white",
                        "showbackground": true,
                        "ticks": "",
                        "zerolinecolor": "white"
                      },
                      "yaxis": {
                        "backgroundcolor": "#E5ECF6",
                        "gridcolor": "white",
                        "gridwidth": 2,
                        "linecolor": "white",
                        "showbackground": true,
                        "ticks": "",
                        "zerolinecolor": "white"
                      },
                      "zaxis": {
                        "backgroundcolor": "#E5ECF6",
                        "gridcolor": "white",
                        "gridwidth": 2,
                        "linecolor": "white",
                        "showbackground": true,
                        "ticks": "",
                        "zerolinecolor": "white"
                      }
                    },
                    "shapedefaults": {
                      "line": {
                        "color": "#2a3f5f"
                      }
                    },
                    "ternary": {
                      "aaxis": {
                        "gridcolor": "white",
                        "linecolor": "white",
                        "ticks": ""
                      },
                      "baxis": {
                        "gridcolor": "white",
                        "linecolor": "white",
                        "ticks": ""
                      },
                      "bgcolor": "#E5ECF6",
                      "caxis": {
                        "gridcolor": "white",
                        "linecolor": "white",
                        "ticks": ""
                      }
                    },
                    "title": {
                      "x": 0.05
                    },
                    "xaxis": {
                      "automargin": true,
                      "gridcolor": "white",
                      "linecolor": "white",
                      "ticks": "",
                      "title": {
                        "standoff": 15
                      },
                      "zerolinecolor": "white",
                      "zerolinewidth": 2
                    },
                    "yaxis": {
                      "automargin": true,
                      "gridcolor": "white",
                      "linecolor": "white",
                      "ticks": "",
                      "title": {
                        "standoff": 15
                      },
                      "zerolinecolor": "white",
                      "zerolinewidth": 2
                    }
                  }
                },
                "title": {
                  "text": "ROC Curve (AUC=0.7757) ::: CatBoost"
                },
                "width": 700,
                "xaxis": {
                  "anchor": "y",
                  "constrain": "domain",
                  "domain": [
                    0,
                    1
                  ],
                  "title": {
                    "text": "False Positive Rate"
                  }
                },
                "yaxis": {
                  "anchor": "x",
                  "domain": [
                    0,
                    1
                  ],
                  "scaleanchor": "x",
                  "scaleratio": 1,
                  "title": {
                    "text": "True Positive Rate"
                  }
                }
              }
            }
          },
          "metadata": {},
          "output_type": "display_data"
        }
      ],
      "source": [
        "from sklearn.metrics import auc\n",
        "fig = px.area(\n",
        "    x=fpr, y=tpr,\n",
        "    title=f'ROC Curve (AUC={auc(fpr, tpr):.4f}) ::: CatBoost',\n",
        "    labels=dict(x='False Positive Rate', y='True Positive Rate'),\n",
        "    width=700, height=500\n",
        ")\n",
        "fig.add_shape(\n",
        "    type='line', line=dict(dash='dash'),\n",
        "    x0=0, x1=1, y0=0, y1=1\n",
        ")\n",
        "\n",
        "fig.update_yaxes(scaleanchor=\"x\", scaleratio=1)\n",
        "fig.update_xaxes(constrain='domain')\n",
        "fig.show()"
      ]
    },
    {
      "cell_type": "code",
      "execution_count": 89,
      "metadata": {},
      "outputs": [
        {
          "data": {
            "text/html": [
              "<div>\n",
              "<style scoped>\n",
              "    .dataframe tbody tr th:only-of-type {\n",
              "        vertical-align: middle;\n",
              "    }\n",
              "\n",
              "    .dataframe tbody tr th {\n",
              "        vertical-align: top;\n",
              "    }\n",
              "\n",
              "    .dataframe thead th {\n",
              "        text-align: right;\n",
              "    }\n",
              "</style>\n",
              "<table border=\"1\" class=\"dataframe\">\n",
              "  <thead>\n",
              "    <tr style=\"text-align: right;\">\n",
              "      <th></th>\n",
              "      <th>car_0_used_label</th>\n",
              "      <th>car_0_price</th>\n",
              "      <th>car_0_exteriorColor</th>\n",
              "      <th>car_0_interiorColor</th>\n",
              "      <th>car_0_drivetrain</th>\n",
              "      <th>car_0_minMPG</th>\n",
              "      <th>car_0_maxMPG</th>\n",
              "      <th>car_0_fuelType</th>\n",
              "      <th>car_0_transmission</th>\n",
              "      <th>car_0_mileage</th>\n",
              "      <th>...</th>\n",
              "      <th>target_price</th>\n",
              "      <th>target_exteriorColor</th>\n",
              "      <th>target_interiorColor</th>\n",
              "      <th>target_drivetrain</th>\n",
              "      <th>target_minMPG</th>\n",
              "      <th>target_maxMPG</th>\n",
              "      <th>target_fuelType</th>\n",
              "      <th>target_transmission</th>\n",
              "      <th>target_mileage</th>\n",
              "      <th>target_brand</th>\n",
              "    </tr>\n",
              "  </thead>\n",
              "  <tbody>\n",
              "    <tr>\n",
              "      <th>0</th>\n",
              "      <td>1</td>\n",
              "      <td>44</td>\n",
              "      <td>131</td>\n",
              "      <td>8</td>\n",
              "      <td>2</td>\n",
              "      <td>19</td>\n",
              "      <td>26</td>\n",
              "      <td>3</td>\n",
              "      <td>24</td>\n",
              "      <td>14445</td>\n",
              "      <td>...</td>\n",
              "      <td>33</td>\n",
              "      <td>139</td>\n",
              "      <td>83</td>\n",
              "      <td>3</td>\n",
              "      <td>16</td>\n",
              "      <td>22</td>\n",
              "      <td>3</td>\n",
              "      <td>26</td>\n",
              "      <td>81375</td>\n",
              "      <td>10</td>\n",
              "    </tr>\n",
              "    <tr>\n",
              "      <th>0</th>\n",
              "      <td>1</td>\n",
              "      <td>9</td>\n",
              "      <td>19</td>\n",
              "      <td>11</td>\n",
              "      <td>2</td>\n",
              "      <td>18</td>\n",
              "      <td>22</td>\n",
              "      <td>3</td>\n",
              "      <td>3</td>\n",
              "      <td>77792</td>\n",
              "      <td>...</td>\n",
              "      <td>35</td>\n",
              "      <td>15</td>\n",
              "      <td>43</td>\n",
              "      <td>4</td>\n",
              "      <td>24</td>\n",
              "      <td>31</td>\n",
              "      <td>3</td>\n",
              "      <td>28</td>\n",
              "      <td>19527</td>\n",
              "      <td>15</td>\n",
              "    </tr>\n",
              "    <tr>\n",
              "      <th>0</th>\n",
              "      <td>1</td>\n",
              "      <td>20</td>\n",
              "      <td>158</td>\n",
              "      <td>83</td>\n",
              "      <td>5</td>\n",
              "      <td>20</td>\n",
              "      <td>29</td>\n",
              "      <td>3</td>\n",
              "      <td>15</td>\n",
              "      <td>102893</td>\n",
              "      <td>...</td>\n",
              "      <td>30</td>\n",
              "      <td>142</td>\n",
              "      <td>37</td>\n",
              "      <td>4</td>\n",
              "      <td>17</td>\n",
              "      <td>24</td>\n",
              "      <td>3</td>\n",
              "      <td>9</td>\n",
              "      <td>28357</td>\n",
              "      <td>10</td>\n",
              "    </tr>\n",
              "    <tr>\n",
              "      <th>0</th>\n",
              "      <td>1</td>\n",
              "      <td>44</td>\n",
              "      <td>131</td>\n",
              "      <td>8</td>\n",
              "      <td>2</td>\n",
              "      <td>19</td>\n",
              "      <td>26</td>\n",
              "      <td>3</td>\n",
              "      <td>24</td>\n",
              "      <td>14445</td>\n",
              "      <td>...</td>\n",
              "      <td>28</td>\n",
              "      <td>174</td>\n",
              "      <td>27</td>\n",
              "      <td>3</td>\n",
              "      <td>16</td>\n",
              "      <td>22</td>\n",
              "      <td>3</td>\n",
              "      <td>9</td>\n",
              "      <td>139597</td>\n",
              "      <td>6</td>\n",
              "    </tr>\n",
              "    <tr>\n",
              "      <th>0</th>\n",
              "      <td>1</td>\n",
              "      <td>28</td>\n",
              "      <td>66</td>\n",
              "      <td>83</td>\n",
              "      <td>4</td>\n",
              "      <td>29</td>\n",
              "      <td>35</td>\n",
              "      <td>3</td>\n",
              "      <td>28</td>\n",
              "      <td>10598</td>\n",
              "      <td>...</td>\n",
              "      <td>39</td>\n",
              "      <td>139</td>\n",
              "      <td>11</td>\n",
              "      <td>4</td>\n",
              "      <td>19</td>\n",
              "      <td>27</td>\n",
              "      <td>3</td>\n",
              "      <td>20</td>\n",
              "      <td>29403</td>\n",
              "      <td>28</td>\n",
              "    </tr>\n",
              "    <tr>\n",
              "      <th>...</th>\n",
              "      <td>...</td>\n",
              "      <td>...</td>\n",
              "      <td>...</td>\n",
              "      <td>...</td>\n",
              "      <td>...</td>\n",
              "      <td>...</td>\n",
              "      <td>...</td>\n",
              "      <td>...</td>\n",
              "      <td>...</td>\n",
              "      <td>...</td>\n",
              "      <td>...</td>\n",
              "      <td>...</td>\n",
              "      <td>...</td>\n",
              "      <td>...</td>\n",
              "      <td>...</td>\n",
              "      <td>...</td>\n",
              "      <td>...</td>\n",
              "      <td>...</td>\n",
              "      <td>...</td>\n",
              "      <td>...</td>\n",
              "      <td>...</td>\n",
              "    </tr>\n",
              "    <tr>\n",
              "      <th>0</th>\n",
              "      <td>1</td>\n",
              "      <td>44</td>\n",
              "      <td>131</td>\n",
              "      <td>8</td>\n",
              "      <td>2</td>\n",
              "      <td>19</td>\n",
              "      <td>26</td>\n",
              "      <td>3</td>\n",
              "      <td>24</td>\n",
              "      <td>14445</td>\n",
              "      <td>...</td>\n",
              "      <td>18</td>\n",
              "      <td>139</td>\n",
              "      <td>11</td>\n",
              "      <td>3</td>\n",
              "      <td>14</td>\n",
              "      <td>19</td>\n",
              "      <td>0</td>\n",
              "      <td>9</td>\n",
              "      <td>110111</td>\n",
              "      <td>10</td>\n",
              "    </tr>\n",
              "    <tr>\n",
              "      <th>0</th>\n",
              "      <td>1</td>\n",
              "      <td>18</td>\n",
              "      <td>139</td>\n",
              "      <td>11</td>\n",
              "      <td>3</td>\n",
              "      <td>14</td>\n",
              "      <td>19</td>\n",
              "      <td>0</td>\n",
              "      <td>9</td>\n",
              "      <td>110111</td>\n",
              "      <td>...</td>\n",
              "      <td>56</td>\n",
              "      <td>132</td>\n",
              "      <td>41</td>\n",
              "      <td>2</td>\n",
              "      <td>16</td>\n",
              "      <td>22</td>\n",
              "      <td>3</td>\n",
              "      <td>24</td>\n",
              "      <td>33427</td>\n",
              "      <td>22</td>\n",
              "    </tr>\n",
              "    <tr>\n",
              "      <th>0</th>\n",
              "      <td>1</td>\n",
              "      <td>43</td>\n",
              "      <td>56</td>\n",
              "      <td>35</td>\n",
              "      <td>2</td>\n",
              "      <td>19</td>\n",
              "      <td>26</td>\n",
              "      <td>3</td>\n",
              "      <td>20</td>\n",
              "      <td>22492</td>\n",
              "      <td>...</td>\n",
              "      <td>23</td>\n",
              "      <td>11</td>\n",
              "      <td>83</td>\n",
              "      <td>5</td>\n",
              "      <td>17</td>\n",
              "      <td>23</td>\n",
              "      <td>3</td>\n",
              "      <td>6</td>\n",
              "      <td>105469</td>\n",
              "      <td>28</td>\n",
              "    </tr>\n",
              "    <tr>\n",
              "      <th>0</th>\n",
              "      <td>0</td>\n",
              "      <td>30</td>\n",
              "      <td>74</td>\n",
              "      <td>11</td>\n",
              "      <td>5</td>\n",
              "      <td>19</td>\n",
              "      <td>30</td>\n",
              "      <td>3</td>\n",
              "      <td>20</td>\n",
              "      <td>33296</td>\n",
              "      <td>...</td>\n",
              "      <td>56</td>\n",
              "      <td>132</td>\n",
              "      <td>41</td>\n",
              "      <td>2</td>\n",
              "      <td>16</td>\n",
              "      <td>22</td>\n",
              "      <td>3</td>\n",
              "      <td>24</td>\n",
              "      <td>33427</td>\n",
              "      <td>22</td>\n",
              "    </tr>\n",
              "    <tr>\n",
              "      <th>0</th>\n",
              "      <td>1</td>\n",
              "      <td>30</td>\n",
              "      <td>142</td>\n",
              "      <td>37</td>\n",
              "      <td>4</td>\n",
              "      <td>17</td>\n",
              "      <td>24</td>\n",
              "      <td>3</td>\n",
              "      <td>9</td>\n",
              "      <td>28357</td>\n",
              "      <td>...</td>\n",
              "      <td>20</td>\n",
              "      <td>104</td>\n",
              "      <td>11</td>\n",
              "      <td>4</td>\n",
              "      <td>28</td>\n",
              "      <td>34</td>\n",
              "      <td>3</td>\n",
              "      <td>28</td>\n",
              "      <td>10458</td>\n",
              "      <td>13</td>\n",
              "    </tr>\n",
              "  </tbody>\n",
              "</table>\n",
              "<p>99 rows × 66 columns</p>\n",
              "</div>"
            ],
            "text/plain": [
              "    car_0_used_label  car_0_price  car_0_exteriorColor  car_0_interiorColor  \\\n",
              "0                  1           44                  131                    8   \n",
              "0                  1            9                   19                   11   \n",
              "0                  1           20                  158                   83   \n",
              "0                  1           44                  131                    8   \n",
              "0                  1           28                   66                   83   \n",
              "..               ...          ...                  ...                  ...   \n",
              "0                  1           44                  131                    8   \n",
              "0                  1           18                  139                   11   \n",
              "0                  1           43                   56                   35   \n",
              "0                  0           30                   74                   11   \n",
              "0                  1           30                  142                   37   \n",
              "\n",
              "    car_0_drivetrain  car_0_minMPG  car_0_maxMPG  car_0_fuelType  \\\n",
              "0                  2            19            26               3   \n",
              "0                  2            18            22               3   \n",
              "0                  5            20            29               3   \n",
              "0                  2            19            26               3   \n",
              "0                  4            29            35               3   \n",
              "..               ...           ...           ...             ...   \n",
              "0                  2            19            26               3   \n",
              "0                  3            14            19               0   \n",
              "0                  2            19            26               3   \n",
              "0                  5            19            30               3   \n",
              "0                  4            17            24               3   \n",
              "\n",
              "    car_0_transmission  car_0_mileage  ...  target_price  \\\n",
              "0                   24          14445  ...            33   \n",
              "0                    3          77792  ...            35   \n",
              "0                   15         102893  ...            30   \n",
              "0                   24          14445  ...            28   \n",
              "0                   28          10598  ...            39   \n",
              "..                 ...            ...  ...           ...   \n",
              "0                   24          14445  ...            18   \n",
              "0                    9         110111  ...            56   \n",
              "0                   20          22492  ...            23   \n",
              "0                   20          33296  ...            56   \n",
              "0                    9          28357  ...            20   \n",
              "\n",
              "    target_exteriorColor  target_interiorColor  target_drivetrain  \\\n",
              "0                    139                    83                  3   \n",
              "0                     15                    43                  4   \n",
              "0                    142                    37                  4   \n",
              "0                    174                    27                  3   \n",
              "0                    139                    11                  4   \n",
              "..                   ...                   ...                ...   \n",
              "0                    139                    11                  3   \n",
              "0                    132                    41                  2   \n",
              "0                     11                    83                  5   \n",
              "0                    132                    41                  2   \n",
              "0                    104                    11                  4   \n",
              "\n",
              "    target_minMPG  target_maxMPG  target_fuelType  target_transmission  \\\n",
              "0              16             22                3                   26   \n",
              "0              24             31                3                   28   \n",
              "0              17             24                3                    9   \n",
              "0              16             22                3                    9   \n",
              "0              19             27                3                   20   \n",
              "..            ...            ...              ...                  ...   \n",
              "0              14             19                0                    9   \n",
              "0              16             22                3                   24   \n",
              "0              17             23                3                    6   \n",
              "0              16             22                3                   24   \n",
              "0              28             34                3                   28   \n",
              "\n",
              "    target_mileage  target_brand  \n",
              "0            81375            10  \n",
              "0            19527            15  \n",
              "0            28357            10  \n",
              "0           139597             6  \n",
              "0            29403            28  \n",
              "..             ...           ...  \n",
              "0           110111            10  \n",
              "0            33427            22  \n",
              "0           105469            28  \n",
              "0            33427            22  \n",
              "0            10458            13  \n",
              "\n",
              "[99 rows x 66 columns]"
            ]
          },
          "execution_count": 89,
          "metadata": {},
          "output_type": "execute_result"
        }
      ],
      "source": [
        "X_test"
      ]
    },
    {
      "cell_type": "code",
      "execution_count": 90,
      "metadata": {},
      "outputs": [
        {
          "data": {
            "text/html": [
              "<div>\n",
              "<style scoped>\n",
              "    .dataframe tbody tr th:only-of-type {\n",
              "        vertical-align: middle;\n",
              "    }\n",
              "\n",
              "    .dataframe tbody tr th {\n",
              "        vertical-align: top;\n",
              "    }\n",
              "\n",
              "    .dataframe thead th {\n",
              "        text-align: right;\n",
              "    }\n",
              "</style>\n",
              "<table border=\"1\" class=\"dataframe\">\n",
              "  <thead>\n",
              "    <tr style=\"text-align: right;\">\n",
              "      <th></th>\n",
              "      <th>interaction</th>\n",
              "    </tr>\n",
              "  </thead>\n",
              "  <tbody>\n",
              "    <tr>\n",
              "      <th>0</th>\n",
              "      <td>0</td>\n",
              "    </tr>\n",
              "    <tr>\n",
              "      <th>0</th>\n",
              "      <td>0</td>\n",
              "    </tr>\n",
              "    <tr>\n",
              "      <th>0</th>\n",
              "      <td>0</td>\n",
              "    </tr>\n",
              "    <tr>\n",
              "      <th>0</th>\n",
              "      <td>0</td>\n",
              "    </tr>\n",
              "    <tr>\n",
              "      <th>0</th>\n",
              "      <td>1</td>\n",
              "    </tr>\n",
              "    <tr>\n",
              "      <th>...</th>\n",
              "      <td>...</td>\n",
              "    </tr>\n",
              "    <tr>\n",
              "      <th>0</th>\n",
              "      <td>0</td>\n",
              "    </tr>\n",
              "    <tr>\n",
              "      <th>0</th>\n",
              "      <td>0</td>\n",
              "    </tr>\n",
              "    <tr>\n",
              "      <th>0</th>\n",
              "      <td>0</td>\n",
              "    </tr>\n",
              "    <tr>\n",
              "      <th>0</th>\n",
              "      <td>0</td>\n",
              "    </tr>\n",
              "    <tr>\n",
              "      <th>0</th>\n",
              "      <td>0</td>\n",
              "    </tr>\n",
              "  </tbody>\n",
              "</table>\n",
              "<p>99 rows × 1 columns</p>\n",
              "</div>"
            ],
            "text/plain": [
              "    interaction\n",
              "0             0\n",
              "0             0\n",
              "0             0\n",
              "0             0\n",
              "0             1\n",
              "..          ...\n",
              "0             0\n",
              "0             0\n",
              "0             0\n",
              "0             0\n",
              "0             0\n",
              "\n",
              "[99 rows x 1 columns]"
            ]
          },
          "execution_count": 90,
          "metadata": {},
          "output_type": "execute_result"
        }
      ],
      "source": [
        "y_test"
      ]
    },
    {
      "cell_type": "code",
      "execution_count": 100,
      "metadata": {},
      "outputs": [
        {
          "data": {
            "text/plain": [
              "<__main__.CatPredictor at 0x7fb00410dab0>"
            ]
          },
          "execution_count": 100,
          "metadata": {},
          "output_type": "execute_result"
        }
      ],
      "source": [
        "class CatPredictor:\n",
        "    def __init__(self, catboost_path=\"../weights/catboost\"):\n",
        "        self.catboost = CatBoostClassifier().load_model(catboost_path)\n",
        "        self.N_POSITIVE = 5\n",
        "\n",
        "    def preprocess_car_data(self, path2data):\n",
        "        cars_data = pd.read_csv(\"../data/cars_about.csv\").dropna()\n",
        "\n",
        "        cars_data[\"brand\"] = cars_data.car_model.apply(lambda a: a.split()[0])\n",
        "        cars_data = cars_data.drop(columns=[\"car_model\", \"engine\", \"car_id\"])\n",
        "        cars_data[\"price\"] = cars_data['price'].apply(lambda a: int(a[1:]))\n",
        "\n",
        "        cars_data['used_label'] = cars_data[\"used_label\"].apply(lambda a: 1 if a==\"Used\" else 0)\n",
        "        # Identify the categorical columns\n",
        "        car_cat_cols = ['exteriorColor', 'interiorColor', 'drivetrain', 'fuelType', 'transmission', 'brand']\n",
        "\n",
        "        # Convert the categorical columns to numerical using Label Encoding\n",
        "        for col in car_cat_cols:\n",
        "            le = LabelEncoder()\n",
        "            cars_data[col] = le.fit_transform(cars_data[col])\n",
        "\n",
        "        cars_data\n",
        "    def preprocess_user_vector(self, actions_data):\n",
        "        \n",
        "        # matrix_features = []\n",
        "        # features = []\n",
        "        # current_positive_samples = actions_data.query(f\"car_id != {target_car_id}\").query(\"interaction == 1\")\n",
        "        # # print()\n",
        "        # if len(current_positive_samples) < N_POSITIVE: AssertionError(\"need cold start\")\n",
        "\n",
        "        # for car_id in current_positive_samples.sample(N_POSITIVE).car_id.to_list():\n",
        "        #     matrix_features.append(cars_data.iloc[car_id].to_list())\n",
        "        # matrix_features.append(cars_data.iloc[target_car_id].to_list())\n",
        "        # matrix_features.append(int(actions_data.loc[actions_data.car_id == target_car_id].query(f\"user_id == {user_id}\").interaction))\n",
        "        \n",
        "        # for item in matrix_features:\n",
        "        #     if isinstance(item, list):\n",
        "        #         for elem in item:\n",
        "        #             features.append(elem)\n",
        "        #     else:\n",
        "        #         features.append(item)\n",
        "        # # print(features)\n",
        "        # dataset = pd.concat([dataset, pd.DataFrame.from_records([dict(zip(dataset.columns, features))])])\n",
        "    \n",
        "    def predict(self, user_vector:list):\n",
        "        assert len(user_vector) == (self.N_POSITIVE + 1) * 6\n",
        "        \n",
        "\n",
        "catpred = CatPredictor()\n"
      ]
    },
    {
      "cell_type": "code",
      "execution_count": 103,
      "metadata": {},
      "outputs": [
        {
          "data": {
            "text/plain": [
              "[0,\n",
              " 2,\n",
              " 3,\n",
              " 4,\n",
              " 5,\n",
              " 6,\n",
              " 7,\n",
              " 8,\n",
              " 9,\n",
              " 10,\n",
              " 11,\n",
              " 12,\n",
              " 13,\n",
              " 15,\n",
              " 17,\n",
              " 18,\n",
              " 19,\n",
              " 20,\n",
              " 21,\n",
              " 22,\n",
              " 23,\n",
              " 28,\n",
              " 33,\n",
              " 35,\n",
              " 40,\n",
              " 45,\n",
              " 50,\n",
              " 59,\n",
              " 62,\n",
              " 64,\n",
              " 69,\n",
              " 74,\n",
              " 75,\n",
              " 78,\n",
              " 82,\n",
              " 85,\n",
              " 89,\n",
              " 91,\n",
              " 97,\n",
              " 98,\n",
              " 99,\n",
              " 102,\n",
              " 115,\n",
              " 120,\n",
              " 123,\n",
              " 130,\n",
              " 132,\n",
              " 135,\n",
              " 143,\n",
              " 146,\n",
              " 147,\n",
              " 151,\n",
              " 153,\n",
              " 170,\n",
              " 179,\n",
              " 187,\n",
              " 201,\n",
              " 202,\n",
              " 211,\n",
              " 212,\n",
              " 220,\n",
              " 221,\n",
              " 230,\n",
              " 232,\n",
              " 245,\n",
              " 246,\n",
              " 247,\n",
              " 249,\n",
              " 255,\n",
              " 259,\n",
              " 263,\n",
              " 266,\n",
              " 272,\n",
              " 273,\n",
              " 280,\n",
              " 284,\n",
              " 285,\n",
              " 293,\n",
              " 307,\n",
              " 308,\n",
              " 309,\n",
              " 312,\n",
              " 317,\n",
              " 318,\n",
              " 319,\n",
              " 327,\n",
              " 329,\n",
              " 333,\n",
              " 336,\n",
              " 338,\n",
              " 341,\n",
              " 347,\n",
              " 352,\n",
              " 355,\n",
              " 358,\n",
              " 363,\n",
              " 364,\n",
              " 365,\n",
              " 366,\n",
              " 370,\n",
              " 373,\n",
              " 376,\n",
              " 380,\n",
              " 382,\n",
              " 387,\n",
              " 389,\n",
              " 395,\n",
              " 397,\n",
              " 402]"
            ]
          },
          "execution_count": 103,
          "metadata": {},
          "output_type": "execute_result"
        }
      ],
      "source": [
        "actions_data.car_id.unique().tolist()"
      ]
    },
    {
      "cell_type": "code",
      "execution_count": 107,
      "metadata": {},
      "outputs": [
        {
          "ename": "KeyError",
          "evalue": "1",
          "output_type": "error",
          "traceback": [
            "\u001b[0;31m---------------------------------------------------------------------------\u001b[0m",
            "\u001b[0;31mKeyError\u001b[0m                                  Traceback (most recent call last)",
            "Cell \u001b[0;32mIn[107], line 2\u001b[0m\n\u001b[1;32m      1\u001b[0m liked_data \u001b[39m=\u001b[39m pd\u001b[39m.\u001b[39mread_csv(\u001b[39m\"\u001b[39m\u001b[39m../data/liked.csv\u001b[39m\u001b[39m\"\u001b[39m)\n\u001b[0;32m----> 2\u001b[0m pd\u001b[39m.\u001b[39;49mpivot_table(liked_data, columns\u001b[39m=\u001b[39;49mactions_data\u001b[39m.\u001b[39;49mcar_id\u001b[39m.\u001b[39;49munique()\u001b[39m.\u001b[39;49mtolist(), index\u001b[39m=\u001b[39;49mpd\u001b[39m.\u001b[39;49mDataFrame(\u001b[39mdict\u001b[39;49m(user_id\u001b[39m=\u001b[39;49m[\u001b[39m1\u001b[39;49m])), values\u001b[39m=\u001b[39;49m[\u001b[39m1\u001b[39;49m]\u001b[39m*\u001b[39;49m\u001b[39mlen\u001b[39;49m(actions_data\u001b[39m.\u001b[39;49mcar_id\u001b[39m.\u001b[39;49munique()\u001b[39m.\u001b[39;49mtolist()))\n",
            "File \u001b[0;32m~/anaconda3/envs/proton/lib/python3.10/site-packages/pandas/core/reshape/pivot.py:97\u001b[0m, in \u001b[0;36mpivot_table\u001b[0;34m(data, values, index, columns, aggfunc, fill_value, margins, dropna, margins_name, observed, sort)\u001b[0m\n\u001b[1;32m     94\u001b[0m     table \u001b[39m=\u001b[39m concat(pieces, keys\u001b[39m=\u001b[39mkeys, axis\u001b[39m=\u001b[39m\u001b[39m1\u001b[39m)\n\u001b[1;32m     95\u001b[0m     \u001b[39mreturn\u001b[39;00m table\u001b[39m.\u001b[39m__finalize__(data, method\u001b[39m=\u001b[39m\u001b[39m\"\u001b[39m\u001b[39mpivot_table\u001b[39m\u001b[39m\"\u001b[39m)\n\u001b[0;32m---> 97\u001b[0m table \u001b[39m=\u001b[39m __internal_pivot_table(\n\u001b[1;32m     98\u001b[0m     data,\n\u001b[1;32m     99\u001b[0m     values,\n\u001b[1;32m    100\u001b[0m     index,\n\u001b[1;32m    101\u001b[0m     columns,\n\u001b[1;32m    102\u001b[0m     aggfunc,\n\u001b[1;32m    103\u001b[0m     fill_value,\n\u001b[1;32m    104\u001b[0m     margins,\n\u001b[1;32m    105\u001b[0m     dropna,\n\u001b[1;32m    106\u001b[0m     margins_name,\n\u001b[1;32m    107\u001b[0m     observed,\n\u001b[1;32m    108\u001b[0m     sort,\n\u001b[1;32m    109\u001b[0m )\n\u001b[1;32m    110\u001b[0m \u001b[39mreturn\u001b[39;00m table\u001b[39m.\u001b[39m__finalize__(data, method\u001b[39m=\u001b[39m\u001b[39m\"\u001b[39m\u001b[39mpivot_table\u001b[39m\u001b[39m\"\u001b[39m)\n",
            "File \u001b[0;32m~/anaconda3/envs/proton/lib/python3.10/site-packages/pandas/core/reshape/pivot.py:143\u001b[0m, in \u001b[0;36m__internal_pivot_table\u001b[0;34m(data, values, index, columns, aggfunc, fill_value, margins, dropna, margins_name, observed, sort)\u001b[0m\n\u001b[1;32m    141\u001b[0m \u001b[39mfor\u001b[39;00m i \u001b[39min\u001b[39;00m values:\n\u001b[1;32m    142\u001b[0m     \u001b[39mif\u001b[39;00m i \u001b[39mnot\u001b[39;00m \u001b[39min\u001b[39;00m data:\n\u001b[0;32m--> 143\u001b[0m         \u001b[39mraise\u001b[39;00m \u001b[39mKeyError\u001b[39;00m(i)\n\u001b[1;32m    145\u001b[0m to_filter \u001b[39m=\u001b[39m []\n\u001b[1;32m    146\u001b[0m \u001b[39mfor\u001b[39;00m x \u001b[39min\u001b[39;00m keys \u001b[39m+\u001b[39m values:\n",
            "\u001b[0;31mKeyError\u001b[0m: 1"
          ]
        }
      ],
      "source": [
        "liked_data = pd.read_csv(\"../data/user_interactions.csv\")\n",
        "\n",
        "pd.pivot_table(liked_data, columns=actions_data.car_id.unique().tolist(), index=pd.DataFrame(dict(user_id=[1])), values=[1]*len(actions_data.car_id.unique().tolist()))"
      ]
    }
  ],
  "metadata": {
    "colab": {
      "provenance": []
    },
    "kernelspec": {
      "display_name": "proton",
      "language": "python",
      "name": "python3"
    },
    "language_info": {
      "codemirror_mode": {
        "name": "ipython",
        "version": 3
      },
      "file_extension": ".py",
      "mimetype": "text/x-python",
      "name": "python",
      "nbconvert_exporter": "python",
      "pygments_lexer": "ipython3",
      "version": "3.10.11"
    },
    "orig_nbformat": 4
  },
  "nbformat": 4,
  "nbformat_minor": 0
}
